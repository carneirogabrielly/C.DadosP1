{
 "cells": [
  {
   "cell_type": "markdown",
   "metadata": {},
   "source": [
    "$$P(A|B) = \\frac{P(B|A)P(A)}{P(B)}$$"
   ]
  },
  {
   "cell_type": "markdown",
   "metadata": {},
   "source": [
    "$$ P(palavra|classe) = \\frac{n_{palavranaclasse} + \\\\\\alpha}{Palavras + \\\\\\alpha . Palavras_{sem repetição}}$$\n"
   ]
  },
  {
   "cell_type": "markdown",
   "metadata": {},
   "source": [
    "$$\\quad P(frase|Target) = \n",
    "P(pal_1|Target)\\cdot P(pal_2|Target)\\cdot P(pal_3|Target)\\cdot P(pal_4|Target)\\cdot ... \\cdot P(pal_n|Target)$$"
   ]
  },
  {
   "cell_type": "markdown",
   "metadata": {},
   "source": []
  }
 ],
 "metadata": {
  "language_info": {
   "name": "python"
  },
  "orig_nbformat": 4
 },
 "nbformat": 4,
 "nbformat_minor": 2
}

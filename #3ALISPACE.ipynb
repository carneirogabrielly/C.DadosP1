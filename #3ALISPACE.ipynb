{
 "cells": [
  {
   "cell_type": "markdown",
   "metadata": {},
   "source": [
    "# Projeto 1 - Ciência dos Dados"
   ]
  },
  {
   "cell_type": "markdown",
   "metadata": {},
   "source": [
    "Nome: Alison Araujo\n",
    "\n",
    "Nome: Gabrielly Carneiro"
   ]
  },
  {
   "cell_type": "markdown",
   "metadata": {},
   "source": [
    "Atenção: Serão permitidos grupos de três pessoas, mas com uma rubrica mais exigente. Grupos deste tamanho precisarão fazer um questionário de avaliação de trabalho em equipe"
   ]
  },
  {
   "cell_type": "markdown",
   "metadata": {},
   "source": [
    "___\n",
    "Carregando algumas bibliotecas:"
   ]
  },
  {
   "cell_type": "code",
   "execution_count": 65,
   "metadata": {},
   "outputs": [
    {
     "name": "stderr",
     "output_type": "stream",
     "text": [
      "[nltk_data] Downloading package punkt to\n",
      "[nltk_data]     C:\\Users\\aliso\\AppData\\Roaming\\nltk_data...\n",
      "[nltk_data]   Package punkt is already up-to-date!\n",
      "[nltk_data] Downloading package stopwords to\n",
      "[nltk_data]     C:\\Users\\aliso\\AppData\\Roaming\\nltk_data...\n",
      "[nltk_data]   Package stopwords is already up-to-date!\n",
      "[nltk_data] Error loading word_tokenize: Package 'word_tokenize' not\n",
      "[nltk_data]     found in index\n"
     ]
    }
   ],
   "source": [
    "%matplotlib inline\n",
    "import pandas as pd\n",
    "import matplotlib.pyplot as plt\n",
    "import numpy as np\n",
    "import os\n",
    "import re\n",
    "from unidecode import unidecode\n",
    "import nltk\n",
    "from nltk.corpus import stopwords\n",
    "from nltk.tokenize import word_tokenize\n",
    "nltk.download('punkt')\n",
    "nltk.download('stopwords')\n",
    "nltk.download('word_tokenize')\n",
    "stopwordsdic = stopwords.words('portuguese')\n",
    "\n",
    "from spacy import load\n",
    "nlp = load('pt_core_news_sm')"
   ]
  },
  {
   "cell_type": "code",
   "execution_count": 66,
   "metadata": {
    "scrolled": false
   },
   "outputs": [
    {
     "name": "stdout",
     "output_type": "stream",
     "text": [
      "Esperamos trabalhar no diretório\n",
      "c:\\Users\\aliso\\OneDrive - Insper - Institudo de Ensino e Pesquisa\\Insper\\2023.2\\Ciência de Dados\\C.DadosP1\n"
     ]
    }
   ],
   "source": [
    "print('Esperamos trabalhar no diretório')\n",
    "print(os.getcwd())"
   ]
  },
  {
   "cell_type": "markdown",
   "metadata": {},
   "source": [
    "Carregando a base de dados com os tweets classificados manualmente:"
   ]
  },
  {
   "cell_type": "code",
   "execution_count": 67,
   "metadata": {},
   "outputs": [],
   "source": [
    "train = pd.read_excel('dados_treino.xlsx')\n",
    "#train.head(5)"
   ]
  },
  {
   "cell_type": "code",
   "execution_count": 68,
   "metadata": {},
   "outputs": [],
   "source": [
    "test = pd.read_excel('dados_teste.xlsx')\n",
    "#test.head(5)"
   ]
  },
  {
   "cell_type": "code",
   "execution_count": 114,
   "metadata": {},
   "outputs": [
    {
     "data": {
      "text/plain": [
       "'$!#!@!# á´s~eã Para quem gosta de poemas simples, esse é o livro ideal! A autora nos faz refletir sobre alguns                  elementos comuns na vida das mulheres de um jeito bem leve'"
      ]
     },
     "execution_count": 114,
     "metadata": {},
     "output_type": "execute_result"
    }
   ],
   "source": [
    "pequena = pd.read_excel('ALIS_planilha_teste.xlsx')\n",
    "linha1 = pequena['Mensagem'][0]\n",
    "\n",
    "linha1"
   ]
  },
  {
   "cell_type": "markdown",
   "metadata": {},
   "source": [
    "___\n",
    "## Classificador automático\n"
   ]
  },
  {
   "cell_type": "markdown",
   "metadata": {},
   "source": [
    "Na primeira etapa, de classificação manual, consideramos três targets para os reviews: Acionável, Direcionável e Não Acionável. \n",
    "\n",
    "- Acionável: para ser considerado \"acionável\" (\"A\") o review deve ser passível de alguma ação pela Amazon, ou seja, o review deve ser sobre entrega, estado do produto, contato com o suporte, etc. \n",
    "- Direcionável: para o target \"direcionável\" (\"D\") foram considerados comentários relativos à editora, como qualidade do material do livro, preço do livro e do e-book, tradução e edição. \n",
    "- Não Acionáveis: por fim, os não acionáveis (\"NA\") eram comentários relativos ao autor, ao apreço pelo conteúdo do livro, ou comentários irrelavantes."
   ]
  },
  {
   "cell_type": "markdown",
   "metadata": {},
   "source": [
    "___\n",
    "### Montando um Classificador Naive-Bayes\n",
    "\n",
    "Considerando apenas as mensagens da planilha Treinamento, ensine  seu classificador."
   ]
  },
  {
   "cell_type": "markdown",
   "metadata": {},
   "source": [
    "Funções úteis:"
   ]
  },
  {
   "cell_type": "code",
   "execution_count": 136,
   "metadata": {},
   "outputs": [
    {
     "data": {
      "text/plain": [
       "4548"
      ]
     },
     "execution_count": 136,
     "metadata": {},
     "output_type": "execute_result"
    }
   ],
   "source": [
    "#Criar uma função que transforma as frases da planilha em um texto só \n",
    "    #(Será útil para criar o dicionário com as palavras)\n",
    "def transforma_em_string(coluna):\n",
    "    texto = ''\n",
    "    for linha in coluna:\n",
    "        texto += linha + ' '\n",
    "    return texto\n",
    "\n",
    "texto = transforma_em_string(pequena['Mensagem'])\n",
    "len(texto)"
   ]
  },
  {
   "cell_type": "code",
   "execution_count": 147,
   "metadata": {},
   "outputs": [
    {
     "data": {
      "text/plain": [
       "150855"
      ]
     },
     "execution_count": 147,
     "metadata": {},
     "output_type": "execute_result"
    }
   ],
   "source": [
    "#Criar uma função que limpa todas as pontuações\n",
    "#recebe um texto\n",
    "#vou utilizar ela na função limpa tudo\n",
    "def cleanup(texto):\n",
    "    pontuacao = '[´\"\\'!-.:?;$,/~^_=+*&¨%#@|\\{\\}()\\]'\n",
    "    texto_limpo = ''\n",
    "    for palavra in texto:\n",
    "        for carac in palavra:\n",
    "            if carac not in pontuacao:\n",
    "                texto_limpo += carac\n",
    "\n",
    "    return texto_limpo\n",
    "\n",
    "#texto = transforma_em_string(pequena['Mensagem'])\n",
    "texto = transforma_em_string(train['Mensagem'])\n",
    "texto = cleanup(texto)\n",
    "len(texto)"
   ]
  },
  {
   "cell_type": "code",
   "execution_count": 149,
   "metadata": {},
   "outputs": [
    {
     "data": {
      "text/plain": [
       "'Para quem gosta de poemas simples esse é o livro ideal A autora nos faz refletir sobre alguns elementos comuns na vida das mulheres de um jeito bem leve Quando vi o lançamento pensei que finalmente poderia me livrar dos ebook distribuídos pela net de graça quando vi o preço mudei de ideia espero que ninguém compre queremos livros digitais e democráticos com preços acessíveis não somos trampolim para a riqueza um livro digital não utiliza tinta ou papel não precisa de distribuição física e dispensa muita mão de obra tudo isso deveria contribuir para que o valor fosse mais acessível É incrível como esses escritores e intelectuais colocam no cristianismo a responsabilidade por todos os males do universo e simplesmente ignoram o avanço do islã radical que quer botar hejab e burca na cabeça de cada mulher do mundo e que deseja subjugar a mulher ao extremo a ponto dos países árabes a mulher ser condenada a morte por ter sido estuprada e ainda querem impor suas lei seja onde quer que cheguem Mas a culpa de tudo são os cristãos Enfim é um livro de profundo mal gosto preconceituoso irresponsável e que só faz piorar e embotar mais ainda as cabeças fracas de pessoas influenciáveis Como a autora afirma que isso é uma distopia e depois afirma que tem grandes chances de acontecer Com qual parâmetro verificável essa escritora usou para atestar o que disse ou só tirou daquele lugar mesmo De lixo ideológico as universidades brasileiras já estão cheias não precisamos de mais entulho traduzido para o português Se desse pra devolver eu devolvia nao é por eu nao pensar igual ao autor mas achei uma coletanea muito cansativa e repetitiva Vai ser um tijolo abandonado aqui em casa Futilidade inutilidade desperdício de papel tempo e dinheiro Nem de graça queremos um livro como este Vai perder seu tempo O autor tenta mostrar outro lado do livro buscando referências bibliográficas que contrariem as tradicionais Mas as referências que o autor usa são únicas e ele quer usar como prova Um livro radical que quer acusar os negros de serem culpados pela própria escravidão desmerecer as invenções e artistas brasileiros qualificando ingleses e americanos ao nível de Reis e heróis Além do autor citar alguns radicais políticos de direita como referência E para finalizar o livro o autor poderia ter falado de alguma qualidade nacional resolveu alfinetar os comunistas Perda de tempo Começou boa istoria no meio um pouco enrolado depois embromou no romance dando para saber que o violão era o irmão mais novo Mas é diferente com um mundo novo só por isso deve ser expandindo Espero que o próximo seja melhor Bem eu nem sei por onde começar A história é a representação do machismo mais repugnante que se possa imaginar Arthur é um ESCROTO Eu jamais nunca nem com uma arma apontada pra minha cabeça ficaria com um homem nojento desses Fiquei chocada com a forma degradante como a figura feminina é retratada sempre interesseira e fútil a não ser que seja pura virgem e pudica como a protagonista A autora também presta uma gama de desserviços sendo extremamente preconceituosa pílula do dia seguinte NÃO É ABORTO Uma estudante universitária jamais teria um pensamento tão estúpido a forma totalmente desrespeitosa como tratou o tema do estrupo e a pessoa gostar de BDSM não diz nada sobre o caráter dela Matheus não deixa de ser uma boa pessoa pq gosta de chicotinho de sete pontas desde que haja CONCENTIMENTO Coisa que o Sr Redenção nunca solicitou a Maiana Há outras questões que eu achei igualmente repugnantes mas essas são as que quase me fizeram vomitar Menos do menos não mais do mesmo As dicas da obra são lugarcomum não trazem novidade alguma E são pouco producentes Meu box veio todo detonado Fiquei triste porque nunca tive problemas com a Amazon Uma pena Demorei tanto pra me decidir comprar esse box e quando compro vem assim O ebook possui erro de formatação de capítulos Entre os capítulos Theon e Daenerys posição 4158 não possui identificação de um novo capítulo O conteúdo do texto pode levar a uma má interpretação do conteúdo já que por coincidência o texto faz menção à um local ou personagem Espero que o erro seja corrigido a formatação no Kindle é ridícula problema antigo que não foi resolvido Até quando Amazon Seus clientes esperam um produto melhor Comprei dois livros e os dois vieram super amassados um na parte de baixo e outro na parte de cima não só a capa as folhas também Não curti muito esse livro gosto muito de livros eróticos mas esse não me agradou Achei legal que o fato do livro se passar no Brasil pois a autora fala de lugares e atividades que eu conheço com relação a parte erótica eu achei forçada e até agressiva Da metade pro final o livro ficou bem melhor e menos forçado mas não recomendo e não leria se tivesse novamente se tivesse oportunidade Comprei achando que era vantagem pelo preço atrativo Minha filha quando abriu um dos livros a primeira vez as folhas se soltaram Eu tenho um livro da coleção Harry Potter que comprei a mais de 8 anos e está em perfeito estado de conservação Não entendi a baixíssima qualidade desse produto Pessoal achei péssimo esse livro Terminei de ler quase vomitando de esforço pra concluir de tão ruim A leitura é péssima a história muito chata Não recomendo a ninguém saiam dessa Foi a primeira distopia que li e estou com o pé atrás de ler outras duas que já havia comprado para o Kindle Bom e isso é boa sorte para os aventureiros Livro maravilhoso ótimo para escorar a porta Não consegui terminar a leitura Achei superficial e infantil Nem a abordagem sobre o TOC conseguiu prender a atenção Não recomendo Não terminei de ler por que a história não estava me agradando e a linguagem criada para o livro confunde muito Ao final do livro tem um glossário das palavras mas é muito trabalhoso ver o significado de cada palavra por que são muitas Algumas eu conseguia entender mas a maioria acabou se perdendo o que tornou a leitura mais cansativa ainda Não voltaria a reler o que é uma pena pois Laranja Mecânica é considerada um dos pais da distopia gênero que adoro Atender a que expectativa Só decepção desde do dia 1105 que fiz o pedido pela primeira vez o produto foi extraviado e pela segunda vez que peço até agora não veio HORRIVEL não dei conta de ler tudo não consigo entender como uma mulher aceita esse tipo de situação e ter tantas fãs seria por conta do jatinho carros e todos os outros bens materiais Obra prima da idiotice nacional O meu produto veio com defeito a capa está descolada e algumas páginas estão grudadas Vi apenas hoje porque entreguei de presente para minha irmã ela abriu e me mostrou Eu comprei pela promoção que foi feita para a cidade de São Paulo porém não sei como acessar o produto não tem explicação alguma Péssimo um tentativa de fazer dinheiro apenas traz informações mentirosas alem de nao conter fontes confiáveis isso nunca sera uma livro de historia no máximo de humor Simples assim a formatação está tão ruim que perdi a vontade de ler o livro O texto fica todo no lado esquerdo ocupando apenas metade da página Cada pagina acaba tendo poucas frases Poxa comprei o livro em janeiro agora eles nao estão desponibilizando pra mim Agora vou ter que comprar de novo sacanagem né gente😣 Os fatos históricos relatados dão conhecimento de uma época do desenrolar de fatos mundiais que não vivi e o livro embora romanceado o que não deixa a leitura enfadonha trouxe vasto conhecimento dos fatos A forma relatada e seu conteúdo prendem a pessoa a leitura O livro é importante e deveras interessante O livro é escrito por um dos mais reacionários jornalistas brasileiros com o objetivo claro de enaltecer todos os personagens históricos com posicionamento de direita e desmoralizar os personagens que possuem pensamento de esquerda O livro tem um ótimo título e uma capa muito bem feita o que nos leva a ler Porém a medida que foi prosseguindo a leitura comecei a perceber o seu forte conteúdo ideológico desfaçado e procurei pesquisar quem era o autor para entender o seu objetivo O livro não é baseado em fontes confiáveis e apenas pinça fatos não comprovados para confirmar teses muito questionáveis Não percam o seu tempo com este lixo Eu sempre ouvir falar muito bem dessa escritora Tavez eu não tenha captado o estilo da autora mas o fato é que detestei este livro Só não dei a nota mínima porque a escrita é razoável tem coisas piores por aí Eu adoro uma boa estória pra passar o tempo mas o fato é que essa leitura é bastante cheia de clichês o que me entediou bastante Alguns podem até achar o tema depressivo uma garota que trabalha para um cara tetraplégico e que ambos descobrem um novo sentido para a vida mas não necessariamente deveria ser Eu sou uma das que achou o livro bem depressivo e veja que adorei a culpa é das estrelas Em resumo este livro pode ser pra você uma pessoa bastante sensível e que gosta de livros que te façam chorar Frustrado Comprei o livro para conhecer Leonardo da Vinci mas o Sr Walter Isaacson se ateve aos cadernos de Leonardo e nos deu uma aula de arte pintura escultura Não era este o meu objetivo ao adquirir este ebook Baseado nesta biografia o Sr Walter saiu da minha lista de autores que quero lerJá li 30 do livro e vou até o fim mas muito aborrecido Bobagem 70 do livro são descrições de trepadas A estória em si é igual a milhares A personagem feminina ainda existe a masculina é um sonho de adolescente Nunca tive problemas com a Amazon e agora depois de um tempo de efetuar a compra percebi que o livro não esta em bom estado amassado e com o plástico descolando Uma surpresa nada agradável Particularmente não sou de livro de auto ajuda porém de tanto ouvir falar nesse livro acabei comprando ainda bem que foi numa promoção O livro não tem nada de diferente achei uma leitura chata e sempre o mais do mesmo Tudo que sabemos mas que não praticamos na maioria das vezes Dei duas estrelas pela capa achei a melhor parte do livro Descreve um relacionamento abusivo que é bem diferente de dominação no sexo O fato de o protagonista masculino Arthur estar confuso com seus sentimentos não justifica a forma brutal que usa para se relacionar com Maiana A persegue na faculdade puxandoa pelo braço com violência Inicia sexo com ela sem seu consentimento mesmo quando ela diz não querer a segurando com brutalidade sem dar opçao pra ela se negar ao sexo Maiana inocente acaba cedendo pois se excita quando ele a manipula Isso não me excita e não deve ser considerado normal Também existe estupro entre um casal Há quem goste Não gostei Arthur não me conquistou O sexo é forçado As vezes parece estar presente excessivamente para encher página A perda da virgindade da protagonista é nada realista nada realista MESMO Indico outros livros da autora como O calor do sertão continua e Pecadora São 5 estrelas A primeira vez que ouvi falar deste livro foi quando ele apareceu num dos filmes infelizmente não lembro o título do saudoso Mazzaropi funcionando como uma piada sutil e extremamente irônica Um excelente contraponto a este livro detestável é o Poder dos Quietos Como pode uma editora aproveitar o sucesso do Senhor dos Anéis ao longo desses anos para cobrar um preço tão abusivo em um livro Isso é um absurdo e infelizmente só acontece nesse país corrupto que é o Brasil Espero que ninguém compre esse livro nesse valor e que essa editora tenha um prejuízo bem dado Livro muito cansativo com uma escrita muito redundante usa muitos exemplos e explora muitos detalhes desnecessários alem de páginas apenas para referências e apendice poderia ter 13 das paginas para expressar a ideia principal e mesmo assim ainda seria cansativo Para quem trabalha com marketing e tem paciência é uma boa leitura Para quem como eu nao faz parte desse publico NÃO RECOMENDO História maluca e que não te leva a nada uma viagem sem sentido Recebi o produto todo amassado e com páginas dobradas e marcadas Não valeu a pena Foi de péssima qualidade o serviço Não gostei a capa diz mais do que o conteúdo do livro Livro meio fantasioso quer dizer que quase não temos guerra Quer dizer que já minimizamos a fome Não faz muito sentido sem contar que está mais para um tratado ateísta do que um livro visionário eu não curti muito O sapiens é muito melhor não cometa o mesmo erro que eu comprando esse antes do sapiens A história terminou como deveria e a sequência se vê desnecessária Uma personagem foi criada para tentar manter Will ainda presente na história mas na minha opinião mancha o lado dele Não gostei e não aconselho Guardem com vocês a história do primeiro livro que é a que vale a pena ler Comprei 4 dos 5 livros da série editados pela Leya e esta edição foi a de menor qualidade Páginas impressas em papel de pior qualidade com folhas ásperas e cheiro desagradável Gostei muito do livro Prende a nossa atenção desde o início até ao final Trabalho de pesquisa fantástico Recomendo e avalio com 5 cinco estrelas Parabéns Olavo é um fanático religioso que encontrou público farto para ler sua pseudoobra Uma destilação de senso comum com mesclas de ódio preconceito e discurso autoritário Triste Meu ponto de vista sobre o ultimo livro fiquei bem decepcionada os outros livros eram mais rico em conteúdo você se envolvia na historia ficou muitas lacunas abertas oque aconteceu com a mae de Gideon o livro de Corinne foi publicado oque aconteceu com Anne sem falar que o as coisas estavam bem menos apimentada Enfim ficou tantas lacunas abertas que dava pra escrever outro livro Supostamente baixei este livro gratis apos uma promoçao de vocês mas na verdade o download não foi realizado Houvr algun problema A Nova Fronteira perdeu a oportunidade de nos entregar um produto à altura da obra Não sei qual foi o cálculo editorial que a levou a reproduzir as magníficas ilustrações de Gustave Doré no tamanho 9 x 6 cm é de chorar Como prêmio de consolação acompanha os três volumes um caderno extra de 32 páginas com uma seleta de 24 ilustrações Aqui estão impressas maiores tal como deveriam estar no corpo do livro mas a impressão deixa muito muito a desejar A tradução não prometia novidades uma vez que a tradução de Xavier Pinheiro é centenária e do domínio público Não há a propósito nenhuma informação sobre o tradutor e a tradução o que seria de se esperar numa edição cuidadosa como sinal de respeito ao leitor A introdução saborosa de Otto Maria Carpeaux é de 1967 e sobre quem é ele ou sobre a data em que escreveu a introdução também não se dá notícia Ou seja a edição é bonitinha mas descuidada Apesar de se dizer diferente não traz nada de novo e repete as fórmulas de todos os livros sobre o assunto Conselhos como conseguir um bom consultor financeiro ou investir em imóveis Não precisamos de livros para saber de coisas óbvias Não costumo ler este tipo de coisa mas decidi dar uma chance e lêlo para tentar ter outras perspectivas sobre livros de autoajuda Infelizmente não foi o caso e esse livro só confirmou o que sempre achei Nao gostei nem da formatacao nem do conteudo UM livro fraco Esperava maisNao valeu o gastoNao recomendariaPErcebi uma tendencia bem grande em defesa da direita no Brasil Decidi ler o livro por conta do filme Imaginei que como o filme foi ótimo assumi que o livro seria fantástico Tolo engano Leitura muito chata descrições extremamente cansativas de repleto de diálogos enfadonho Não consegui terminar o livro abandonei antes da metade Definitivamente não recomendo Comprei por se tratar de uma edicao de luxoo que nao e o casopaguei quase R 8000 A edicao normal custa menos de de R 4000 Gato por Lebre Este livro resume o Felipe Neto contradição Depois que perdeu o posto de maior youtuber do Brasil este rapaz apela para qualquer coisa desde consiga likes e inscritos no seu canal Cadê aquele rapaz que tinha e expressava sua opinião Hoje tá pintando cabelo por like Obviamente um livro desnecessário pois a trajetória dele pode ser vista de graça basta acessar o canal que o deixou famoso e assistir aos vídeos de críticas às modinhas teens Estas que hoje ele próprio faz parte Vale ressaltar que a trajetória em questão deve ser bm curta pois o livro tem 64 páginas conforme detalhado neste site e aposto que utilizaram uma fonte enorme para dar mais volume à obra A editora do livro errou feio por não ter lançado o livro com capa alternativa com várias cores de cabelo Assim eles aumentariam as vendas que é o que eles realmente querem lançando esse tipo de material O BOX VEIO RASGADO Os livros estão em perfeitos estado são lindos porém o box esta rasgado É uma pena que isso aconteça ainda Não gostei O livro o tempo todo traz narrativas de cenários dos EUA e da bolsa americana É pouco útil para quem está iniciando no assunto chamar isso de filosofia é brincar com a nossa inteligencia Li um terço do livro Arrasteime para procurar algo que me prendesse à leitura Infelizmente achei a obra extremamente nonsense Por mais que os temas abordados sejam abertamente um protesto ao futuro que poderia se formar a narrativa não sustentou a minha atenção Analisando por uma perspectiva contemporânea muitas pautas expostas não convenceram nem como ficção ou fato Seja um clássico ou não é um livro muito cansativo Pra variar mais um autor explorando a vontade das pessoas de ficarem ricas A pior parte é quando ele diz que se eu desejo o universo conspira a favor o que é uma bobagem sem sentido algum para alguém que olha uma foto do cosmos Não apenas é ridículo pensar dessa forma como é irreal O planeta inteiro e não apenas você poderia sumir e o universo sequer perceberia Mas o autor insiste na declaração Para não dizer que só maldigo o livro explora as relações subconscientes entre dinheiro e comportamento o que é válido Porém muitos outros autores exploram de maneira muito mais científica Acho que a sua popularidade se deve ao 1 emprego do linguajar popular com palavras de fácil entendimento e fortes apelos tal qual qualquer forma de persuasão existente como política ou religiosa 2 Uso da vontade do anseio das pessoas em serem ricas 3 Apelo ao emocional ao intangível para conseguir fixar o leitor Ou seja as técnicas empregas visam atrair o leitor mais por anseio do que por informações factíveis Achei maçante Nao consegui avançar na leitura Texto prolixo enfadonho Uma pena gastar mais palavras para descrevêlo Perda de tempo Muito chato Até parece que se eu fizer tudo aquilo estarei rico e feliz Livro bem ruim a abordagem do autor até tenta ser descontraída para atingir certo público mas sinceramente peca na precariedade do texto Ah sim a tradução tá bacaninha até Livro muito velho nao está em estado de conservação Partes do livro estavam saindo insatisfeita Não recomendo nao recomendo nao recomendo Livro prosaico As primeiras paginas são legais O resto é pura inutilidade de autoajuda A prova do que um bom título pode fazer por uma obra prosaica Tá na hora da empresa acordar É possível comprar a versão física do volume único de Senhor do Aneis por R 14000 Com esse preço não dá Possuo a versão impressa do livro A Guerra dos Tronos e ontem comprei o ebook em promoção na Amazon pela praticidade de ler o livro no meu tablet Depois de baixar o livro comparei com a versão impressa e observei que algumas frases são diferentes outras até com erros de tradução Pensei como é possível o mesmo livro da mesma editora possuir texto diferente na versão impressa e na versão digital Então comecei a procurar as versões gratuitas na internet e comprovei que esse ebook vendido pela Amazon não passa de uma versão pirata que circula na internet que foi traduzida do ebook original em inglês usando algum tradutor de péssima qualidade Com a inclusão digital no nível que estamos e a força da opinião das pessoas nas redes sociais como uma editora tem coragem de comercializar livros digitais usando material de baixa qualidade disponibilizado gratuitamente na internet ao invés de digitalizar o próprio conteúdo depois de toda a briga que teve no país para permitir a venda desse material pelo absurdo valor da versão impressa Livro básico direcionado a público sem instrução Ajuda quem não tem nenhum senso de direção na vida Achei básico e com técnicas clichês Não vale a pena comprar pelo preço proposto na promoção 99 reais Muito caro Compre a versão física Bem melhor Essa editora copia e cola os livros de outra editora chamada Centaur que por sua vez lança os livros do Dostoiévski em traduções arcaicas do século XIX geralmente traduções do francês Infelizmente no Brasil a única editora que traduz os livros do Dostoiévski direto do russo a editora 34 não lança esses livros em formato Kindle Escrita fraca leitura tediosa metodos duvidosos não perca seu tempo com esse livro bobo Pode espremer que não tem nada proveitoso O livro fala o que realmente fazemos e porque fazemos da boas sugestões para melhorar habitos bons Gostei do livro vou relelo e recomendo Nada de interessante muito fraco a unica coisa que achei razoável foi leia sem parar não fique retornando a leitura pois assim será mais compreender o texto lido Um livro inteiro para dizer isto hora façame o favor Desde que Harry Potter foi lançado escuto reclamarem da editora Rocco nos livros ou porque o papel branco suja muito ou as letras douradas saíam facilmente a total inconsistência nas fontes e formatações nos livros uns livros com sumário outros sem etc Parece que o Pottermore seguiu fielmente a cartilha Rocco de como não publicar um livro dessa vez na edição digital Parece que pegaram o primeiro PDF que encontraram na internet e converteram com a ferramenta de email da própria Amazon A tradução tem pequenas diferenças como o original impresso os nomes dos fundadores das casas foram mantidos no original em inglês ao invés das traduções dos nomes que foram publicados como Godrico Grifinória e Salazar Sonserina o que não é de todo ruim mas as várias palavras com erros eg chamála tocála e semelhantes por diversas vezes perdem a acentuação e hífen ficando chamala e tocala muitas palavras que obviamente tinham sido hifenizadas num texto impresso aparecem cortadas no texto corrido além de em dois livros Enigma do Príncipe e Câmara Secreta o texto NÃO vir justificado mas alinhado à esquerda Simplesmente inaceitável Ao comparar com as publicações dos livros do Pottermore em inglês a situação fica ainda pior Lá a formatação é absolutamente impecável o que deveria ter sido feito também aqui Se não fosse de graça com o Unlimited teria sido realmente um dinheiro muito mal gasto Felizmente os demais livros que li com o preço da assinatura justificaram o valor do mês O mínimo que você precisa saber para não ser um idiota é saber que ler esse livro tem grandes chances de tornar você um idiota George Orwell tem um texto em que ele diz que o livro que ele mais lia na infância era As viagens de Gulliver Hoje os livros infantis são apenas e exclusivamente para entreter sem que isso proporcione o desenvolvimento da criança Um pouco desapontada Acho q estava com mta expectativa Fiz a solicitação com embrulho para presente e bilhete e não chegou dessa forma Extremamente decepcionada Paguei por isso Gostaria de retorno sobre o ocorrido Li baseada em uma recomendação do Bill Gates e me ferrei Não percebi o que ele percebeu A descrição dos pensamentos obsessivos da personagem principal talvez explique em parte o que agradou a ele parecem muito verossímeis Mas são a única verosimilhança da história Se vc gosta das obras do John Green é pra vc Eu achei chatíssimo é um livro bom mas existe coisas que poderiam mudarEu esperava mais do livro pois vi outro comentáriosmas gosto é gosto Livro bastante repetitivo onde o autor se promove o tempo todo Não acrescenta muito acredito que é possível aprender o conteúdo do livro através do site do autor em menos de 1 hora evitando o desperdício de tempo na leitura do livro Não vale o preço O box chegou com amassados riscos e com uma espécie de cola grudada na parte externa dos livros Única vantagem que vi foi o tempo de entrega de 2 dias porém esperava muito mais de uma empresa como a Amazon Não tem como não dar nenhuma estrela então deixo essa para validar a avaliação Pior livro que já li na vida livro leviano um regresso Às vezes durante a leitura tive sensação que o autor queria o choque pelo choque arrependimento de ter gasto um valor tão alto num livro que seequer serve para escora de porta Não recomendo este livro Não gostei A leitura não me empolgou Achei a história rasa e um pouco forçada Não ficou óbvio o final para mim mas também não é impressionante você lê e fica tipo ah ok Talvez tenha criado muita expectativa O livro é nota 10 mas o preço que a Amazon está cobrando do ebook é nota 0 Por essa e outras razões que os livros digitais no Brasil ainda não engrenaram como poderiam Decepcionante O livro se contradiz totalmente a partir do seu prefácio quando utiliza a frase “Nem tente” como um marco e propaga justamente o contrário nas páginas que seguem Um texto de blog seria mais instrutivo comprei livro e recebi uma amostra digital que me fez cancelar a compra Haverá quem se identifique não está na lista dos mais vendidos a toa É bom saber do que se trata reflexões de uma mulher sobre os próprios sentimentos nada que extrapole para uma experiência mais universal ou mais profunda As ideias giram todas em volta da frustração em não acertar com um homem auto vitimizaçao e a eterna preocupação de que não estão lhe prestando a devida atenção fingi gozar e você nem percebeu etecetera a autora parece ter sido estuprada o tema do estupro volta sempre assim como o problema em se relacionar com o pai Autocentrada e superficial é um livro que só deve interessar quem se identifique com a cabeça dessa moça como disse não toca nenhuma corda que extrapole para o universal Sinceramente esta história não me cativou Achei um pouco arrastada e sem graça Fiquei satisfeita com a velocidade da entrega e o valor do frete porém eu comprei esse produto como presente de aniversário paguei pelo cartão de presente e embrulho e ele vei embalado de maneira normal A Caixa do Box chegou danificada e rasgada nas laterais assim como o primeiro volume estava com uma orelha gigante na contracapa como se houvesse sido dobrada de maneira proposital havia cola na lombada do volume 3 e o volume 5 estava com as laterais das capas amaçadas Ou seja os produtos chegaram seriamente danificados Estou muito desapontada com isso com a falta de respeito com o cliente se você paga por um produto e serviço deseja que ele chega em excelentes condições a sua mão Eu iria fazer a devolução mas a pessoa a quem eu presenteei muito tranquilamente aceito o produto danificado Parece que o autor não leu o próprio livro 🙄 O conteúdo é muito bom uma forma diferente de reconhecer fatos e personagens históricos mas o que deveria ser uma experiência agradável e divertida tornase extremamente penosa em razão da formatação da obra Algumas páginas ficam com fundo preto há princípio achei que fosse algum defeito do meu Kindle mas após ler outras postagens verifiquei que tratavase de problema do ebook o conteúdo é truncado havendo constantes trocas de páginas e as notas que na versão impressa deveriam enriquecer o texto no ebook tornam a compreensão penosa e confusa Estou extremamente decepcionado com o resultado e mais ainda com a Amazon por após tantas críticas ao material manter o produto à venda em sua loja sem as devidas e necessárias correções Nada mais justo seria se a empresa interrompesse a comercialização do livro até efetuar as correções Desta forma começo a me arrepender de ter adquirido o Kindle pois não vejo muito futuro para a Amazon no Brasil seguindo como esta Um livro para ler e jogar fora e sem comentar com ninguém Altamente não recomendável O conteúdo do livro é lixo puro Nada de novo neste livrinho peguei pois veio grátis com um eletrônico O básico do básico acerca da 2ª Guerra Mundial No ato da minha compra na descrição do produto não constava que o mesmo era um Livro de Bolso muito pelo contrário as dimensões do produto eram outras Se eu estivesse no endereço quando o produto foi entregue teria devolvido o mesmo sem pestanejar infelizmente estava de férias e acabei perdendo o prazo de devolução Outra observação que tenho a fazer é em relação ao zelo pelos produtos embalados os funcionários da Amazon pesaram a mão nas minhas últimas entregas pois praticamente todos os livros contêm leves amassados em suas bordas Fica aqui a minha indignação com a Amazon Simplesmente odiei com todas as minhas forças Apesar de não influenciar no conteúdo do livro não é esteticamente legal Deveriam ter mais cuidado e conferir a qualidade antes de enviar qualquer produto Para quem tem um mínimo de conhecimento em finanças e investimentos este livro não serve para nada Simplista ingênuo e infantil pelo resumo dá para ver que é mais um filhinho de papai com complexo de vira lata querendo faturar mais uns trocadinhos Uma pena a editora ter se prestado a esse desserviço social e cultural Literalmente se vendeu à escória desse país irmão Neto Veiome até ânsia à boca só de escrever isso Apresentase como um livro de autoajuda mas quando você começar a ler vai ver que se trata de um livro sobre a história do hábito Assemelhase mais a um livro didático de faculdade Penso que se o objetivo era trazer a técnica para incorporar determinado hábito a nossa vida o livro poderia ser reduzido em até 75 A não ser que você seja um entusiasta que queria saber os primórdios do assunto não recomendo Estava muito empolgada com 90 do livro As coisas começaram a ficar absurdas a partir daí e em determinado momento eu chequei na internet para ver se determinada cena realmente existia no livro ou se eu tinha baixado o livro errado uma fan fic ou algo assim infelizmente o livro realmente contém a tal cena totalmente desnecessária e sem sentido As coisas ficam tão surreais que você deixa de ter medo e o que estava empolgante só deixa você com vontade de terminar logo já que você já chegou até ali mesmo livro super prolixo e pouco proveitoso não recomendo a leitura fala fala fala e nada outros amigos meus também se decepcionaram com a leitura deste livro fui ler achando que tinha criticas profundas e que era realmente um intelectual mas parece uma criança birrenta que só sabe criar teoria da conspiração e xingar e falar sem profundidade sobre temas indico pra quem adora senso comum Maçante fantasioso Uma ficção vista pelo retrovisor Não tive paciência de seguir depois da metade lida Talvez leitores com gosto pela arqueologia e história antiga possa se deleitar com o texto Simplesmente não deu para mim parei voltei tentei de novo Tentarei assistir o filme pq o livro não deu mesmo Achei chato toda vida nenhum personagem além do avô que logo morreu me sequestrou a atenção O Pai é chato o garoto é chato a cidade é chata meu deus essa escritora conseguiu estragar uma das histórias que tinha tudo pra ser um mega sucesso que decepcão depois de tanta espera esse lixo falta de respeito total com as leitoras Este livro não é um trabalho sério Parece escrito por uma criança muito mimada que não gostou do que viu nas aulas de história e queria mudar o roteiro para que os brancos fossem bonzinhos do início ao final Tudo que poderia falar de uma boa análise da Guerra do Paraguai e do surgimento do samba foi suplantado por um discurso superficial e rasteiro da metade do livro em diante parece um manifesto anticomunista Sua defesa incondicional ao Golpe de 1964 foi algo desmedido e que a meu ver perdeu toda a relevância de uma pesquisa que virou pura retórica Como disseram em outra avaliação o livro deveria se chamar Como a esquerda se disfarça de regime democrático e como não suportamos a alternância de poder Na parte história e analítica o livro até chega a ter algum conteúdo interessante mas na conclusão faz associações com argumentos fracos e claramente tendenciosos O início e o final do livro são cansativos conteúdo muito repetitivo A tradução possui uma série de erros de escrita como grampiar ou Em no final de 2017 Decepção mais do mesmo Pedi o livro baseado na promoção q era de graça Não autorizo está compra Ajustem o site de vcs para evitar tais desconfortos Dória tem razão e vcs não cumpriram com a palavra Não aceito pagar R2100 por este livro pois estava informando q era gratuito Peço que verifiquem e reparem este erro acredito que eu e muitos outros usuários se sentem lesados eu verifiquei antes de assinar e vi que toda a série de Harry Potter estavam disponível pra kindke unlimited e ao dar continuidade à leitura não ter um é injusto Logo solicito o reparo imediato do livro digital Esperava mais do livro Não diria que é um livro ruim Talvez por tudo que li e ouvi deste criei uma expectativa enorme e me senti um pouco frustada O livro ficou super famoso rapidamente no Brasil mas achei a leitura meio cansativa e monótona O tipo de livro que você lê até o fim por obrigação Estou louca para ler este livro mas enquanto não arrumarem a formatação não o farei Por que ainda não o fizeram se todos estão pedindo a mesma coisa O livro é incrível porém fiquei bastante chateada com a qualidade do produto chegou em péssimo estado Há alguns dias atrás adquiri um produto na Amazon Box Sherlock Holmes da Editora Harper Collins Fiquei feliz pois tamanha era a acessibilidade do preço um dos mais baratos se comparado a outras lojas Entretanto hoje ao receber meu box me deparei com uma caixa bastante estreita surpreendendome por não vir com se quer uma espuma ou plástico bolha afinal livros são materiais bastante sensíveis Após a retirada da caixa que estava também amassada vi que o box estava amassado em quase todas as bordaso que me pareceu pancadas muito fortes com muitos arranhões e riscos Certo que a transportadora encarregada tem boa parte da culpa mas o que custa colocar em uma embalagem maior e mais aconchegante para o produto Creio que não irei dar entrada no processo de troca pois a burocracia e a demora para avaliar e reentregar o produto não valeriam a pena Minha única felicidade é que os livros apesar da capa ter vindo um pouco amassada também não foram comprometidos em sua parte mais importante que é a leitura Porém o produto perdeu todo seu requinte que é o que mais chama a atenção do consumidor na hora da compra Esta foi a primeira vez que comprei na Amazon porém acho que será a última visto que o custo acessível não vale apena tendo em vista o descuido na entrega do mesmo A autora tem uma qualidade enorme nesses livros nacionais que a Amazon oferece em ebook ela escorrega pouco nas regras do português Faz um texto bacana Mas a históriaé ruim previsível demais Além do que traz uns lances que apenas com muita imaginação pra passar batido que garota de 18 anos se sentiria obrigada a casar com um cara 20 anos mais velho pq o pai que está em coma roubou uma empresa eu esperava mais O box Premium é lindo porém a caixa veio rasgada fiquei com desgosto e quero trocar apenas esse box Os outros livros vieram de forma adequada Compreendo o atraso enorme de quase duas semanas por causa da greve dos caminhoneiros mas isso não justifica depois de tudo isso o livro chegar com a capa amassada e duas folhas amassadas Sinceramente esperava mais A meu ver não entendo o motivo de este livro estar entre os mais vendidos Um conto feito em forma de poesias com uma visão feminina Alguns poemas tem frases de impacto e palavras interessantes e marcantes Porém em diversos trechos não vi apelo Comprei a versão eBook Kindle e me arrependi profundamente Claramente não passaram muito tempo polindo ela Existem diversos erros de formatação que uma simples revisão teria capturado Por se tratar do autor de Caixa de Pássaros eu imaginava uma estória muito mais interessante que mtos elogiam o autor pelo seu primeiro sucesso porém não é isso que encontramos em Uma Casa No Fundo de Um Lago é um estória sem enredo sem cenário sem uma trama um livro que não prende não assusta não há nem um pouco de detalhe não causa nenhum sentimento Único sentimento que eu tive era de desperdício por perder meu tempo e meu dinheiro com um livro desse Infelizmente eu apostei alguma esperança nele o que me fez seguir até o fim com muito esforço porque não aguentava mais vêlo na minha frente I cannot access the ebook all books are unavailable and there is no place to complain or check if my kindle is ok o livro apresenta ideias obvias como trate bem seus funcionarios trate as pessoas como deseja ser tratado etc Isso é contado por meio de personagens Estereótipo o ranzinza a certinha etc é tão chato e obvio que suas 140 paginas poderiam ser compiladas em 20 apresentandoas de forma detalhada Li o livro em 3 semanas sendo que já li livros de 500 paginas em 1 semana posso não ter gostado do livro por ter sido obrigado a ler para um trabalho da escola mas essa é a minha opinião sobre ele Sensacionalista raso e cheio de distorções malintencionadas Pelo menos deixa clara a proposta ao se anunciar desde o título como incorreto Achei muito merchandising e pouco conteúdo prático Os conteúdos ficam em um site e não no livro Sinto que desperdicei meu dinheiro com o livro já que no site o conteúdo é gratuito Além disso tem muitas histórias pessoais e relatos sobre como o milagre É incrível e pouco sobre o milagre Não me aterei à história que já é um sucesso consagrado A edição de bolso deseja muito a desejar as páginas são tão brancas que é impossível ler em um espaço aberto e como se não bastasse as folhas são tão finas que é possível enxergar o que está escrito na página seguinte Realmente torna esse leitura que deveria ser tão proveitosa em algo desconfortável ao extremo Decepcionada com essa edição vale investir em outra Livreco escrito por editoras interessadas em vender qualquer porcaria para os já fanáticos seguidores dela que não tem muita coisa na cabeça Isso se foi mesmo essa tonta quem escreveu esse livreco pois as editoras contratam Ghosts Writers para escreverem e depois só trocam o nome livro com linguagem muito rebuscada o que complica um pouco o entendimento Fala basicamente de física Esperava mais me decepcionou um pouco A caixa do box veio rasgada e amaçada página do livro cálice de fogo uma folha veio amaçada Desculpem mas achei deprimente e não me ensinou muita coisa Não gosto de finais clichês mas acho que faltou dar continuidade à história Do jeito que acabou foi apenastriste Eu entendi a proposta do livro Creio que pode ser tocante para algumas pessoas mas eu tive certo receio em me abrir para esse toque Talvez não seja o momento Talvez a beleza do livro esteja em contemplar a partir de uma certa ótica e eu não achei esse ângulo certo Ainda Tratase de um livro muito superficial limitado a um conjunto simplista de “receitinhas” pretensamente rotuladas de “hábitos” Também não tem nada de original e nenhuma fundamentação mais científica da questão Embora seja de assimilação fácil e rápida não exige reflexões não compensa o tempo que se vai despender em sua leitura Não recomendo Alfredo Sant’Anna Junior Logo nos primeiros capítulos é possível observar a doutrinação esquerdista do livro mal disfarçada entre obviedades típicas de livros de autoajuda nada contra mas não acrescenta muito para quem espera algo da leitura além de um passatempo Essa doutrinação parte de premissas falsas comumente usadas para justificar ideias socialistas que não deram certo em lugar algum no mundo ao serem postas em prática Francamente é uma falta de respeito sem igual com o consumidor brasileiro Não estou falando da Amazon embora meu box tenha vindo com sua extremidade com um baita amassado o que poderia ter sido evitado se embalassem com mais cuidado Mas minha crítica é para a HarperCollins Aparentemente essa editora não tem o menor senso do que significa controle de qualidade O box é frágil fácil de ceder ao peso dos livros O primeiro volume do meu veio com o fôrro da capa mal colado o que significa que ele ficou com umas ondulações horríveis O volume dois veio ainda pior pois tem PÁGINS FALTANDO ISSO MESMO UM LIVRO COM PAGINS EM BRANCO ONDE DEVERIA HAVER A CONTINUIDADE DA ESTÓRIA Somente o volume 3 e 4 se salvaram isso porque não fiz uma inspeção mais minuciosa Poderia falar também de páginas amaçadas e falhas na questão gráfica mas não quero estender mais esse comentário Moral da história estou devolvendo meu box pra Amazon pegarei meu dinheiro de volta e com ele talvez eu compre as versões em capa dura de bolso da Zahar que além de ter uma qualidade impecável e um trabalho gráfico e tradução primorosos ainda me dá o gostinho de apreciar ilustrações originais da época e por um preço mais do que justo pelo que é oferecido Livros e caixa vieram danificados Parte externa dos livros dobras vieram com cola Caixa amassada e rasgada Ainda vou ter o trabalho de ir ao correio e pagar para devolver o produto Dizem que reembolsam o frete depois Veremos Seguem as fotos recebi o livro ontem ok entrega rápida porém não recebi desconto na promoção marco10 só comprei por causa dessa promoção o q faço agora r1290 do livro mais r790 de frete paguei r2080 Gostaria de saber pq não ganhei desconto O conteúdo do livro em si é bom as técnicas e assuntos que ele aborda são de fato muito importantes Entretanto o livro tem uma abordagem de auto ajuda com generalizações sem sentido usando aquela abordagem prescritiva que promete 100 de sucesso a todos que seguirem as dicas mágicas e infalíveis do livro simplificando demasiadamente o assunto O livro é mal escrito também confuso em algumas partes e a todo momento você não sabe se o autor está falando de algo academicamente comprovado se existem estudos práticos se é opiniãoexperiência pessoal ou se tem a ver com a fé dele sim existem várias opiniões religiosas inseridas junto ao texto Enfim ruim Não dou nota 1 porque apesar de mal escrito o que o livro prescreve de fato é algo que funciona muito bem na imensa maioria dos casos e o brasileiro médio viveria muito melhor se seguisse as dicas pelo menos desde 2013 reclamam do abusivo preço nada mudou jaa ten isenção para ebook como livros impressos e tb naada muda que patético Tenho muitos livros sobre a Segunda Guerra mundial já que sou muito interessado na história das guerras Mas este livro me decepcionou ele é muito parcial pois tenta mostrar o Nazismo como o império do mal Sobre as barbaridades cometidas por Stalin nenhuma palavra e quando fala é para dizer que a culpa é do Hitler Transforma a Polônia numa coitadinha não explica que a Polônia no Tratado de Versailhes tomou território alemão e ainda continuou após a guerra reivindicando mais territórios da Alemanha Não cita também que a França exigia reparações de guerra que a Alemanha não podia pagar Não fala que os Estados Unidos enviaram dinheiro para a Alemanha pagar as reparações que Woodrow Wilson o presidente americano achava excessivasisso perdurou até 1929 quando houve a Grande queda da Bolsa de valores Com esse quadro se esquecem de dizer que Hitler foi eleito Chanceler da Alemanha com maioria absoluta dos votos E pior o livro não esclarece direito que a Polônia foi dividida entre Hitler e Stalin pois a Hitler só interessava recuperar os territórios roubados da Alemanha Digo que este livro é o pior livro sobre a Segunda Guerra que eu li se bem que não li ele todo pois não quis passar nervoso e indignação Não recomendo Já parei de ler História sem graça Paguei para embrulho de presente e veio sem embrulho é uma micharia mas vocês não cumpriram com acordo Não tem nada indicando que é em português de Portugal já é o terceiro ebook que comprei que acontece isso Horrível Não perca seu tempo com este livro a menos que você não tenha conhecimento nenhum sobre o assunto A linguagem é muito superficial e o autor faz citações de frases de efeito que ele mesmo escreveu ao longo do livro inteiro Senti como se estivesse numa palestra sulerficial sobre coachingExistem livros melhores de assuntos correlatos va em busca destes Venho por meio deste expressar meu desapontamento com a loja virtual da Amazon Ja estou aguardando a disponibilidade do livro Harry Potter e a ordem da Fenix a meses e o produto continua indisponível sem mais explicações ou prazos de disponibilidade Adquiri o Kindle pela praticidade e o produto nao atendeu minhas expectativas por conta desse tipo de produto indisponível O box veio rasgado e não gostei porque parece descaso com o que eu comprei as extremidades toda machucada Não gostei do estado que chegou mas os livros são bonitos Porque não estão vendendo a versão em ebook kindle do volume 1 e do restante da série Qual a dificuldade Assim como todos os livro da Série não curti Aliás ainda acho que foi o pior de todos pois repetiu tudo o que já havia sido lido Não trouxe nenhuma informação a mais É a mesma história só que com a visão do personagem Não recomendo Bom sobre a capa e a diagramação nem vou questionar pois a Darkside arrasa em tudo Mas a história em si é muito ruim foi uma leitura arrastada É muita enrolação Quem está querendo comprar esperando uma grande aventura não recomendo Minha sobrinha pediu de aniversário mas vou acabar tendo que comprar outra coisa é uma verdadeira porcaria Parece uma revista de banca daquelas sem a mínima qualidade Na descrição da obra alegase não ser um livro técnico que qualquer leigo em física possa entender porém não é nada disso ou talvez na maior parte do livro não o seja Tirando o primeiro capítulo que faz uma análise histórica do conhecimento científico o restante da narrativa é estritamente técnico Se você não for um físico profissional assim como eu talvez não aprecia o livro de Hawking Uma pena Acreditei ser uma obra para ampliar o pensamento sobre a democracia como o definitivo establish da sociedade humana Ledo engano Mais um livro para vender munição de festim para os ingênuos Aqueles que querem ressonar com o discurso fácil o argumento conveniente que desconsidera valores e princípios maiores de nossa natureza Mais um pseudo intelectual tentando trabalhar falácias ameaçadoras sem nenhum compromisso com referências reais Não perca seu tempo Comprei meu The kiss of decepcion aqui na Amazon e veio com duas páginas rasgadas além de uma página faltando Quero saber se a empresa irá ao menos me enviar outra edição Em diversas partes do livro o autor compara a Bolsa a um cassino e a uma mesa de pôquer Ao seguir os axiomas é muito provável que o especulador quebre a cara Por outro lado são oferecidas importantes lições sobre a psicologia dos operadores principalmente o efeito manada Os axiomas serão úteis para quem fizer o contrário do que foi proposto Odiei o final Achei o livro confuso e não entendi a necessidade da morte da Tris Sinceramente adoro finais felizes e depois de todo o sofrimento de Tobias e Tris esperava um final feliz para os dois Extremamente decepcionada com o livro e de certa forma perdi o interesse de assistir a adaptação no cinema Não é tudo isso que falaram pelas redes sociais Esperava muito mais desse livro por ser tão aclamado na literatura contemporânea Os textos são soltos trechos bem reflexivos sobre a natureza feminina sentimentos e relacionamentos mas esperava mais poesia e profundidade Tão emocionante quanto o primeiro volume Dando continuidade aos acontecimentos mundiais através das famílias que já conhecemos com os mais jovens agora adultos Textos curtos com poucos atrativos Embora seja um clássico por conta da criatividade e mensagens subliminares do autor não aguçou a curiosodade nem a vontade de ler Infelizmente o livreiro observou a entrega do endereço anterior qe foi entregue pelo correio a uma pessoa que não foi identificada Assim não recebi o livro e não sei onde foi parar Acho um descaso o que aconteceu Infelizmente minha irmã não recebeu o livro desde o início de maio Espero que amazon possa fazer algo Parece recortes de blogs Texto raso e com pouco conteúdo Não vale a pena baixar se você tiver acesso à web Infelizmente os livros não chegaram fiz o pedido no começo de Dezembro com entrega prevista para 28122017 infelizmente não chegou feito reclamação foi estipulado novo prazo até dia 08012018 novamente sem sucesso feito reclamação na empresa Planeta livros a mesma disse que o responsável pela entrega era Amazon que rebatia o contrario Uma falta de respeito ao cliente tive que optar pelo reembolso e vou tentar comprar por outro site Um poço de contradição por parte do autor Comparações simplistas e sem sentido comparando a vida é as ações com a de Bukowsk Impossível ler já pedi várias vezes não sei mais o que fazer para receber o livro Lamentável lamentável lamentável lamentável O tema do livro é ótimo porém o autor é redundante e repetitivo no decorrer do texto Ele deveria aplicar o conceito que defendeu no livro e ser mais sucinto Tendencioso pensamentos de extremadireita classifica todas as minorias como vitimismos e coloca toda culpa no PTismolulismocomunismo grande ignorância ler esse autor e perigoso à aqueles brasileiros que já flertar com tais preconceitos irão os ter reafirmados Esse livro representa o que eu mais odeio na industria literária uma obra mal feita com péssima escrita e feita puramente para vender Livro muito fraco Quanta baboseira Imaginava que a Lou fosse obter sucesso após a perda de Wil mas não é isso que acontece Esperava mais Me decepcionei pois não veio marcador no livro The kiss of deception e também o The heart of betrayol e também não veio marcador Os dois primeiros livros chegaram ontem dia 310817 chegaram em perfeito estado porém sem os marcadores O livro é uma vergonha O autor deturpa pesquisas academicas sérias para justificar preconceitos e falsas interpretações Um horror metodológico e irresponsável Ignora a historicidade de conceitos e falsifica fontes Um delinquente intelectual que vem ajudando a formar uma geração de fascistas nas redes sociais e nas ruas Alguns conceitos abordados no livro podem ser com sorte aplicados nas relações mas de modo geral as coisas não fluem como o livro cita principalmente no mundo corporativo parece que o leitor acha que devemos ser a Madre Teresa de Calcutá enquanto que a realidade é completamente diferente O leitor chega ao ponto de dizer que devemos elogiar os erros alheios parece mais papo de comunistinha socialista do que de alguém que queira realmente vencer na vida Os exemplos abordados no livro de histórias são bem superficiais e da pra ver que na real não foi nada daquilo sendo que muitos ali vc vê homens de posição e convicções mudarem de postura com uns elogios fúteis Enfim o livro é bem água com açúcar e não condiz com toda essa popularidade da mídia Se ler os livros do pupilo dele o Napolleon Hill são muito melhores Aquele mormente que o discípulo superou muito seu mestre Pelo menos no Livro 1 A guerra dos tronos a tradução lembra muito o português de Portugal Expressões estranhas na nossa língua e uma versão diferente daquela apresentada no livro 1 vendido individualmente Tentei contatar a editora mas fui ignorado Péssimo relacionamento com o cliente A Amazon obviamente não tem responsabilidade sobre a qualidade duvidosa do produto da editora Leya Fiz a compra e a encomenda chegou bem rápido entretanto ao abrir o pacote uma surpresa Veio apenas 1 livro e a compra foi de 2 exemplares Inclusive a nota fiscal diz que são duas unidades e o valor cobrado é por dois livros Costumo comprar da Amazon e sempre fui muito bem atendida Espero que o mau atendido se resolva rapidamente Como o livro se concentra na política americana das duas últimas décadas eu esperava que pelo menos apresentasse uma análise das disputas internas dentro dos dois grandes partidos dos Estados Unidos e uma discussão da relação destas duas agremiações com a sociedade que fosse melhor do que eu posso fazer ou que apresentasse novas e instigantes Não faz isso e gasta energia à toa numa tentativa de comparar Hugo Chávez com a política americana que peca pela superficialidade e pelos lugares comuns que não se espera encontrar num trabalho acadêmico Muito ruim O livro é uma coletânea de obviedades e o Cortella não consegue se aprofundar nos temas que propõe em cada capítulo deixando o leitor esperando por alguma conclusão que nunca chega ou mesmo por algum insight que faça o livro valer a pena O livro é também mal escrito parágrafos curtos e um uso abusivo do ponto final tornam a leitura travada e dificultam estabelecer uma coesão entre as frases Ganhei de presente e não recomendo Perceber que este livro está entre os mais vendidos no Brasil é um sintoma que precisamos estudar Li e percebo que se trata de uma conversa do autor compartilhando sua vida suas experiências positivas de superação das dificuldades Problemas acidentes doenças Todos temos Superações Todos enfrentamos O que o faz diferente Ele transformou a superação e o compartilhamento de suas histórias em um negócio Vende palestras conselhos e livros O que era para termos gratuitamente através das boas conversas com nossos familiares e amigos ganha status de necessidade de compra Por isso vejo como triste E o conteúdo O mesmo de todo livro de autoajuda Neste livro há uma série de sugestões de hábitos para você criar para alcançar o sucesso em qualquer área Qualquer Sim o autor promete isso perigosamente tem coragem suficiente para prometer afirmar convidar enfim e a julgar pelo número de vendas está convencendo Brasileiros precisam de conselhos simples por que não encontram em seu dia a dia estas orientações Não é um sintoma importante para analisarmos Totalmente insatisfeita com a entrega Amazon Terceira vez que tenho atraso nas estrelas de livros e as crônicas que era pra ter recebido dia 1112 não foram entregues Bom Livro baseado em um só tema mas parece um resumo o valor é proporcional ao conteúdo E o pior ter que completar os caracteres nesta avaliação Alguns livros vieram com cola na capa além de não informar que esta é a versão compactadapocket a unica descrição é a imagem ilustrativa Como pode esse livro está esse preço para o kindle Isso é um absurdo além de ser um pedido para não comprarmos Péssima folha muito fina a ponto de ver o que há por trás se fosse só isso pelo preço o comprador até entenderia No entanto é inadmissível que as folhas estejam rasgadas comidas e cortadas A impressão do texto chega no fim da página literalmente no fim da página a ponto de cortar pedaços das letras Depois volta à diagramação medíocre E quando pensamos que está tudo bem aparece as palavras comidas novamente Sem contar também o horrível estado da caixa e dos livros amassados e feridos este pode ter sido devido ao transporte Seria melhor não colocar o box neste preço se significar o trabalho porco da editora Leya Os poemas épicos de Homero representam um grande desafio para qualquer tradutor Este contempla geralmente três possibilidades manter ou tentar manter a métrica do poema nem que para isso seja necessário sacrificar a sua compreensão manter a forma geral poema basicamente a sua estrutura e versos e estrofes traduzindo no entanto com vistas a tornar a linguagem a mais direta e de fácil compreensão possível pelo leitor contemporâneo por último abandonar completemente a forma poética e transformar a Ilíada e a Odisseia em narrativas em prosa De todas a primeira opção é a pior e aquela que produz os resultados mais artificiais e menos satisfatórios para o leitor comum Foi essa a alternativa escolhida por Carlos Alberto Nunes o que faz da leitura dessa edição uma tarefa chata e cansativa Justamente o oposto do que se espera dessas obras Esse livro do Cortella é muito previsível e superficial chegando quase a ser uma cópia de outras publicações clássicas nessa área da análise comportamental Os hábitos que Cortella cita ao longo do livro são comportamentos que já são citados pela nossa avó Outro problema do livro é o fato de o autor fazer muitas conexões com pensamentos e filosofias de cunho socialista e esquerdista acabando por ser extremamente parcial decepção logo quando começou a sitar kal Maxi perdi a vontade de continuar a leitura o marxismo e responsável pelas maiores tragédias humanitárias desde o seculo XIX Em resumo eu quero Menos Max mais Misse Não li os comentários antes de começar a ler o livro pois já li outras história da nana e gostei bastante Consegui chegar até o meio da história mas o protagonista não é cativante e é extremamente abusivo estúpido grosseiro com a mocinha a força a um sexo bruto e conta sua vontade o que caracteriza claramente um estupro Não se importa nem um pouco em como ela se sente inclusive a trai sem nem achar que é traição nada menos do que ele merece E a avó dele criando um monstro ridículo criar um ser humano prepotente assim mas entendo que essa parte seja parte do enredo Já os estupros romantizados não consegui engolir A nana errou a mão o triste é que eu estava interessada mesmo no segundo livro mas acho que não tenho nem ânimo pra lêlo O livro não traz nenhuma novidade ou parte que mereça destaque cai apenas no senso comum e no óbvio É dispensável na sua estante Steven Levitsky é um conhecido opositor de Donald Trump e a sua abordagem apresenta um forte viés ideológico A realidade é que esse autor se julga o dono da verdade no que concerne ao conceito de democracia É clara a sua visão obtusa sobre os novos tempos e seu propósito doutrinador Não recomendo a sua leitura Achei ridículo Eu realmente esperava uma historia que tivesse sequencia para os personagens Achei que toda a historia ficou entre aspas Sinceramente achei que encheu linguiça e não completou a historia O livro é bom para quem está perdido na vida A maioria dos conselhos são voltados para um perfil típico pessoas casadas com filhos que trabalham e estão acima do peso A maioria dos exemplos e conselhos são no sentido de traçar metas e mentalizar situações em que você está emagrecendo melhorar o relacionamento com a famíliaSão poucas referências no livro parece que a maior parte dos exemplos é do próprio autor e algumas poucas citações que tem são de pseudociênciatem uma parte sobre o poder das palavras e como elas podem alterar a estrutura molecular da água Alguns conselhos são bons como a questão da autoresponsabilidade assumir a responsabilidade da reação perante os acontecimentos da vida Não achei muita graça não 👎🏻 Ilegível mal formatada comparem com a versão impressa da Editora 34 e chorem Infelizmente nenhuma tradução decente está disponível em formato digital É uma lástima uma pena que a Editora 34 não nos ajuda É tão ruim quanto o canal dele livro muito repetitivo muito estrelismo e pouco conteúdo O livro é lindo Edição maravilhosa Mas demorei uma eternidade para terminar Leitura difícil pesada muito detalhada e enrolada Não despertou meu interesse em continuar a série Veio com um problema na imagem da capa e vendo as outras críticas isso parece ocorrer com frequência Não o recomendo para ninguém Varios personagens sem desfecho final sem pé de cabeça e temos uma Eva chorona Não precisava desse livro Muita expectativa para pouco Estava tentando há dias continuar lendo sem que ficasse com um sono incontrolável Não entendi muito no começo Quando aparecem cenas dela tendo relações sexuais com um homem parei de ler excluí e comprei outro livro Não sei qual o perfil de pessoas que gostaria de ler esse livro O título deveria ser outro Como as Democracias são Assassinadas e os autores mais qualificados são do governo russo sede da difusão do comunismo desde 1917 Tratase de obra contra Donald Trump que está fazendo o contrário salvando a democracia liberal libertarian nos EUA Mas comunistas costuman costumam ser o que eles xingam aos democratas de ser e costuma fazer o que eles acusam aos democratas de fazer é um livro bem fraco não acrescenta nada só fala o óbvio de um ponto de vista fora da realidade Pessoal vocês poderiam dar uma atenção maior para um produto com este valor Sou um grande Fã da série e vejo que este é um problema muito ruim para o comprador Temos 2 livros que estão com a formatação Danificada Sem Justificar A Câmara Secreta e Enigma do príncipe Poderiam lançar um atualização para o livros Acredito que iria agradar muito aos leitores Aguardo respostas O mais famoso astrólogo brasileiro deveria deixar os livros de Jane Austen de lado e experimentar Svetlana Aleksiévitch para descobrir o que realmente acontece com a mulheres enquanto os homens vão para a guerra Livro raso como o autor Tive a oportunidade de ler trechos da edição impressa e sou obrigada a concordar com o que dizem na internet Reza a lenda que cada vez que alguém lê este guia um historiador cai de um penhasco O texto é literalmente incorreto Cita autores como José Murilo de Carvalho de forma desonesta sem esclarecer que o autor enfatizava que os Direitos no Brasil não foram fruto de conquistas mas sim de conceções das elites dominantes Uma tentativa ambiciosa e infrutífera de negar a exploração dos povos do Sul pelos do Norte de se apropriar e distorcer a narrativa histórica em prol do ideais neoliberais O titulo certo deveria ser Rascunho Historicamente Errado Com língua trivial o livro abusa do metodo de desconstruçao da historia tipo Hitler era gay Jesus foi casado com Madalena descartado ha decadas por causa de seus erros O livro não tem nada de politicamente incorreto sendo apenas uma coleção de conversas soltas e não chega sequer a ser divertido de ler Quer bancar o diferente e só consegue ser preconceituoso Oportunidade perdida de abordar de um jeito diferente a nossa história Ainda aguardando baixar o preço Absolutamente abusivo Não só a amazon como outras livrarias aumentaram o preço deste livro ultimamente Ainda no aguardo do preço justo Comprei para minha sobrinha ler contudo eu precisei ler antes para saber se seria viável mas percebi que joguei dinheiro fora ainda bem que era promoção Meus Deus como essa garota escreve mal O livro trata de historietas fracas e vazias sem pé nem cabeça parecem ser escritas por uma garota de oito anos Nada do que a autora escreve tem fundamento nem pra ficção serve é muito ruim sem noção nenhuma do que escreve lamentável Só marquei uma estrela de pontuação pelo gasto que tiveram com o papel Aliás se eu fosse a autora jamais teria colocado minha foto na capa seria melhor o anonimato O livro é ótimo mas quando vi que o livro físico na própria Amazon é mais barato que o ebook me senti enganado O que significa best seller Algo que vendeu muito só isso Não implica necessáriamente qualidade Um bom marketing é suficiente para tornar qualquer besteirol um best seller Este livro não passa de mais um entretenimento como ler Admirável Mundo Novo Cheio de falácias e contradições apela ao científico para sustentar posições questionáveis Para quem busca conhecimento é uma perda de tempo ler opiniões pessoais de um autor frustrado com o mundo Pensa em um livro que a gente espera mais que tudo A sequência do livro A pessoa que eu era antes de você foi tão aguardada A personagem era tão viva no primeiro livro Will tinha deixado um legado tão interessante pra ela aproveitar e viver experiências novas que em alguns momentos do primeiro livro eu quis ser a personagem Depois de você não diz pra que veio apresenta um Lou bem chatinha comum que não nos convence das mesmas coisas que foi capaz de fazer no primeiro livro Não senti como uma sequência e sim como um outro livro uma outra história que eu particularmente não gostei Pedi o livro baseado na promoção q era de graça Não autorizo está compra Ajustem o site de vcs para evitar tais desconfortos Dória tem razão e vcs não cumpriram com a palavra Não aceito pagar R2100 por este livro pois estava informando q era gratuito A premissa é questionável e a receita é o óbvio Mais um texto água com açúcar Não gostei do que Lu historia meio fraquinha Você já começa o livro sabendo como vai terminar e ele não convence q o final realmente é a melhor opção Mas vale a leitura porque vai sair filme com Emilia Clarke e Sam Clafin 😍 Adquiri a edição comemorativa na verdade uma edição econômica extremamente mal feita 4a edição 2015 Papel de baixa gramatura péssima encadernação as folhas estão desalinhadas há cola na lombada e a fonte utilizada bem a fonte utlizada é um total desrespeito ao leitor Muito pequena torna a leitura um esforço Ao colocar esse produto no mercado a Editora Leya comete abuso um desrespeito aos leitores e à obra em si Lamentável vergonhoso Não consigo ler Está muito confuso este site Não consigo contato com ninguém para ajuda Complicado o Amazon Espero conseguir ler ou o estorno Ha tempos não lia um livro de suspense tão ruim Achei fraco e com varias pontas soltasA história comeca bem com uma jornalista medíocre que precisa voltar à sua cidade natal para fazer uma reportagens sobre uns crimes que andam acontecendo com criancas Até ai tudo bem mas começamos a perceber que a jornalista além de tudo é desequilibrada e se corta hã Por isso o nome do livro Achei muito fraco Terminei de ler pq li ouros livros da autora e para saber se meu palpite do assassino estava correto Comprei o livro certa de que seria uma leitura incrível devido às várias boas indicações que li Entretanto não foi assim o livro não dá medo não prende é exageradamente descritivo indo além da cena em questão para o pensamento do personagem sobre a tia da sua vizinha e como ela brincava não sei onde quando era criança e não não tem relação nenhuma com a história A ação em si além de chata não faz sentido nenhum pode ser que eu não tenha compreendido todas as metáforas que o livro traz mas se eu soubesse do que se tratava não tinha me dado ao trabalho dessas mais de mil páginas Então estava muito interessado nesta edição mas aí ao olhar mais atenção percebi que as páginas de dentro são impressas em papel couchette Quem teve essa brilhante idéia Pois para mim acabou o interesse Blah Sinceramente eu achei muito chato e difícil de ler Aquele vocabulário é um tédio Não consegui terminar a leitura Comprei por ser um clássico espero um dia ter ânimo para continuar a leitura Não há justificativa para o preço absurdo deste ebook se bobear você acha mais barato o livro impresso do que essa versão digital Uma pena gostaria muito de ter o ebook De longe é o pior livro da trilogia A narração dos capítulo é alternada entre a Tris e o Quatro e isso é bem chato Claramente a história perdeu sua atração nesse livro Estou continuando a leitura somente para concluir a trilogia mas perto dos dois primeiros volumes a leitura está bastante maçante O livro é ultrapassado mesmo como ficção do inicio do século passado a linguagem é prolixa e como ficção deixa muito a desejar principalmente comparandose com o que temos hoje Estou também decepcionado com a Amazon porque este livro deveria ter sido um brinde assim foi oferecido e no entretanto foi cobrado junto com os outros dois livros comprados Rubens Almeida Infelizmente a história é fraca e a escrita deixa a desejar não foi nada do que eu esperava Não leria novamente Foi uma historia escrita simplesmente para as pessoas comprarem espero que a continuaçao seja muito melhor pior livro da Jojo Este é um dos piores livros do ano quiçá dos ultimos dez anos e uma leitura completamente dispensavél Fuja disso É uma revista diagramado como revista grampeado sem texto corrido Um engano chamar d lê livro Além disso conteúdo bobo sem pé nem cabeça A história é até ok mas o autor se perde em defender sua visão política pessoal deixando o livro chato uma das maiores histórias já contadas uma decepção aqui é triste ver o preço deste ebook mais triste ainda é pensar que há gente que paga por isso Mais um livro pra falar mal do cristianismo e distorcer a Bíblia e ainda por cima com um final péssimo Se eu recomendo pra alguém Nem pro meu inimigo Concordo com a opinião acima de lixo nacional já estamos cheios não precisamos de lixo traduzido Ao ler os livros até então eu não havia encontrado nenhum erro revisão nem tradução Porém no livro 5 Harry Potter e a Ordem da Fênix encontrei um grave erro pelo menos na edição em que comprei e chega a impedir o leitor de continuar a leitura não garantindo uma boa experiência impedindoo de terminar o livro e a história O erro em questão está no capítulo Trinta e Um NOMs O capítulo inicia e segue normalmente por algumas páginas até chegar à página 576 e então onde deveria haver a próxima página 577 há em seu lugar a página 545 e assim segue até chegar novamente à outra uma nova página 576 e onde novamente deveria haver uma página 577 na próxima página há a página 609 pulando assim 2 capítulos da história do livro O box é resistente bonito de boa qualidade e não há aquele problema onde não cabem os livros Os livros possuem excelente capas bonitas assim como o box A fonte é um pouco menor mas nada que atrapalhe na leitura Páginas de ótimo material O box chegou com nenhum problema o transporte foi ótimo O problema do livro não é ser uma fanfic São vários os problemas dessa trilogia mas certamente ser uma fanfic não é um deles O primeiro de todos é o protagonista ser um abusador e perseguidor de mulheres Segundo a autora demonstrou um profundo desconhecimento de BDSM colocandoo como uma perversão que precisa ser curada através do amor da Anastácia É clichê em cima de clichê e é bem preocupante tantas mulheres acharem Christian Grey um romântico ao invés de reconhecerem os diversos abusos pelos quais Anastácia passa Amor não cura ninguém gente Focado apenas em quem deseja estudar melhor textos rasos e superficiais com dicas simples que conseguiríamos em algum post de blog na internet não precisando necessariamente ter um livro para isso Péssimo Difícil uma biografia tão ruim como esta O autor se limitou na maior parte do tempo a comentar os cadernos de Leonardo Piada Como sempre o marketing Pena ser tão vendido Eu fiquei muito decepcionada com a autora esperava mais do livro ela acabou com a história de Gideon e Eva nesse último volume esperava um desfecho melhor sabe aquele final feliz eles deixam seus medos e traumas pra trás vão pra lua de mel esperava os filhos nem isso teve muito triste perdi meu tempo lendo todo seu Nem me anima escrever sobre este livro É simples o livro não presta É muito ruim Dito isso você deve saber que o livro é um sucesso vendeu milhões e virou filme Mas não presta O livro tem seis personagens principais e dois acessórios A trama é óbvia esse é um livro de ‘quem matou’ Quem matou Megan é o resumo do enredo Há o casal Megan e Scott o casal Tom e Anna que mora na mesma rua do primeiro casal existe Rachel exesposa de Tom e que passa de trem todos os dias por trás das casas desse pessoal citado Há ainda o psiquiatra de Megan Kamal Rachel imagina que Megan e Scott formam um casal idílico A separação de Tom ainda é dolorida dois anos depois de ter acontecido ô mulher besta e sofredora Rachel é uma chata alcoólatra e gorda Megan é ninfomaníaca e trepa com Tom e Kamal além do marido claro Megan é morta Quem matou Ora ora Logo nos primeiros capítulos anotei no meu caderno de anotações o nome do assassino Além de ser um péssimo livro completamente clichê os personagens são todos parecidos e ‘falam’ da mesma forma Dona Paula não quis ter o trabalho nem de diversificar a fala dos personagens Por exemplo Anna e Rachel dizem estar com o coração prestes a explodir em momentos diferentes da trama Na semelhança entre os personagens Scott é violento e ciumento Tom é violento ciumento e mentiroso Megan é frustrada submissa e não trabalha Anna é frustrada submissa e não trabalha cuida do bebê Rachel é uma bêbada frustrada apanhava do exmarido submissa e perdeu o emprego por causa da bebida Perdi meu tempo lendo as quatrocentas páginas dessa ‘coisa’ Pelo menos o livro foi ‘de grátis’ no Kindle Unlimited e a escrita de Dona Paula é tão chã que terminei o livro em poucas horas Muito longo descrições repetitivas acontecimentos improváveis e fortuitos vai e volta na visão dos personagens muitas vezes desnecessario repete trama de outras histórias Comprei meus tão esperados livros e meu Box veio rasgado Essa compra foi realizada em NOVEMBRO e até hoje não foi feita a troca do produto Quando vi tantas avaliações corri para ler Mas que livro chato Tudo bem que tinha um aviso sobre cenas de sexo e linguagem chula Mas deveria dizer que isso é em 90 da história sem deixar realmente um enredo bom acontecer Sexo sexo e sexo Isso se resume a esse livro A história ultrapassa o clichê Na verdade nem tem história só sexo que parece ter sido retirado dos livros anteriores dela e colocado nesse mudando o nome dos personagens Falta inovação A escrita da autora é boa se não fosse mais do mesmo seria um livro bom Não recebi o livro Acredito que tenham enviado no endereço errado gostaria que o mesmo fosse encaminhado para o meu Kindle Aguardo breve retorno é mais sobre a vida da autora do que finanças que cai entre nós fugiu muito da minha realidade talvez por isso gostei menos ainda Enfim parece que eu estava assistindo um video do tedtalk para levantar minha autoestima O canal dela tem mais conteúdo do que o livro As dicas são boas mas nada de novo na verdade são bem óbvias Acredito que a maior parte das pessoas já as conhecem No meu ponto de vista é um livro fraco comprei mesmo pelo título Esse livro veio com o mesmo problema que o outro umas páginas com manchas de tinta Nada gritante mas incômodo A capa dele veio numa tonalidade mais clara que as outras Não tenho certeza se foi erro de impressão ou se as edições novas estão vindo assim mesmo Esse livro foi decisivo para que eu não compre mais livros às cegas em lojas digitais Não gostei porquê a capa veio com um rasgo o que para edição de colecionador é péssimo Espero que das próximas vezes que eu comprar não venham novamente com defeitos ou algo do tipo A história pode ser boa a leitura é muito cansativa acabei abandonando a leitura nos primeiros capítulos O livro exibe umas poucas técnicas de maneira reduzida Creio que poderiam ser colocados pequenos exemplos para treinamento em uma quantidade que o leitor pudesse avaliar e treinar a tecnica certificando assim o método Comecei a leitura hoje e estou abismado com a tradução Sinto mesmo que estou lendo algo traduzido por um computador Recomendo a compra em inglês Realmente triste um sucesso desses ser vendido numa versão digital que teve custo mínimo de produção e tem custo 0 de venda num preço 2x maior que o produto físico que teve custos de produção e distribuição infinitamente maiores do que o digital Simplesmente lamentável Amazon perdeu todo o respeito que eu tinha pela empresa O titulo não veio centralizado no dorso Não gostei Essa versão Combo Ebook de As Crônicas de Gelo e Fogo possui inúmero erros de português de ortografia e concordâncias nominal e verbal Além de ter diversas palavras grudadas umas nas outras Já entrei em contato com o SAC da editora Leya e ele dizem que vão corrigir mas não o fazem Já faz mais de um mês e nada foi feito Agora nem respondem mais os meus emails Meu Box veio rasgado Acredito que a autora tenha se perdido um pouco durante a construção depois de toda a historia o desfecha é no mínimo deprimente Sem mais a acrescentar além de achar que ela deveria ter parado no volume anterior inserindo um desfecho mais agradável R22825 num ebook é complicado pra caramba melhor repensar esse valor Estou no aguardode alguma promoção ou ajuste deste valor pois desejo muito adquirir essa coleção Não gostei do livro não achei os conceitos claros o autor dá muitos exemplos pessoais utiliza uma linguagem meio desbocada Esperava algo mais voltado para o meio corporativo e na verdade depois da metade ele volta mais para uma análise de relacionamentos e valores pessoais A primeira coisa que devo dizer sobre o livro Muito Mais que 5inco Minutos é que o título é preciso Consegui lêlo em pouco mais de três horas o que é definitivamente muito mais que cinco minutos Ganhou pontos logo de cara pelo acerto cronológico e honestidade para com o leitor Muito Mais que 5inco Minutos é claramente voltado a jovens naquela fase em que lutam furiosamente contra a explosão hormonal apesar de uns lances estranhos como falar de namoradinhos aos 8 anos Kéfera fala do seu primeiro beijo aos 15 do nojo de engolir a saliva de outra pessoa dos traumas e horrores desse ponto tão conturbado da vida sempre usando a sua própria história como contexto afinal é um livro da Kéfera sobre a Kéfera para os fãs da Kéfera Isso parece invalidar qualquer assunto que não envolva o umbigo da Kéfera Entre as páginas também aparecem umas fotos dela com o dedo indicador em riste outras fazendo o símbolo demoníaco do rocknroll e algumas de um cachorro que presumo seja dela O problema ou qualidade do relato é que é uma história banal dessas que qualquer roteirista júnior recémsaído do seu curso de cinema pretensioso poderia bolar — sem nem estar chapado — e ainda por cima contada de uma forma rasa e sem graça Posto de outra forma é a história de vida daquela sua prima ou irmã de 15 anos que passa dias na fila para ver o show da última cantora da Disney e gasta R 500 em meet amp greet para desgosto profundo dos seus pais Minha crítica completa A edição conta com muitos equívocos de grafia e de pontuação além de ficarem dúvidas sobre a completude da obra Livro com o nome baseado nas pessoas que compraram esse livro Odiei A duas semanas tentando ler esse livro e não consigo progresso Enredo previsível a cada quatro palavras uma é um palavrão menina chata e bocuda Não recomendo esse livro A obra é uma fraude completa O autor é um astrólogo que se diz filósofo e é reconhecidamente um embusteiro e foi de forma reiterada desmascarado por acadêmicos A obra contém uma série de chavões que podem ser lidos em parachoques de caminhões Não tenho muito o que dizer porque simplesmente não gostei Achei um livro muito ruim chato maçante monótono e cansativo Péssima tradução do livro ou partes do livro estão faltando quando comprado no KindleFrases sem sentido eou claramente com partes faltantes Talvez no livro em papel isso não tenha acontecido mas no online sim Nas primeiras páginas já temos o propósito do livro Depois pura repetição Terminei o livro com muito esforço o casal não funcionou bem pra mim achei a mocinha muito infantil seu comportamento no livro inteiro foi como de uma criança birrenta de 10 anos e não o de uma mulher de personalidade o que acredito ter sido a intenção Já o mocinho é fraco e parece pensar só em sexo e em nada mais Não sei se esperei muito do livro ou se não estava num bom momento pra esse tipo de leitura mas sei que não me agradou Produto fraco Livro com paginas brancas e letras pequenas Esperava uma qualidade melhor Uma obra dessa merecia uma qualidade melhor Olavo é um fanático religioso que encontrou público farto para ler sua pseudoobra Uma destilação de senso comum com mesclas de ódio preconceito e discurso autoritário Triste Delírios paranoicos para pessoas idiotas Se é um livro para não ser um idiota automaticamente é para idiotas O autor deve ficar dando risada pois tantos idiotas compram esse livro O autor vende mais sua imagem que as ideias que pretendia mostrar no livro Superficial e com técnicas nada inovadoras ou desconhecidas usualmente Lino livro por causa do hype feito em cima dele Sinceramente não me chamou a atenção não gostei História fraca nada acontece uma vez ou outra alguém fala alguma coisa que vale a pena guardar mas só Poderia ser muito melhor Eu também cheguei a entrar na página para comprar o livro em questão Porém com avaliações como estas desisti da compra Acho um absurdo uma empresa como a AMAZON estar ENVOLVIDA COM PIRATARIA ou mesmo comercializando um material incorreto fraudulento e por sua vez DESRESPEITANDO O CONSUMIDOR ABSURDO Muito fraco e passional Visão distorcida de direita Não leria se soubesse que era tão ruim Deveria se chamar guia politicamente incorreto e tacanha Muito difícil a leitura deste livro acredito que seja para um leitor acostumado a este tema não terminei ainda mas chego lá Um livro sensacional Tenho aplicado o conceito para adotar novos hábitos positivos em várias áreas da minha vida Bom dia Produto AINDA não entregue dentro do prazo total descontentamento Apresentase como um livro de autoajuda mas quando você começar a ler vai ver que se trata de um livro sobre a história do hábito Assemelhase mais a um livro didático de faculdade Penso que se o objetivo era trazer a técnica para incorporar determinado hábito a nossa vida o livro poderia ser reduzido em até 75 A não ser que você seja um entusiasta que queria saber os primórdios do assunto não recomendo Um título impactante mas o conteúdo nem tanto O autor chegar a ser bem redundante em vários capítulos com temas evasivos e pouca coerência ou seja corrobora o que outros escritores já disseram Enfim não gostei da forma de abordagem do autor por vezes o achei infantil Os neologismos nesta versão do livro são bons mas cansam o leitor ao ter que ficar relembrando os seus significados A entrega foi no prazo porém a edição é muito mal feita As páginas e a impressão são desalinhadas Além disso a lombada está com cola O livro começa bem mas aos poucos começa a fica desinteressante e cheio de exemplos cansativos O tema é interessante mas não é trabalhado de forma agradável Atenção cito partes do livro nessa avaliação Diria que o livro é semelhante aqueles vídeos de internet os quais não é possível avançar enquanto é dito para não parar de assistir porque vai mostrar uma grande solução para sua vida O autor vem de uma família rica em um país desenvolvido e conclui que conseguiu crescer na vida ligando o fdase Ele utiliza de filosofias préexistentes incluindo orientais como budistas mastiga e dá a própria interpretação correlacionando com situações como entrevistas de televisão situações do seu país na maioria das vezes experiências da sua vida O autor faz uso de valores que ao mesmo tempo que afirma não serem regrado são altamente baseados no sonho americano como objetivo O uso de técnicas de convencimento sofisma está distribuído no livro em formas como falando em regras da vida como se fossem absolutas e em seguida diz que não devem ser usadas sempre ou chegando a conclusões indiretas que parecem surgir como premissas para outras conclusões Um exemplo é a ideia de que crianças aprendem a andar mesmo caindo várias vezes levando o autor a concluir que a aversão a fracassos e erros é adquirida posteriormente na vida Dessa conclusão ele vai a outras e assim o livro segue encaixando os pensamentos para explicar porque sua vida deu certo depois de tanto dar errado e porque você deve ligar o fdase Acontece que existem interpretações de experimentos de psicologia sugerindo o contrário que crianças também não gostam de fracassar Nesse sentido ao meu ver o autor chega a conclusões absurdas que o levam a mais conclusões sem sentido mas que fazem sentido em sua vida americana com suporte familiar financeiro e de não temer o futuro Assim segue todo o livro utilizando de lógica emoção e conclusões salvadoras Talvez ele sirva melhor para a cultura e o mundo dos países desenvolvidos ou talvez eu que seja incapaz de enxergar esse livro para uma realidade brasileira A realidade subdesenvolvida é diferente as história de vida das pessoas são diferentes a cultura e seja para usar o livro como visão de mundo ou como mudança de vida ele lida com uma realidade muito diferente Ainda assim apesar do livro tratar de pensamentos de outros como se fossem do próprio autor ele cita outros pensadores e algumas coisas produtivas para confirmar suas conclusões Esses são trechos bons do livro Por exemplo o trecho que fala sobre ação e inspiração é interessante Enxugando todas as distrações autobiografia e opiniões baseadas no cotidiano estadounidense vindo de uma família rica que teve suas dificuldades superadas ligando o fdase existe algum conteúdo que pode ser extraído dele A impressão é que o autor escreveu esse livro pensando nelepessoas semelhantes como público Quem se identificar mais com o autor possivelmente vai se identificar mais com o livro Tendo então uma cultura semelhante aumentará as chances disso Enfim talvez tenha tido uma expectativa alta de mais sendo um best seller e ouvindo recomendação sobre o livro Porém para quem interessar conheço pessoas que são leitores assíduos e gostaram do livro Então claro que depende do gosto e afinal é um best seller Infelizmente esta foi minha experiência com o livro do pastor Mark Manson Ligar o fodase vai nos salvar Livro tendencioso Democracia não é só quando a esquerda está no poder Aqui no Brasil a democracia estava em jogo assim como a liberdade da mídia caso o PT tivesse ganhado PT não é direita Versão digital está desorganizada Eu estava lendo o livro a mais de 4 horas empolgado quando muitas coisas pararam de fazer sentido Então vi que o capítulo 11 estava antes do capítulo 10 perdi até a graça de ler Eles não gastam com papel como pode um ebook custar tanto se tivesse mais barato todos iriam comprar É um livro incrivel mas não vale o preço Quatro páginas coladas mal cortadas e sobre saindo o livro e com orelha FLOP Justo o que queria mais ler triste O texto é caótico Cheio de idas e vindas que acabam misturando eventos que apesar de cronologicamente simultâneos tiveram pouca ou nenhuma relação histórica Inferno é bem melhor Esperava mais pra escrever isso preferia ter ficado em casa tomando chá Precisa de algo a mais para se redimir dessa perda de tempo Um novo livro a altura do legado Potter Extremamente superficial o livro é carregado de sofismas e platitudes Análises descontextualizadas em uma linguagem pobre beirando a desonestidade intelectual Decepcionante O livro se contradiz totalmente a partir do seu prefácio quando utiliza a frase “Nem tente” como um marco e propaga justamente o contrário nas páginas que seguem Um texto de blog seria mais instrutivo Esse preço não existe não tem o menor cabimento É melhor assistir novela mesmo Qual a desculpa da editora pra vender o livro por esse preço Pensa num livro ridículo e chato Mais alguémpassou por isso Eu gosto muito da categoria New Adultespecialmente quando os fatos são narrados com elegância A propaganda em torno desse livro chamou minha atençãotanto pela originalidadetanto pelo romanceQue aliásduvido muito que isso seja um romancesó se fordaquele tipo bem sombrio e destrutivo E infelizmentetudo o que eu encontrei foi uma história com potencialque possuía todos os elementos para ser legalporemse perdeu em uma escrita ruimdesenvolvimento pobre e enroladoUm dramalhão chatoprotagonistas igualmente decepcionantesE a tal elegançia na descrição dos fatosNão existee nem sei se vulgar seria a palavra adequada A mocinhachega a ser irritantediante tanta choradeira e indecisãoComo uma pessoa consegue suportar tanta humilhaçãoE ainda por cima continuar apaixonadaEsse tipo de leiturachega a me causar fobia rsrsr E o talreizinho Um dos piores protagonistas que já liegoístairritantecheio de soberba e muito maisNão creio que tenha passado por uma redençãonão existe concerto para esse tipo Resumindoler esse livro foi um péssimo negócio Um dos pouquíssimos livros que eu não consegui ler até o final é assertivo em questões que não foram comprovadas como se o tivessem sido induzindo o leitor ao erro Além do mais a certa altura do livro livrase do pudor do compromisso com os temas globalistas deixando cair a máscara de militante Apesar de ser um bestseller eu não recomendo Ganhei E foi o único livro da minha vida que eu joguei fora pois achei um crime dar para alguém E este senhor é chamado de filósofo Deve haver alguns idiotas que acreditam que ler isto os deixara menos idiotas Sinceramente também estou tentando entender como podem colocar um livro digital por um preço absurdo destes Comprei um Kindle recentemente e adoraria ter esta obra nele mas por um preço abusivo destes não compro nem aqui nem na China E só dei uma estrela porque não é possível dar 0 Eu esperava um livro mais profundo pelas altas avaliações e comentários em geral porém achei um livro muito raso parece q você está lendo o diário do autor O livro passa uma boa mensagem porém para quem já leu vários livros de autoajuda vai achar esse livro muito superficial Intediante chato o livro fica por dizer coisas óbivias e por isso acaba por ser irrelevante então não o recomendo A entrega foi rápida e sem dano de entrega porem não tem como rastrearisso é um erro da empresa que faz entrega e não permite rastreamento O item chegou com defeito na caixa que faz parte de tudo e isso me desapontou Como é um presente não abri a caixa ainda para ver se ha mais defeitos e nem tenho tempo de trocalojá que não ha nenhuma forma de reclamar para uma troca rápida apenas devolver o produto Vou ter que entregar o presente assim e aguardar o que achamespero que não tenha outros defeitos mas fiquei muito desapontado pois o produto esta danificado dentro do plastico não foi um erro de entrega ele simplesmente já veio assim Falta um controle de qualidade no envio para que nem saia de la um produto com defeito e alguma forma de contato rápido com a empresa para casos de produtos danificados Os livros e suas capas estão ótimos Bonitos e sem problemas Agora o box que guarda os livros infelizmente veio rasgado Felipe neto xingou todos os Youtubers que fizeram livros sem conteúdo mas hoje capitaliza num livro que mais se assemelha aos gibis da turma da Mônica Maurício de Souza que me perdoe O Ebook esta bem mais caro que o livro físico Muito sem noção não vou comprar não Esperar até chegar nos R20 e olhe lá amei o livro inteiro mas confesso que o final nunca passou pela minha cabeça e acabou tirando todo o encanto do livro depois de fazer o pedido que vi que era pocket e pelos comentários Espero sinceramente que eu consiga cancelar Decepcionada mesmo O hype que envolve esse livro é ENORME então eu decidi tentar mesmo sendo inspirado pelo conto da Bela e a Fera Primeiro a escrita A autora tenta soar inteligente E tenta TANTO que chega a ser ridículo Faz uso de palavras difíceis só por isso e muitas vezes parece que nem sabe o que está escrevendo já que muitas vezes acaba sendo redundante nos adjetivos e substantivos que usa Além disso repete MUITAS vezes as mesmas coisas Parece que queria atingir um número mínimo de páginas tamanha a quantidade de vezes que faz isso Segundo a história em si Fantasia é fantasia mas a maior parte das interações entre os personagens é extremamente forçada e irreal Honestamente tudo vem fácil para a personagem que consegue todas as respostas que quer só perguntando Terceiro e o pior de todos Feyre A personagem principal e NRRADORA é simplesmente insuportável Se vitimiza o tempo todo mas fica se auto afirmando como uma garota forte Considerando o seu background e o fato dela ter 19 anos em uma realidade comparável à medieval era de se esperar uma idade mental e uma maturidade que ela não chega nem perto de atingir Várias pessoas argumentam que o livro eé uma présequência para a história em si que começa no segundo livro mas acho ridículo esse conceito de que preciso me torturar por 400 paginas para comecar a historia de fato Parece mais o trabalho de um garoto de escola primária querendo impressionar o professor Fraco mal elaborado não informa nada mostrase a léguas da promessa do título No dia que era para meu livro chegar recebo um email da Amazon avisando que eles haviam errado e o livro demoraria mais para chegar quando ele chegou fui abrir e dois dos exemplares vieram com a capa amaçada e com sugeria em todas as capas das 5 edições provável que seja de cola além disso a caixa que vem para guardar os exemplares serem estava rasgada e tive que jogar fora o texto inteirinho são só emails talvez agrade pessoas jovens A leitura é cansativa extremamente superficial O preço é alto e não vale a pena Achei um livro muito superficial e enfadonho O autor fica dando giros em volta de conceitos explicados muito por cima e a suposta receita nunca vem Livros como A Força do Hábito são muito mais consistentes A edição traz uma introdução que é puro spoiler Muitos leitores estão reclamando da mesma coisa aqui Por que não colocam essa maldita análise no final Acabo de ver a trilogia impressa por 5490 Amazon está sendo ridícula com esse preço Pensava seriamente em comprar a edição Kindle mas vou ficar com os que tenho mesmo Inviável Olá Recebi uma notificação por email que não foi possível entregar meu pedido Solicitava também fazer alguma alteração no endereço O link não direcionava para o campo correto tive que adivinhar o que fazer Eu a fiz Após isso a Amazon esta retornando o pedido e me dará o crédito EU AINDA QUERO O LIVRO Adicionei 2 outros endereços onde poderiam me enviar Outro problema não encontro onde posso fazer essa reclamação no site ou quem pode me ajudar Gostei do acabamento do livro porém podia ser em paginas amareladas o livro tem uma gama de palavras em outra língua e o glossário fica na parte de trás logo fica uma leitura não muito dinâmica Foi meu primeiro contato literário com o autor e achei o livro bastante superficial Não acrescentou muita informação nova Coaching virou um grande modismo assim como criticálo Uma infeliz realidade preciso assumir como um profundo amante do autodesenvolvimento Consegui obter diversos insights úteis durante a leitura ou seja de qualquer forma dá pra extrair boas ideais mas como de praxe no mundo do coaching as páginas começam a se encher de mensagens e afirmações sem embasamento nenhum uma verdadeira compilação de achismo e falsas verdades baseadas em princípios infudados tirados da cabeça do autor e de fontes semelhantes ao próprio sem comprovações impíricas válidas ou qualquer alicerce científico que os sustente Muito pelo contrário o livro conta com frequentes exemplos e citações que não passam descancaradamente de pseudociência com um toque de sensacionalismo e até mesmo charlatanismo Além de várias referências sem fontes sendo várias parcialmente falsas isto é ou o escritor é muito inocente ou manipulador com o intuito de corrobar suas ideais e ambos os casos não fazem jus ao seu título de PhD E já estava esquecendo dos inúmeros depoimentos que são no mínimo levemento modificados para parecerem mais grandiosos Em resumo se você procura por um livro do nível de O Poder do Hábito não não mesmo recomendo a leitura Mas caso você só queira obter alguns insights sobre o seu poder sobre sua vida e algumas dicas práticas vale a leitura ou não desde que esteje muito atento a tantas ressalvas PS Sem querer encharquei o livro com café Pelo menos não foi um livro bom rsrs Não gostei Não fala nada de novo Não empolga aliás é bem chatinho Não consegui terminar Difícil entender como está na lista dos mais vendidos a narrativa é muito lenta e você fica ansioso pra chegar no final e quando chega nada demais acontece Não gostei Primeiramente é SUPER previsível e o romance não é bom Por mais que esse não seja o foco eu sempre vou votar em um romance bem construído E alias não é nada que eu já não tenha visto antes É um pouco de tudo A Seleção Trono de Vidro Jogos Vorazes E agora estou me perguntando porque algumas pessoas amaram o livro Porque para mim pessoalmente foi muito ruim e sinto que não há nada de verdadeiramente especial pra ter aquele hype todo Muito tendencioso pela opinião lamentavel do autor em varios assuntos tratados por exemplo afirma que os portugueses ajudaram a preservar as florestas e que os indios eram os grandes devastadores Esperava encontrar curiosidades interessantes sobre a historia do Brasil pois sabemos que não foi exatamente como retratada nos livros escolares mas vi principalmente piadas de mau gosto Muito cansativa a leitura Muitas voltas para falar algo mais específico Nao achei muito didático porque o autor fala muito de si e das próprias experiências Não recomendo Sem conteúdo muito livro para pouco história E o do final da coleção deixa muito a desejar franco A caixa veio rasgada como fazia mais de sete dias que havia comprado e não havia aberto fiquei no prejuízo Triste Não sei nem por onde começar Li o original em inglês ou seja com certeza a culpa não foi da tradução e fiz muito esforço pra terminar o livro quis ler até o final porque não acreditava que um livro tão vendido e elogiado pudesse ser tão ruim As primeiras 50 páginas são extremamente maçantes Depois disso as coisas não melhoram muito A protagonista poderia facilmente entrar para a lista dos personagens mais irritantes da história da literatura Ainda que as outras personagens femininas não sejam tão chatas são igualmente superficiais instáveis e obsessivas Os homens não são melhores Com personagens tão caricatos e um estilo tão pobre algumas divagações de Megan são especialmente forçadas talvez algo se salvasse com uma trama interessante o que não acontece Há suspense no livro sim apesar de a identidade do assassino não ter sido grande surpresa mas o resto é tão ruim que não compensou a minha compra e muito menos o meu tempo Realmente tem de ser um para gastar tanto dinheiro num livro dessa qualidadeum apanhado de repetições e clichês de um filósoso que nem é filósofo de verdade Tinha os elementos para ser aquele chiche gostoso mas não curti O livro fala muito sobre o acordo não ser ilegal mas se coagir alguém ao casamento sob ameaças não for ilegal esta sociedade está mesmo perdida A química entre o casal logo no início é exagerada Sofia tem um começo muito irritante A cada reação grito tapa que dava era Ai meu Deus não sou assim Eu não respondo Não sou agressiva Chata Heitor comete estupro naquele apartamento em New York O tratamento possessivo passa muito do limite entre excitante e abuso O castigo de Heitor foi bom mas o livro deveria ter acabado no máximo 30 páginas depois o que já daria um ótimo epilogo mas o texto se arrasta interminavelmente sem nenhum acontecimento Muito cansativo Não era o livro que eu queria Na promoção não dizia que era livro de bolso Já é a segunda vez que isso acontece com uma compra minha aqui É um clássico mas achei desnecessário vários trechos estarem em latim Uma língua que muito pouca gente conhece e acho que devo ter perdido um pouco da trama Não há necessidade ter tantos trechos em latim Ainda estou esperando as reviravoltas prometidas Achei a protagonista pedante e dramática e desde o meio do livro já sabia quem era o verdadeiro assassino Anotado mais uma decepção com bestsellers Eu adquiri o primeiro volume individualmente e quando vi este combo achei que seria vantajoso Mas como alguém comentou a respeito da tradução baixei uma amostra para comparar com o volume adquirido previamente Realmente a tradução deste combo está voltada para Portugal o que não acontece com a tradução do volume individual adquirido separadamente A informação do idioma deveria ser clara e explícita Do jeito que está parece má fé da editora E é Não acredito que paguei por um livro minúscula e sem informação relevante como este Espero que seja excluído da lista para esse pessoal qualquer chama de orgulho a pátria vai se transformar na volta de algum ditador isso demonstra a banalização de termos como fascista nazista etc que vemos ser usadas diariamente nos dias de hoje para todos que discordadão da opinião do establishment e a forma com que o livro é super recomendado por essas entidades só demonstra isso com mais força Não gostei da escrita do livro a história toda é contada atraves de troca de email entre os perssonagens não me prendi na leituraresumindo está descartado do meu kindle essa é a minha opinião mas há quem goste desse topo de leitura Eu não compro esse livro Fraco Muito narrativo não prende atenção tive aprendizados não posso negar mas foi muito difícil prestar atenção nas histórias narrativas sendo que meu fico era aprender os segredos Tradução muito muito ruim Conteúdo faltando Além da história ser fraca com falhas de roteiro e continuidade Sentido da história foi perdido O texto é fluido e leitura agradável Mas a história é um pouco arrastada e a desenlace previsível Não se justifica o sucesso que está fazendo Tratase de bom entretenimento mas que cairá rapidamente no esquecimento Não gostei Abaixo das minhas expectativas Preciso saber se essa compra é do livro físico Pq não quero digital Acho que não entendi a propaganda Desculpa msm Fui no impulso Se não for físico quero cancelar a compra A estória é bem elaborada mas deixa o protagonista muito machistaE oque acontece com os escritores que NUNCA pensam em proteção Achei a parte Hot muito repetitiva Bem fraco Achei muito forçada a ligação com o primeiro livro que já não é lá muito bom Muito novelesco O livro não possui nenhum exercício ou método que realmente auxilie na leitura dinâmica O valor é baixo mas não vale nem esse tanto o volume 5 esta com erro tem impressão tem paginas duplicada e outras faltando Chegou rápido Incrivelmente rápido Na embalagem ainda veio o box Percy Jackson e mais um livro pequeno Não foram bem embalados e o box do HP veio rasgado e com o livro I amassado Bem triste com isso Livro sem nenhuma coisa de diferente Autor bastante jovem e do auto de sua experiência aos 30 anos quer descobrir o segredo da vida Totalmente dispensável o livro Vou começar uma leitura em conjunto com vários booktubers e comprei na maior expectativa a caixa da amazon veio extra grande com mais de 30 saquinhos de ar junto com 2outros livrinhos acompanhando mesmo assim a transportadora arrasou com a embalagem toda rasgada e a box veio com as pontas amassadas e danificou meus livros dentro Triste demais com a amazon já deixei de com nas americanas submarino na saraivapois os livros vinham empoeirados e agora penso em não comprar mais na amazon pois eles oferecem um calaaboca de 20 do produto pra quem coleciona não importa 20 e sim o produto intacto na estante Nota 0 amazon Tao ruim quanto o primeiro Fonte não justificada e erros de português É uma pena pq o livro é muito bom Muito fraco e previsível A pista através do qual o assassino é descoberto é patética só um idiota manteria aquela prova junto a si sem a menor necessidade Muito fraco mesmo A protagonista ser tão palerma e irritante talvez se justificasse se a trama fosse elaborada e instigante mas isso está longe de acontecer Umberto Eco e esta sua obra já foram muito bem descritos pelo conjunto de resenhas aqui publicadas Minha fala se restringirá à edição de bolso Iniciei a releitura motivada pela revisão do autor e o acréscimo do texto Apostilas Tentei mas não consegui ir adiantes apesar do conteúdo Folha branca margens estreitas espaços mais do que simples letras miúdas Nao há espaço para escrevermos as traduções dos trechos em latim para interpretação das palavras mais rebuscadas e registroa das impressoes de leitura Este texto requer interação do leitore a versão de bolso impede por seu apertamento Sugiro à editora re lançar em capa dura papel creme com fontes e tudo o mais que venha a deixar a leitura confortável Obs na imagem inicial com o mapa da abadia suspeito que faltam dados Ha divergência entre o desenho e a legenda O livro é excelente no primeiro terço porém a partir desde ponto vai ficando cansativo Creio que a parte evolutiva é bastante interessante ao passo que a análise do hominídeo em sociedade é desnecessária Comprei um box do Harry Potter e um do Percy Jackson em maio Ambos chegaram nos prazos estipulados Demorei a abrir o box de HP ao começar a ler o segundo livro reparo que faltam ao menos 3 capítulos do livro Fico muito decepcionado com esse tipo de situação e espero que aja algum tipo de ação da Amazon quanto a isso Serei obrigado a conferir todos os livros e seus respectivos capítulos para ter certeza se há mais erros Gosto muito do site e espero que tomem uma posição sobre isso Jorge Candeiras é o tradutor da versão portuguesa do livro e não da versão brasileira mas a Amazon vender no Brasil um texto com português de Portugal e não avisar é desrespeito A edição veio de cabeça para baixo em relação as páginas como só consegui começar a lê lo por agora não tinha notado o defeito Até hoje não consegui falar com a editora para que haja a troca por uma edição correta O autor usa termos que tem que ser procurado em um glossário atrás do livro e isso atrapalha a leitura Um livro de leitura cansativa e arrastada Fiquei chateada por não ser aquilo tuso que tanto falam Muita propaganda para um conteúdo sem atrativos Não percebi uma poesia de boa qualidade Talvez seja por demais simplista praticamente Como manifesto feminista contemporâneo vale Como poesia carece de lirismo O espaçamento no livro todo está desconfigurado Algumas linhas só com duas ou três palavras Outras sem nenhum espaço elas Atrapalha MUITO a leitura O nome do livro e seu plot twist são as grandes sacadas Quando terminamos o livro percebemos que quem sabe o mínimo para não ser idiota jamais leria Olavo de Carvalho Ou seja esse livro atinge exatamente o público correto Nem Kotler pensaria em uma jogada de marketing tão genial Apenas pessoas que não sabem o mínimo para não serem idiotas é que compram o livro Quando terminei de ler o livro e percebi isso achei genial GENIAL Se você cogita ler este livro compreo agora pois esse livro foi feito para você Conteúdo superficial onde se propõe nas dicas básicas indicar um caminho sem receitas Bom para iniciantes sem nenhuma rota principal O conteúdo do livro é excepcionalmente excelente Entretanto ao receber o livro vi que o mesmo está com a capa querendo deteriorar além de alguns amassos na capa Solicitei a compra de um livro novo mas nestas condições ficou duvidosa Todo enredo acaba no primeiro livro o pouco de suspense restante com as poucas perguntas por responder poderiam ter sido concluídos em um livro só O que faz os outros 2 livros insurgente e convergente desnecessários e encheção de linguica respondendo perguntas que nem eram tão importantes assim além de tentar fazer um final surpresa e falhar nisso deixando ele só deprimente Muito triste porque o primeiro livro tem um ótimo passo enredo e etc Pelo amor de Deus que preço é estesó mesmo no Brasil e é porque livro ainda é imune de impostos surreal este preço depois reclamam que ebook não vende no Brasil Ridículo Ainda mais quando se compara com o preço dos EUA Sem chance O mínimo que você precisa para não ser um idiota é não compar livros de Olavo de Carvalho que tem um pensamento e lógicas idiotas mas vende bastante o Brasil está infestado Solicitei meu pagamento em 4 x e quando fui ver os detales da fatura do meu cartao para o proximo pagamento veio a surpresa desagradavel lançaram o valor total da compra ao inves da 1 parcela Foi a primeira e a uktima vez que compro no site da Amazon decepcionada Trata de modo superficial o tema da velocidade na leitura Serve apenas como um primeiro contato com a ideia de leitura dinâmica Eu nao ia comprar essa edição pelo fato de a maioria dos comentarios serem negativos mas la fui eu me aventurar e comprei chegou agora o box aqui em minha casa recém chegou com página rasgadas o livro em sí veio todo sujo e arranhado principalmente as lombadas mas isso tudo bem eu ia ficar eai dois dos livros com PAGINS RASGADAS QUE ISSO AMAZON VC TA FAZENDO UM JOGO COMIGO o livro 1 e o 4 estao com as últimas páginas descoladas e rasgadas isso é um absurdo ja pedi meu reembolsoe aconselho a vcs que estao em duvidas de nao comprarem olhem as fotos e tirem suas próprias conclusões O primeiro livro foi tão bem escrita com o desfecho fantástico Ai aparece esse uma continuação contando a historia da Lou tão sem graça Desnecessário ter escrito a continuação O produto que chegou na minhas mãos veio com problemas de impressão com algumas paginas muito boradas impossibilitando a leitura O Livro é um resumo do canal Me Poupe O Conteúdo entregue é para pessoas que estão iniciando no mundo dos investimentos não contém informações técnicas Infelizmente a caixa veio rasgada A Amazon prontamente trocou o produto mas veio rasgada novamente Na segunda tentativa de troca a Amazon entendeu bem o problema mas preferiu devolver o valor pago Não era a solução que eu gostaria Minha intenção era apenas substituir novamente Acabei ficando com o produto avariado mesmo Entendo o motivo da opção pelo reembolso a recorrência do problema e os custos envolvidos mas no fim não era a melhor solução para mim Mas a configuração das páginas é PÉSSIMA Prejudica muito a leitura Uma pena que tenha havido um descaso tão grande na hora de configurar esse livro para o kindle Para mim parece ser uma fanfiction muito mal escrita Infelizmente me deixei levar pelo nome quando na verdade a autora dos livros de Harry Potter originais nem mesmo tocou ma história deste apenas aprovouo Os novos personagens são mal apresentados e pouco desenvolvidos a história é contraditória com os livros originais e peca horrivelmente com a memória dos personagens já existentes Além disso me soou como preguiçoso o jeito com o qual o autor Jack Thorne ao invés de criar um enredo original SPOILER se apoia no enredo de Cálice de Fogo e também em outros acontecimentos da série original Decepcionante O preço poderia ser menor no dia em que abaixarem para menos de 1990 eu compro sem pensar duas vezes mas por enquanto vou ter que pausar minha leitura na série pois não tem condições de um Ebook ter esse preço é quase o mesmo preço da versão física Pela porcaria que é de graça é caro Não me dei ao trabalho de ler pois pelos comentários de quem leu as críticas feitas e o pouco conhecimento de história que tenho percebi que tratase de uma deturpação mesquinha Para quem não conhece a história do Brasil e quer conhecêla de forma minimamente séria aconselho que escolha algum autor menos bisonho Para quem quer fazer piadinhas na roda de amigos que gostam de falar sem razão pode ser que encontre neste sem definição um repositório de besteiras mais ou menos útil alguma passagem boba que sirva de inspiração para alguma piada idiota Aos tolos bom proveito Ganhei este livro de presente e foi com tristeza que terminei a leitura Quanto tempo perdido Livro fraquíssimo que subestima a inteligência do público jovem O personagem principal é extremamente fraco e o final é rocambolesco e inverossímil Não vale a pena o dinheiro e muito menos o seu tempo Eu amei o primeiro livro Como eu era antes de você e comprei o Depois de você ainda na prévenda de tão ansiosa que estava Achei esse livro super sem graça e previsível A Lou conseguiu ir para o fundo do poço mesmo com tudo que o Will deixou para ela Ela poderia ter uma vida maravilhosa mas acabou trabalhando num bar sendo humilhada no serviço A autora não tinha nada para inventar e apareceu uma filha do Will de um caso antigo Achei essa parte nada a ver depois de tudo que ele passou aí aparece a menina atrás do pai E como era de se esperar a Lou se apaixona por outro cara e aí vivem feliz para sempre Não achei nada de emocionante nesse livre nada comprado ao primeiro livro que amei Só um livro de uma pessoa senil que nunca cursou o ensino médio completo de nenhuma escola O livro é incompleto Acaba em 110444 sendo que o diário dela foi escrito até 010844 Alguém pode explicar pq não informam que é incompleto Sou fã da série Harry Potter Tenho a coleção e já mas este último livro francamente é péssimo Acredito que a escritora é do tipo escritora de um livro só Não consigo entender o alto valor desses ebooks amazon a obra vale 10 estrelas o preço uma só vamos melhorar o preço desses ebooks Conceitos interessantes mas a forma de apresentação é muito ruim o livro parece ser bom o serviço a Amazon é péssimo Minha filha pediu o livro 1 h após a compra queria trocar ou desistir não foi possível até receber e devolver com o frete por minha conta e ai que não compensa UM GOLPE pessimo serviço nunca mais compro nesse site golpista Tão contraditório que parece ter sido escrito por um adolescente Incrível como alguém com experiência em escrever não perceba a falta de coesão entre as ideias do livro Começa se posicionando como uma espécie de anti auto ajuda e acaba sendo o auto ajuda mais pesado que eu já li Pontos pelo estilo dinâmico da escrita e por em alguns momentos no meio do amontoado caótico de ideias conseguir fazer o leitor refletir Vale a pena a leitura só não deve ser uma prioridade de escolha e muito menos ser considerado ao pé da letra O livro tem um otimo comeco intrigante que te cativa Mas é ladeira abaixo O final é completamente decepcionante as pistaa ao longo da leitura jamais dao a entender o real plot Sinceramente o livro é uma introducao a serie mas que poderia ser resumido em um capitulo flashbacks ou mesmo lancado apos como uma prequeal Apesar de alguns insights bacanas o livro é bem fraco e superficial usa metáforas baseadas na bíblia deus e etc o que eu acho bem limitante parte de pressupostos meio falaciosos parece meio direcionado para o público família cristã de classe média Se quiser algo mais substancial indico os livros do Anthony Robbins sobre PNL já dá pra formar uma boa base sobre o assunto Sério escrita pobre história descabida e completamente machista Não entendo como existe tanta hype com esse livro até hoje com tantos livros melhores negligenciados Tive contato com a obra de Olavo de Carvalho quando eu tinha lá meus 15 anos Por algumas semanas achei interessante pois tinha o propósito de desvelar verdades e conspirações Passadas as semanas com meus olhos afiados para caçar comunistas analisei seus indícios busquei referências paralelas e me dei conta de que ele é um lunático Desde então toda vez que vejo alguém dizer que gosta de Olavo de Carvalho já encaro a pessoa como no mínimo uma analfabeta funcional Recentemente um youtuber filósofo formado com as devidas técnicas de investigação filosófica fez um vídeo de leitura e análise de lógica textual desse livro Conclusão Não há um parágrafo desse livro que não se utiliza de falácias No vídeo também são elencados de maneira técnica os tipos de falácia utilizados LinkhttpsyoutubeEjQ9kVVuW0Y Eu estava querendo reler esse livro mas ao me deparar com o preço É brincadeira Amazon Mais de R 10000 num ebook A obra vale mil estrelas mas eu dou uma estrela para a Amazon em virtude do preço abusivo Chegou meu livro Vocês não poderiam mas DEVERIAM avisar que ESSA DROGA é edição ECONÔMICA Não vou nem me dar ao trabalho de dar pra alguém VOU JOGAR FORA ESSA PORCARIA A edição está meio confusa e mal diagramada Arrependime de adquirila e acredito que há opções melhores da mesma obra Não cheguei a completar a leitura do livro tendo em vista de que não aborda o tema a que se propõe adequadamente Steven Levitsky é um conhecido opositor de Donald Trump e a sua abordagem apresenta um forte viés ideológico A realidade é que esse autor se julga o dono da verdade no que concerne ao conceito de democracia É clara a sua visão obtusa sobre os novos tempos e seu propósito doutrinador Não recomendo a sua leitura Favor corrigir a formatação do livro pois está péssimo para ler não sendo possível ler na forma que está portanto espero que a amzon corrija este livro que parece ser brilhante O livro apresenta algumas ideias interessantes mas na maior parte do tempo de torna superficial e grosseiro Não vale o investimento Nossa como alguém ainda gasta seu dinheiro lendo isso que manipulação O livro é excelente mas a avaliação referese a entrega pela transportadora Direct Express Parcel Service SA O local onde a DANFE foi afixada na caixa do produto apresentava MARCA DE RETIRADA DO PLÁSTICO visto posteriormente à entrega O pacote em si não foi violado Temo pelo mau uso da DANFE em que constam dados importantes como nome completo CPF e endereço do comprador Muito superficial e pouco aproveitável o conteúdo do livro Na minha opinião foi perda de tempo a leitura e de dinheiro a aquisição do livro “O que os autores ao final concluem é que enfim um despertar conservador começa a tomar para si as rédeas do mundo na tentativa de poder livralo do caminho do abismo Décadas e décadas de governos autoritários eou ditatoriais destruíram as liberdades as economias e a autoestima de suas populações Crises nos Países árabes africanos latinoamericanos ocorrem desde sempre e esses mesmos governos com viés de esquerda estavam no poder só fizeram aumentar a pobreza a fome e a miséria locupletaramse até não poderem mais emitiram moeda quando esta acabava compraram as midias pelo mundo todo criaram e fortaleceram compadrios nas concessões públicas em rodovias portos aeroportos e até na área de energia como petróleo e energia elétrica e ao “povo”migalhas Meus irmãos recalque é para recalcadas Já era hora de acordarmos desse transe Gente como esses autores que se intitulam pesquisares ou professores de Harvard leiase berço progressista nos EUA são frequentemente convidados a emprestar suas credenciais e suposta autoridade a pautas como essa que não passa de mais um vexame esquerdista que teimam em não aceitarem que perderam as eleiçõesouvirãoPERDERAM AS ELEIÇÕESSS Aceitem que dói MENOS União Europeia também ruirá se Deus quiser e Ele quer ainda em 2019 Cansamos de carregar vocês nas costas Vão trabalhar um pouco ou como se diz lá na minha terra”vão capinar um lote” CHEGA DE HIPOCRISIA O minimo é não ler esse livro Péssimo Não acredito que ela escreveu esse livro Não dá continuidade ao último livro CHATO não fala coisa com coisa Decepção é pouco estou irritada É melhor fazer outro livro final A estória podia ter fim no primeiro livro desnecessário esse segundo não sei o que acontece com essas meninas que se intitula autoras de não desapegar dos livros e fazer 12 e até o três falando dos mesmos personagens AFF 🙄 para mim são pessoas sem imaginação para a construção de um novo livro Nao evolui parece que desapegar do livro é a morte Lamentavel e ainda um terceiro onde terá muito sexo e pouca estória Comprei o livro logo após comprar Garota Exemplar antes mesmo de sair qualquer um dos filmes Apareceu como recomendação pois são parecidos Porém o que GE tem de interessante Garota no Trem falta O plot é um pouco óbvio pelo menos para mim Consegui descobrir a pessoa responsável logo nos primeiros capítulos o resto foi só esperar pra ver como a pessoa era desmascarada Em GE já foi o contrário eu recebia golpe atrás de golpe Eu esperava um livro mais profundo pelas altas avaliações e comentários em geral porém achei um livro muito raso parece q você está lendo o diário do autor O livro passa uma boa mensagem porém para quem já leu vários livros de autoajuda vai achar esse livro muito superficial os preços dos ebooks no brasil são abusivos e absurdos o mesmo livro em inglês custa a metade do preço httpwwwamazoncombrGameThronesSongFireebookdpB000QCS8TWrefpdsimsbskinc6 Oh Amazon Por favor atualiza essa edição Está sem condição de ler faltam frases dos personagens diálogos tem pedaço do livro que não da nem pra entender o que está acontecendo Desde o título ao conteúdo esse livro é pretensioso e arrogante Parece mais uma imatura tese de mestrado colecionando dados bibliográficos encaminhados para uma concepção preconceituosa e sem nenhuma sabedoria Lani Queiroz escreve bem gosto muito da escrita dela li todas as séries anteriores mas este apesar de bem escrito enredo muito lento chato discorrendo os pensamentos dos personagens longamente a mesma coisa para esta estória não precisava o livro ter tantas páginasli até o final porque já sou fã da autora mas parei muito e pulei muitas partes o sexo apesar de quente também não tem muita variação não entendo uma classificação tão boa se tem situações que facilmente poderiam ter sido um copia e cola de outros livros citaria um de outra escritora com tranquilidade aqui mas enfim achei necessário escrever esta avaliação porque gosto da escritora mas neste livro infelizmente penso que se perdeu Diante de tantos comentários espinafrando a versão digital para o Kindle pela má formatação e pela falta de respeito ao consumidor de obras vendidas através da Amazon com tantos problemas tomei a decisão de comprar a versão impressa papel Li todos os comentários e um mais recente de maio de 2014 relata que o problema permanece Lamentável A impressão que me dá é que o autor estava com MUITA mas MUITA pressa para acabar esse livro Achei extremamente forçado sem lógica e muito mal costurado Parece que ele achou um monte de foto e construiu a história sem pensar muito cada capítulo que terminava pensava ok ele escreveu isso por causa da fotomas não tem o menor sentido não desenvolveu absolutamente nada além da foto Além disso os personagens perderam muito o carisma sem falar no romance sem sal chaaaaaatooooooooo que o autor força goela abaixoEnfim até curti o primeiro livro o segundo foi mais ou menos mas o terceiroaffffffff Não gosto de ler livros divulgados por famosos sem histórico de leitura Não gosto de literatura que cai no gosto das massas principalmente da literatura que segue uma tendência de um grupo específico e que traz a reboque uma malta que jamais abriu as páginas de literatura de verdade E este livro ruim e panfletário de Atwood não foge a regra Atwood cria uma situação que nunca aconteceu mas tenta divulgála como algo que já existe De todas as distopias literárias famosas as sociedades totalitárias foram criadas justamente por pessoas que pensavam como as feministas radicais de hoje ou seja pessoas que entendem que suas interpretações da realidade são irrefutáveis Já li uma entrevista da autora e ela diz não pensar assim ela entende que nem tudo que as feministas pensam seja correto No entanto o movimento feminista do século xxi utiliza a obra fraca de Atwood para atacar seu inimigos invisíveis Ataque que é facilitado pela facilidade de manipular uma meninada sem cultura livresca e que está sempre disposta a seguir movimentos populares Apesar de ler várias avaliações positivas aqui eu não gostei do livro infelizmente após pesquisar sobre a vida do autoro que devia ter feito antes vi que ele não passa de um charlatão Me chamou atenção pelo nome do livro mas não achei o conteúdo bom e sinceramente eu não gosto de ler autores que passam uma imagem mas vivem outra coisa Me arrependi da compra e irei efetuar a troca Quanto a Amazon foram ótimos Indico o Milagre da manhã diário pra quem busca um novo estilo de vida Não li o livro ainda então a avaliação referese apenas à edição Este livro em especial está horrível a impressão é ruim com algumas páginas quase apagadas e o papel é tipo jornal áspero bem grosseiro Tenho os outros livros da edição comemorativa e em nenhum deles tive esse problema mesmo sendo o mesmo tipo de papel pólen soft 70 mmm² Creio que seja com a gráfica o problema já que deste livro a gráfica é diferente da gráfica dos outros livros Esses defeitos não impedem a leitura mas é justo esperar um nível mínimo de qualidade pelo valor pago pela mesma ao menos igual aos demais livros Vou devolver A entrega foi super rápida mas o produto veio rasgado e todo surrado a caixa BOX que guarda os livros veio toda destruída e pelo que leio nos comentários isso anda acontecendo bastante Veio amassado nas pontas Já tinha lido algumas avaliações anteriores e vi diversas reclamações nas condições do box Antecipadamente já fiquei tensa E infelizmente também fui premiada o box veio danificado Quando a gente compra um produto esperase receber em perfeito estado aí acontece isso é como se jogasse o balde de água fria Até porque é um presente que eu vou dar já danificado bem indelicado Os demais produtos que foram livros diversos chegaram em condições normais sem defeitos Não serve nem para fazer uma boa fogueira porque o papel é ruim Acompanho o canal Me Poupe há um bom tempo muito antes de ter 300K inscritos Dito isso ao ler o livro me deparei com o roteiro de boa parte dos vídeos do canal contando as mesmas histórias falando as mesmas coisas Não são inúteis mas também não foi a inovação ou o inédito que eu esperava Além disso me chateou MUITO o fato de que boa parte do livro é uma espécie de propaganda pessoal da autora Isso não seria um problema porque de fato ela tem muitos méritos mas depois de ver tantas entrevistas assistir aos vídeos e ler o livro percebemos que não são bem assim vide a história de ter comprado o apto à vista comprou mas 30 dele e não sozinha inteiro como suas narrativas nos induzem Pode parecer bobagem mas me senti um pouco enganada o que de certo modo faz com que a autora perca um pouco da minha admiração No mais uma boa leitura com algumas dicas úteis A edição é maravilhosa o preço bom contudo o livro veio rasgado no canto superior direito da lombada É a primeira vez que isso ocorrea Amazon costuma ser excelenteé preciso dizer Não posso avaliar pois não recebi o livro E hoje constato que o valor correspondente foi debitado em meu cartão Favor entrar em contato para que possamos corrigir o erroAguardo Um babaca achando que sabe de alguma coisa relevante a humanidade Olar Frequentemente tendo sua marca merecidamente mencionada em cases de sucessos que vão desde referências bibliográficas de TCCs até complexas análises de modelos de design de negócios e serviços que geram encantamento por meio do relacionamento com clientes experienciei e compartilho um espantoso de case de insucesso da empresa Fiz em 1511 um pedido deste livro It a Coisa e de outro livro e a previsão de entrega era algo em torno de 10 dias O outro livro do mesmo pedido mesmo endereço etc etc foi entregue sem problemas mas para o livro It a Coisa a transportadora insistia que o endereço era incorreto oi eu moro aqui Em 2411 pedi ajuda via chat no site e recebi um atendimento incrível mas inversamente proporcional em eficácia Naquele atendimento já havia descrito rotas para chegar aqui pontos de referência meios de contato e até mesmo me disponibilizei a buscar o livro em algum lugar pois o mesmo era muito importante para presentear uma pessoa especial e tal Nada No início de dezembro enviei um email pedindo ajuda e reiterando tudo aquilo apresentado no atendimento via chat e no dia seguinte recebi um email daqueles ctrl c ctrl v da amazon se desculpando e perguntando se eu gostaria de ser reembolsado e eu prontamente respondi que entendo que M acontece e que eu mais que desejar PRECISAVA receber o livro Novamente compartilhei rotas pontos de referências autorizei passar meu telefone celular para quem quer que fosse incluindo me ligar a cobrar se necessário fosse e repeti a alternativa para eu buscar em algum lugar Em moro em São Paulo gente não em alguma cidade de difícil acesso Alguns dias se passaram nessas milongas e enfim no dia 0712 22 dias após realizado o pedido recebi a solução compulsória da Amazon Confirmação de Reembolso O seu reembolso será creditado em 2 faturas caso seja cartão de crédito e em até 10 dias úteis na sua conta corrente para cartões de débito e boletos Estamos de olho Amazon Perdi tempo de ler autores como Gilberto Freyre Boris Fausto Lilia Moritz Schwarcz Câmara Cascudo dentre outros para ler esse livro Fraquíssimo e sem conteúdo Só serve como panfleto de Bolsonaro EU NEM SE QUER RECEBI O PRODUTO Voces são muito cara de pau em enviar este email Ja falei com o atendimento ao cliente um monte de vezes que ainda NO RECEBI MEU PRODUTO EM CASA EM UM MES DEPOIS DA COMPRA Um título impactante mas o conteúdo nem tanto O autor chegar a ser bem redundante em vários capítulos com temas evasivos e pouca coerência ou seja corrobora o que outros escritores já disseram Enfim não gostei da forma de abordagem do autor por vezes o achei infantil Confesso que pelas avaliações eu esperava maisnão que o livro não é bom O problema é as semelhanças com os livros anteriores que eu li da autoramenina virgemcom homem mais velhoarrogante prepotentemilionárioque usa as mulheres e não se envolve e como em um passa de mágica se apaixona Eu em varios momentos vi o LeonPríncipe da vingança se não me engano senti também que as personalidades dos irmãos são parecidas com as dos príncipes Di Castellaniposso estar enganada pois foi só um prelúdio deles O livro meio que romantiza o estuproao meu ver de forma veladapois o autor do ato é o personagem principal e como tal precisa ser amado no final Porém pra mim quando uma pessoa fala não é a a outra continuacaracterizase forçado a mais ela estava afim a partir do momento que ela disse não é não e ela que arque com suas indecisões Ele é egoísta friomanipuladorinsensívelgrossoum babaca de marca maior e como um milagre ele se torna um cara incrível e maravilhoso e isso me incomoda muito e é meio oque aconteceu no outros livros que eu li dela Se você gosta de histórias que o cara não presta e ela é muito boa e bacanaque não tem motivos nenhum pra se apaixonar mas mesmo assim se apaixonaessa é pra você E ainda tem a tal da dívidaporque em momento nenhum ela reclamou de ser pagamento do painão precisou de nem de ameaçatipo seu pai vai presosalva seu paiela foi por livre e espontânea vontadereclamado que isso era de outro séculomais foi Pior livro que já li em toda a minha vida Enrola MUITO Fala o livro todo da tal da comunidade miracle morning Dava raiva antes de virar a página já porque você sabe que na próxima ele vai dizer entre na comunidade miraclemorning com e veja quantas pessoas se beneficiam disso affff Chato chato chato Nem sequer 1 base científicaé tudo no achismo Quando estava no meio tive curiosidade de ver quais eram as referencias bibliográficas e adivinha Nao tem nenhuma Não gastem seu dinheiro Tem muitos livros bons por aíeste aqui não vale nem quando está em promoção Me arrependo muito de ter gasto 1790 nele Cansativo O kindle não facilita as idas e vindas no dicionário Nadsat O texto se perde e você tem que ficar procurando onde parou a leitura Gostei mt porem fiquei desapontado pq o box veio rasgado um pouco na parte se baixo e amassado q chegou ate amassar livro sem tirar na demora pra entrega Concordo com os outros comentários livro bem fraco somente informação óbvia além de cada ferramenta não passar de uma página fora que há pouca citação dos Gênios Em poucas palavras não gostei nada Como costuma acontecer com certos best sellers o autor parte de uma premissa e não está disposto a avaliar outras opiniões Tira conclusões sem qualquer embasamento nem todas verdade seja dita Não entendi porque tanta aclamação feita a esta obra Não consigo ler Está muito confuso este site Não consigo contato com ninguém para ajuda Complicado o Amazon Espero conseguir ler ou o estorno Se você não é vendedor esqueça O livro é muito fraco ilusório e seu autor lamentavelmente só sabe falar de vendas e práticas utópicas que não te levarão a lugar algum Muito fraco O livro tem muitas coisas boas sobre o assunto em questão Bem práticos até É verdade que há um pouco de autopromoção quando o autor fala do seu método CIS que criou mas acho até que isso combina com o Livro Porém o autor que parece ser uma excelente pessoa muitas vezes se comporta como um pastor Tudo bem cada um com sua crença Respeito isso mas não recomendo a leitura para agnósticos céticos ou ateus O autor menciona ou a deus ou a passagens bíblicas 45 vezes sim eu contei Esse detalhe incomoda bastante além de interromper a linha de pensamento do leitor Lerei o livro em partes de novo pois grifei apenas aquilo que tem aplicação na minha realidade no mundo material Pior livro que já li em toda a minha vida Enrola MUITO Fala o livro todo da tal da comunidade miracle morning Dava raiva antes de virar a página já porque você sabe que na próxima ele vai dizer entre na comunidade miraclemorning com e veja quantas pessoas se beneficiam disso affff Chato chato chato Nem sequer 1 base científicaé tudo no achismo Quando estava no meio tive curiosidade de ver quais eram as referencias bibliográficas e adivinha Nao tem nenhuma Não gastem seu dinheiro Tem muitos livros bons por aíeste aqui não vale nem quando está em promoção Me arrependo muito de ter gasto 1790 nele O autor basicamente recomenda dormir 4 horas por dia e prega o american way of life Tire suas próprias conclusões O mínimo que você precisa saber para não ser um idiota é saber que ler esse livro tem grandes chances de tornar você um idiota Pior livro que já li em toda a minha vida Enrola MUITO Fala o livro todo da tal da comunidade miracle morning Dava raiva antes de virar a página já porque você sabe que na próxima ele vai dizer entre na comunidade miraclemorning com e veja quantas pessoas se beneficiam disso affff Chato chato chato Nem sequer 1 base científicaé tudo no achismo Quando estava no meio tive curiosidade de ver quais eram as referencias bibliográficas e adivinha Nao tem nenhuma Não gastem seu dinheiro Tem muitos livros bons por aíeste aqui não vale nem quando está em promoção Me arrependo muito de ter gasto 1790 nele Minha avaliação é zero Comprei o livro achando que era físico depois tentei cancelar o virtual pra comprar o físico e não consegui Em lugar nenhum aparece uma opção de devolver ou cancelar a compra Já debitaram em minha conta e não veio o download pra que eu pudesse baixar o livro E também não me estornaram o valor Esta é Minha primeira e última compra neste site Poemas curtos e muito rasos Pensei que encontraria ideias mais profundas com mais conteúdo Alguns poucos poemas são belos e passam sentimentos O livro é muito repetitivo no começo o que torna o restante da leitura um pouco cansativa mas tem boas dicas de aplicações do método 8020 Uma leitura muito arrastada muitas vezes tive a sensação de já ter lido a mesma coisa no livro outras vezes Recomendo só pra quem gosta da premissa mesmo de fato Estava com saudades de todos os personagens mas contado assim como teatro perde toda a mágica A história é incrivelmente fraca é previsível os personagens não parecem com eles mesmos o desfecho é sofrível Aibda apresenta um quê de dramalhão mexicano A formatação desse ebook atrapalha muito a leitura e não vale a pena ter essa versão do Kindle Comprei agora um Kindle e esse ebook e estou arrependido Fiquei muito na dúvida se postaria ou não algo sobre esse livro porque eu não queria propagar opinião “negativa” de um livro escrito por mulher Mas por outro lado deixar de comentálo seria hipocrisia da minha parte pois estaria apenas com medo do que as pessoas vão pensar de mim Sendo assim deixei o medo de lado e escolhi optar por deixar registrada a minha opinião sobre a obra É fato que a autora conseguiu deixar bastante claras as suas opiniões usando uma pequena frase Ela consegue deixar um nó na garganta do leitor incomoda dói e te faz pensar essa menina passou mesmo por tudo isso Essa pergunta acontece porque parece tão real tão cru o modo como ela fala das coisas do coração corpo e alma Eu fiquei preocupada com ela em vários momentos sério A Rupi Kaur é uma poetisa da geração instapoesia Bom foi exatamente por esse motivo que eu não gostei do livro E tudo bem Não sou menos feminista por causa disso eu apenas gosto de outros jeitos de poesia Porém apesar de não curtir muito a instapoesia não sou estúpida de achar esse um livro sem relevância Eu super acho incrível saber que de um modo simples e rápido as pessoas de qualquer parte do mundo têm a oportunidade de conhecer assuntos como empoderamento feminino amor violência contra mulher e autoestima Tudo isso é valioso para o momento históricosocial que as mulheres estão enfrentando Clube Nem Tudo é Ficção Amontoado de proposições absurdas destinadas a contestar valores essenciais como direitos humanos tolerância respeito à diversidade democracia criticidade e participação política olavo de carvalho deve zombar de cada imbecil que paga para lêlo A história dispensa comentários é um dos maiores clássicos da literatura contemporânea encantando a jovens e adultos mas essa versão para o Kindle é uma vergonha Possui erros de tradução e até de divisão de palavras aliás centenas deles Lamentável cara Amazon O autor começa bem mas da metade pra frente se perde não via a hora de acabar o livro e seguir para o próximo Considerei que este livro não conseguiu atender as expectativas no contexto de interpretação dos fatos históricos O autor tece bem o andamento histórico mas com abordagem muito superficial Não li até pq não consegui baixar Vcs podem ajudar Vi que tinha comprado na fatura do cartão de crédito Fique atento na compra Ainda está com problema no download conforme já reportado há um mês por um outro usuário Veio amassado nas pontas A responsabilidade da Amazon é fazer promoção com o produto ruim que é a péssima edição deste livro ao invés de desistir de vendela Quero ver é dar um desconto desses nas versões melhores Não gostei e não recomendoi Muito tedioso e cansativo É simplesmente um relato das operações das batalhas retratando sem emoção as atrocidades da guerra Produto chegou Danificado com rasgos e amaçados na caixa q envolve a coleção e os livros estão com as capas riscadas bem decepcionado pois era presente pra minha namorada Considero um livro escrito para idiotas Pésssimo Tive o prazer de queimálo Neste livro a autora escreve uma série de versos que não têm lirismo e não pode se chamar de poesia O livro parece mais a necessidade de fazer “literatura” similar a outras autoras que já publicaram livros similares por uma questão mercantil Há autoras feministas muito melhores que os versos deste livro medíocre Fanfic das mais toscas que já vi Deturpa vários personagens como o Rony e o próprio Harry e os personagens novos são completamente sentido Esperava um livro com técnicas mas não há nada de tecnicas O autor compara o leitor varias vezes mostrando que quem está lendo esse livro não é um bom leitor Joguei dinheiro fora Péssimo livro por que não se alcança o objetivo proposto Conseguir ler um pouco do livro e nesse pouco se vê outros ângulos de verdades históricas ao qual estudamos na escola e muitas concepções sobre a America latina foram mudadas após o livro Mas como disse consegui ler um pouco a diagramação está tão ruim bagunçada disforme que foi ao menos no meu caso continuar a leitura Pior que o livro se encontra perdido meses e a loja não corrige o problema o que teoricamente é muito fácil de se fazer bastava uma atualização Minha única estrela não é referente ao conteúdo do livro e sim sobre este problema relatado e é dado no intuito de que a loja veja e corrija o problema Graças a Deus peguei o livro emprestadopor queputz que final sem graça interminadoesperamos um tempão cheios de expectativa pelo livro e ele é muito ruim com várias questões não finalizadas como Trey e cary o livro de corinne e o epílogo não foi um epilogo a autora deu show de sensualidade nos outros livros e nesse ficou super mornodecepção é a palavra e agora olhando as resenhas fico aliviada por não ter comprado o ebook que está faltando diálogosestava esperando esse final achando que poderia equiparar a autora a E l James ou até mesmo achei que seria melhor que a Série de Grey mas esse final a deixou para trásse a HBO iria fazer a série depois desse final concerteza não vai mais re se for fazer espero que mudem drasticamente o final Desisti em pouco mais de 30 do livro Li os livros sobre os príncipes de Castelanni e amei todos Esse livro tem muitas cenas picantes no início contudo os personagens eram incoerentes Não tive a sensação de que eram pessoas e sentimentos reais É isso que difere um filme erótico de um livro e que tanto encanta as mulheres Nossa que livro ruim Muito mais muito prolixo e chato No começo parece ser interessante mas depois tornase uma coisa extremamente chata O livro é incrível e queria reler Mas o valor cobrado no Brasil pra um Ebook é patético e abusivo HOJE 1398 quase 14 desse valor se for convertido em real na loja americana NDA justifica esse valor exceto querer super faturar A tradução já existe a milênios Vergonha alheia e decepção pela Amazon Só isso q sinto O livro em sim é excelente com imagens muito vivas e extremamente belas sem falar a história em si Vale muito a pena essa aquisição Porém além do atraso que ultimamente vem sendo recorrente por conta da transportadora da Amazon em Teresina Piauí o livro não foi devidamente protegido vindo com amassados nas bordas gostaria que a Amazon desse mais ênfase tanto a isso quanto às transportadoras que não vêem cumprindo com os prazos e desrespeitando o consumidor ao não enviar ninguém para fazer a entrega e ainda por cima dizer que foi feita a tentativa de entrega Confirmo isso porque havia alguém no local da entrega o dia inteiro Sempre comprei livros na edição americana da amazon Fiquei feliz com a amazon chegando ao Brasil mas não consigo entender como os preços dos ebooks podem estar tão altos Voce tem que comprar um kindle e depois ainda pagar mais caro pela versão digital do livro Como isso pode funcionar A versão americana fez sucesso de outra forma Espero que mudem a política aqui no Brasil para estimular o consumo de ebooks Esse cara é um completo vaidoso cheio de palavras bonitas mas sem sentido nenhum o livro é cheio de teorias e suposições e só Tirando a parte puramente historica o que outros livros específicos fazem com muito mais eficiência realmente não impressiona em absolutamente em nada Na recomendo a menos que seja pra uma leitura sem nenhum propósito A capa e as páginas próximas a orelha vieram danificadas e essa não é a primeira vez que vem assim A razão nem encosta no pensamento confuso e contraditório Não é um estudioso é apenas um compilador que distorce ao bel prazer e engana aqueles que desconhecem outras obras Ele aposta na ignorância dos seus leitores para tentar construir uma narrativa fática É superficial e conflituoso Nada justifica um elogio Não desperdice seu tempo Um dos livros faltam mais de 40 páginas Ex Pula da pág 140 pra pág 193 Como foi um presente e a pessoa só viu quando estava lendo essa parte perdemos o prazo de devolução Na minha opinião que ainda não sou um leitor assíduo achei o livro muito grande É claro que as informações são riquíssimas e de fácil entendimento mas alguns assuntos sempre se repetiam e por isso essa é a minha nota Para quem ama história eu super recomendo A tradução é péssima e diferente do original A Amazon deveria devolver o dinheiro de quem comprou O nome do tradutor oficial Jorge Candeiras nem aparece Uma enganação Não gostei achei bem diferente do que esperava e as poesias são fortes e negativas não falam sobre amor sobre a vida de um jeito bom fala de uma forma dolorosa e assustadora Fuja desse lixo É um desperdício de tempo inteligência e dinheiro Apesar de ser um indivíduo da espécie Homo sapiens o autor deste livro não é um ser humano com sabedoria A personagem principal parece sofrer de uma espécie de mania de cuidar do outro e não olhar para si personagens como os pais do falecido suicida mudam repentinamente de personalidade muito irreal Livro superficial escrito para impressionar os leitores ignaros que apreciam uma leitura sensacionalista Mistura fatos reais e inverdades Não recomendo Podem me explicar do porquê deste preço pra versão digital Quase o mesmo preço da versão física e mais cara que a versão pocket Qual a jutificativa pra tal abuso Transporte não é nem o papinho de manutenção de software pq isso vc paga uma vez por ano é só uma cópia do que já tem impresso wtf incapaz de conviver com ideias diferentes na academia brasileira resolveu estudar filosofia sozinho Essa sua incapacidade no entanto é algo que marca toda a sua trajetória de vida se traduzindo em uma profunda intolerância a qualquer pensamento divergente do seu É um livro só de exemplos os exemplos são repetitivos leitura pesada entediante É muito marketing para os americanos Autor fez a junção de pesquisas somente Muita gente que comprou esse box reclamou que chegou com algum defeito Achei que o meu viria em perfeito estado mas não veio É bem provável que estava na promoção somente os estragados Nunca mais compro na Amazon Esperei mais desse livro não a hora de ver o final dessa história que me fascinou a autora conseguiu desrtruir o seu próprio trabalho que decepção Frustração resumeA série deveria ter acabado no quarto livro o quinto foi pra encher linguiça dando voltas em assuntos bobosodiei só o lindo do Gidion pra salvar a chatisse da EvaA autora continua com sua escrita inteligente porém deixou muito a desejar Comprei pelos comentários mas não achei que seja tudo isso que dizem São poesias bem curtas algumas bonitas até mas não é um livro que eu guardaria pra sempre muito menos tenha entre meus preferidos Não vale a pena é uma ofensa aos Potterfanaticos De verdade personagens fracos em nada lembram os originais parece que usaram poção polussuco em figurantes que fingem serem personagens O valor do ebook está vergonhoso quero muito mas assim não tem como comprar enquanto não baixar consideravelmente não compro Gostei mais de Sapiens uma leitura mais biológica O livro discute um futuro diferente do que imaginamos nos faz pensar numa outra realidade Rasgos É um livro baseado no fator motivacional e em um apanhado de técnicas um tanto desconexas Há livros e autores muito melhores Anthony Robbins Paul Mackenna etc Entre os brasileiros estão o Augusto Cury o Shinyashiki e o próprio Lair Ribeiro Um tanto confuso e desconexo o autor é muito prolixo em sua escrita talvez para justificar as intermináveis 256 páginas que em uma linguagem mais concisa objetiva e menos cansativa passaria a mesma mensagem em menos de 100 Além disso é exagerado nas promessas que faz Perde fácil para seus concorrentes Não gostei da maneira como foi escrita A história fica num vai e vem irritante Mas é uma fórmula Muitos gostam disso a mim não agrada muito No meu caso não empolgou Terminei de ler o livro sem saber dizer o que me acrescentou De toda forma para quem gosta de uma leitura fluida com temas repetitivos pode trazer algumas horas de distração Eu li muitos comentários aqui reclamando da versão para Kindle que era muito ruim com má formatação Eu já peguei livros com ma formatação então não me senti incomodado com isso e comprei O problema é que ele realmente é mau formatado de forma que impossibilita a leitura De verdade Você não consegue ter uma boa leitura de tantas palavras jogadas na tela de qualquer maneira textos alocados em regiões da tela que não fazem o menor sentido e que parecem tentar te impedir de fazer a leitura de tão mau posicionados Eu não recomendo a compra desse livro na versão para Kindle ela é uma ofensa pra quem gasta dinheiro pensando que vai conseguir ler Livro bastante repetitivo onde o autor se promove o tempo todo Não acrescenta muito acredito que é possível aprender o conteúdo do livro através do site do autor em menos de 1 hora evitando o desperdício de tempo na leitura do livro Não vale o preçoNão recebir este kit dos livros dos 50 tons de cinza por favor queria saber o que ouve queria um retorno Me mostrou a não confiar mais nos best sellers Comprem Os Miseráveis de Victor Hugo editado pela COSAC NIFY tradução impecável Vale muito mais a pena Não julgue um livro apenas pela capa O mesmo vale para Crime e Castigo da Martin Claret Este último indico pela editora 34 A personagem é muito depressiva Sempre que leio fico me sinto contagiado por um baixo astral Não recomendo de forma alguma Na verdade eu queria o livro e não as cartas e o livreto Como foi um presente que dei não posso comentar o produto A melhor edição de A Divina Comédia é da Itatiaia com a magistral tradução de Cristiano Martinsconsiderada a melhor em português uma edição com inúmeras notas de rodapé contextualizando o leitor na época em que o livro foi escrito falando sobre personalidades da época mencionadas no livro as teorias de conspiração apresentando todo o painel político e da sociedade de costumes da época e como se fosse pouco o tradutor ainda fez um minucioso estudo sobre todas as teorias de cosmologia e religiosas apresentadas um trabalho monumental que merece aplausos isso sem falar nas ilustrações incríveis do Gustave Doré que muitas vezes ocupam páginas inteiras Para quem se interessa em ter livro bonitinho na estante compre essa edição quem quer conteúdo procure a da Itatiaia não vão se arrepender Esse box é pura estética com tradução acessível O livro está datado não serve para os dias de hoje os exemplos não se aplicam em um mundo tão complexo como o de hoje além de serem exemplos irrisórios e rasos que funcionam mais como pequenas anedotas do que grandes verdades Comprei por recomendações em sala da aula nunca me agradou e desprezei a literatura de auto ajuda porém muitos dizem não ser de auto ajuda mas é Tente usar os exemplos colocados no livro e você será taxado de bobo ou simplista não funciona no mundo corporativo tão complexo e politico de hoje em dia Descartável Seria o ideal E bebê nenê Que mulher se deixa ser chamada assim E uísque 12 anos como se fosse grande coisa A autora precisa pesquisar o que os realmente ricos e famosos bebem até vai bem nas cenas hot mas com o tempo cansam 10 páginas é muito né Ah E a famosa repetição da palavra bufo Não é o primeiro livro em que encontro esse exagero Como se significasse alguma coisa 50 páginas a menos talvez deixassem o livro mais interessante Incrível e misterioso logo logo vou ler o segundo volume É um livro muito bom aqui em casa tem gente na fila querendo ler Mas eu fui a primeira Péssima editora Comprei este livro há algum tempo e resolvi ler agora O livro tem dezenas de páginas fora de ordem Não posso trocar porque já expirou o prazo para troca Entrei em contato com a editora e fui ignorado Nem respondem aos emails Há várias reclamações sobre este mesmo problema na internet Aconselho a quem for comprar que confira todas as páginas assim que receber o livro porque se você perder o prazo de 7 dias para troca na Amazon não terá nenhum suporte da Leya Atualização 2411 Recebi um novo livro hoje Nem esperava que a Leya fosse enviar um novo exemplar Resolvi manter a reclamação original como um alerta pra futuros compradores Mantenho todas as minhas críticas com relação ao atendimento ao leitor por parte da editora Há muito o que melhorar entretanto apesar da demora e da falta de contato consegui um livro novo sem defeito É uma edição nova O livro está menor e a fonte não é tão escura como das edições anteriores Acho que este novo formato dificulta um pouco a leitura porque a fonte é bem pequena Enviarei fotos da nova edição em breve Mal comecei a ler e já parei é um livro que fala sobre a teoria evolucionista como sou cristã não é o tipo de leitura que eu indicaria Comprei o livro baseado na qtd de avaliações acima da média Resultado Decepção total Livro cheio de clichês e dicas mais rasas que frases motivacionais no facebook Não vale a pena a leitura Comprei esse livro todo seu paguei a fatura e até hoje o livro não chegou😥quero meu livrooooo estou no aguarde a mais de sete meses meu box chegou com alguma bolhas nas capas de alguns livros e a orelha de um dos livros está bem surrada Eu quero saber pq se pagar por um leitor eletrônico se o preço dos elivros forem iguais aos de papel Depois reclamem da pirataria '"
      ]
     },
     "execution_count": 149,
     "metadata": {},
     "output_type": "execute_result"
    }
   ],
   "source": [
    "#Cria uma função que limpa os espaços duplicados\n",
    "#vou utilizar ela na função limpa tudo\n",
    "def limpa_espaco(text):\n",
    "\n",
    "    texto_limpo = ''\n",
    "    lista_palavras_limpas = text.split()\n",
    "    for i in lista_palavras_limpas:\n",
    "        texto_limpo += i\n",
    "        texto_limpo += ' '\n",
    "    \n",
    "    return texto_limpo\n",
    "\n",
    "texto = transforma_em_string(train['Mensagem'])\n",
    "texto = cleanup(texto)\n",
    "texto = limpa_espaco(texto)\n",
    "texto"
   ]
  },
  {
   "cell_type": "code",
   "execution_count": 150,
   "metadata": {},
   "outputs": [],
   "source": [
    "#Criando uma função para remover emoji\n",
    "#vou utilizar ela na função limpa tudo\n",
    "def remove_emoji(text):\n",
    "    text_without_emojis = unidecode(text)\n",
    "    return text_without_emojis"
   ]
  },
  {
   "cell_type": "code",
   "execution_count": 151,
   "metadata": {},
   "outputs": [],
   "source": [
    "#Criando a função de stopwords\n",
    "#vou utilizar ela na função limpa tudo\n",
    "#vai receber o texto limpo pelas outras funções\n",
    "def stopwords(texto):\n",
    "    palavras = word_tokenize(texto, language='portuguese') # Tokenize é analisar palavras individualmente, basicamente\n",
    "    palavras_sem_stopword = []\n",
    "    for palavra in palavras:\n",
    "        if palavra not in stopwordsdic:\n",
    "            palavras_sem_stopword.append(palavra)\n",
    "    # Reúna as palavras sem stopwords em uma string novamente\n",
    "    texto_sem_stopword = ' '.join(palavras_sem_stopword)\n",
    "    return texto_sem_stopword"
   ]
  },
  {
   "cell_type": "code",
   "execution_count": 152,
   "metadata": {},
   "outputs": [],
   "source": [
    "#Criando a função de lematização\n",
    "#vou utilizar ela na função limpa tudo\n",
    "#vai receber o texto limpo pelas outras funções, incluindo limpeza de stopwords\n",
    "\n",
    "def lemmat(texto):\n",
    "\n",
    "    doc = nlp(texto)\n",
    "    lemmat_radicais = []\n",
    "    for radicais in doc:\n",
    "        lemmat_radicais.append(radicais.lemma_)\n",
    "    texto_lemmat = ' '.join(lemmat_radicais)    \n",
    "    return texto_lemmat"
   ]
  },
  {
   "cell_type": "code",
   "execution_count": 153,
   "metadata": {
    "scrolled": false
   },
   "outputs": [
    {
     "name": "stdout",
     "output_type": "stream",
     "text": [
      "asea para quem gostar de poema simples esse e o livro ideal o autora nós fazer refletir sobre algum elemento comum em o vida de o mulher de um jeito bem levar\n"
     ]
    }
   ],
   "source": [
    "# Cria uma função que reúna as funções de limpeza\n",
    "def limpa_tudo(mensagem):\n",
    "    #Aplicando a função de limpeza de pontuação\n",
    "    texto = cleanup(mensagem)\n",
    "    #Deixando tudo em letra minúscula\n",
    "    texto = texto.lower()\n",
    "    \n",
    "    texto = remove_emoji(texto) #Removendo emoji\n",
    "    \n",
    "    texto = limpa_espaco(texto) #Aplicando a função de limpeza de espaço\n",
    "    \n",
    "    #texto = stopwords(texto) #Removendo stopwords\n",
    "    \n",
    "    texto = lemmat(texto)          # removi pois demora muito para classificar \n",
    "    return texto"
   ]
  },
  {
   "cell_type": "code",
   "execution_count": 117,
   "metadata": {},
   "outputs": [
    {
     "data": {
      "text/plain": [
       "0       asea para quem gostar de poema simples esse ...\n",
       "1     quando ver o lancamento pensar que finalmente ...\n",
       "2     e incrivel como esse escritor e intelectual co...\n",
       "3     se de esse pra devolver eu devolver nao e por ...\n",
       "4     futilidade inutilidade desperdicio de papel te...\n",
       "5     o autor tentar mostrar outro lado de o livro b...\n",
       "6     comecar boa istoria em o meio um pouco enrolar...\n",
       "7     bem eu nem saber por onde comecar o historia e...\n",
       "8     menos de o menos nao mais de o mesmo o dica de...\n",
       "9     meu box vir todo detonar fiquei triste porque ...\n",
       "10    o ebook possuir erro de formatacao de capitulo...\n",
       "11    a formatacao em o kindle e ridicular problema ...\n",
       "12    comprar dois livro e o dois vier super amassar...\n",
       "Name: Mensagem Limpa, dtype: object"
      ]
     },
     "execution_count": 117,
     "metadata": {},
     "output_type": "execute_result"
    }
   ],
   "source": [
    "#Cria uma função que limpa as linhas da planilha e adiciona uma colina com as mensagens limpas à planilha\n",
    "def mensagem_limpa(planilha):   #recebe a planilha e cria uma nova planilha com a coluna de mensagem limpa\n",
    "                                # com as frases limpas\n",
    "    planilha_limpa = planilha.copy()\n",
    "    planilha_limpa['Mensagem Limpa'] = [limpa_tudo(x) for x in list(planilha['Mensagem'])]\n",
    "    return planilha_limpa    #retorna a planilha modificada\n",
    "\n",
    "# print(mensagem_limpa(train))\n",
    "\n",
    "# print(train)\n",
    "planilha_limpa = mensagem_limpa(pequena)\n",
    "planilha_limpa['Mensagem Limpa']\n",
    "\n"
   ]
  },
  {
   "cell_type": "code",
   "execution_count": 15,
   "metadata": {},
   "outputs": [],
   "source": [
    "#Cria vocabulário de tudo\n",
    "#recebe a coluna já limpa\n",
    "def cria_vocabulario(coluna_da_planilha_mensagem_limpa):                       #recebe uma coluna da planilha\n",
    "    lista_palavras = transforma_em_string(coluna_da_planilha_mensagem_limpa)\n",
    "    lista_palavras = lista_palavras.split()\n",
    "    return lista_palavras     #devolve uma lista com as palavras separadas\n",
    "\n"
   ]
  },
  {
   "cell_type": "code",
   "execution_count": 16,
   "metadata": {},
   "outputs": [],
   "source": [
    "#Cria função que retorna uma lista sem as palavras repetidas\n",
    "def remove_repeticao(lista):\n",
    "    dic = set(lista)\n",
    "    vocabulario = list(dic)\n",
    "    return vocabulario"
   ]
  },
  {
   "cell_type": "code",
   "execution_count": 17,
   "metadata": {},
   "outputs": [],
   "source": [
    "# Cria uma função que guarda as palavras em pd.Series\n",
    "def cria_pdseries(lista):\n",
    "    tabela = pd.Series(lista)\n",
    "    return tabela\n",
    "\n",
    "#Cria uma função que retorna a frequência absoluta de cada palavra no texto\n",
    "def freq_abs(tabela):\n",
    "    absoluta = tabela.value_counts()\n",
    "    return absoluta\n",
    "\n",
    "#Cria uma função que retorna a frequência relativa de cada palavra no texto\n",
    "def freq_rel(tabela):\n",
    "    relativa = tabela.value_counts(True)\n",
    "    return relativa"
   ]
  },
  {
   "cell_type": "code",
   "execution_count": 18,
   "metadata": {},
   "outputs": [],
   "source": [
    "#Divisão categorias\n",
    "## Cria uma função que recebe a planilha e o target e retorna o total de palavras e as tabelas de frequencia absoluta e relativa, nessa ordem\n",
    "def divisao_categorias(planilha, target):\n",
    "    #Etapa de divisão de categorias    \n",
    "    planilha_limpa= mensagem_limpa(planilha)   \n",
    "    # planilha_limpa = planilha_limpa[\"Mensagem\"]                   \n",
    "    filtro_target = planilha_limpa.loc[planilha_limpa['Acionável/Direcionável/Não Acionável'] == target]\n",
    "    vocab_target = cria_vocabulario(filtro_target[\"Mensagem\"])\n",
    "    df_vocab_target = cria_pdseries(vocab_target)\n",
    "    freq_rel_target = freq_rel(df_vocab_target)\n",
    "    freq_abs_target = freq_abs(df_vocab_target)\n",
    "    total_target = freq_abs_target.sum()\n",
    "    #criar vocabulario limpo\n",
    "    vocab_target = remove_repeticao(vocab_target)\n",
    "    return total_target, freq_abs_target, freq_rel_target, vocab_target"
   ]
  },
  {
   "cell_type": "code",
   "execution_count": 19,
   "metadata": {},
   "outputs": [],
   "source": [
    "## Função que recebe a planilha e retorna:\n",
    "# o total de palavras com repetição [0] (int)\n",
    "# a tabela com a frequência absoluta de cada palavra na planilha [1] (Series)\n",
    "# a tabela com a frequência relativa de cada palavra na planilha [2] (Series)\n",
    "# a lista com todas as palavras da planilha sem repetição [3] (list)\n",
    "def divisao_planilhas(planilha):\n",
    "\n",
    "    planilha_limpa= mensagem_limpa(planilha)                      #cria coluna \"Mensagem Limpa\"\n",
    "    planilha_limpa = planilha_limpa[\"Mensagem\"]                   #separa só a coluna \"Mensagem Limpa\"\n",
    "    \n",
    "    vocab_planilha = cria_vocabulario(planilha_limpa)             #lista de palavras na coluna \"Mensagem Limpa\"\n",
    "    df_vocab_planilha = cria_pdseries(vocab_planilha)       #coloca essa lista em um df\n",
    "\n",
    "    freq_abs_planilha = freq_abs(df_vocab_planilha)         #calcula a frequência absoluta de cada palavra\n",
    "    freq_rel_planilha = freq_rel(df_vocab_planilha)         #calcula a frequência relativa de cada palavra\n",
    "\n",
    "    total_planilha = freq_abs_planilha.sum()                #calcula o total de palavras com repetição\n",
    "\n",
    "    vocab_planilha = remove_repeticao(vocab_planilha)\n",
    "\n",
    "    return total_planilha, freq_abs_planilha, freq_rel_planilha, vocab_planilha\n",
    "\n",
    "# divisao_planilhas(pequena)\n"
   ]
  },
  {
   "cell_type": "code",
   "execution_count": 20,
   "metadata": {},
   "outputs": [],
   "source": [
    "#Função de Suavização de LaPlace\n",
    "\n",
    "#vou criar um dicionário com todas as palavras e seus valores de \n",
    "# probabilidade dado target já suavizados\n",
    "# aí vai ficar mais rapido de encontrar os valores\n",
    "# do que ter que suavizar pra cada palavra toda vez\n",
    "# que chamar o loop\n",
    "\n",
    "def suaviza_target (planilha, target):\n",
    "    planilha_limpa = mensagem_limpa(planilha)\n",
    "    coluna_limpa = planilha_limpa[\"Mensagem\"]\n",
    "    \n",
    "    #extraindo dados da planilha\n",
    "    dados_target = divisao_categorias(planilha, target)\n",
    "    frequencias_absolutas = dados_target[1]\n",
    "    qtdd_palavras = dados_target[0]                  #quantidade de palavras no target informado\n",
    "    qtdd_palavras_sem_repeticao = len(dados_target[3]) #quantidade de palavras sem repetição no target informado\n",
    "    \n",
    "    dic = {}   #dicionario com chave de palavra e valor probabilidade condicional\n",
    "    \n",
    "    for frase in coluna_limpa:\n",
    "        frase = frase.split()\n",
    "        for palavra in frase:\n",
    "            if palavra not in dic:\n",
    "                if palavra in frequencias_absolutas:\n",
    "                    freq_abs_palavra = frequencias_absolutas[palavra]\n",
    "                    Prob_palavra_dado_target = (freq_abs_palavra + 1)/(qtdd_palavras + qtdd_palavras_sem_repeticao)\n",
    "                    dic[palavra] = Prob_palavra_dado_target\n",
    "                else:\n",
    "                    freq_abs_palavra = 0\n",
    "                    Prob_palavra_dado_target = (freq_abs_palavra + 1)/(qtdd_palavras + qtdd_palavras_sem_repeticao)\n",
    "                    dic[palavra]= Prob_palavra_dado_target\n",
    "\n",
    "    return dic\n",
    "    \n",
    "    \n",
    "# suaviza_target(train, \"N\")\n",
    "\n",
    "\n",
    "# exemplo de como usar\n",
    "# print(suavizacao(\"absurdo\", \"N\", train))"
   ]
  },
  {
   "cell_type": "code",
   "execution_count": 109,
   "metadata": {},
   "outputs": [
    {
     "data": {
      "text/plain": [
       "1.3327760653583652e-19"
      ]
     },
     "execution_count": 109,
     "metadata": {},
     "output_type": "execute_result"
    }
   ],
   "source": [
    "# Calculando probabilidade da frase dado target\n",
    "\n",
    "#consegui otimizar\n",
    "# recebe uma frase qualquer (precisa estar limpa)\n",
    "def frase_dado_target(frase, target, planilha):\n",
    "    \n",
    "    prob_frase_dado_classe = 1\n",
    "    # frase = limpa_tudo(frase)\n",
    "    frase =  frase.split()\n",
    "    dic_probabilidades_por_classe = suaviza_target(planilha, target)   #dicionario com as palavras e suas probabilidades condicionais\n",
    "    for palavra in frase:\n",
    "        if palavra in dic_probabilidades_por_classe:\n",
    "            prob_palavra_dado_classe = dic_probabilidades_por_classe[palavra]\n",
    "            prob_frase_dado_classe *= prob_palavra_dado_classe\n",
    "        else:\n",
    "            prob_palavra_dado_classe = 1    #ta ignorando, dizendo que a probabilidade de palavra nao faz diferença \n",
    "            #talvez isso aqui esteja bem incorreto\n",
    "            prob_frase_dado_classe *= prob_palavra_dado_classe\n",
    "    return prob_frase_dado_classe\n",
    "\n",
    "\n",
    "frase_dado_target(\"gosta poemas simples livro ideal autora faz re...\t\", \"N\", planilha_limpa)"
   ]
  },
  {
   "cell_type": "code",
   "execution_count": 22,
   "metadata": {},
   "outputs": [],
   "source": [
    "#agora tem que otimizar essa função de classificador\n",
    "\n",
    "def classificador(frase, planilha):\n",
    "    \n",
    "    #Extraindo as informações\n",
    "    total_planilha_N = divisao_categorias(planilha, \"N\")[0]\n",
    "    total_planilha_D = divisao_categorias(planilha, \"D\")[0]\n",
    "    total_planilha_A = divisao_categorias(planilha, \"A\")[0]\n",
    "    total_planilha = divisao_planilhas(planilha)[0]\n",
    "    \n",
    "    #Cálculo das probabilidades\n",
    "    P_frase_dado_A = frase_dado_target(frase, \"A\", planilha)\n",
    "    P_frase_dado_D = frase_dado_target(frase, \"D\", planilha)\n",
    "    P_frase_dado_N = frase_dado_target(frase, \"N\", planilha)\n",
    "    P_N = total_planilha_N/total_planilha         #probabilidade de estar na categoria N\n",
    "    P_D = total_planilha_D/total_planilha         #probabilidade de estar na categoria D\n",
    "    P_A = total_planilha_A/total_planilha         #probabilidade de estar na categoria A\n",
    "    P_A_dado_frase = P_frase_dado_A*P_A \n",
    "    P_N_dado_frase = P_frase_dado_N*P_N\n",
    "    P_D_dado_frase = P_frase_dado_D*P_D\n",
    "    print(P_A, P_D, P_N)\n",
    "        \n",
    "    #Classificação\n",
    "    if P_A_dado_frase > P_D_dado_frase and P_A_dado_frase > P_N_dado_frase:\n",
    "        return \"A\"\n",
    "    elif P_D_dado_frase > P_N_dado_frase and P_D_dado_frase > P_A_dado_frase:\n",
    "        return \"D\"\n",
    "    elif P_N_dado_frase > P_D_dado_frase and P_N_dado_frase > P_A_dado_frase:\n",
    "        return \"N\"\n",
    "    else:\n",
    "        return \"Houve um impasse\"\n",
    "    \n",
    "    \n",
    "\n",
    "\n",
    "    \n",
    "    \n",
    "    \n"
   ]
  },
  {
   "cell_type": "code",
   "execution_count": 23,
   "metadata": {},
   "outputs": [],
   "source": [
    "#TENTATIVA DE OTIMIZAR\n",
    "#cria um dic com probabilidade de frase dado target para todas as frases\n",
    "\n",
    "def dic_prob_frase_dado_target(planilha_limpa, target):\n",
    "    dic_prob_frase_dado_target = {}\n",
    "    #cria uma planilha com o filtro aplicado\n",
    "    for frase in planilha_limpa[\"Mensagem\"]:\n",
    "        prob_frase_dado_target = frase_dado_target(frase, target, planilha_limpa)\n",
    "        if frase not in dic_prob_frase_dado_target:\n",
    "            dic_prob_frase_dado_target[frase] = prob_frase_dado_target\n",
    "    return dic_prob_frase_dado_target\n",
    "\n",
    "def classifica_por_dic(planilha_limpa):\n",
    "    dic_prob_frase_dado_N = dic_prob_frase_dado_target(planilha_limpa, \"N\")\n",
    "    dic_prob_frase_dado_A = dic_prob_frase_dado_target(planilha_limpa, \"A\")\n",
    "    dic_prob_frase_dado_D = dic_prob_frase_dado_target(planilha_limpa, \"D\")\n",
    "    total_planilha_N = divisao_categorias(planilha_limpa, \"N\")[0]\n",
    "    total_planilha_D = divisao_categorias(planilha_limpa, \"D\")[0]\n",
    "    total_planilha_A = divisao_categorias(planilha_limpa, \"A\")[0]\n",
    "    total_planilha = divisao_planilhas(planilha_limpa)[0]\n",
    "    \n",
    "    \n",
    "    \n",
    "    \n",
    "    \n",
    "    \n",
    "\n",
    "# def classificador(frase, planilha_limpa, dic_prob_frase_dado_A, dic_prob_frase_dado_D, dic_prob_frase_dado_N):\n",
    "#     total_train_N = divisao_categorias(planilha_limpa, \"N\")[0]\n",
    "#     total_train_D = divisao_categorias(planilha_limpa, \"D\")[0]\n",
    "#     total_train_A = divisao_categorias(planilha_limpa, \"A\")[0]\n",
    "#     total_train = divisao_planilhas(train)[0]\n",
    "#     if frase in dic_prob_frase_dado_A:\n",
    "#         P_A_dado_frase = dic_prob_frase_dado_A[frase]*\n",
    "\n",
    "# dic_prob_frase_dado_N = dic_prob_frase_dado_target(planilha_limpa, \"N\")\n",
    "# dic_prob_frase_dado_A = dic_prob_frase_dado_target(planilha_limpa, \"A\")\n",
    "# dic_prob_frase_dado_D = dic_prob_frase_dado_target(planilha_limpa, \"D\")\n",
    "    \n",
    "    \n",
    "#     dic = dic_prob_frase_dado_target(planilha_limpa, target)\n",
    "    \n",
    "\n",
    "# print(dic_prob_frase_dado_N)\n",
    "# print(dic_prob_frase_dado_A)\n",
    "# print(dic_prob_frase_dado_D)"
   ]
  },
  {
   "cell_type": "markdown",
   "metadata": {},
   "source": [
    "Calculando as informações da base de treino"
   ]
  },
  {
   "cell_type": "code",
   "execution_count": 24,
   "metadata": {},
   "outputs": [],
   "source": [
    "####-  DIVISÃO CATEGORIAS TREINO  -####\n",
    "\n",
    "#--- categoria Não Acionável\n",
    "# total_train_N = divisao_categorias(train, \"N\")[0]         #Quantidade total de palavras (incluindo as repetições)\n",
    "# freq_abs_train_N = divisao_categorias(train, \"N\")[1]      #Tabela com as frequencias absolutas das palavras\n",
    "# freq_rel_train_N = divisao_categorias(train, \"N\")[2]      #Tabela com as frequencias relativas das palavras\n",
    "# vocab_train_N = divisao_categorias(train, \"N\")[3]         #Vocabulario de todas as palavras dessa classificação (SEM as repetições)\n",
    "\n",
    "# #--- categoria Direcionável\n",
    "# total_train_D = divisao_categorias(train, \"D\")[0]\n",
    "# freq_abs_train_D = divisao_categorias(train, \"D\")[1]\n",
    "# freq_rel_train_D = divisao_categorias(train, \"D\")[2]\n",
    "# vocab_train_D = divisao_categorias(train, \"D\")[3]              \n",
    "\n",
    "# #--- categoria Acionável\n",
    "# total_train_A = divisao_categorias(train, \"A\")[0]\n",
    "# freq_abs_train_A = divisao_categorias(train, \"A\")[1]\n",
    "# freq_rel_train_A = divisao_categorias(train, \"A\")[2]\n",
    "# vocab_train_A = divisao_categorias(train, \"A\")[3]       \n",
    "\n",
    "# #--- Todas as palavras\n",
    "# total_train = divisao_planilhas(train)[0]\n",
    "# freq_abs_train = divisao_planilhas(train)[1]\n",
    "# freq_rel_train = divisao_planilhas(train)[2]\n",
    "# vocab_train = divisao_planilhas(train)[3]\n",
    "\n",
    "# #### Guardando as palavras em um pd.Series\n",
    "# todas_palavras_train = cria_pdseries(vocab_train)\n",
    "# palavras_train_A = cria_pdseries(vocab_train_A)\n",
    "# palavras_train_N = cria_pdseries(vocab_train_N)\n",
    "# palavras_train_D = cria_pdseries(vocab_train_D)\n",
    "\n",
    "####- PROBABILIDADES DAS CATEGORIAS TREINO -####\n",
    "# prob_trein_N = total_train_N/total_train         #probabilidade de estar na categoria N\n",
    "# prob_trein_D = total_train_D/total_train         #probabilidade de estar na categoria D\n",
    "# prob_trein_A = total_train_A/total_train         #probabilidade de estar na categoria A\n",
    "\n",
    "# prob_trein_N + prob_trein_A + prob_trein_D       #conferindo\n"
   ]
  },
  {
   "cell_type": "markdown",
   "metadata": {},
   "source": [
    "Palavras da base de teste"
   ]
  },
  {
   "cell_type": "code",
   "execution_count": 25,
   "metadata": {},
   "outputs": [],
   "source": [
    "# ####-  DIVISÃO CATEGORIAS TESTE  -####\n",
    "\n",
    "# #--- categoria Não Acionável\n",
    "# total_test_N = divisao_categorias(test, \"N\")[0]         #Quantidade total de palavras (incluindo as repetições)\n",
    "# freq_abs_test_N = divisao_categorias(test, \"N\")[1]      #Tabela com as frequencias absolutas\n",
    "# freq_rel_test_N = divisao_categorias(test, \"N\")[2]      #Tabela com as frequencias relativas\n",
    "# vocab_test_N = divisao_categorias(test, \"N\")[3]         #vocabulario com as palavras dessa categoria (SEM as repetições)\n",
    "\n",
    "# #--- categoria Direcionável\n",
    "# total_test_D = divisao_categorias(test, \"D\")[0]         \n",
    "# freq_abs_test_D = divisao_categorias(test, \"D\")[1]\n",
    "# freq_rel_test_D = divisao_categorias(test, \"D\")[2]\n",
    "# vocab_test_D = divisao_categorias(test, \"D\")[3]  \n",
    "\n",
    "# #--- categoria Acionável\n",
    "# total_test_A = divisao_categorias(test, \"A\")[0]\n",
    "# freq_abs_test_A = divisao_categorias(test, \"A\")[1]\n",
    "# freq_rel_test_A = divisao_categorias(test, \"A\")[2]\n",
    "# vocab_test_A = divisao_categorias(test, \"A\")[3]  \n",
    "\n",
    "# #--- Todas as palavras\n",
    "# total_test = divisao_planilhas(test)[0]\n",
    "# freq_abs_test = divisao_planilhas(test)[1]\n",
    "# freq_rel_test = divisao_planilhas(test)[2]\n",
    "# vocab_test = divisao_planilhas(test)[3]\n",
    "\n",
    "# #### Guardando as palavras em um pd.Series\n",
    "# todas_palavras_test = cria_pdseries(vocab_test)         #cria um dataframe com todas as palavras da planilha de teste\n",
    "# palavras_test_A = cria_pdseries(vocab_test_A)           #cria um df com todas as palavras do target acionavel\n",
    "# palavras_test_N = cria_pdseries(vocab_test_N)           #cria um df com todas as palavras do target nao acionavel\n",
    "# palavras_test_D = cria_pdseries(vocab_test_D)           #cria um df com todas as palvras do target direcionavel\n",
    "# \"\"\"EXPLICAÇÕES\n",
    "# vocab_df [lista] = palavras já limpas\n",
    "\n",
    "# df_vocab_df [tabela] = transforma o vocab_df em tabela\n",
    "\n",
    "# freq_rel_df [tabela] = frequencia relativa de cada palavra\n",
    "# freq_abs_df [tabela] = 1\n",
    "# total_df [int] = quantidade total de palavras\n",
    "# \"\"\"\n",
    "# ####- PROBABILIDADES DAS CATEGORIAS TESTE -####\n",
    "# prob_test_N = total_test_N/total_test    #probabilidade de estar na categoria N\n",
    "# prob_test_D = total_test_D/total_test    #probabilidade de estar na categoria D\n",
    "# prob_test_A = total_test_A/total_test    #probabilidade de estar na categoria A\n",
    "\n",
    "# prob_test_A + prob_test_D + prob_test_N  #conferindo"
   ]
  },
  {
   "cell_type": "markdown",
   "metadata": {},
   "source": [
    "___\n",
    "### Verificando a performance do Classificador\n",
    "\n",
    "Agora você deve testar o seu classificador com a base de Testes."
   ]
  },
  {
   "cell_type": "code",
   "execution_count": 26,
   "metadata": {},
   "outputs": [
    {
     "name": "stdout",
     "output_type": "stream",
     "text": [
      "0.07349081364829396 0.19291338582677164 0.7335958005249343\n",
      "0.07349081364829396 0.19291338582677164 0.7335958005249343\n",
      "0.07349081364829396 0.19291338582677164 0.7335958005249343\n",
      "0.07349081364829396 0.19291338582677164 0.7335958005249343\n",
      "0.07349081364829396 0.19291338582677164 0.7335958005249343\n",
      "0.07349081364829396 0.19291338582677164 0.7335958005249343\n",
      "0.07349081364829396 0.19291338582677164 0.7335958005249343\n",
      "0.07349081364829396 0.19291338582677164 0.7335958005249343\n",
      "0.07349081364829396 0.19291338582677164 0.7335958005249343\n",
      "0.07349081364829396 0.19291338582677164 0.7335958005249343\n",
      "0.07349081364829396 0.19291338582677164 0.7335958005249343\n"
     ]
    },
    {
     "name": "stdout",
     "output_type": "stream",
     "text": [
      "0.07349081364829396 0.19291338582677164 0.7335958005249343\n",
      "0.07349081364829396 0.19291338582677164 0.7335958005249343\n",
      "                                             Mensagem  \\\n",
      "0   Para quem gosta de poemas simples, esse é o li...   \n",
      "1   Quando vi o lançamento pensei que finalmente p...   \n",
      "2   É incrível como esses escritores e \"intelectua...   \n",
      "3   Se desse pra devolver eu devolvia, nao é por e...   \n",
      "4   Futilidade, inutilidade, desperdício de papel,...   \n",
      "5   O autor tenta mostrar outro lado do livro, bus...   \n",
      "6   Começou boa istoria, no meio um pouco enrolado...   \n",
      "7   Bem, eu nem sei por onde começar. A história é...   \n",
      "8   Menos do menos, não mais do mesmo. As dicas da...   \n",
      "9   Meu box veio todo detonado. Fiquei triste porq...   \n",
      "10  O e-book possui erro de formatação de capítulo...   \n",
      "11  a formatação no Kindle é ridícula, problema an...   \n",
      "12  Comprei dois livros e os dois vieram super ama...   \n",
      "\n",
      "   Acionável/Direcionável/Não Acionável  \\\n",
      "0                                     N   \n",
      "1                                     D   \n",
      "2                                     N   \n",
      "3                                     N   \n",
      "4                                     N   \n",
      "5                                     N   \n",
      "6                                     N   \n",
      "7                                     N   \n",
      "8                                     N   \n",
      "9                                     A   \n",
      "10                                    D   \n",
      "11                                    D   \n",
      "12                                    A   \n",
      "\n",
      "                                       Mensagem Limpa Classificador Automático  \n",
      "0   gosta poemas simples livro ideal autora faz re...                        A  \n",
      "1   vi lancamento pensei finalmente poderia livrar...                        A  \n",
      "2   incrivel escritores intelectuais colocam crist...                        A  \n",
      "3   desse pra devolver devolvia nao nao pensar igu...                        A  \n",
      "4   futilidade inutilidade desperdicio papel tempo...                        A  \n",
      "5   autor tenta mostrar outro lado livro buscando ...                        A  \n",
      "6   comecou boa istoria meio pouco enrolado embrom...                        A  \n",
      "7   bem sei onde comecar historia representacao ma...                        A  \n",
      "8   menos menos nao dicas obra sao lugarcomum nao ...                        A  \n",
      "9   box veio todo detonado fiquei triste porque nu...                        A  \n",
      "10  ebook possui erro formatacao capitulos capitul...                        A  \n",
      "11  formatacao kindle ridicula problema antigo nao...                        A  \n",
      "12  comprei dois livros dois vieram super amassado...                        A  \n"
     ]
    }
   ],
   "source": [
    "## Fazer meu classificador classificar todas as frases da planilha de teste\n",
    "\n",
    "pequena_limpa = mensagem_limpa(pequena)\n",
    "\n",
    "\n",
    "def classifica_planilha(planilha):\n",
    "    avaliacoes_limpas = planilha[\"Mensagem\"]\n",
    "    planilha_limpa = planilha.copy()\n",
    "    \n",
    "    \n",
    "    # Criar uma lista para armazenar os resultados do classificador\n",
    "    resultados = []\n",
    "\n",
    "    for frase in avaliacoes_limpas:\n",
    "        resultado = classificador(frase, planilha)\n",
    "        resultados.append(resultado)\n",
    "        \n",
    "        # print(frase)\n",
    "    \n",
    "\n",
    "    # Atribuir a lista de resultados à coluna 'Classificador Automático'\n",
    "    planilha_limpa['Classificador Automático'] = resultados\n",
    "    \n",
    "    return planilha_limpa\n",
    "\n",
    "    \n",
    "\n",
    "planilha_com_classificador_aplicado = classifica_planilha(pequena_limpa)\n",
    "print(planilha_com_classificador_aplicado)\n"
   ]
  },
  {
   "cell_type": "code",
   "execution_count": 27,
   "metadata": {},
   "outputs": [
    {
     "name": "stdout",
     "output_type": "stream",
     "text": [
      "(15.384615384615385, 2, 13, 0)\n"
     ]
    }
   ],
   "source": [
    "#verificando a acurácia\n",
    "\n",
    "\n",
    "def verifica_performance(planilha):\n",
    "\n",
    "    count_comparativo = (planilha['Acionável/Direcionável/Não Acionável'] == planilha['Classificador Automático']).sum() # Conta quantos valores nas duas são correspondentes\n",
    "    total_elementos = len(planilha) #Total de linhas\n",
    "    total_impasses = (planilha['Classificador Automático'] == 'Houve um impasse').sum()\n",
    "\n",
    "    porcentagem_concordancia = (count_comparativo / total_elementos) * 100\n",
    "    \n",
    "    return porcentagem_concordancia, count_comparativo, total_elementos, total_impasses\n",
    "\n",
    "print(verifica_performance(planilha_com_classificador_aplicado))\n",
    "\n"
   ]
  },
  {
   "cell_type": "code",
   "execution_count": null,
   "metadata": {},
   "outputs": [],
   "source": []
  },
  {
   "cell_type": "code",
   "execution_count": null,
   "metadata": {},
   "outputs": [],
   "source": []
  },
  {
   "cell_type": "markdown",
   "metadata": {},
   "source": [
    "___\n",
    "### Concluindo"
   ]
  },
  {
   "cell_type": "code",
   "execution_count": null,
   "metadata": {},
   "outputs": [],
   "source": []
  },
  {
   "cell_type": "code",
   "execution_count": null,
   "metadata": {},
   "outputs": [],
   "source": []
  },
  {
   "cell_type": "code",
   "execution_count": null,
   "metadata": {},
   "outputs": [],
   "source": []
  },
  {
   "cell_type": "markdown",
   "metadata": {},
   "source": [
    "___\n",
    "### Qualidade do Classificador a partir de novas separações dos tweets entre Treinamento e Teste\n",
    "\n",
    "Caso for fazer esse item do Projeto"
   ]
  },
  {
   "cell_type": "code",
   "execution_count": null,
   "metadata": {},
   "outputs": [],
   "source": []
  },
  {
   "cell_type": "code",
   "execution_count": null,
   "metadata": {},
   "outputs": [],
   "source": []
  },
  {
   "cell_type": "code",
   "execution_count": null,
   "metadata": {},
   "outputs": [],
   "source": []
  },
  {
   "cell_type": "markdown",
   "metadata": {},
   "source": [
    "___\n",
    "## Aperfeiçoamento:\n",
    "\n",
    "Trabalhos que conseguirem pelo menos conceito B vão evoluir em conceito dependendo da quantidade de itens avançados:\n",
    "\n",
    "* IMPLEMENTOU outras limpezas e transformações que não afetem a qualidade da informação contida nos tweets. Ex: stemming, lemmatization, stopwords\n",
    "* CONSIDEROU mais de duas categorias na variável Target e INCREMENTOU a quantidade de notícias, mantendo pelo menos 250 notícias por categoria (OBRIGATÓRIO PARA TRIOS, sem contar como item avançado)\n",
    "* Para Target com duas categorias: CRIOU pelo menos quatro categorias intermediárias de relevância baseadas na probabilidade: ex.: muito relevante, relevante, neutro, irrelevante, muito irrelevante\n",
    "* EXPLICOU porquê não pode usar o próprio classificador para gerar mais amostras de treinamento\n",
    "* PROPÔS diferentes cenários para Naïve Bayes fora do contexto do projeto (pelo menos dois cenários, exceto aqueles já apresentados em sala pelos professores: por exemplo, filtro de spam)\n",
    "* SUGERIU e EXPLICOU melhorias reais com indicações concretas de como implementar (indicar como fazer e indicar material de pesquisa)\n",
    "* FEZ o item Qualidade do Classificador a partir de novas separações das Notícias entre Treinamento e Teste descrito no enunciado do projeto (OBRIGATÓRIO para conceitos A ou A+)"
   ]
  },
  {
   "cell_type": "markdown",
   "metadata": {},
   "source": [
    "___\n",
    "## Referências"
   ]
  },
  {
   "cell_type": "markdown",
   "metadata": {},
   "source": [
    "[Naive Bayes and Text Classification](https://arxiv.org/pdf/1410.5329.pdf)  **Mais completo**\n",
    "\n",
    "[A practical explanation of a Naive Bayes Classifier](https://monkeylearn.com/blog/practical-explanation-naive-bayes-classifier/) **Mais simples**"
   ]
  },
  {
   "cell_type": "markdown",
   "metadata": {},
   "source": [
    "Dica: apresentar um grafico com testes mostrando quais limpezas melhoraram a acurácia do nosso classificador (lemmatization, stopwords, etc)\n",
    "\n",
    "REtirar algumas palavras para ver se melhora a qualidade do classificador (exemplo palavra não)"
   ]
  },
  {
   "cell_type": "code",
   "execution_count": null,
   "metadata": {},
   "outputs": [],
   "source": []
  },
  {
   "cell_type": "code",
   "execution_count": null,
   "metadata": {},
   "outputs": [],
   "source": []
  }
 ],
 "metadata": {
  "kernelspec": {
   "display_name": "Python 3 (ipykernel)",
   "language": "python",
   "name": "python3"
  },
  "language_info": {
   "codemirror_mode": {
    "name": "ipython",
    "version": 3
   },
   "file_extension": ".py",
   "mimetype": "text/x-python",
   "name": "python",
   "nbconvert_exporter": "python",
   "pygments_lexer": "ipython3",
   "version": "3.11.5"
  }
 },
 "nbformat": 4,
 "nbformat_minor": 4
}

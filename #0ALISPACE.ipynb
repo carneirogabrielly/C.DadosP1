{
 "cells": [
  {
   "cell_type": "markdown",
   "metadata": {},
   "source": [
    "# Projeto 1 - Ciência dos Dados"
   ]
  },
  {
   "cell_type": "markdown",
   "metadata": {},
   "source": [
    "Nome: Alison Araujo\n",
    "\n",
    "Nome: Gabrielly Carneiro"
   ]
  },
  {
   "cell_type": "markdown",
   "metadata": {},
   "source": [
    "Atenção: Serão permitidos grupos de três pessoas, mas com uma rubrica mais exigente. Grupos deste tamanho precisarão fazer um questionário de avaliação de trabalho em equipe"
   ]
  },
  {
   "cell_type": "markdown",
   "metadata": {},
   "source": [
    "___\n",
    "Carregando algumas bibliotecas:"
   ]
  },
  {
   "cell_type": "code",
   "execution_count": 18,
   "metadata": {},
   "outputs": [
    {
     "name": "stderr",
     "output_type": "stream",
     "text": [
      "[nltk_data] Downloading package punkt to\n",
      "[nltk_data]     C:\\Users\\gabri\\AppData\\Roaming\\nltk_data...\n",
      "[nltk_data]   Package punkt is already up-to-date!\n",
      "[nltk_data] Downloading package stopwords to\n",
      "[nltk_data]     C:\\Users\\gabri\\AppData\\Roaming\\nltk_data...\n",
      "[nltk_data]   Package stopwords is already up-to-date!\n",
      "[nltk_data] Error loading word_tokenize: Package 'word_tokenize' not\n",
      "[nltk_data]     found in index\n"
     ]
    }
   ],
   "source": [
    "%matplotlib inline\n",
    "import pandas as pd\n",
    "import matplotlib.pyplot as plt\n",
    "import numpy as np\n",
    "import os\n",
    "import re\n",
    "from unidecode import unidecode\n",
    "import nltk\n",
    "from nltk.corpus import stopwords\n",
    "from nltk.tokenize import word_tokenize\n",
    "nltk.download('punkt')\n",
    "nltk.download('stopwords')\n",
    "nltk.download('word_tokenize')\n",
    "stopwordsdic = stopwords.words('portuguese')\n",
    "\n",
    "from spacy import load\n",
    "nlp = load('pt_core_news_sm')"
   ]
  },
  {
   "cell_type": "code",
   "execution_count": 19,
   "metadata": {
    "scrolled": false
   },
   "outputs": [
    {
     "name": "stdout",
     "output_type": "stream",
     "text": [
      "Esperamos trabalhar no diretório\n",
      "c:\\Users\\gabri\\OneDrive - Insper - Institudo de Ensino e Pesquisa\\Projeto 1\\C.DadosP1\n"
     ]
    }
   ],
   "source": [
    "print('Esperamos trabalhar no diretório')\n",
    "print(os.getcwd())"
   ]
  },
  {
   "cell_type": "markdown",
   "metadata": {},
   "source": [
    "Carregando a base de dados com os tweets classificados manualmente:"
   ]
  },
  {
   "cell_type": "code",
   "execution_count": 20,
   "metadata": {},
   "outputs": [
    {
     "data": {
      "text/html": [
       "<div>\n",
       "<style scoped>\n",
       "    .dataframe tbody tr th:only-of-type {\n",
       "        vertical-align: middle;\n",
       "    }\n",
       "\n",
       "    .dataframe tbody tr th {\n",
       "        vertical-align: top;\n",
       "    }\n",
       "\n",
       "    .dataframe thead th {\n",
       "        text-align: right;\n",
       "    }\n",
       "</style>\n",
       "<table border=\"1\" class=\"dataframe\">\n",
       "  <thead>\n",
       "    <tr style=\"text-align: right;\">\n",
       "      <th></th>\n",
       "      <th>Mensagem</th>\n",
       "      <th>Acionável (para amazon)/direcionável (para editora)/não acionável(para o autor ou irrelevante)</th>\n",
       "    </tr>\n",
       "  </thead>\n",
       "  <tbody>\n",
       "    <tr>\n",
       "      <th>0</th>\n",
       "      <td>Para quem gosta de poemas simples, esse é o li...</td>\n",
       "      <td>N</td>\n",
       "    </tr>\n",
       "    <tr>\n",
       "      <th>1</th>\n",
       "      <td>Quando vi o lançamento pensei que finalmente p...</td>\n",
       "      <td>D</td>\n",
       "    </tr>\n",
       "    <tr>\n",
       "      <th>2</th>\n",
       "      <td>É incrível como esses escritores e \"intelectua...</td>\n",
       "      <td>N</td>\n",
       "    </tr>\n",
       "    <tr>\n",
       "      <th>3</th>\n",
       "      <td>Se desse pra devolver eu devolvia, nao é por e...</td>\n",
       "      <td>N</td>\n",
       "    </tr>\n",
       "    <tr>\n",
       "      <th>4</th>\n",
       "      <td>Futilidade, inutilidade, desperdício de papel,...</td>\n",
       "      <td>N</td>\n",
       "    </tr>\n",
       "  </tbody>\n",
       "</table>\n",
       "</div>"
      ],
      "text/plain": [
       "                                            Mensagem  \\\n",
       "0  Para quem gosta de poemas simples, esse é o li...   \n",
       "1  Quando vi o lançamento pensei que finalmente p...   \n",
       "2  É incrível como esses escritores e \"intelectua...   \n",
       "3  Se desse pra devolver eu devolvia, nao é por e...   \n",
       "4  Futilidade, inutilidade, desperdício de papel,...   \n",
       "\n",
       "  Acionável (para amazon)/direcionável (para editora)/não acionável(para o autor ou irrelevante)  \n",
       "0                                                  N                                              \n",
       "1                                                  D                                              \n",
       "2                                                  N                                              \n",
       "3                                                  N                                              \n",
       "4                                                  N                                              "
      ]
     },
     "execution_count": 20,
     "metadata": {},
     "output_type": "execute_result"
    }
   ],
   "source": [
    "train = pd.read_excel('dados_treino.xlsx')\n",
    "train.head(5)"
   ]
  },
  {
   "cell_type": "code",
   "execution_count": 21,
   "metadata": {},
   "outputs": [
    {
     "data": {
      "text/html": [
       "<div>\n",
       "<style scoped>\n",
       "    .dataframe tbody tr th:only-of-type {\n",
       "        vertical-align: middle;\n",
       "    }\n",
       "\n",
       "    .dataframe tbody tr th {\n",
       "        vertical-align: top;\n",
       "    }\n",
       "\n",
       "    .dataframe thead th {\n",
       "        text-align: right;\n",
       "    }\n",
       "</style>\n",
       "<table border=\"1\" class=\"dataframe\">\n",
       "  <thead>\n",
       "    <tr style=\"text-align: right;\">\n",
       "      <th></th>\n",
       "      <th>Mensagem</th>\n",
       "      <th>Acionável (para amazon)/direcionável (para editora)/não acionável(autor ou irrelevante)</th>\n",
       "    </tr>\n",
       "  </thead>\n",
       "  <tbody>\n",
       "    <tr>\n",
       "      <th>0</th>\n",
       "      <td>O livro é prolixo, redundante, doentio. Sou su...</td>\n",
       "      <td>N</td>\n",
       "    </tr>\n",
       "    <tr>\n",
       "      <th>1</th>\n",
       "      <td>Bom livro e história envolvente. Porém, o leit...</td>\n",
       "      <td>D</td>\n",
       "    </tr>\n",
       "    <tr>\n",
       "      <th>2</th>\n",
       "      <td>Fala tudo que todos já sabem, sem falar que nã...</td>\n",
       "      <td>N</td>\n",
       "    </tr>\n",
       "    <tr>\n",
       "      <th>3</th>\n",
       "      <td>Ganhei na compra do Kindle. Não é estilo de li...</td>\n",
       "      <td>N</td>\n",
       "    </tr>\n",
       "    <tr>\n",
       "      <th>4</th>\n",
       "      <td>Custa crer que um livro tão medíocre, embora m...</td>\n",
       "      <td>N</td>\n",
       "    </tr>\n",
       "  </tbody>\n",
       "</table>\n",
       "</div>"
      ],
      "text/plain": [
       "                                            Mensagem  \\\n",
       "0  O livro é prolixo, redundante, doentio. Sou su...   \n",
       "1  Bom livro e história envolvente. Porém, o leit...   \n",
       "2  Fala tudo que todos já sabem, sem falar que nã...   \n",
       "3  Ganhei na compra do Kindle. Não é estilo de li...   \n",
       "4  Custa crer que um livro tão medíocre, embora m...   \n",
       "\n",
       "  Acionável (para amazon)/direcionável (para editora)/não acionável(autor ou irrelevante)  \n",
       "0                                                  N                                       \n",
       "1                                                  D                                       \n",
       "2                                                  N                                       \n",
       "3                                                  N                                       \n",
       "4                                                  N                                       "
      ]
     },
     "execution_count": 21,
     "metadata": {},
     "output_type": "execute_result"
    }
   ],
   "source": [
    "test = pd.read_excel('dados_teste.xlsx')\n",
    "test.head(5)"
   ]
  },
  {
   "cell_type": "markdown",
   "metadata": {},
   "source": [
    "___\n",
    "## Classificador automático\n"
   ]
  },
  {
   "cell_type": "markdown",
   "metadata": {},
   "source": [
    "Na primeira etapa, de classificação manual, consideramos três targets para os reviews: Acionável, Direcionável e Não Acionável. \n",
    "\n",
    "- Acionável: para ser considerado \"acionável\" (\"A\") o review deve ser passível de alguma ação pela Amazon, ou seja, o review deve ser sobre entrega, estado do produto, contato com o suporte, etc. \n",
    "- Direcionável: para o target \"direcionável\" (\"D\") foram considerados comentários relativos à editora, como qualidade do material do livro, preço do livro e do e-book, tradução e edição. \n",
    "- Não Acionáveis: por fim, os não acionáveis (\"NA\") eram comentários relativos ao autor, ao apreço pelo conteúdo do livro, ou comentários irrelavantes."
   ]
  },
  {
   "cell_type": "markdown",
   "metadata": {},
   "source": [
    "___\n",
    "### Montando um Classificador Naive-Bayes\n",
    "\n",
    "Considerando apenas as mensagens da planilha Treinamento, ensine  seu classificador."
   ]
  },
  {
   "cell_type": "code",
   "execution_count": 22,
   "metadata": {},
   "outputs": [],
   "source": [
    "#Criar uma função que transforma as frases da planilha em um texto só \n",
    "    #(Será útil para criar o dicionário com as palavras)\n",
    "def transforma_em_string(coluna):\n",
    "    texto = ''\n",
    "    for linha in coluna:\n",
    "        texto += linha + ' '\n",
    "    return texto    "
   ]
  },
  {
   "cell_type": "code",
   "execution_count": 23,
   "metadata": {},
   "outputs": [],
   "source": [
    "#Criar uma função que limpa todas as pontuações\n",
    "def cleanup(text):\n",
    "    punctuation = r'[´\"\\'!-.:?;$,/~^_=+*&¨%$#@|\\{}()[\\]]'\n",
    "    pattern = re.compile(punctuation)\n",
    "    text_subbed = re.sub(pattern, '', text)\n",
    "    return text_subbed"
   ]
  },
  {
   "cell_type": "code",
   "execution_count": 24,
   "metadata": {},
   "outputs": [],
   "source": [
    "#Cria uma função que limpa os espaços duplicados\n",
    "def limpa_espaco(text):\n",
    "    punctuation = r'[\\n]'  # Adicione os caracteres desejados aqui\n",
    "    pattern = re.compile(punctuation)\n",
    "    text_subbed = re.sub(pattern, '', text)\n",
    "    return text_subbed"
   ]
  },
  {
   "cell_type": "code",
   "execution_count": 25,
   "metadata": {},
   "outputs": [],
   "source": [
    "#Criando uma função para remover emoji\n",
    "def remove_emoji(text):\n",
    "    text_without_emojis = unidecode(text)\n",
    "    return text_without_emojis"
   ]
  },
  {
   "cell_type": "code",
   "execution_count": 26,
   "metadata": {},
   "outputs": [],
   "source": [
    "#Criando a função de stopwords\n",
    "def stopwords(texto):\n",
    "    palavras = word_tokenize(texto, language='portuguese') # Tokenize é analisar palavras individualmente, basicamente\n",
    "    palavras_sem_stopword = []\n",
    "    for palavra in palavras:\n",
    "        if palavra not in stopwordsdic:\n",
    "            palavras_sem_stopword.append(palavra)\n",
    "    # Reúna as palavras sem stopwords em uma string novamente\n",
    "    texto_sem_stopword = ' '.join(palavras_sem_stopword)\n",
    "    return texto_sem_stopword"
   ]
  },
  {
   "cell_type": "code",
   "execution_count": 27,
   "metadata": {},
   "outputs": [],
   "source": [
    "#Criando a função de lematização\n",
    "def lemmat(texto):\n",
    "    doc = nlp(texto)\n",
    "    lemmat_radicais = []\n",
    "    for radicais in doc:\n",
    "        lemmat_radicais.append(radicais.lemma_)\n",
    "    texto_lemmat = ' '.join(lemmat_radicais)    \n",
    "    return texto_lemmat"
   ]
  },
  {
   "cell_type": "code",
   "execution_count": 28,
   "metadata": {
    "scrolled": false
   },
   "outputs": [],
   "source": [
    "# Cria uma função que reúna as funções de limpeza\n",
    "def limpa_tudo(mensagem):\n",
    "    #Aplicando a função de limpeza de pontuação\n",
    "    texto = cleanup(mensagem)\n",
    "    #Deixando tudo em letra minúscula\n",
    "    texto = texto.lower()\n",
    "    #Removendo emoji\n",
    "    texto = remove_emoji(texto)\n",
    "    #Aplicando a função de limpeza de espaço\n",
    "    texto = limpa_espaco(texto)\n",
    "    #Removendo stopwords\n",
    "    texto = stopwords(texto)\n",
    "    #Realiza lemmatização\n",
    "#     texto = lemmat(texto)\n",
    "    return texto\n"
   ]
  },
  {
   "cell_type": "code",
   "execution_count": 29,
   "metadata": {},
   "outputs": [],
   "source": [
    "#Cria uma função que limpa as linhas da planilha e adiciona as mensagens limpas à planilha\n",
    "def mensagem_limpa(planilha):   #recebe a planilha e retorna com a coluna de mensagem limpa\n",
    "    planilha['Mensagem Limpa'] = [limpa_tudo(x) for x in list(planilha['Mensagem'])]\n",
    "    return planilha"
   ]
  },
  {
   "cell_type": "code",
   "execution_count": 30,
   "metadata": {},
   "outputs": [],
   "source": [
    "#Cria dicionário de tudo\n",
    "def cria_vocabulario(mensagem):\n",
    "    lista_palavras = transforma_em_string(mensagem)\n",
    "    lista_palavras = limpa_tudo(lista_palavras)\n",
    "    lista_palavras = lista_palavras.split()\n",
    "    return lista_palavras     #devolve uma lista com as palavras separadas"
   ]
  },
  {
   "cell_type": "code",
   "execution_count": 31,
   "metadata": {},
   "outputs": [],
   "source": [
    "#Cria função que retorna uma lista sem as palavras repetidas\n",
    "def remove_repeticao(lista):\n",
    "    dic = set(lista)\n",
    "    vocabulario = list(dic)\n",
    "    return vocabulario"
   ]
  },
  {
   "cell_type": "code",
   "execution_count": 32,
   "metadata": {},
   "outputs": [],
   "source": [
    "# Cria uma função que guarda as palavras em pd.Series\n",
    "def cria_pdseries(lista):\n",
    "    tabela = pd.Series(lista)\n",
    "    return tabela\n",
    "\n",
    "#Cria uma função que retorna a frequência absoluta de cada palavra no texto\n",
    "def freq_abs(tabela):\n",
    "    absoluta = tabela.value_counts()\n",
    "    return absoluta\n",
    "\n",
    "#Cria uma função que retorna a frequência relativa de cada palavra no texto\n",
    "def freq_rel(tabela):\n",
    "    relativa = tabela.value_counts(True)\n",
    "    return relativa"
   ]
  },
  {
   "cell_type": "code",
   "execution_count": 36,
   "metadata": {},
   "outputs": [],
   "source": [
    "################# TESTES #################\n",
    "\n",
    "vocabulario = cria_vocabulario(train.Mensagem)\n",
    "vocabulario = remove_repeticao(vocabulario)\n",
    "df_vocabulario = cria_pdseries(vocabulario)\n",
    "\n",
    "## nessa etapa o que eu fiz foi criar um vocabulário de todas as palavras contidas nas mensagens"
   ]
  },
  {
   "cell_type": "code",
   "execution_count": 37,
   "metadata": {},
   "outputs": [],
   "source": [
    "####-  DIVISÃO CATEGORIAS TREINO  -####\n",
    "\n",
    "#--- categoria Não Acionável\n",
    "train_N = train.loc[train['Acionável (para amazon)/direcionável (para editora)/não acionável(para o autor ou irrelevante)'] == 'N']\n",
    "\n",
    "vocab_train_N = cria_vocabulario(train_N.Mensagem)\n",
    "    #vocab_train_N = remove_repeticao(vocab_train_N)\n",
    "\n",
    "df_vocab_train_N = cria_pdseries(vocab_train_N)\n",
    "\n",
    "freq_rel_train_N = freq_rel(df_vocab_train_N)\n",
    "freq_abs_train_N = freq_abs(df_vocab_train_N)\n",
    "\n",
    "total_train_N = freq_abs_train_N.sum()\n",
    "\n",
    "#--- categoria Direcionável\n",
    "train_D = train.loc[train['Acionável (para amazon)/direcionável (para editora)/não acionável(para o autor ou irrelevante)'] == 'D']\n",
    "\n",
    "vocab_train_D = cria_vocabulario(train_D.Mensagem)\n",
    "    #vocab_train_D = remove_repeticao(vocab_train_D)\n",
    "\n",
    "df_vocab_train_D = cria_pdseries(vocab_train_D)\n",
    "\n",
    "freq_rel_train_D = freq_rel(df_vocab_train_D)\n",
    "freq_abs_train_D = freq_abs(df_vocab_train_D)\n",
    "\n",
    "total_train_D = freq_abs_train_D.sum()\n",
    "\n",
    "#--- categoria Acionável\n",
    "train_A = train.loc[train['Acionável (para amazon)/direcionável (para editora)/não acionável(para o autor ou irrelevante)'] == 'A']\n",
    "\n",
    "vocab_train_A = cria_vocabulario(train_A.Mensagem)\n",
    "    #vocab_train_A = remove_repeticao(vocab_train_A)\n",
    "\n",
    "df_vocab_train_A = cria_pdseries(vocab_train_A)\n",
    "\n",
    "freq_rel_train_A = freq_rel(df_vocab_train_A)\n",
    "freq_abs_train_A = freq_abs(df_vocab_train_A)\n",
    "\n",
    "total_train_A = freq_abs_train_A.sum()"
   ]
  },
  {
   "cell_type": "code",
   "execution_count": 38,
   "metadata": {},
   "outputs": [
    {
     "data": {
      "text/plain": [
       "7419"
      ]
     },
     "execution_count": 38,
     "metadata": {},
     "output_type": "execute_result"
    }
   ],
   "source": [
    "####-  DIVISÃO CATEGORIAS TESTE  -####\n",
    "\n",
    "#--- categoria Não Acionável\n",
    "test_N = test.loc[test['Acionável (para amazon)/direcionável (para editora)/não acionável(autor ou irrelevante)'] == 'N']\n",
    "\n",
    "vocab_test_N = cria_vocabulario(test_N.Mensagem)\n",
    "    #vocab_test_N = remove_repeticao(vocab_test_N)\n",
    "\n",
    "df_vocab_test_N = cria_pdseries(vocab_test_N)\n",
    "\n",
    "freq_rel_test_N = freq_rel(df_vocab_test_N)\n",
    "freq_abs_test_N = freq_abs(df_vocab_test_N)\n",
    "\n",
    "total_test_N = freq_abs_test_N.sum()\n",
    "\n",
    "#--- categoria Direcionável\n",
    "test_D = test.loc[test['Acionável (para amazon)/direcionável (para editora)/não acionável(autor ou irrelevante)'] == 'D']\n",
    "\n",
    "vocab_test_D = cria_vocabulario(test_D.Mensagem)\n",
    "    #vocab_test_D = remove_repeticao(vocab_test_D)\n",
    "\n",
    "df_vocab_test_D = cria_pdseries(vocab_test_D)\n",
    "\n",
    "freq_rel_test_D = freq_rel(df_vocab_test_D)\n",
    "freq_abs_test_D = freq_abs(df_vocab_test_D)\n",
    "\n",
    "total_test_D = freq_abs_test_D.sum()\n",
    "\n",
    "#--- categoria Acionável\n",
    "test_A = test.loc[test['Acionável (para amazon)/direcionável (para editora)/não acionável(autor ou irrelevante)'] == 'A']\n",
    "\n",
    "vocab_test_A = cria_vocabulario(test_A.Mensagem)\n",
    "    #vocab_test_A = remove_repeticao(vocab_test_A)\n",
    "\n",
    "df_vocab_test_A = cria_pdseries(vocab_test_A)\n",
    "freq_rel_test_A = freq_rel(df_vocab_test_A)\n",
    "freq_abs_test_A = freq_abs(df_vocab_test_A)\n",
    "\n",
    "total_test_A = freq_abs_test_A.sum()\n",
    "\n",
    "total_test_A + total_test_D + total_test_N\n"
   ]
  },
  {
   "cell_type": "code",
   "execution_count": 39,
   "metadata": {},
   "outputs": [
    {
     "data": {
      "text/plain": [
       "15675"
      ]
     },
     "execution_count": 39,
     "metadata": {},
     "output_type": "execute_result"
    }
   ],
   "source": [
    "####- TREINO TODAS AS PALAVRAS -####\n",
    "vocab_train = cria_vocabulario(train.Mensagem)\n",
    "#vocab_train = remove_repeticao(vocab_train)\n",
    "\n",
    "df_vocab_train = cria_pdseries(vocab_train)\n",
    "\n",
    "freq_rel_train = freq_rel(df_vocab_train)\n",
    "freq_abs_train = freq_abs(df_vocab_train)\n",
    "\n",
    "total_train = freq_abs_train.sum()\n",
    "total_train"
   ]
  },
  {
   "cell_type": "code",
   "execution_count": 40,
   "metadata": {},
   "outputs": [
    {
     "data": {
      "text/plain": [
       "7419"
      ]
     },
     "execution_count": 40,
     "metadata": {},
     "output_type": "execute_result"
    }
   ],
   "source": [
    "####- TESTE TODAS AS PALAVRAS -####\n",
    "\n",
    "vocab_test = cria_vocabulario(test.Mensagem)\n",
    "#vocab_train = remove_repeticao(vocab_train)\n",
    "\n",
    "df_vocab_test = cria_pdseries(vocab_test)\n",
    "\n",
    "freq_rel_test = freq_rel(df_vocab_test)\n",
    "freq_abs_test = freq_abs(df_vocab_test)\n",
    "\n",
    "total_test = freq_abs_test.sum()\n",
    "total_test\n"
   ]
  },
  {
   "cell_type": "code",
   "execution_count": 41,
   "metadata": {},
   "outputs": [
    {
     "data": {
      "text/plain": [
       "'EXPLICAÇÕES\\nvocab_df [lista] = palavras já limpas\\n\\ndf_vocab_df [tabela] = transforma o vocab_df em tabela\\n\\nfreq_rel_df [tabela] = frequencia relativa de cada palavra\\nfreq_abs_df [tabela] = 1\\ntotal_df [int] = quantidade total de palavras\\n'"
      ]
     },
     "execution_count": 41,
     "metadata": {},
     "output_type": "execute_result"
    }
   ],
   "source": [
    "'''EXPLICAÇÕES\n",
    "vocab_df [lista] = palavras já limpas\n",
    "\n",
    "df_vocab_df [tabela] = transforma o vocab_df em tabela\n",
    "\n",
    "freq_rel_df [tabela] = frequencia relativa de cada palavra\n",
    "freq_abs_df [tabela] = 1\n",
    "total_df [int] = quantidade total de palavras\n",
    "'''"
   ]
  },
  {
   "cell_type": "code",
   "execution_count": 42,
   "metadata": {},
   "outputs": [
    {
     "data": {
      "text/plain": [
       "1.0"
      ]
     },
     "execution_count": 42,
     "metadata": {},
     "output_type": "execute_result"
    }
   ],
   "source": [
    "####- PROBABILIDADES DAS CATEGORIAS TESTE -####\n",
    "prob_test_N = total_test_N/total_test\n",
    "prob_test_D = total_test_D/total_test\n",
    "prob_test_A = total_test_A/total_test\n",
    "\n",
    "prob_test_A + prob_test_D + prob_test_N"
   ]
  },
  {
   "cell_type": "code",
   "execution_count": 43,
   "metadata": {},
   "outputs": [
    {
     "data": {
      "text/plain": [
       "1.0"
      ]
     },
     "execution_count": 43,
     "metadata": {},
     "output_type": "execute_result"
    }
   ],
   "source": [
    "####- PROBABILIDADES DAS CATEGORIAS TREINO -####\n",
    "prob_trein_N = total_train_N/total_train\n",
    "prob_trein_D = total_train_D/total_train\n",
    "prob_trein_A = total_train_A/total_train\n",
    "\n",
    "prob_trein_N + prob_trein_A + prob_trein_D"
   ]
  },
  {
   "cell_type": "markdown",
   "metadata": {},
   "source": [
    "___\n",
    "### Verificando a performance do Classificador\n",
    "\n",
    "Agora você deve testar o seu classificador com a base de Testes."
   ]
  },
  {
   "cell_type": "code",
   "execution_count": null,
   "metadata": {},
   "outputs": [],
   "source": []
  },
  {
   "cell_type": "code",
   "execution_count": null,
   "metadata": {},
   "outputs": [],
   "source": []
  },
  {
   "cell_type": "code",
   "execution_count": null,
   "metadata": {},
   "outputs": [],
   "source": []
  },
  {
   "cell_type": "code",
   "execution_count": null,
   "metadata": {},
   "outputs": [],
   "source": []
  },
  {
   "cell_type": "markdown",
   "metadata": {},
   "source": [
    "___\n",
    "### Concluindo"
   ]
  },
  {
   "cell_type": "code",
   "execution_count": null,
   "metadata": {},
   "outputs": [],
   "source": [
    "#a probabilidade de todas as palavras estarem contidas num texto não é a mesma? "
   ]
  },
  {
   "cell_type": "code",
   "execution_count": null,
   "metadata": {},
   "outputs": [],
   "source": []
  },
  {
   "cell_type": "code",
   "execution_count": null,
   "metadata": {},
   "outputs": [],
   "source": []
  },
  {
   "cell_type": "markdown",
   "metadata": {},
   "source": [
    "___\n",
    "### Qualidade do Classificador a partir de novas separações dos tweets entre Treinamento e Teste\n",
    "\n",
    "Caso for fazer esse item do Projeto"
   ]
  },
  {
   "cell_type": "code",
   "execution_count": null,
   "metadata": {},
   "outputs": [],
   "source": []
  },
  {
   "cell_type": "code",
   "execution_count": null,
   "metadata": {},
   "outputs": [],
   "source": []
  },
  {
   "cell_type": "code",
   "execution_count": null,
   "metadata": {},
   "outputs": [],
   "source": []
  },
  {
   "cell_type": "markdown",
   "metadata": {},
   "source": [
    "___\n",
    "## Aperfeiçoamento:\n",
    "\n",
    "Trabalhos que conseguirem pelo menos conceito B vão evoluir em conceito dependendo da quantidade de itens avançados:\n",
    "\n",
    "* IMPLEMENTOU outras limpezas e transformações que não afetem a qualidade da informação contida nos tweets. Ex: stemming, lemmatization, stopwords\n",
    "* CONSIDEROU mais de duas categorias na variável Target e INCREMENTOU a quantidade de notícias, mantendo pelo menos 250 notícias por categoria (OBRIGATÓRIO PARA TRIOS, sem contar como item avançado)\n",
    "* Para Target com duas categorias: CRIOU pelo menos quatro categorias intermediárias de relevância baseadas na probabilidade: ex.: muito relevante, relevante, neutro, irrelevante, muito irrelevante\n",
    "* EXPLICOU porquê não pode usar o próprio classificador para gerar mais amostras de treinamento\n",
    "* PROPÔS diferentes cenários para Naïve Bayes fora do contexto do projeto (pelo menos dois cenários, exceto aqueles já apresentados em sala pelos professores: por exemplo, filtro de spam)\n",
    "* SUGERIU e EXPLICOU melhorias reais com indicações concretas de como implementar (indicar como fazer e indicar material de pesquisa)\n",
    "* FEZ o item Qualidade do Classificador a partir de novas separações das Notícias entre Treinamento e Teste descrito no enunciado do projeto (OBRIGATÓRIO para conceitos A ou A+)"
   ]
  },
  {
   "cell_type": "markdown",
   "metadata": {},
   "source": [
    "___\n",
    "## Referências"
   ]
  },
  {
   "cell_type": "markdown",
   "metadata": {},
   "source": [
    "[Naive Bayes and Text Classification](https://arxiv.org/pdf/1410.5329.pdf)  **Mais completo**\n",
    "\n",
    "[A practical explanation of a Naive Bayes Classifier](https://monkeylearn.com/blog/practical-explanation-naive-bayes-classifier/) **Mais simples**"
   ]
  },
  {
   "cell_type": "markdown",
   "metadata": {},
   "source": [
    "Dica: apresentar um grafico com testes mostrando quais limpezas melhoraram a acurácia do nosso classificador (lemmatization, stopwords, etc)"
   ]
  },
  {
   "cell_type": "code",
   "execution_count": null,
   "metadata": {},
   "outputs": [],
   "source": []
  },
  {
   "cell_type": "code",
   "execution_count": null,
   "metadata": {},
   "outputs": [],
   "source": []
  }
 ],
 "metadata": {
  "kernelspec": {
   "display_name": "Python 3 (ipykernel)",
   "language": "python",
   "name": "python3"
  },
  "language_info": {
   "codemirror_mode": {
    "name": "ipython",
    "version": 3
   },
   "file_extension": ".py",
   "mimetype": "text/x-python",
   "name": "python",
   "nbconvert_exporter": "python",
   "pygments_lexer": "ipython3",
   "version": "3.11.5"
  }
 },
 "nbformat": 4,
 "nbformat_minor": 4
}

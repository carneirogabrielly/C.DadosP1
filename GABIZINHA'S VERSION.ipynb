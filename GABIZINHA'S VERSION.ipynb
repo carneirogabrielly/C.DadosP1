{
 "cells": [
  {
   "cell_type": "markdown",
   "metadata": {},
   "source": [
    "# Projeto 1 - Ciência dos Dados"
   ]
  },
  {
   "cell_type": "markdown",
   "metadata": {},
   "source": [
    "Nome: Alison Araujo\n",
    "\n",
    "Nome: Gabrielly Carneiro"
   ]
  },
  {
   "cell_type": "markdown",
   "metadata": {},
   "source": [
    "Atenção: Serão permitidos grupos de três pessoas, mas com uma rubrica mais exigente. Grupos deste tamanho precisarão fazer um questionário de avaliação de trabalho em equipe"
   ]
  },
  {
   "cell_type": "markdown",
   "metadata": {},
   "source": [
    "___\n",
    "Carregando algumas bibliotecas:"
   ]
  },
  {
   "cell_type": "code",
   "execution_count": 237,
   "metadata": {},
   "outputs": [
    {
     "name": "stderr",
     "output_type": "stream",
     "text": [
      "[nltk_data] Downloading package punkt to\n",
      "[nltk_data]     C:\\Users\\gabri\\AppData\\Roaming\\nltk_data...\n",
      "[nltk_data]   Package punkt is already up-to-date!\n",
      "[nltk_data] Downloading package stopwords to\n",
      "[nltk_data]     C:\\Users\\gabri\\AppData\\Roaming\\nltk_data...\n",
      "[nltk_data]   Package stopwords is already up-to-date!\n",
      "[nltk_data] Error loading word_tokenize: Package 'word_tokenize' not\n",
      "[nltk_data]     found in index\n"
     ]
    }
   ],
   "source": [
    "%matplotlib inline\n",
    "import pandas as pd\n",
    "import matplotlib.pyplot as plt\n",
    "import numpy as np\n",
    "import os\n",
    "import re\n",
    "from unidecode import unidecode\n",
    "import nltk\n",
    "from nltk.corpus import stopwords\n",
    "from nltk.tokenize import word_tokenize\n",
    "nltk.download('punkt')\n",
    "nltk.download('stopwords')\n",
    "nltk.download('word_tokenize')\n",
    "stopwordsdic = stopwords.words('portuguese')\n",
    "\n",
    "from spacy import load\n",
    "nlp = load('pt_core_news_sm')"
   ]
  },
  {
   "cell_type": "code",
   "execution_count": 238,
   "metadata": {
    "scrolled": false
   },
   "outputs": [
    {
     "name": "stdout",
     "output_type": "stream",
     "text": [
      "Esperamos trabalhar no diretório\n",
      "c:\\Users\\gabri\\OneDrive - Insper - Institudo de Ensino e Pesquisa\\Projeto 1\\C.DadosP1\n"
     ]
    }
   ],
   "source": [
    "print('Esperamos trabalhar no diretório')\n",
    "print(os.getcwd())"
   ]
  },
  {
   "cell_type": "markdown",
   "metadata": {},
   "source": [
    "Carregando a base de dados com os tweets classificados manualmente:"
   ]
  },
  {
   "cell_type": "code",
   "execution_count": 239,
   "metadata": {},
   "outputs": [
    {
     "data": {
      "text/html": [
       "<div>\n",
       "<style scoped>\n",
       "    .dataframe tbody tr th:only-of-type {\n",
       "        vertical-align: middle;\n",
       "    }\n",
       "\n",
       "    .dataframe tbody tr th {\n",
       "        vertical-align: top;\n",
       "    }\n",
       "\n",
       "    .dataframe thead th {\n",
       "        text-align: right;\n",
       "    }\n",
       "</style>\n",
       "<table border=\"1\" class=\"dataframe\">\n",
       "  <thead>\n",
       "    <tr style=\"text-align: right;\">\n",
       "      <th></th>\n",
       "      <th>Mensagem</th>\n",
       "      <th>Acionável/Direcionável/Não Acionável</th>\n",
       "    </tr>\n",
       "  </thead>\n",
       "  <tbody>\n",
       "    <tr>\n",
       "      <th>0</th>\n",
       "      <td>Para quem gosta de poemas simples, esse é o li...</td>\n",
       "      <td>N</td>\n",
       "    </tr>\n",
       "    <tr>\n",
       "      <th>1</th>\n",
       "      <td>Quando vi o lançamento pensei que finalmente p...</td>\n",
       "      <td>D</td>\n",
       "    </tr>\n",
       "    <tr>\n",
       "      <th>2</th>\n",
       "      <td>É incrível como esses escritores e \"intelectua...</td>\n",
       "      <td>N</td>\n",
       "    </tr>\n",
       "    <tr>\n",
       "      <th>3</th>\n",
       "      <td>Se desse pra devolver eu devolvia, nao é por e...</td>\n",
       "      <td>N</td>\n",
       "    </tr>\n",
       "    <tr>\n",
       "      <th>4</th>\n",
       "      <td>Futilidade, inutilidade, desperdício de papel,...</td>\n",
       "      <td>N</td>\n",
       "    </tr>\n",
       "  </tbody>\n",
       "</table>\n",
       "</div>"
      ],
      "text/plain": [
       "                                            Mensagem  \\\n",
       "0  Para quem gosta de poemas simples, esse é o li...   \n",
       "1  Quando vi o lançamento pensei que finalmente p...   \n",
       "2  É incrível como esses escritores e \"intelectua...   \n",
       "3  Se desse pra devolver eu devolvia, nao é por e...   \n",
       "4  Futilidade, inutilidade, desperdício de papel,...   \n",
       "\n",
       "  Acionável/Direcionável/Não Acionável  \n",
       "0                                    N  \n",
       "1                                    D  \n",
       "2                                    N  \n",
       "3                                    N  \n",
       "4                                    N  "
      ]
     },
     "execution_count": 239,
     "metadata": {},
     "output_type": "execute_result"
    }
   ],
   "source": [
    "train = pd.read_excel('dados_treino.xlsx')\n",
    "train.head(5)"
   ]
  },
  {
   "cell_type": "code",
   "execution_count": 240,
   "metadata": {},
   "outputs": [
    {
     "data": {
      "text/html": [
       "<div>\n",
       "<style scoped>\n",
       "    .dataframe tbody tr th:only-of-type {\n",
       "        vertical-align: middle;\n",
       "    }\n",
       "\n",
       "    .dataframe tbody tr th {\n",
       "        vertical-align: top;\n",
       "    }\n",
       "\n",
       "    .dataframe thead th {\n",
       "        text-align: right;\n",
       "    }\n",
       "</style>\n",
       "<table border=\"1\" class=\"dataframe\">\n",
       "  <thead>\n",
       "    <tr style=\"text-align: right;\">\n",
       "      <th></th>\n",
       "      <th>Mensagem</th>\n",
       "      <th>Acionável/Direcionável/Não Acionável</th>\n",
       "    </tr>\n",
       "  </thead>\n",
       "  <tbody>\n",
       "    <tr>\n",
       "      <th>0</th>\n",
       "      <td>O livro é prolixo, redundante, doentio. Sou su...</td>\n",
       "      <td>N</td>\n",
       "    </tr>\n",
       "    <tr>\n",
       "      <th>1</th>\n",
       "      <td>Bom livro e história envolvente. Porém, o leit...</td>\n",
       "      <td>D</td>\n",
       "    </tr>\n",
       "    <tr>\n",
       "      <th>2</th>\n",
       "      <td>Fala tudo que todos já sabem, sem falar que nã...</td>\n",
       "      <td>N</td>\n",
       "    </tr>\n",
       "    <tr>\n",
       "      <th>3</th>\n",
       "      <td>Ganhei na compra do Kindle. Não é estilo de li...</td>\n",
       "      <td>N</td>\n",
       "    </tr>\n",
       "    <tr>\n",
       "      <th>4</th>\n",
       "      <td>Custa crer que um livro tão medíocre, embora m...</td>\n",
       "      <td>N</td>\n",
       "    </tr>\n",
       "  </tbody>\n",
       "</table>\n",
       "</div>"
      ],
      "text/plain": [
       "                                            Mensagem  \\\n",
       "0  O livro é prolixo, redundante, doentio. Sou su...   \n",
       "1  Bom livro e história envolvente. Porém, o leit...   \n",
       "2  Fala tudo que todos já sabem, sem falar que nã...   \n",
       "3  Ganhei na compra do Kindle. Não é estilo de li...   \n",
       "4  Custa crer que um livro tão medíocre, embora m...   \n",
       "\n",
       "  Acionável/Direcionável/Não Acionável  \n",
       "0                                    N  \n",
       "1                                    D  \n",
       "2                                    N  \n",
       "3                                    N  \n",
       "4                                    N  "
      ]
     },
     "execution_count": 240,
     "metadata": {},
     "output_type": "execute_result"
    }
   ],
   "source": [
    "test = pd.read_excel('dados_teste.xlsx')\n",
    "test.head(5)"
   ]
  },
  {
   "cell_type": "markdown",
   "metadata": {},
   "source": [
    "___\n",
    "## Classificador automático\n"
   ]
  },
  {
   "cell_type": "markdown",
   "metadata": {},
   "source": [
    "Na primeira etapa, de classificação manual, consideramos três targets para os reviews: Acionável, Direcionável e Não Acionável. \n",
    "\n",
    "- Acionável: para ser considerado \"acionável\" (\"A\") o review deve ser passível de alguma ação pela Amazon, ou seja, o review deve ser sobre entrega, estado do produto, contato com o suporte, etc. \n",
    "- Direcionável: para o target \"direcionável\" (\"D\") foram considerados comentários relativos à editora, como qualidade do material do livro, preço do livro e do e-book, tradução e edição. \n",
    "- Não Acionáveis: por fim, os não acionáveis (\"NA\") eram comentários relativos ao autor, ao apreço pelo conteúdo do livro, ou comentários irrelavantes."
   ]
  },
  {
   "cell_type": "markdown",
   "metadata": {},
   "source": [
    "___\n",
    "### Montando um Classificador Naive-Bayes\n",
    "\n",
    "Considerando apenas as mensagens da planilha Treinamento, ensine  seu classificador."
   ]
  },
  {
   "cell_type": "markdown",
   "metadata": {},
   "source": [
    "Funções úteis:"
   ]
  },
  {
   "cell_type": "code",
   "execution_count": 241,
   "metadata": {},
   "outputs": [],
   "source": [
    "#Criar uma função que transforma as frases da planilha em um texto só \n",
    "    #(Será útil para criar o dicionário com as palavras)\n",
    "def transforma_em_string(coluna):\n",
    "    texto = ''\n",
    "    for linha in coluna:\n",
    "        texto += linha + ' '\n",
    "    return texto    "
   ]
  },
  {
   "cell_type": "code",
   "execution_count": 242,
   "metadata": {},
   "outputs": [],
   "source": [
    "#Criar uma função que limpa todas as pontuações\n",
    "def cleanup(text):\n",
    "    punctuation = r'[´\"\\'!-.:?;$,/~^_=+*&¨%$#@|\\{}()[\\]]'\n",
    "    pattern = re.compile(punctuation)\n",
    "    text_subbed = re.sub(pattern, '', text)\n",
    "    return text_subbed"
   ]
  },
  {
   "cell_type": "code",
   "execution_count": 243,
   "metadata": {},
   "outputs": [],
   "source": [
    "#Cria uma função que limpa os espaços duplicados\n",
    "def limpa_espaco(text):\n",
    "    punctuation = r'[\\n]'  # Adicione os caracteres desejados aqui\n",
    "    pattern = re.compile(punctuation)\n",
    "    text_subbed = re.sub(pattern, '', text)\n",
    "    return text_subbed"
   ]
  },
  {
   "cell_type": "code",
   "execution_count": 244,
   "metadata": {},
   "outputs": [],
   "source": [
    "#Criando uma função para remover emoji\n",
    "def remove_emoji(text):\n",
    "    text_without_emojis = unidecode(text)\n",
    "    return text_without_emojis"
   ]
  },
  {
   "cell_type": "code",
   "execution_count": 245,
   "metadata": {},
   "outputs": [],
   "source": [
    "#Criando a função de stopwords\n",
    "def stopwords(texto):\n",
    "    palavras = word_tokenize(texto, language='portuguese') # Tokenize é analisar palavras individualmente, basicamente\n",
    "    palavras_sem_stopword = []\n",
    "    for palavra in palavras:\n",
    "        if palavra not in stopwordsdic:\n",
    "            palavras_sem_stopword.append(palavra)\n",
    "    # Reúna as palavras sem stopwords em uma string novamente\n",
    "    texto_sem_stopword = ' '.join(palavras_sem_stopword)\n",
    "    return texto_sem_stopword"
   ]
  },
  {
   "cell_type": "code",
   "execution_count": 246,
   "metadata": {},
   "outputs": [],
   "source": [
    "#Criando a função de lematização\n",
    "def lemmat(texto):\n",
    "    doc = nlp(texto)\n",
    "    lemmat_radicais = []\n",
    "    for radicais in doc:\n",
    "        lemmat_radicais.append(radicais.lemma_)\n",
    "    texto_lemmat = ' '.join(lemmat_radicais)    \n",
    "    return texto_lemmat"
   ]
  },
  {
   "cell_type": "code",
   "execution_count": 247,
   "metadata": {
    "scrolled": false
   },
   "outputs": [],
   "source": [
    "# Cria uma função que reúna as funções de limpeza\n",
    "def limpa_tudo(mensagem):\n",
    "    #Aplicando a função de limpeza de pontuação\n",
    "    texto = cleanup(mensagem)\n",
    "    #Deixando tudo em letra minúscula\n",
    "    texto = texto.lower()\n",
    "    #Removendo emoji\n",
    "    texto = remove_emoji(texto)\n",
    "    #Aplicando a função de limpeza de espaço\n",
    "    texto = limpa_espaco(texto)\n",
    "    #Removendo stopwords\n",
    "    texto = stopwords(texto)\n",
    "    #Realiza lemmatização\n",
    "    # texto = lemmat(texto)          # removi pois demora muito para classificar \n",
    "    return texto\n"
   ]
  },
  {
   "cell_type": "code",
   "execution_count": 263,
   "metadata": {},
   "outputs": [],
   "source": [
    "#Cria uma função que limpa as linhas da planilha e adiciona as mensagens limpas à planilha\n",
    "def mensagem_limpa(planilha):   #recebe a planilha e modifica adicionando a coluna de mensagem limpa\n",
    "    planilha['Mensagem Limpa'] = [limpa_tudo(x) for x in list(planilha['Mensagem'])]\n",
    "    return planilha\n"
   ]
  },
  {
   "cell_type": "code",
   "execution_count": 249,
   "metadata": {},
   "outputs": [],
   "source": [
    "#Cria vocabulário de tudo\n",
    "def cria_vocabulario(coluna_da_planilha):                       #recebe uma coluna da planilha\n",
    "    lista_palavras = transforma_em_string(coluna_da_planilha)\n",
    "    lista_palavras = limpa_tudo(lista_palavras)\n",
    "    lista_palavras = lista_palavras.split()\n",
    "    return lista_palavras     #devolve uma lista com as palavras separadas~\n"
   ]
  },
  {
   "cell_type": "code",
   "execution_count": 250,
   "metadata": {},
   "outputs": [],
   "source": [
    "#Cria função que retorna uma lista sem as palavras repetidas\n",
    "def remove_repeticao(lista):\n",
    "    dic = set(lista)\n",
    "    vocabulario = list(dic)\n",
    "    return vocabulario"
   ]
  },
  {
   "cell_type": "code",
   "execution_count": 251,
   "metadata": {},
   "outputs": [],
   "source": [
    "# Cria uma função que guarda as palavras em pd.Series\n",
    "def cria_pdseries(lista):\n",
    "    tabela = pd.Series(lista)\n",
    "    return tabela\n",
    "\n",
    "#Cria uma função que retorna a frequência absoluta de cada palavra no texto\n",
    "def freq_abs(tabela):\n",
    "    absoluta = tabela.value_counts()\n",
    "    return absoluta\n",
    "\n",
    "#Cria uma função que retorna a frequência relativa de cada palavra no texto\n",
    "def freq_rel(tabela):\n",
    "    relativa = tabela.value_counts(True)\n",
    "    return relativa"
   ]
  },
  {
   "cell_type": "code",
   "execution_count": 267,
   "metadata": {},
   "outputs": [
    {
     "name": "stdout",
     "output_type": "stream",
     "text": [
      "(10384, nao              415\n",
      "livro            399\n",
      "autor             75\n",
      "leitura           70\n",
      "historia          68\n",
      "                ... \n",
      "produz             1\n",
      "resultados         1\n",
      "artificiais        1\n",
      "satisfatorios      1\n",
      "facebook           1\n",
      "Length: 3680, dtype: int64, nao              0.039965\n",
      "livro            0.038424\n",
      "autor            0.007223\n",
      "leitura          0.006741\n",
      "historia         0.006549\n",
      "                   ...   \n",
      "produz           0.000096\n",
      "resultados       0.000096\n",
      "artificiais      0.000096\n",
      "satisfatorios    0.000096\n",
      "facebook         0.000096\n",
      "Length: 3680, dtype: float64, ['discussao', 'surgir', 'escreveu', 'inscritos', 'abertas', 'gostou', 'caderno', 'apresentados', 'cotidiano', 'alias', 'fracassos', 'levar', 'emocional', 'distorce', 'vontadereclamado', 'engana', 'acabam', 'ditatoriais', 'infrutifera', 'lino', 'intediante', 'destes', 'insiste', 'agora', 'coma', 'reivindicando', 'formulas', 'miracle', 'arrependo', 'brutal', 'guardar', 'chatinho', 'possuem', 'expressar', 'perguntando', 'fotos', 'assunto', 'comportamento', 'opiniaoexperiencia', 'traduzido', 'inteirinho', 'anticomunista', 'livre', 'criou', 'cenarios', 'terminei', 'quer', 'entendimento', 'aprendizados', 'soltos', 'tese', 'norte', 'estrelas', 'extraido', 'ir', 'babaca', 'conhecela', 'irmaos', 'aguentava', 'certeza', 'eletrica', 'alem', 'complica', 'porque', 'contexto', 'tambem', 'empolgou', 'social', 'existe', 'literaria', 'forcado', 'dispensavel', 'reflexoes', 'compar', 'lata', 'achava', 'horrores', 'levando', 'unica', 'descrevelo', 'novos', 'famosas', 'contudo', 'ruim', 'totalitarias', 'irrisorios', 'filmes', 'poema', 'quimica', 'esquecem', 'sustentou', 'mocinha', '5inco', 'onde', 'reafirmados', 'encontre', 'contradicao', 'aumentara', 'pastor', 'inicia', 'historicosocial', 'queria', 'operacoes', 'pessoal', 'inteligente', 'experimentar', 'deturpa', 'talvez', 'xingou', 'preciso', 'mencionadas', 'economias', 'sr', 'regras', 'decepcionaram', 'serve', 'passa', 'acontecendo', 'perdi', 'desmedido', '140', 'datado', 'radical', 'funcional', 'consiga', 'feita', 'comunidade', 'instigantes', 'promocao', 'leitura', 'acabado', 'partir', 'concentimento', 'distopia', 'dominantes', 'apesar', 'teresa', 'encontrar', 'passional', '15', 'intelectual', 'perdoe', 'ribeiro', 'guardem', 'enfadonho', 'acusar', 'milagre', 'olhos', 'chata', 'pilula', 'prometidas', 'odisseia', 'povos', 'saudades', 'lista', 'gasta', 'poderiam', 'assassino', 'instrutivo', 'baboseira', 'perversao', 'apanhado', 'encontram', 'entanto', 'ruimdesenvolvimento', 'herois', 'horrivelmente', 'miseraveis', 'deixassem', 'moeda', 'grupo', 'caricatos', 'erotico', 'portugueses', 'semelhanca', 'so', 'aclamado', 'municao', 'desfecho', 'consegui', 'exigia', 'conclusoes', 'religiosas', 'violento', 'convence', 'hoje', '1790', 'apos', 'taxado', 'enredo', 'aborto', 'pnl', 'teorias', 'conteudos', 'scott', 'inspirado', 'positivas', 'reflexivos', 'melhorar', 'inteligencia', 'autoritario', 'corporativo', 'painao', 'universitaria', 'condenada', 'ficarem', 'morreu', 'conquistou', 'pouca', 'real', 'youtubers', 'dolorida', 'york', 'corda', 'alfinetar', 'verdade', 'porem', 'manipula', 'autocentrada', 'diria', 'enxergar', 'aliviada', 'atencao', 'historiae', 'devida', 'narrativas', 'preservar', 'apostei', 'best', 'linha', 'trivial', 'livrase', 'exemplos', 'explica', 'pretendia', 'movimento', 'misse', 'biografia', 'segundo', 'focado', 'desnecessario', 'mackenna', 'kefera', 'inumeras', 'inteiras', 'ok', 'amontoado', 'seis', 'opinioes', 'area', 'entao', 'investimentos', 'habito', 'rapidamente', 'passaros', 'tipicas', 'alegase', 'perdida', 'literarias', 'similares', 'profunda', 'ateve', 'funcionarios', 'trono', 'pensei', 'assiduo', 'interessa', 'marco', 'oito', 'cientificae', 'utilizados', 'sensacionalista', 'procurei', 'liberal', 'pessoas', 'lembro', 'monotona', 'festim', 'boca', 'aieste', 'cis', 'procurado', 'inverdades', 'uisque', 'cronologicamente', 'spoiler', 'concordo', 'aumentariam', 'repetitivo', 'daquilo', 'levam', 'serio', 'proprias', 'agnosticos', 'estuproao', 'prima', 'legais', 'arrasa', 'dito', 'erotica', 'dicas', 'segredo', 'harry', 'protecao', 'autores', 'boba', 'engolir', 'faturar', 'especifico', 'agradando', 'possibilidades', 'dou', 'caracteriza', 'cliche', 'desconhecem', 'avalio', 'thorne', 'receitinhas', 'volume', 'mancha', 'bolsonaro', 'dava', 'papo', 'persegue', 'aulas', 'equiparar', 'responsavel', 'infantis', 'irrelevante', 'descontextualizadas', 'metaforas', 'memoria', 'anterior', 'exagerado', 'intolerancia', 'ameacadoras', 'considero', 'substantivos', 'historietas', 'diagramado', 'fazem', 'seguida', 'crista', 'robbins', 'miseria', 'preconceituosa', 'extremadireita', 'vem', 'universal', 'historico', 'total', 'duvida', 'emprestadopor', 'justifica', 'principalmente', 'apendice', 'forca', 'apresenta', 'jornalistas', 'ptismolulismocomunismo', 'cultura', 'soou', 'ficam', 'empoderamento', 'passo', 'encaro', 'misturando', 'vitimiza', 'objetiva', 'parachoques', 'desfecha', 'anotei', 'concerto', 'alemanha', 'deixam', '64', 'conheco', 'trajetoria', 'mereca', 'posto', 'pensadores', 'cheguem', 'esperanca', 'inseridas', 'vizinha', 'nacional', 'informacao', 'escrever', 'femininas', 'disso', 'trabalham', 'detalhe', 'escritor', 'ganha', 'ciumento', 'virou', 'cuidar', 'tedioso', 'aviso', 'citacoes', 'auto', 'fraude', 'comprovadas', 'diario', 'serie', 'alcanca', 'seller', 'conceitos', 'pecadora', 'narracao', 'excelente', 'poco', 'vomitar', 'tomou', 'assistindo', 'verdades', 'criaram', 'basico', 'julga', 'irritada', 'minima', 'choradeira', 'ingenuos', 'concerne', 'tudo', 'atrativos', 'agucou', 'enfatizava', 'virar', 'alberto', 'experiencia', 'tao', 'mascara', 'comete', 'boa', 'problemas', 'tris', 'pontos', 'tanta', 'negros', 'rebuscada', 'coletanea', 'chorona', 'veja', 'eleicoesouviraoperderam', 'tolo', 'rsrs', 'apela', 'terminou', 'querer', 'casal', 'presosalva', 'frase', 'bacaninha', '18', 'credenciais', 'estarei', 'metodologico', 'relatada', 'new', 'nazista', 'passagens', 'aplicacao', 'empolgante', 'semelhante', 'comentar', '1964', 'relembrando', 'longe', 'exesposa', 'capinar', 'criticas', 'feministas', 'vindo', 'percebeu', 'sacrificar', 'grandiosos', 'acostumado', 'fluido', '19', 'cristiano', 'isaacson', 'escola', 'novelesco', 'perde', 'desonestidade', 'dinheiro', 'cito', 'caira', 'pesssimo', 'nada', 'claret', 'avanco', 'ruas', 'perguntas', 'medida', 'ora', 'apaixonadaesse', 'tema', 'atrocidades', 'mudem', 'comedia', 'novas', 'heitor', 'indios', 'youtuber', 'lugarcomum', 'maisnao', 'continua', 'observar', 'emagrecendo', 'preocupada', 'assimilacao', 'pressupostos', 'email', 'americanos', 'julgar', 'procurar', 'irritante', 'pessoalmente', 'frustrado', 'aibda', 'decadas', 'escolhida', 'criticalo', 'deus', 'florestas', 'desmascarada', 'palestras', 'amante', 'cada', 'falsifica', 'subdesenvolvida', 'moritz', 'lia', 'futeis', 'animo', 'inserindo', 'calcuta', 'suspense', 'passar', 'diz', '1917', 'vomitando', 'garganta', 'linguica', 'sofredora', 'estados', 'confirmar', 'terminava', 'contei', 'vejo', 'ultrapassa', 'veladapois', 'bebem', 'presente', 'eleicoesss', 'autoridade', 'fez', 'achismo', 'facilmente', 'destas', 'obviamente', 'quarto', 'fisica', 'birrenta', 'fracos', 'empolgada', 'quantidade', 'trilogia', 'imbecil', 'fundo', 'ansia', 'tijolo', 'baseadas', 'individuo', 'tentando', 'divina', 'proporcione', 'angulo', 'mta', 'pagina', 'aquisicao', 'acessar', 'macantes', 'assistir', 'apaixonar', 'paranoicos', 'durante', 'goste', 'tempos', 'devo', 'respostas', 'milhoes', 'publicacoes', 'eletronico', 'seguirem', 'experiencias', 'autoajuda', 'invalidar', 'livralo', 'dentro', 'devolver', 'divertido', 'piadas', 'intangivel', 'receita', 'feitas', 'frustrada', 'indecisaocomo', 'intitula', 'mundial', 'beirando', 'demoniaco', 'anima', 'dificultam', 'arrasteime', 'deixar', 'chavoes', 'legalporemse', 'importante', 'enrola', 'oferecidas', 'existia', 'embromou', 'abaixoenfim', 'rasas', 'curso', 'dentre', 'proprio', 'gama', 'sentiria', 'mental', 'entediou', 'nazismo', 'lamentavel', 'detalhes', 'l', 'bibliograficos', 'politicos', 'cria', 'detestei', 'vi', 'andar', 'bem', 'sintoma', 'chato', 'discurso', 'popular', 'simplesmente', 'piores', 'chorar', 'la', 'continuar', 'mentirosas', 'tratou', 'etecetera', 'trabalhar', 'tecnicas', 'contato', 'fizeram', 'magica', 'foco', 'interesseira', 'digo', 'prendi', 'construiu', 'perspectivas', 'aula', 'perca', 'ideia', 'poder', 'raso', 'amado', 'publicaram', 'greet', 'situacao', 'leiase', 'desrtruir', 'metade', 'rascunho', 'deixa', 'feio', 'farto', 'primeiras', 'progressista', 'dialogos', 'virgem', 'tecnica', 'determinada', 'perante', 'lingua', 'imaginamos', 'compartilhando', 'especie', 'proporcional', 'incrivel', 'romanceso', 'conspira', 'primeiros', 'apaixona', 'abertamente', 'trocam', 'iniciantes', 'aff', 'resumo', 'regrado', 'veio', 'exagerada', 'elogio', 'enquanto', 'separacao', 'filosofias', 'hugo', 'atividades', 'ficando', 'fausto', 'precisamos', 'compram', 'disputas', 'jogos', 'melhoram', 'brasileira', 'exige', 'dificuldades', 'socialista', 'fascinou', 'vez', 'biblia', 'prendem', 'bdsm', 'costuma', 'totalmente', 'senti', 'pensar', 'conhecimento', 'prosaica', 'excluido', 'poetisa', 'estupida', 'reconhecerem', 'ultimo', 'chega', 'baseados', 'sabendo', 'bolsa', 'devemos', 'infelizmente', 'perdeu', 'sapiens', 'conjunto', 'leituraresumindo', 'vinganca', 'moca', 'sinto', 'representacao', 'manada', 'estupido', 'idas', 'casar', 'abusivo', 'alternativa', 'rony', 'continuacao', 'imaginei', '8', 'garota', 'curiosodade', 'conquistas', 'analisei', 'criadas', 'consultor', 'proveitoso', 'areas', 'soubesse', 'paciencia', 'conhecido', 'deveras', 'dedo', 'tapa', 'vendidos', 'tendencia', 'marcantes', 'encaixando', 'misterioso', 'ali', 'mensagem', 'pessoais', 'inocente', 'prequeal', 'acontecer', 'gosto', 'implica', 'junto', 'prolixo', 'r', 'prosseguindo', 'desapegar', 'arrepender', 'depende', 'passatempo', 'd', 'atracao', 'criar', 'sentimento', 'parcial', 'dona', 'buscando', 'shinyashiki', 'pratica', 'nota', 'possessivo', 'televisao', 'classe', 'enaltecer', 'selecao', 'escroto', 'forcada', 'toc', 'pretensioso', 'anotado', 'nesta', 'olavo', 'recomendado', 'ler', 'desejo', 'contradiz', 'desmerecer', 'outro', 'concordar', 'fundamento', 'sofia', 'sustentar', 'arrastada', 'emilia', 'demonstra', 'fortuitos', '4', 'pensamentos', 'entender', 'quica', 'distorcida', 'entreter', 'samba', 'idiotas', 'infelizmentetudo', 'marquei', 'poucos', 'matou', 'locupletaramse', 'diariamente', 'eleito', 'vinci', 'epoca', 'apelos', 'leviano', 'sam', 'post', 'precisando', 'anna', 'chapado', 'mudanca', 'romantizados', 'justificasse', 'meninas', 'negativa', 'prosaico', 'estudos', 'maior', 'convergente', 'resultado', 'biblicas', 'deixara', 'entendi', 'superficiais', 'reacao', 'serias', 'parecem', 'recalque', 'papel', 'mulheres', 'historicos', '8020', 'agrade', 'li', 'vista', 'gostaria', 'desejar', 'chamado', 'sul', 'quadro', 'gastem', 'pistaa', 'potterfanaticos', 'facilidade', 'pequenos', 'subjugar', 'interessadas', 'abusos', 'christian', 'entrevistas', 'induzem', 'escolha', 'relato', 'gidion', 'postas', 'gratis', 'baixo', 'conselhos', 'trabalho', 'acucar', 'nacionais', 'comum', 'milhares', 'elogios', 'tradutor', 'cansativo', 'vergonha', 'creio', 'impacto', 'vitimismos', 'somente', 'perdurou', 'andamento', 'importantes', 'mostrou', 'rua', 'devido', 'treinamento', 'sucesso', 'criada', 'anseio', 'reduzida', 'formar', 'pseudo', 'governo', 'resolveu', 'apartamento', 'fan', 'polussuco', 'media', 'frente', 'contem', 'capaz', 'topo', 'manipular', 'inumeros', 'curtir', 'protesto', 'iria', 'simplificando', 'umbigo', 'diversos', 'completamente', 'utopicas', 'sensacionalismo', 'podia', 'agua', 'inverossimil', 'trai', 'mesa', 'saiu', 'falaciosos', 'porcaria', 'redundante', 'idilico', 'trabalhado', 'negar', 'tipos', 'videos', 'qtd', 'tendencioso', 'expectativas', 'conexoes', 'queimalo', 'descartavel', 'feito', 'cronologico', 'gastonao', 'writers', 'chanceler', 'goela', 'faltou', 'globalistas', 'promove', 'produtivas', 'filosofica', 'academicamente', 'deturpacao', 'costumo', 'assumir', 'diferentes', 'honestidade', 'tras', 'desrespeitosa', 'tratado', 'distribuido', 'maluca', 'comunistas', 'fiz', 'lacunas', 'adolescente', 'rupi', 'phd', 'correto', 'seguisse', 'investimento', 'limite', 'apelo', 'monstro', 'seguem', 'considerei', 'significa', 'leitor', 'leguas', 'medieval', 'erros', 'web', 'vender', 'explosao', 'lugar', 'famoso', 'jovem', 'ultimos', 'colecionando', 'apontada', 'reiterada', 'sobre', 'decidi', 'amaram', 'comeca', 'ateus', 'ultimas', 'modificados', 'optar', 'cativa', 'confiaveis', 'guerra', 'levantar', 'curta', 'livrinho', 'verdadeiramente', 'brasil', 'democracias', 'perdendo', 'riste', 'turma', 'ensino', 'destrutivo', 'cogita', 'rodovias', 'maiana', 'arthur', 'arrependi', 'queiroz', 'orientais', 'dividida', 'promessa', 'esforco', 'enorme', 'enfrentamos', 'trabalhando', 'consegue', 'proposito', 'roteirista', 'cai', 'escravidao', 'sofismas', 'reclamou', 'resenhas', 'completemente', 'criado', 'menina', 'roda', 'parabens', 'tecnico', 'posicao', 'lindo', 'coesao', 'manson', 'toa', 'cheios', 'aprovouo', 'frustada', 'semelhancas', 'apaixonaessa', 'brincar', 'liberdade', 'vies', 'existem', 'humano', 'pequena', 'descricao', 'otimo', 'bibliograficas', 'deixei', 'harvard', 'comecaram', 'sao', 'editora', 'maioria', 'comportamental', 'jack', 'comumente', 'prega', 'enviaram', 'instaveis', 'vai', 'voltado', 'existentes', 'assassinadas', 'intrigante', 'irei', 'paginasli', 'pensamento', 'frequentes', 'neste', 'acerca', 'glossario', 'concluidos', 'votar', 'sente', 'nene', 'risada', 'merchandising', '100', 'parei', 'limitou', 'kaur', 'irresponsavel', 'natureza', 'adultespecialmente', 'errado', 'avaliar', 'escreverem', 'abandonando', 'sensacional', 'falacia', 'voltei', 'caso', 'corrobora', 'coaching', 'vc', 'cosmologia', 'convidar', 'alicerce', 'pena', 'walter', 'definicao', 'acima', 'maravilhosa', 'pautas', 'tire', 'seequer', 'apresentando', 'logicas', 'magicas', 'submissa', '1', 'liegoistairritantecheio', 'clafin', 'categoria', 'entretanto', 'defendeu', 'preferidos', 'sensivel', 'claros', 'ideais', 'ilusorio', 'sono', 'suposta', 'livros', 'peguei', 'aposto', 'gilberto', 'drasticamente', 'historiador', 'apto', 'gibis', 'falar', 'vexame', 'hbo', 'proposta', 'aleksievitch', 'frequentemente', 'mudar', 'chatissimo', 'coachingexistem', 'retornando', 'juncao', 'envolve', 'palpite', 'sob', 'odio', 'igualmente', 'desprezei', 'devia', 'primeiro', 'foge', 'acerto', 'cosac', 'cores', 'vencer', 'tracar', 'escorrega', 'trabalha', 'cansam', 'experimentos', 'crescer', 'atrapalha', 'ver', 'universidades', '5', 'forte', 'direta', 'crime', 'daria', 'doi', 'longamente', 'malta', 'mediocre', 'perigoso', 'carisma', 'presequencia', 'precariedade', 'intitulam', 'dialogosestava', 'aplicado', 'cade', 'instigante', 'acabava', 'entulho', 'outras', 'alto', 'momento', 'quanta', 'deixo', 'fruto', 'introducao', 'sozinho', 'ocorrem', 'posicionamento', 'fas', 'uteis', 'cabeca', 'antiga', 'negocio', 'recomendavel', 'trazem', 'falaram', 'masculino', 'altas', 'concluir', 'valer', 'voltados', 'acusam', 'acompanho', 'perceba', 'anonimato', 'romanceque', 'unidos', 'praticamente', 'praxe', 'humanitarias', 'valor', 'grifei', 'melhores', 'finais', 'obsessivos', 'chamar', 'afiados', 'prestar', 'cometidas', 'quanto', '30', 'sabemos', 'vivi', 'dono', 'nervoso', 'corrobar', 'coisas', 'apresentacao', 'cansativa', 'estao', 'brancos', 'bar', 'abusa', 'muita', 'roubou', 'cheguei', 'tornou', 'industria', 'surgimento', 'busca', 'vendido', 'politico', 'mudarem', 'terminamos', 'peca', 'logica', 'tratar', 'tornar', 'algo', 'vao', 'validas', 'defender', 'ta', 'aborrecido', 'irrefutaveis', 'gracas', 'aproveitar', 'capitaliza', 'grandes', 'ensinou', 'adequada', 'indicaria', 'encontrou', 'automaticamente', 'sinceramente', 'informa', 'correlacionando', 'homem', 'encher', 'enfadonha', 'validar', 'senil', 'enrolado', 'conhecer', 'senhor', 'recebia', 'interminaveis', 'corinne', 'indecisoes', 'colocado', 'feminina', 'preferia', 'corta', 'acoes', 'cedendo', 'perssonagens', 'referencias', 'violencia', 'abandonei', 'relevancia', 'posso', 'resumido', 'colocam', 'funciona', 'funcionam', 'gostar', 'cliches', 'existee', 'obras', 'acreditam', 'analfabeta', 'salvasse', 'aprofundar', 'repetitivos', 'tolos', 'machista', 'ninfomaniaca', 'propoe', 'postura', 'cometa', 'chegar', 'pseudoobra', 'honestamente', 'curiosidade', 'ocupam', 'modismo', 'aplicacoes', 'comprei', 'tanto', 'palestra', 'insight', 'depoimentos', 'profundidade', 'eroticos', 'prestando', 'cheio', 'contempla', 'john', 'donald', 'umas', 'cinco', 'aplicar', 'representam', 'aborda', 'sentimentos', 'propaganda', 'rodape', 'direcionado', 'brutalidade', 'quebre', 'mecanica', 'abordar', 'apresentadas', 'restante', 'sequencia', 'formas', 'passam', 'concorrentes', 'ouvir', 'estoria', 'argumentam', 'ficasse', 'tentativa', 'dolorosa', 'fraca', 'baseada', 'cinema', 'gostoso', 'expressava', 'deixou', 'tristeza', 'enchecao', 'inclusive', 'entende', 'falado', 'detalhado', 'cena', 'leonardo', 'repetitivas', 'aclamacao', 'confiar', 'decepcionantese', 'respondendo', 'encontrei', 'artificiais', 'conta', 'ligacao', 'finalizadas', 'neoliberais', 'virgemcom', 'dore', 'contar', 'leu', 'admiravel', 'preconceito', 'fanfiction', 'calor', 'pesada', 'superou', 'convenceram', 'especial', 'complexo', 'affff', 'fortes', 'mesclas', 'repentinamente', 'obvio', 'base', 'intuito', 'fica', 'descobrem', 'potter', 'parado', 'ps', 'arte', 'casado', 'queputz', 'dez', 'ferrei', 'assustadora', 'funcionou', 'felipe', 'comparar', 'extremo', 'preocupante', 'participacao', 'macante', 'ignorancia', 'metrica', 'morta', 'conhece', 'orientacoes', 'epilogo', 'transformou', 'personagens', 'condiz', 'irritantes', 'politica', 'fundamentacao', 'desmoralizar', 'conspiracoes', 'comecamos', 'fanatico', 'choque', 'realidade', 'interpretacoes', 'cantora', 'esquerda', 'desenvolvido', 'etc', 'preexistentes', 'comuns', 'recemsaido', 'ponto', 'baixar', 'divulgados', 'serao', 'aventura', 'feliz', 'talreizinho', 'decepcionada', 'indo', 'astrologo', 'encheu', 'teatro', 'ficou', 'iliada', 'besteiras', 'evolutiva', 'nify', 'sustente', 'solicitou', 'autoramenina', 'culpados', 'bolar', 'alcancar', 'linguajar', 'profissional', 'abusador', 'causa', 'interromper', 'entidades', 'abandonar', 'soberba', 'gostei', 'sugestoes', 'conseguiriamos', 'tente', 'duvidosos', 'aplicam', 'atacar', 'didatico', 'caindo', 'sexo', 'geral', 'possivel', 'interpretacao', 'vazias', 'acabei', 'oposto', 'descreve', 'legal', 'ambiciosa', 'fase', 'operadores', 'parametro', 'internet', 'aventureiros', 'maldigo', 'hype', 'feminino', 'universo', 'apreciam', 'esperando', 'significados', 'verossimeis', 'filosofo', 'grosseiro', 'saiam', 'classifica', 'ideias', 'precisou', 'tratava', 'adivinha', 'absurdas', 'santanna', 'esteje', 'disse', 'mornodecepcao', 'pinca', 'show', 'incomoda', 'carece', 'corpo', 'tamanha', 'continuidade', 'axiomas', 'cansativas', 'achou', 'conseguir', 'panfleto', 'sede', 'fracas', 'gulliver', 'le', 'elogiado', 'sair', 'extremamente', 'estrupo', 'fe', 'isla', 'apanhava', 'jesus', 'contrario', '20', 'mundiais', 'ter', 'tratase', 'satisfatorios', 'enxugando', 'bestseller', 'migalhas', 'poemas', 'elogiar', 'imperio', 'james', 'usaram', 'alguempassou', 'arma', 'idiotice', 'murilo', 'entusiasta', 'lado', 'fera', 'prendesse', 'filhos', 'prescritiva', 'ansiosa', 'estaria', 'minimo', 'soar', 'enfrentando', 'emocionante', 'regresso', 'perigosamente', 'series', 'gastar', 'autora', 'citar', 'impressao', 'mimada', 'perceber', 'mestre', 'estabelecer', 'revista', 'anti', 'falam', 'distorcoes', 'cientifico', 'odeio', 'versao', 'banalizacao', 'american', 'visam', 'orwell', 'conspiracao', 'costumam', 'possui', 'tradicionais', 'comparando', 'lembram', 'lugares', 'unico', 'importa', 'queremos', 'salvadoras', 'basicas', 'editoras', 'incontrolavel', 'esperei', 'nocao', 'autoritarios', 'propaga', 'academicos', 'manteria', 'estudioso', 'identifique', 'autoro', 'baixado', 'dificil', 'chatas', 'imagina', 'publico', 'democratas', 'fome', 'subconscientes', 'limitante', 'frases', 'concentra', 'tirados', 'formado', 'porta', 'escoria', 'rasos', 'meet', 'comporta', 'excessivasisso', 'berco', 'conviccoes', 'fiquei', 'outra', 'direcao', 'mudando', 'recomendo', 'colocandoo', 'tece', 'temer', 'trey', 'compra', 'fanfic', 'anastacia', 'arrependimento', 'efeito', 'indicios', 'mentalizar', 'academia', 'premissa', 'compreendido', 'carlos', 'igual', 'chateada', 'acredito', 'modo', 'toscas', 'agradavel', 'fodase', 'verificavel', 'historia', 'prova', 'filosofia', 'eficiencia', 'certificando', 'pseudociencia', 'faz', 'vaidoso', '400', 'acordarmos', 'tom', 'life', 'cativou', 'assemelhase', 'atingir', 'incondicional', 'bebida', 'natal', 'acidentes', 'poucas', 'todas', 'exclui', 'metodos', 'termos', 'humanos', 'situacoes', 'autoestima', 'construido', 'publicas', 'brincava', 'crenca', 'desonesta', 'trepadas', 'pergunta', '13', 'poderem', 'bacanas', 'ofensa', 'unicas', 'bebada', 'divergente', 'voces', 'ateista', 'viagens', 'achar', 'assertivo', 'mesmos', 'resto', 'definitivo', 'desperdice', 'bancar', 'ressalvas', 'percebi', 'cair', 'velocidade', 'prestes', 'precisam', 'voltas', 'eua', 'nesse', 'napolleon', 'pro', 'quero', 'comunismo', 'deixado', 'acao', 'tocou', 'casadas', 'andam', 'certo', 'tetraplegico', 'cristaos', 'semana', 'genial', 'comunistinha', 'postaria', 'direito', 'tempao', 'forma', 'tratados', 'exclusivamente', 'publicado', 'depressivo', 'mao', 'sonho', 'dessas', 'compilador', 'tedio', 'emails', 'segredos', 'sugerindo', 'decorrer', 'leia', 'background', 'altura', 'desapontada', 'plot', 'concluem', '500', 'atinge', 'absoluta', 'tais', 'mim', 'tentar', 'popularidade', 'evolucionista', 'confuso', 'darkside', 'resumea', 'professor', 'cientifica', 'desenlace', 'viagem', 'parcialmente', 'compreender', 'impressa', 'cristianismo', 'kindle', '2019', 'romantico', 'tera', 'saber', 'exmarido', 'paragrafo', 'arrogante', 'completar', 'box', 'apresentasse', 'ficado', 'disposto', 'internas', 'autobiografia', 'inteiro', 'fic', 'velho', 'velhoarrogante', 'mastiga', 'coagir', 'encosta', 'bonitas', 'eventos', 'reboque', 'coloca', 'virgindade', 'palerma', 'cartas', 'entrevista', 'chicotinho', 'maravilhoso', 'estudante', 'possuia', 'ladeira', 'castigo', 'reviravoltas', 'hot', 'pudica', 'qualquer', 'percebo', 'demais', 'deixando', 'comentarios', 'casas', 'recomendoi', 'anotacoes', 'alterar', 'merece', 'tornam', 'reconhecidamente', 'compreo', 'populacoes', 'olhar', 'apresentandoas', 'estante', 'humilhacaoe', 'respondo', 'sulerficial', 'negligenciados', 'victor', 'pontuacao', 'unlimited', 'algumas', 'irmao', 'assim', 'abaixo', 'boris', 'lelo', '256', 'descoberto', 'aceita', 'giram', 'conhecemos', 'ebook', 'correlatos', 'traicao', 'narrados', 'contada', 'coerencia', 'fazer', 'estrofes', 'wilson', 'dominacao', 'braco', 'longo', 'reportagens', 'felizes', 'pulei', 'utilizaram', 'deu', 'aguardada', 'considerada', 'ideologico', 'posteriormente', 'verdadeira', 'brasileiros', 'chiche', 'futuro', 'concerteza', 'claro', 'recebi', 'artistas', 'desgosto', 'meritos', 'lancando', 'distopias', 'bocuda', 'segue', 'narrativa', 'retratando', 'fatica', 'primeira', 'nele', 'sirva', 'homo', 'jeito', 'obtusa', 'conturbado', 'ninguem', 'variacao', 'abordagem', 'pe', 'desnecessaria', 'minucioso', 'george', 'comprou', 'mulher', 'indicador', 'destaque', 'consigo', 'achei', 'lento', 'corrido', 'explora', 'aspas', 'devidas', 'objetivo', 'patetica', 'bestsellers', 'cativante', 'cima', 'devastadores', 'manter', 'transe', 'roteiro', 'ato', 'vorazes', 'ajudaram', 'passadas', 'similar', 'radicais', 'desde', 'castellaniposso', 'intencao', 'original', 'cansamos', 'tres', 'duas', 'megan', 'tira', 'resume', 'pois', 'confunde', 'va', 'versos', 'criancas', 'preguicoso', 'elencados', 'destilacao', 'conhecem', 'graca', 'fique', 'ameacas', 'contratam', 'posicoes', 'panfletario', 'ameacatipo', 'desconexo', 'fordaquele', 'pesquisares', 'decepcionou', 'superacao', 'devolvia', 'trabalhoso', 'mexicano', 'palavras', 'tenta', 'resumindoler', 'receio', 'comecei', 'divagacoes', 'editado', 'conclusao', 'usualmente', 'prevenda', 'sequer', 'afirma', 'prol', 'familiar', 'tantas', 'menos', 'continuou', 'pupilo', 'narrativo', 'registrada', 'comecar', 'disney', 'gostaram', 'anteriores', 'afirmacoes', 'flertar', 'vitimizacao', 'prazer', 'avaliacao', 'comprar', 'conter', 'fingem', 'personalidades', 'motivo', 'colocados', 'terminar', 'jose', 'seguir', 'sequestrou', 'chama', 'claramente', 'levitsky', 'contraditoria', 'perderam', 'recomendacao', 'pode', 'estilo', 'motivacionais', 'latinoamericanos', 'imagem', 'insights', 'tentarei', 'pensaria', 'leva', 'tipo', 'beijo', 'mocinho', 'evitando', 'prefacio', 'sido', 'valido', 'geralmente', 'puro', '75', 'pudor', 'acertar', 'fascista', 'acabando', 'dessa', 'interminadoesperamos', 'manha', 'elaborada', 'distracao', 'certa', 'escorar', 'explodir', 'ouvi', 'pensavam', 'motivos', 'desvelar', 'repositorio', 'vida', 'falando', 'comprarem', 'efetuar', 'inicio', 'financas', 'teoria', 'africanos', 'expandindo', 'subliminares', 'salvando', 'poquer', 'acabar', 'tuso', '``', 'autoresponsabilidade', 'deparei', 'direitos', 'desculpem', 'diversidade', 'painel', 'ingenuo', 'anos', 'puramente', 'rotuladas', 'entendo', 'dados', 'havia', 'defesa', 'incorporar', 'fascistas', 'vistas', 'ainda', 'tirando', 'distracoes', 'assumi', 'russo', 'final', 'classificacao', 'assuntos', 'beneficiam', 'torno', 'mestrado', 'particularmente', 'profundo', 'fraquinha', 'apenastriste', 'certamente', 'desconhecidas', 'usadas', 'contra', 'chances', 'empregas', 'voce', 'naquele', 'certinha', 'establish', 'homero', 'astral', 'mudam', 'induzindo', 'pra', 'famosos', 'bacanaque', 'ferramenta', 'compensou', 'presidente', 'exemplo', 'barbaridades', 'demorei', 'infaliveis', 'adotar', 'maiores', 'dias', 'descabida', 'carregar', 'acessorios', 'confesso', 'completo', 'sumir', 'reler', 'conto', 'aumentar', 'pai', 'orgulho', 'cidade', 'epicos', 'desconsidera', 'tentei', 'descricoes', 'trem', 'bill', 'video', 'eva', 'semanas', 'menciona', 'ficar', 'gratuitamente', 'encontraria', 'rico', 'sensacao', 'gostado', 'contradicoes', 'ignaros', 'itatiaia', 'acha', 'usou', 'todo', 'segurando', 'leigo', 'mensagens', 'problema', 'budistas', 'amei', 'delinquente', 'vende', 'comportamentos', 'aparece', 'responsabilidade', 'convidados', 'rapido', 'emocao', 'fantastico', 'nisso', 'propagar', 'schwarcz', 'escreve', 'temas', 'viveria', 'souza', 'colecao', 'comentalo', 'caotico', 'machistae', 'alta', 'territorio', 'aqui', 'establishment', 'convencendo', 'redencao', 'palavra', 'promessas', 'conceito', 'varios', 'contextualizando', 'preconceitos', 'destruiram', 'inimigo', 'factiveis', 'relatos', 'doutrinador', 'pessoa', 'imaginacao', 'desconstrucao', 'sensualidade', 'relacoes', 'idiota', 'bobagem', 'desenrolar', 'nunes', 'bens', 'jeitos', 'determinado', 'baseado', 'questionavel', 'jornalista', 'licoes', 'obvia', 'garoto', 'comprovacoes', 'egoista', 'criando', 'lote', 'furiosamente', 'refletir', 'repetitiva', 'gideon', 'obivias', 'sal', 'alcoolatra', '90', 'salvar', 'minimizamos', 'infancia', 'nojo', 'trazer', 'cansativos', 'passou', 'sertao', 'parecidos', 'originalidadetanto', 'contagiado', 'material', 'nome', 'aceitem', 'psicologia', 'foto', 'mostrando', 'humana', 'criticidade', 'masculina', 'precisei', '50', 'fantasia', 'valores', 'europeia', 'minutos', 'chatoprotagonistas', 'joguei', 'quatrocentas', 'inutilidade', 'superficial', 'apenas', 'modinhas', 'evasivos', 'fraquissimo', 'mania', 'investir', 'compre', 'espera', 'desconhecimento', 'romance', 'deve', 'interminavelmente', 'ambos', 'pudesse', 'laranja', 'chequei', 'imaginava', 'familias', 'lixo', 'alguem', 'veiome', 'surreais', 'prescreve', 'dar', 'familia', 'giros', 'pocao', 'precisava', 'demonstrou', 'poetica', 'quis', 'petroleo', 'financeiro', 'usar', 'imatura', 'famosa', 'academico', 'guardaria', 'teens', 'referencia', 'pais', 'preco', 'assemelha', 'comparavel', 'sera', 'paga', 'cursou', 'potencialque', 'si', 'ilustracoes', 'preludio', 'curiosidades', 'golpe', 'estupro', 'irritantediante', 'sabem', 'torturar', 'proveito', 'bonzinhos', 'analisarmos', 'citado', 'invisiveis', 'hawking', 'lua', 'compensa', 'fato', 'rica', 'pratico', 'nesses', 'chula', 'impressionar', 'obter', 'casamento', 'interessantes', 'mauricio', 'otimos', 'tratamento', 'envolva', 'ingles', 'inferno', 'lani', 'monumental', 'razoavel', 'mal', 'continuando', 'volumes', 'avancar', 'brasileiro', 'penhasco', 'primeiramente', 'responder', 'estudar', 'wil', 'fracassar', 'cary', 'encontramos', 'amor', 'prender', 'lido', 'distorcer', 'impecavel', 'detestavel', 'nana', 'fobia', 'forcadas', 'manifesto', 'manipulador', 'desenvolveu', 'acho', 'autor', 'rachel', 'citaria', 'machismo', 'sentido', 'tonta', 'besteirol', 'kamal', 'bacana', 'apareceu', 'biologica', 'producentes', 'proxima', 'podem', 'massas', 'ligando', 'amostra', 'encharquei', 'bruto', 'pagar', 'impressiona', 'boas', 'guerras', 'tolerancia', 'redes', 'genero', 'meninada', 'academicas', 'amazon', 'voltaria', 'iniciando', 'trocadinhos', 'comprado', 'papai', 'gosta', 'mazzaropi', 'figurantes', 'vocabulario', 'clube', 'adora', 'enrolada', 'negativas', 'hipocrisia', 'ee', 'sellers', 'opcao', 'repetiu', 'chamada', 'construcao', 'aprendem', 'vidro', 'perspectiva', 'cheias', 'metodo', 'favor', 'tantos', 'monica', 'numero', 'quietos', 'ouvindo', 'ouros', 'cadernos', 'paginas', 'absolutamente', 'travada', 'sexuais', 'gente', 'besta', 'analises', 'degradante', 'leitores', 'grande', 'simplistas', 'indiretas', 'cassino', 'afinal', 'adquirida', 'bisonho', 'pessimo', 'daquele', 'diferente', 'ano', 'facilitado', 'estrela', 'alguma', 'comprem', 'bom', 'ajudando', 'estarem', 'trata', 'toda', 'mora', 'representa', 'desconexas', 'afim', 'lidos', 'geracao', 'realmente', 'teses', 'comprovado', '1929', 'diversificar', 'esperava', 'inves', 'fogo', 'repete', 'dificeis', 'terra', 'ganhou', 'estranhos', 'leonprincipe', 'maxi', 'escritas', 'incriveis', 'copia', 'causar', 'querendo', 'trasse', 'grito', 'adorei', 'ironica', 'forcas', 'poesias', 'ghosts', 'busquei', 'jatinho', 'tendo', 'puxandoa', 'identidade', 'compro', 'lago', 'retorica', 'dado', 'piorar', 'agradou', 'aconselho', 'latim', 'way', 'olhando', 'profundas', 'compiladas', 'significado', 'pesquisas', 'prosa', 'rsrsr', 'idade', 'nenhum', 'comentariosmas', 'interacoes', 'castelanni', 'coracao', 'familiasao', 'cachorro', 'marketing', 'relacionamentos', 'interessante', 'liberdades', 'medo', 'comecou', 'falacias', 'partes', 'adquirir', 'mentiroso', 'dizem', 'retratada', 'queira', 'instapoesia', 'horrivel', 'relacao', 'resultados', 'difusao', 'despertar', 'nojento', 'lances', 'entregue', 'evolui', 'mormente', 'tobias', 'gostam', 'abuso', 'midias', 'seguidores', 'positivos', 'professores', 'riquissimas', 'sobrinha', 'eou', 'cortella', 'manipulacao', 'poupe', 'exercicio', 'contrariem', 'lenda', 'fraco', 'ledo', 'presta', 'contraditorio', 'velo', 'prometer', 'tido', 'costurado', 'livro', 'invencoes', 'procura', 'redeas', 'relatados', 'di', 'votos', 'alma', 'versailhes', 'menor', 'irma', 'basta', 'facil', 'existente', 'tia', 'visto', 'vezes', 'odiei', 'trama', 'novo', 'engano', 'mesma', 'proposto', 'desequilibrada', 'identificar', 'impiricas', 'abismo', 'batido', 'trecho', 'lu', 'prende', 'voltar', 'depressiva', 'maneira', 'basicamente', 'apoia', 'acabou', 'fazemos', 'alfredo', 'lunatico', 'chatinha', 'leio', 'augusto', 'steven', 'escora', 'adaptacao', 'nelepessoas', 'pagamento', 'alheios', 'arqueologia', 'praticos', 'redencaonao', 'hejab', 'curti', '12', 'completou', 'cabecas', 'explorando', 'infestado', 'contemplar', 'cura', 'fantasioso', 'assiduos', 'maturidade', 'cola', 'qualidadeum', 'naquela', 'enganada', 'desservico', 'mesquinha', 'tomar', 'repeticoes', 'cunho', 'povo', 'obrigacao', 'relacionamento', 'filososo', 'minimamente', 'divulgala', 'premissas', 'acessivel', 'dinamica', 'essenciais', 'bobo', 'momentos', 'notas', 'leitoras', 'lida', 'relevante', 'estereotipo', 'pesado', 'cuida', 'incrivelmente', 'comprovados', 'pensando', 're', 'vendas', 'insuportavel', 'ligar', 'preconceituoso', 'cascudo', 'ranzinza', 'ha', 'fala', 'caracteres', 'concepcao', 'bukowsk', 'ultima', 'marca', 'grey', 'muitas', 'q', 'ceticos', 'concessoes', 'pintando', 'metas', 'traz', 'homens', 'fluida', 'tempo', 'julgue', 'erro', 'protagonista', 'contemporaneo', 'comeco', 'parece', 'principios', 'superacoes', 'zombar', 'socialistas', 'elaborado', 'filhinho', 'perto', 'roubados', 'pseudocienciatem', 'jogar', 'principais', 'carros', 'terceiro', 'suportar', 'pouco', 'tragedias', 'visao', 'diversas', 'autodesenvolvimento', 'parecerem', 'seculomais', 'alguns', 'livreco', 'arabes', 'exploracao', 'justamente', 'dinamico', 'adequadamente', 'formula', 'necessariamente', 'traduzindo', 'primaria', 'doutrinacao', 'quiser', 'quase', 'caro', 'compraram', 'inuteis', 'necessario', 'investigacao', 'casos', 'historica', 'consistentes', 'quais', 'atencaotanto', 'aprecia', 'textos', 'mark', 'criei', 'friomanipuladorinsensivelgrossoum', 'fdase', 'embusteiro', 'piada', 'estrelismo', 'texto', 'status', 'sozinha', 'cenario', 'lutam', 'suplantado', 'entretenimento', 'corri', 'razao', 'segunda', 'pura', 'nao', 'verdadeiro', 'desafio', 'simbolo', 'poderia', 'discordadao', 'embasamento', 'sociedades', 'desinteressante', 'pesquisa', 'inimigos', 'fazendo', 'paralelas', 'contado', 'pobreza', 'picantes', 'embotar', 'fonte', 'ama', 'fator', 'doencas', 'paragrafos', 'bobosodiei', 'habitos', 'achando', 'sombrio', 'definitivamente', 'escolhi', 'incoerentes', 'incluindo', 'chegou', 'bastante', 'espontanea', 'senso', 'like', 'aversao', 'insurgente', 'chego', 'guia', 'autoras', 'materiais', 'comprando', 'seguinte', 'reparacoes', 'democracia', 'perceberia', 'queda', 'caminho', '70', 'sutil', 'pintura', '2', 'costas', 'sofrimento', 'perder', 'repugnante', 'uns', 'transforma', 'disfarcada', 'mudareu', 'qualificados', 'pior', 'traducao', 'romanceado', 'pequenas', 'escultura', 'banal', 'melhor', 'subestima', 'parte', 'ficaria', 'passagem', 'contestar', 'viva', 'madre', 'pobre', 'esqueca', 'batalhas', 'conflituoso', 'sofisma', 'neto', 'quinto', 'religiosa', 'surpresa', 'atento', 'aplicados', 'desmascarado', 'confirmou', 'uso', 'parecer', 'encanta', 'polonia', 'persuasao', 'avo', 'retrovisor', 'personalidade', 'conclui', 'improvaveis', 'facame', 'feminista', 'sucinto', 'passaria', 'gozar', 'estuprada', 'nonsense', 'horas', 'impor', 'acaba', 'dramalhao', 'desses', 'triste', 'critica', 'declaracao', 'madalena', 'arque', 'daquela', 'praticamos', 'clarke', 'repeticao', '34', 'freyre', 'of', 'poesia', 'botar', 'prepotentemilionarioque', 'exploram', 'atwood', 'encanto', 'vemos', 'saliva', 'descontraida', 'dividaporque', 'verosimilhanca', 'culpa', 'apropriar', 'paiela', 'querem', 'stalin', 'bons', 'interessada', 'hominideo', 'religioso', 'prestado', 'fatosnao', 'troca', 'sorte', 'seculo', 'bebe', 'sei', 'livresca', 'posicionando', 'ampliar', 'amigos', 'opiniao', 'lancado', 'atrair', 'esquecendo', 'obrigada', 'terceiroaffffffff', 'linguagem', 'chaaaaaatooooooooo', 'rapaz', 'elites', 'exemplar', 'enroladoum', 'imaginar', 'dei', 'acordo', 'tocante', 'likes', 'meio', 'excita', 'qualidade', 'reduzido', 'chatisse', 'ate', 'superficialidade', 'aproveitavel', 'legado', 'jamais', 'mostrar', 'decepcionante', 'prioridade', 'ganhei', 'americana', 'faca', 'parecidas', 'suicida', 'vira', 'gustave', 'dois', 'miraclemorning', 'cancelar', 'gorda', 'curtas', 'agrada', 'protagonistas', 'recuperar', 'direita', 'contemporanea', 'util', 'interessava', 'irreal', 'usando', 'maximo', 'generalizacoes', 'chavez', 'portugues', 'teimam', 'entrar', 'recortes', 'minorias', 'martin', 'site', 'claras', 'todos', 'desbocada', 'ai', 'filha', 'facebook', 'conseguia', 'visionario', 'mocinhachega', 'males', 'empresa', 'completa', 'contando', 'interesse', 'enrolacao', 'caixa', 'ignora', 'militante', 'pensam', 'percebemos', 'recalcadas', 'considerado', 'servico', 'havera', 'emitiram', 'promete', 'pensa', 'concisa', 'livreto', 'tornase', 'historias', 'delirios', 'bonitinho', 'fila', 'imoveis', 'analisando', 'irao', 'paraguai', 'conviver', 'xingar', 'admiracao', 'acharem', 'entediante', 'embora', 'inovadoras', 'escritora', 'ficcao', 'letra', 'cha', 'chegando', 'ilegal', 'lirismo', 'escrito', 'dita', 'tomando', 'exagero', 'magistral', 'sim', 'dai', 'ma', 'pq', 'escritores', 'ansioso', 'alternada', 'genios', 'ricos', 'explicar', 'tal', 'acreditei', 'inovacao', 'cacar', 'encontro', 'antes', 'estritamente', 'repleto', 'propria', 'precisa', 'simples', 'crises', 'deleitar', 'novidade', 'variar', 'exibe', 'saudoso', 'blogs', 'logo', 'carvalho', 'transformar', 'repugnantes', 'formatacao', 'canal', 'fim', 'sofrivel', 'fontes', 'falhar', 'principes', 'conversa', 'lei', 'xingam', 'desisti', 'rota', 'trate', 'primordios', 'humanidade', 'olha', 'trechos', 'aplausos', 'deseja', 'conteudo', 'planeta', 'questao', 'mega', 'desperdicei', 'dao', 'perdido', 'formam', 'diagramacao', 'nova', 'lair', 've', 'sociais', 'istoria', 'sacadas', 'elogiam', 'mistura', 'partidos', 'sitar', 'morning', 'marido', 'ruira', 'obviedades', 'estudo', 'principal', 'acontece', 'eterna', 'tedtalk', 'pontas', 'penso', '10', 'ja', 'hitler', 'quatro', 'literario', 'certos', 'ignoram', 'estupros', 'disposta', 'tipico', 'gay', 'inspiracao', 'expostas', 'fixar', 'parar', 'fluem', 'pedante', 'argumento', 'cafe', 'discute', 'toca', 'descritivo', 'tirou', 'obsessivas', 'escrita', 'classicas', 'funcionando', 'compilacao', 'brasileiras', 'indignacao', 'fugiu', 'acrescentar', 'acontecido', 'utilizando', 'desfacado', 'eternidade', 'will', 'acontecimento', 'fico', 'acesso', 'torna', 'compadrios', 'demasiadamente', 'ricas', 'cenas', 'mostrase', 'textual', 'entendem', 'dormir', 'qualificando', 'toque', 'burca', 'presumo', 'levemento', 'flashbacks', 'obra', '45', 'ataque', 'aeroportos', 'acrescenta', 'palavrao', 'sendo', 'estragar', 'fisico', 'infudados', 'especialmente', 'tarefa', 'cita', 'afirmando', 'molecular', 'viver', 'substancial', 'alemao', 'falsas', 'bm', 'svetlana', 'envolvia', 'coitadinha', 'arrasta', 'interessado', 'caminhoes', 'monotono', 'perda', 'faltando', 'atestar', 'detalhada', 'indico', 'comparacoes', 'historicamente', 'estadounidense', 'tranquilidade', 'valioso', 'uniao', 'ge', 'vindas', 'regra', 'anunciar', 'acrescentou', 'preocupacao', 'justificar', 'auxilie', 'jovens', 'horror', 'classico', 'extrair', 'otica', 'rocknroll', 'dia', 'ressaltar', 'indicar', 'ideal', 'levarao', 'empolga', 'convencimento', 'descancaradamente', 'jane', 'agressiva', 'leria', 'normal', 'citacao', 'procure', 'abriu', 'paguei', 'espremer', 'paises', 'pessima', 'coisa', 'fizer', 'infeliz', 'governos', 'vulgar', 'fotomas', 'esquerdista', 'max', 'combina', 'recomendariapercebi', 'capitulos', 'xxi', 'recomendacoes', 'vide', 'imensa', 'extrapole', 'mercantil', 'portos', 'continuacaracterizase', 'reais', 'blog', 'concecoes', 'vou', 'considerando', 'sala', 'ne', 'nrradora', 'desservicos', 'limitado', 'cheia', 'aconteceu', 'autopromocao', 'ridiculo', 'xix', 'facam', 'relelo', 'pesquisar', 'jus', 'inedito', 'sete', '3', 'atraves', 'matheus', 'pt', 'deprimente', 'ingleses', 'mil', 'outros', 'terco', 'cultural', 'curtos', 'paula', 'casa', 'territorios', 'nunca', 'elementos', 'novamente', 'faculdade', 'acontecimentos', 'grampeado', 'consentimento', 'obvias', 'carater', 'gates', 'questoes', 'altamente', 'humilhada', 'praticas', 'sofrer', 'minuscula', 'difere', 'suficiente', 'apimentada', 'kal', 'algum', 'futilidade', 'personagem', 'abordados', 'compara', 'opositor', 'comecam', 'peso', 'suposicoes', 'pressa', 'destinadas', 'perfil', 'retirado', 'significasse', 'disseram', 'franca', 'impactante', 'excitante', '300k', 'tacanha', 'assusta', 'adjetivos', 'intelectuais', 'futil', 'abrir', 'emprestar', 'espero', 'trepa', 'oferece', 'humor', 'proximo', 'despender', 'quente', 'cru', 'valeu', 'lou', 'recomenda', 'especificos', 'necessidade', 'ah', 'viavel', 'enfim', 'ditador', 'desperdicio', 'expectativa', 'conforme', 'infantil', 'politicamente', 'tavez', 'morte', 'citados', 'pouquissimos', 'evaa', 'neologismos', 'vale', 'semelhantes', 'proposicoes', 'literatura', 'falta', 'proprios', 'explique', 'costumes', 'charlatao', 'motivacional', 'nessa', 'coragem', 'analise', 'leiturachega', 'chamou', 'fanaticos', 'compromisso', 'explicados', 'produz', 'agremiacoes', 'twist', 'incapacidade', 'deram', 'despertou', 'instrucao', 'respeito', 'estrutura', 'desse', 'apresentase', 'conveniente', 'treinar', 'vontade', 'questionaveis', 'namoradinhos', 'trouxe', 'titulo', 'esclarecer', 'fa', 'capitulo', 'crimes', 'capa', 'junior', 'sociedade', 'compartilhamento', 'emprego', 'incorreto', 'antigo', 'mae', 'raiva', 'conservador', 'figura', 'rocambolesco', 'midia', 'usa', 'quantas', 'leve', 'conseguiu', 'recentemente', 'desnecessarios', 'finalizar', 'woodrow', 'filme', 'cara', 'vendeu', 'abandonado', 'movimentos', 'atender', 'decepcao', 'monte', 'soltas', 'sabe', 'malintencionadas', 'nivel', 'dando', 'curada', 'discipulo', 'percam', 'chance', 'piadinhas', 'cabelo', 'calice', 'fatos', 'solucao', 'diante', 'jogada', 'captado', 'questionar', 'possa', 'edicao', 'sabia', 'varias', 'reis', 'perseguidor', 'descobrir', 'anthony', 'familiares', 'reza', 'indicacoes', 'contraponto', 'charlatanismo', 'produto', 'nenhuma', 'construir', '2a', 'cosmos', 'tediosa', 'adultos', 'costuman', 'sabedoria', 'linkhttpsyoutubeejq9kvvuw0y', 'falecido', 'incapaz', 'libertarian', 'aparecem', 'exageradamente', 'carregado', 'belos', 'trump', 'gasto', 'progresso', 'escolares', 'provavel', 'descartado', 'originais', 'lenta', 'estetica', 'dramatica', 'via', 'desenvolvidos', 'redimir', 'feyre', 'suporte', 'fuja', 'violao', 'lendo', 'bufo', 'simplista', 'encaminhados', 'deveria', 'obrigado', 'kotler', 'sempre', 'martinsconsiderada', 'marxismo', 'reacionarios', 'beleza', 'prepotente', 'errou', 'desenvolvimento', 'compreensao', 'afirmar', 'hormonal', 'criatividade', 'informacoes', 'oportunidade', 'especulador', 'mau', 'pensava', 'vendedor', 'conversas', 'lerei', 'crianca', 'clara', 'aposta', 'serem', 'absolutas', 'inventar', 'fortaleceram', 'green', 'literalmente', 'impressionante', 'hora', 'ressonar', 'lilia', 'chocada', 'populares', 'acreditava', 'pretensamente', 'americano', 'influenciaveis', 'possivelmente', 'devem', 'energia', 'mel', 'exatamente', 'digital', 'receitas', 'repetiam', 'chateou', 'traumas', 'patria', 'aprender', 'excessivamente', 'interessar', 'utiliza', 'mundo', 'jojo', 'simultaneos', 'romantiza', 'aliasduvido', 'hill', 'esquecimento', 'anne', 'medio', 'atras', 'oque', 'rapida', 'bela', 'relacionar', 'mesmas', 'medos', 'passado', 'paul', 'historicidade', 'escrevendo', 'previsivel', 'mtos', 'ajuda', 'amp', 'viu', 'lerja', 'platitudes', 'avaliacoes', 'jogo', 'deste', 'esclarece', 'vivem', 'anedotas', 'volta', 'superadas', 'adoro', 'ganhado', 'pista', 'vasto', 'rasteiro', 'camara', 'bel', 'francamente', 'cury', 'muitos', 'gratuito', 'austen', 'soltasa', 'super', 'realista', 'psiquiatra', 'aceitarem', 'elegancia', 'dizer', 'frustracao', 'rasa', 'discorrendo', 'fingi', 'lamentavelmente', 'esperar', 'franco'])\n"
     ]
    }
   ],
   "source": [
    "#Divisão categorias\n",
    "## Cria uma função que recebe a planilha e o target e retorna o total de palavras e as tabelas de frequencia absoluta e relativa, nessa ordem\n",
    "def divisao_categorias(planilha, target):\n",
    "    #Etapa de divisão de categorias\n",
    "    planilha= mensagem_limpa(planilha)\n",
    "    filtro_target = planilha.loc[planilha['Acionável/Direcionável/Não Acionável'] == target]\n",
    "    vocab_target = cria_vocabulario(filtro_target[\"Mensagem Limpa\"])\n",
    "    df_vocab_target = cria_pdseries(vocab_target)\n",
    "    freq_rel_target = freq_rel(df_vocab_target)\n",
    "    freq_abs_target = freq_abs(df_vocab_target)\n",
    "    total_target = freq_abs_target.sum()\n",
    "    #criar vocabulario limpo\n",
    "    vocab_target = remove_repeticao(vocab_target)\n",
    "    \n",
    "    return total_target, freq_abs_target, freq_rel_target, vocab_target"
   ]
  },
  {
   "cell_type": "code",
   "execution_count": 277,
   "metadata": {},
   "outputs": [],
   "source": [
    "## Função que recebe a planilha e retorna:\n",
    "# o total de palavras com repetição [0] (int)\n",
    "# a tabela com a frequência absoluta de cada palavra na planilha [1] (Series)\n",
    "# a tabela com a frequência relativa de cada palavra na planilha [2] (Series)\n",
    "# a lista com todas as palavras da planilha sem repetição [3] (list)\n",
    "def divisao_planilhas(planilha):\n",
    "\n",
    "    planilha= mensagem_limpa(planilha)                      #cria coluna \"Mensagem Limpa\"\n",
    "    planilha = planilha[\"Mensagem Limpa\"]                   #separa só a coluna \"Mensagem Limpa\"\n",
    "    \n",
    "    vocab_planilha = cria_vocabulario(planilha)             #lista de palavras na coluna \"Mensagem Limpa\"\n",
    "    df_vocab_planilha = cria_pdseries(vocab_planilha)       #coloca essa lista em um df\n",
    "\n",
    "    freq_abs_planilha = freq_abs(df_vocab_planilha)         #calcula a frequência absoluta de cada palavra\n",
    "    freq_rel_planilha = freq_rel(df_vocab_planilha)         #calcula a frequência relativa de cada palavra\n",
    "\n",
    "    total_planilha = freq_abs_planilha.sum()                #calcula o total de palavras com repetição\n",
    "\n",
    "    vocab_planilha = remove_repeticao(vocab_planilha)\n",
    "\n",
    "    return total_planilha, freq_abs_planilha, freq_rel_planilha, vocab_planilha\n"
   ]
  },
  {
   "cell_type": "code",
   "execution_count": 285,
   "metadata": {},
   "outputs": [],
   "source": [
    "#Função de Suavização de LaPlace\n",
    "# A função recebe a palavra, o target e a planilha\n",
    "# def suavizacao(palavra, target, planilha):\n",
    "#     #extraindo dados da planilha\n",
    "#     dados_target = divisao_categorias(planilha, target)\n",
    "#     frequencias_absolutas = dados_target[1]\n",
    "#     qtdd_palavras = dados_target[0]                  #quantidade de palavras no target informado\n",
    "#     qtdd_palavras_sem_repeticao = len(dados_target[3]) #quantidade de palavras sem repetição no target informado\n",
    "#     if palavra in frequencias_absolutas:\n",
    "#         freq_abs_palavra = freq_abs_palavra(palavra)\n",
    "#     else:\n",
    "#         freq_abs_palavra = 0\n",
    "    \n",
    "#     Prob_palavra_dado_target = (freq_abs_palavra + 1)/(qtdd_palavras + qtdd_palavras_sem_repeticao)\n",
    "        \n",
    "#     return Prob_palavra_dado_target\n",
    "\n",
    "#vou criar um dicionário com todas as palavras e seus valores de \n",
    "# probabilidade dado target já suavizados\n",
    "# aí vai ficar mais rapido de encontrar os valores\n",
    "# do que ter que suavizar pra cada palavra toda vez\n",
    "# que chamar o loop\n",
    "\n",
    "def suaviza_target (planilha, target):\n",
    "    planilha = mensagem_limpa(planilha)\n",
    "    coluna_limpa = planilha[\"Mensagem Limpa\"]\n",
    "    \n",
    "    #extraindo dados da planilha\n",
    "    dados_target = divisao_categorias(planilha, target)\n",
    "    frequencias_absolutas = dados_target[1]\n",
    "    qtdd_palavras = dados_target[0]                  #quantidade de palavras no target informado\n",
    "    qtdd_palavras_sem_repeticao = len(dados_target[3]) #quantidade de palavras sem repetição no target informado\n",
    "    \n",
    "    dic = {}   #dicionario com chave de palavra e valor probabilidade condicional\n",
    "    \n",
    "    for frase in coluna_limpa:\n",
    "        frase = frase.split()\n",
    "        for palavra in frase:\n",
    "            if palavra not in dic:\n",
    "                if palavra in frequencias_absolutas:\n",
    "                    freq_abs_palavra = frequencias_absolutas[palavra]\n",
    "                    Prob_palavra_dado_target = (freq_abs_palavra + 1)/(qtdd_palavras + qtdd_palavras_sem_repeticao)\n",
    "                    dic[palavra] = Prob_palavra_dado_target\n",
    "                else:\n",
    "                    freq_abs_palavra = 0\n",
    "                    Prob_palavra_dado_target = (freq_abs_palavra + 1)/(qtdd_palavras + qtdd_palavras_sem_repeticao)\n",
    "                    dic[palavra]= Prob_palavra_dado_target\n",
    "\n",
    "    return dic\n",
    "    \n",
    "    \n",
    "# suaviza_target(train, \"N\")\n",
    "\n",
    "\n",
    "\n",
    "\n",
    "\n",
    "# exemplo de como usar\n",
    "# print(suavizacao(\"absurdo\", \"N\", train))"
   ]
  },
  {
   "cell_type": "code",
   "execution_count": 299,
   "metadata": {},
   "outputs": [
    {
     "data": {
      "text/plain": [
       "8.1933034299297e-56"
      ]
     },
     "execution_count": 299,
     "metadata": {},
     "output_type": "execute_result"
    }
   ],
   "source": [
    "# Calculando probabilidade da frase dado target\n",
    "\n",
    "#consegui otimizar\n",
    "# recebe uma frase qualquer (precisa estar limpa)\n",
    "def frase_dado_target(frase, target, planilha):\n",
    "    \n",
    "    prob_frase_dado_classe = 1\n",
    "    frase = limpa_tudo(frase)\n",
    "    frase =  frase.split()\n",
    "    dic_probabilidades_por_classe = suaviza_target(planilha, target)   #dicionario com as palavras e suas probabilidades condicionais\n",
    "    for palavra in frase:\n",
    "        prob_palavra_dado_classe = dic_probabilidades_por_classe[palavra]\n",
    "        prob_frase_dado_classe *= prob_palavra_dado_classe\n",
    "    return prob_frase_dado_classe\n",
    "\n",
    "\n",
    "frase_dado_target(\"Para quem gosta de poemas simples é o livro ideal, a autora autora faz refletir sobre alguns elementos comuns vida mulheres jeito bem leve\", \"N\", train)"
   ]
  },
  {
   "cell_type": "code",
   "execution_count": 300,
   "metadata": {},
   "outputs": [
    {
     "name": "stdout",
     "output_type": "stream",
     "text": [
      "N\n"
     ]
    }
   ],
   "source": [
    "#agora tem que otimizar essa função de classificador\n",
    "\n",
    "\n",
    "def classificador(frase, planilha):\n",
    "    \n",
    "    #Extraindo as informações\n",
    "    total_train_N = divisao_categorias(train, \"N\")[0]\n",
    "    total_train_D = divisao_categorias(train, \"D\")[0]\n",
    "    total_train_A = divisao_categorias(train, \"A\")[0]\n",
    "    total_train = divisao_planilhas(train)[0]\n",
    "    \n",
    "    #Cálculo das probabilidades\n",
    "    P_frase_dado_A = frase_dado_target(frase, \"A\", planilha)\n",
    "    P_frase_dado_D = frase_dado_target(frase, \"D\", planilha)\n",
    "    P_frase_dado_N = frase_dado_target(frase, \"N\", planilha)\n",
    "    P_train_N = total_train_N/total_train         #probabilidade de estar na categoria N\n",
    "    P_train_D = total_train_D/total_train         #probabilidade de estar na categoria D\n",
    "    P_train_A = total_train_A/total_train         #probabilidade de estar na categoria A\n",
    "    P_A_dado_frase = P_frase_dado_A*P_train_A \n",
    "    P_N_dado_frase = P_frase_dado_N*P_train_N\n",
    "    P_D_dado_frase = P_frase_dado_D*P_train_D\n",
    "        \n",
    "    #Classificação\n",
    "    if P_A_dado_frase > P_D_dado_frase and P_A_dado_frase > P_N_dado_frase:\n",
    "        return \"A\"\n",
    "    elif P_D_dado_frase > P_N_dado_frase and P_D_dado_frase > P_A_dado_frase:\n",
    "        return \"D\"\n",
    "    elif P_N_dado_frase > P_D_dado_frase and P_N_dado_frase > P_A_dado_frase:\n",
    "        return \"N\"\n",
    "    else:\n",
    "        return \"Houve um impasse\"\n",
    "\n",
    "\n",
    "\n",
    "\n",
    "\n",
    "frase = \"gosta poemas simples livro ideal autora faz refletir sobre alguns elementos comuns vida mulheres jeito bem leve\"\n",
    "\n",
    "print(classificador(frase, train))\n",
    "    "
   ]
  },
  {
   "cell_type": "markdown",
   "metadata": {},
   "source": [
    "Calculando as informações da base de treino"
   ]
  },
  {
   "cell_type": "code",
   "execution_count": 301,
   "metadata": {},
   "outputs": [],
   "source": [
    "####-  DIVISÃO CATEGORIAS TREINO  -####\n",
    "\n",
    "#--- categoria Não Acionável\n",
    "# total_train_N = divisao_categorias(train, \"N\")[0]         #Quantidade total de palavras (incluindo as repetições)\n",
    "# freq_abs_train_N = divisao_categorias(train, \"N\")[1]      #Tabela com as frequencias absolutas das palavras\n",
    "# freq_rel_train_N = divisao_categorias(train, \"N\")[2]      #Tabela com as frequencias relativas das palavras\n",
    "# vocab_train_N = divisao_categorias(train, \"N\")[3]         #Vocabulario de todas as palavras dessa classificação (SEM as repetições)\n",
    "\n",
    "# #--- categoria Direcionável\n",
    "# total_train_D = divisao_categorias(train, \"D\")[0]\n",
    "# freq_abs_train_D = divisao_categorias(train, \"D\")[1]\n",
    "# freq_rel_train_D = divisao_categorias(train, \"D\")[2]\n",
    "# vocab_train_D = divisao_categorias(train, \"D\")[3]              \n",
    "\n",
    "# #--- categoria Acionável\n",
    "# total_train_A = divisao_categorias(train, \"A\")[0]\n",
    "# freq_abs_train_A = divisao_categorias(train, \"A\")[1]\n",
    "# freq_rel_train_A = divisao_categorias(train, \"A\")[2]\n",
    "# vocab_train_A = divisao_categorias(train, \"A\")[3]       \n",
    "\n",
    "# #--- Todas as palavras\n",
    "# total_train = divisao_planilhas(train)[0]\n",
    "# freq_abs_train = divisao_planilhas(train)[1]\n",
    "# freq_rel_train = divisao_planilhas(train)[2]\n",
    "# vocab_train = divisao_planilhas(train)[3]\n",
    "\n",
    "# #### Guardando as palavras em um pd.Series\n",
    "# todas_palavras_train = cria_pdseries(vocab_train)\n",
    "# palavras_train_A = cria_pdseries(vocab_train_A)\n",
    "# palavras_train_N = cria_pdseries(vocab_train_N)\n",
    "# palavras_train_D = cria_pdseries(vocab_train_D)\n",
    "\n",
    "####- PROBABILIDADES DAS CATEGORIAS TREINO -####\n",
    "# prob_trein_N = total_train_N/total_train         #probabilidade de estar na categoria N\n",
    "# prob_trein_D = total_train_D/total_train         #probabilidade de estar na categoria D\n",
    "# prob_trein_A = total_train_A/total_train         #probabilidade de estar na categoria A\n",
    "\n",
    "# prob_trein_N + prob_trein_A + prob_trein_D       #conferindo\n"
   ]
  },
  {
   "cell_type": "markdown",
   "metadata": {},
   "source": [
    "Palavras da base de teste"
   ]
  },
  {
   "cell_type": "code",
   "execution_count": 302,
   "metadata": {},
   "outputs": [],
   "source": [
    "# ####-  DIVISÃO CATEGORIAS TESTE  -####\n",
    "\n",
    "# #--- categoria Não Acionável\n",
    "# total_test_N = divisao_categorias(test, \"N\")[0]         #Quantidade total de palavras (incluindo as repetições)\n",
    "# freq_abs_test_N = divisao_categorias(test, \"N\")[1]      #Tabela com as frequencias absolutas\n",
    "# freq_rel_test_N = divisao_categorias(test, \"N\")[2]      #Tabela com as frequencias relativas\n",
    "# vocab_test_N = divisao_categorias(test, \"N\")[3]         #vocabulario com as palavras dessa categoria (SEM as repetições)\n",
    "\n",
    "# #--- categoria Direcionável\n",
    "# total_test_D = divisao_categorias(test, \"D\")[0]         \n",
    "# freq_abs_test_D = divisao_categorias(test, \"D\")[1]\n",
    "# freq_rel_test_D = divisao_categorias(test, \"D\")[2]\n",
    "# vocab_test_D = divisao_categorias(test, \"D\")[3]  \n",
    "\n",
    "# #--- categoria Acionável\n",
    "# total_test_A = divisao_categorias(test, \"A\")[0]\n",
    "# freq_abs_test_A = divisao_categorias(test, \"A\")[1]\n",
    "# freq_rel_test_A = divisao_categorias(test, \"A\")[2]\n",
    "# vocab_test_A = divisao_categorias(test, \"A\")[3]  \n",
    "\n",
    "# #--- Todas as palavras\n",
    "# total_test = divisao_planilhas(test)[0]\n",
    "# freq_abs_test = divisao_planilhas(test)[1]\n",
    "# freq_rel_test = divisao_planilhas(test)[2]\n",
    "# vocab_test = divisao_planilhas(test)[3]\n",
    "\n",
    "# #### Guardando as palavras em um pd.Series\n",
    "# todas_palavras_test = cria_pdseries(vocab_test)         #cria um dataframe com todas as palavras da planilha de teste\n",
    "# palavras_test_A = cria_pdseries(vocab_test_A)           #cria um df com todas as palavras do target acionavel\n",
    "# palavras_test_N = cria_pdseries(vocab_test_N)           #cria um df com todas as palavras do target nao acionavel\n",
    "# palavras_test_D = cria_pdseries(vocab_test_D)           #cria um df com todas as palvras do target direcionavel\n",
    "# \"\"\"EXPLICAÇÕES\n",
    "# vocab_df [lista] = palavras já limpas\n",
    "\n",
    "# df_vocab_df [tabela] = transforma o vocab_df em tabela\n",
    "\n",
    "# freq_rel_df [tabela] = frequencia relativa de cada palavra\n",
    "# freq_abs_df [tabela] = 1\n",
    "# total_df [int] = quantidade total de palavras\n",
    "# \"\"\"\n",
    "# ####- PROBABILIDADES DAS CATEGORIAS TESTE -####\n",
    "# prob_test_N = total_test_N/total_test    #probabilidade de estar na categoria N\n",
    "# prob_test_D = total_test_D/total_test    #probabilidade de estar na categoria D\n",
    "# prob_test_A = total_test_A/total_test    #probabilidade de estar na categoria A\n",
    "\n",
    "# prob_test_A + prob_test_D + prob_test_N  #conferindo"
   ]
  },
  {
   "cell_type": "markdown",
   "metadata": {},
   "source": [
    "___\n",
    "### Verificando a performance do Classificador\n",
    "\n",
    "Agora você deve testar o seu classificador com a base de Testes."
   ]
  },
  {
   "cell_type": "code",
   "execution_count": 303,
   "metadata": {},
   "outputs": [
    {
     "ename": "KeyError",
     "evalue": "'santanna'",
     "output_type": "error",
     "traceback": [
      "\u001b[1;31m---------------------------------------------------------------------------\u001b[0m",
      "\u001b[1;31mKeyError\u001b[0m                                  Traceback (most recent call last)",
      "\u001b[1;32m~\\AppData\\Local\\Temp\\ipykernel_8480\\804310704.py\u001b[0m in \u001b[0;36m<module>\u001b[1;34m\u001b[0m\n\u001b[0;32m     34\u001b[0m \u001b[1;33m\u001b[0m\u001b[0m\n\u001b[0;32m     35\u001b[0m \u001b[1;33m\u001b[0m\u001b[0m\n\u001b[1;32m---> 36\u001b[1;33m \u001b[0mclassifica_planilha\u001b[0m\u001b[1;33m(\u001b[0m\u001b[0mtrain\u001b[0m\u001b[1;33m)\u001b[0m\u001b[1;33m\u001b[0m\u001b[1;33m\u001b[0m\u001b[0m\n\u001b[0m\u001b[0;32m     37\u001b[0m \u001b[1;33m\u001b[0m\u001b[0m\n",
      "\u001b[1;32m~\\AppData\\Local\\Temp\\ipykernel_8480\\804310704.py\u001b[0m in \u001b[0;36mclassifica_planilha\u001b[1;34m(planilha)\u001b[0m\n\u001b[0;32m      9\u001b[0m \u001b[1;33m\u001b[0m\u001b[0m\n\u001b[0;32m     10\u001b[0m     \u001b[1;32mfor\u001b[0m \u001b[0mfrase\u001b[0m \u001b[1;32min\u001b[0m \u001b[0mavaliacoes_limpas\u001b[0m\u001b[1;33m:\u001b[0m\u001b[1;33m\u001b[0m\u001b[1;33m\u001b[0m\u001b[0m\n\u001b[1;32m---> 11\u001b[1;33m         \u001b[0mresultado\u001b[0m \u001b[1;33m=\u001b[0m \u001b[0mclassificador\u001b[0m\u001b[1;33m(\u001b[0m\u001b[0mfrase\u001b[0m\u001b[1;33m,\u001b[0m \u001b[0mplanilha\u001b[0m\u001b[1;33m)\u001b[0m\u001b[1;33m\u001b[0m\u001b[1;33m\u001b[0m\u001b[0m\n\u001b[0m\u001b[0;32m     12\u001b[0m         \u001b[0mresultados\u001b[0m\u001b[1;33m.\u001b[0m\u001b[0mappend\u001b[0m\u001b[1;33m(\u001b[0m\u001b[0mresultado\u001b[0m\u001b[1;33m)\u001b[0m\u001b[1;33m\u001b[0m\u001b[1;33m\u001b[0m\u001b[0m\n\u001b[0;32m     13\u001b[0m \u001b[1;33m\u001b[0m\u001b[0m\n",
      "\u001b[1;32m~\\AppData\\Local\\Temp\\ipykernel_8480\\3595306649.py\u001b[0m in \u001b[0;36mclassificador\u001b[1;34m(frase, planilha)\u001b[0m\n\u001b[0;32m     11\u001b[0m \u001b[1;33m\u001b[0m\u001b[0m\n\u001b[0;32m     12\u001b[0m     \u001b[1;31m#Cálculo das probabilidades\u001b[0m\u001b[1;33m\u001b[0m\u001b[1;33m\u001b[0m\u001b[0m\n\u001b[1;32m---> 13\u001b[1;33m     \u001b[0mP_frase_dado_A\u001b[0m \u001b[1;33m=\u001b[0m \u001b[0mclassifica_por_target\u001b[0m\u001b[1;33m(\u001b[0m\u001b[0mfrase\u001b[0m\u001b[1;33m,\u001b[0m \u001b[1;34m\"A\"\u001b[0m\u001b[1;33m,\u001b[0m \u001b[0mplanilha\u001b[0m\u001b[1;33m)\u001b[0m\u001b[1;33m\u001b[0m\u001b[1;33m\u001b[0m\u001b[0m\n\u001b[0m\u001b[0;32m     14\u001b[0m     \u001b[0mP_frase_dado_D\u001b[0m \u001b[1;33m=\u001b[0m \u001b[0mclassifica_por_target\u001b[0m\u001b[1;33m(\u001b[0m\u001b[0mfrase\u001b[0m\u001b[1;33m,\u001b[0m \u001b[1;34m\"D\"\u001b[0m\u001b[1;33m,\u001b[0m \u001b[0mplanilha\u001b[0m\u001b[1;33m)\u001b[0m\u001b[1;33m\u001b[0m\u001b[1;33m\u001b[0m\u001b[0m\n\u001b[0;32m     15\u001b[0m     \u001b[0mP_frase_dado_N\u001b[0m \u001b[1;33m=\u001b[0m \u001b[0mclassifica_por_target\u001b[0m\u001b[1;33m(\u001b[0m\u001b[0mfrase\u001b[0m\u001b[1;33m,\u001b[0m \u001b[1;34m\"N\"\u001b[0m\u001b[1;33m,\u001b[0m \u001b[0mplanilha\u001b[0m\u001b[1;33m)\u001b[0m\u001b[1;33m\u001b[0m\u001b[1;33m\u001b[0m\u001b[0m\n",
      "\u001b[1;32m~\\AppData\\Local\\Temp\\ipykernel_8480\\1215282990.py\u001b[0m in \u001b[0;36mclassifica_por_target\u001b[1;34m(frase, target, planilha)\u001b[0m\n\u001b[0;32m     10\u001b[0m     \u001b[0mdic_probabilidades_por_classe\u001b[0m \u001b[1;33m=\u001b[0m \u001b[0msuaviza_target\u001b[0m\u001b[1;33m(\u001b[0m\u001b[0mplanilha\u001b[0m\u001b[1;33m,\u001b[0m \u001b[0mtarget\u001b[0m\u001b[1;33m)\u001b[0m   \u001b[1;31m#dicionario com as palavras e suas probabilidades condicionais\u001b[0m\u001b[1;33m\u001b[0m\u001b[1;33m\u001b[0m\u001b[0m\n\u001b[0;32m     11\u001b[0m     \u001b[1;32mfor\u001b[0m \u001b[0mpalavra\u001b[0m \u001b[1;32min\u001b[0m \u001b[0mfrase\u001b[0m\u001b[1;33m:\u001b[0m\u001b[1;33m\u001b[0m\u001b[1;33m\u001b[0m\u001b[0m\n\u001b[1;32m---> 12\u001b[1;33m         \u001b[0mprob_palavra_dado_classe\u001b[0m \u001b[1;33m=\u001b[0m \u001b[0mdic_probabilidades_por_classe\u001b[0m\u001b[1;33m[\u001b[0m\u001b[0mpalavra\u001b[0m\u001b[1;33m]\u001b[0m\u001b[1;33m\u001b[0m\u001b[1;33m\u001b[0m\u001b[0m\n\u001b[0m\u001b[0;32m     13\u001b[0m         \u001b[0mprob_frase_dado_classe\u001b[0m \u001b[1;33m*=\u001b[0m \u001b[0mprob_palavra_dado_classe\u001b[0m\u001b[1;33m\u001b[0m\u001b[1;33m\u001b[0m\u001b[0m\n\u001b[0;32m     14\u001b[0m     \u001b[1;32mreturn\u001b[0m \u001b[0mprob_frase_dado_classe\u001b[0m\u001b[1;33m\u001b[0m\u001b[1;33m\u001b[0m\u001b[0m\n",
      "\u001b[1;31mKeyError\u001b[0m: 'santanna'"
     ]
    }
   ],
   "source": [
    "## Fazer meu classificador classificar todas as frases da planilha de teste\n",
    "\n",
    "def classifica_planilha(planilha):\n",
    "    planilha= mensagem_limpa(planilha)                      #cria coluna \"Mensagem Limpa\"\n",
    "    avaliacoes_limpas = planilha[\"Mensagem Limpa\"]          #separa só a coluna \"Mensagem Limpa\"\n",
    "    planilha_limpa = planilha.copy()\n",
    "    \n",
    "    resultados = []\n",
    "    \n",
    "    for frase in avaliacoes_limpas:\n",
    "        resultado = classificador(frase, planilha)\n",
    "        resultados.append(resultado)\n",
    "    \n",
    "    planilha_limpa['Classificador Automático'] = classificador(frase, planilha)\n",
    "    \n",
    "    return planilha_limpa\n",
    "\n",
    "# def classifica_planilha(planilha):\n",
    "#     planilha = mensagem_limpa(planilha)\n",
    "#     avaliacoes_limpas = planilha[\"Mensagem Limpa\"]\n",
    "#     planilha_limpa = planilha.copy()\n",
    "    \n",
    "#     # Criar uma lista para armazenar os resultados do classificador\n",
    "#     resultados = []\n",
    "\n",
    "#     for frase in avaliacoes_limpas:\n",
    "#         resultado = classificador(frase, planilha)\n",
    "#         resultados.append(resultado)\n",
    "\n",
    "#     # Atribuir a lista de resultados à coluna 'Classificador Automático'\n",
    "#     planilha_limpa['Classificador Automático'] = resultados\n",
    "    \n",
    "#     return planilha_limpa\n",
    "\n",
    "        \n",
    "classifica_planilha(train)\n",
    "    "
   ]
  },
  {
   "cell_type": "code",
   "execution_count": null,
   "metadata": {},
   "outputs": [],
   "source": []
  },
  {
   "cell_type": "code",
   "execution_count": null,
   "metadata": {},
   "outputs": [],
   "source": []
  },
  {
   "cell_type": "code",
   "execution_count": null,
   "metadata": {},
   "outputs": [],
   "source": []
  },
  {
   "cell_type": "markdown",
   "metadata": {},
   "source": [
    "___\n",
    "### Concluindo"
   ]
  },
  {
   "cell_type": "code",
   "execution_count": 226,
   "metadata": {},
   "outputs": [],
   "source": [
    "#a probabilidade de todas as palavras estarem contidas num texto não é a mesma? "
   ]
  },
  {
   "cell_type": "code",
   "execution_count": null,
   "metadata": {},
   "outputs": [],
   "source": []
  },
  {
   "cell_type": "code",
   "execution_count": null,
   "metadata": {},
   "outputs": [],
   "source": []
  },
  {
   "cell_type": "markdown",
   "metadata": {},
   "source": [
    "___\n",
    "### Qualidade do Classificador a partir de novas separações dos tweets entre Treinamento e Teste\n",
    "\n",
    "Caso for fazer esse item do Projeto"
   ]
  },
  {
   "cell_type": "code",
   "execution_count": null,
   "metadata": {},
   "outputs": [],
   "source": []
  },
  {
   "cell_type": "code",
   "execution_count": null,
   "metadata": {},
   "outputs": [],
   "source": []
  },
  {
   "cell_type": "code",
   "execution_count": null,
   "metadata": {},
   "outputs": [],
   "source": []
  },
  {
   "cell_type": "markdown",
   "metadata": {},
   "source": [
    "___\n",
    "## Aperfeiçoamento:\n",
    "\n",
    "Trabalhos que conseguirem pelo menos conceito B vão evoluir em conceito dependendo da quantidade de itens avançados:\n",
    "\n",
    "* IMPLEMENTOU outras limpezas e transformações que não afetem a qualidade da informação contida nos tweets. Ex: stemming, lemmatization, stopwords\n",
    "* CONSIDEROU mais de duas categorias na variável Target e INCREMENTOU a quantidade de notícias, mantendo pelo menos 250 notícias por categoria (OBRIGATÓRIO PARA TRIOS, sem contar como item avançado)\n",
    "* Para Target com duas categorias: CRIOU pelo menos quatro categorias intermediárias de relevância baseadas na probabilidade: ex.: muito relevante, relevante, neutro, irrelevante, muito irrelevante\n",
    "* EXPLICOU porquê não pode usar o próprio classificador para gerar mais amostras de treinamento\n",
    "* PROPÔS diferentes cenários para Naïve Bayes fora do contexto do projeto (pelo menos dois cenários, exceto aqueles já apresentados em sala pelos professores: por exemplo, filtro de spam)\n",
    "* SUGERIU e EXPLICOU melhorias reais com indicações concretas de como implementar (indicar como fazer e indicar material de pesquisa)\n",
    "* FEZ o item Qualidade do Classificador a partir de novas separações das Notícias entre Treinamento e Teste descrito no enunciado do projeto (OBRIGATÓRIO para conceitos A ou A+)"
   ]
  },
  {
   "cell_type": "markdown",
   "metadata": {},
   "source": [
    "___\n",
    "## Referências"
   ]
  },
  {
   "cell_type": "markdown",
   "metadata": {},
   "source": [
    "[Naive Bayes and Text Classification](https://arxiv.org/pdf/1410.5329.pdf)  **Mais completo**\n",
    "\n",
    "[A practical explanation of a Naive Bayes Classifier](https://monkeylearn.com/blog/practical-explanation-naive-bayes-classifier/) **Mais simples**"
   ]
  },
  {
   "cell_type": "markdown",
   "metadata": {},
   "source": [
    "Dica: apresentar um grafico com testes mostrando quais limpezas melhoraram a acurácia do nosso classificador (lemmatization, stopwords, etc)\n",
    "\n",
    "REtirar algumas palavras para ver se melhora a qualidade do classificador (exemplo palavra não)"
   ]
  },
  {
   "cell_type": "code",
   "execution_count": null,
   "metadata": {},
   "outputs": [],
   "source": []
  },
  {
   "cell_type": "code",
   "execution_count": null,
   "metadata": {},
   "outputs": [],
   "source": []
  }
 ],
 "metadata": {
  "kernelspec": {
   "display_name": "Python 3 (ipykernel)",
   "language": "python",
   "name": "python3"
  },
  "language_info": {
   "codemirror_mode": {
    "name": "ipython",
    "version": 3
   },
   "file_extension": ".py",
   "mimetype": "text/x-python",
   "name": "python",
   "nbconvert_exporter": "python",
   "pygments_lexer": "ipython3",
   "version": "3.9.13"
  }
 },
 "nbformat": 4,
 "nbformat_minor": 4
}

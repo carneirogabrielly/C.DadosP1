{
 "cells": [
  {
   "cell_type": "markdown",
   "metadata": {},
   "source": [
    "# Projeto 1 - Ciência dos Dados"
   ]
  },
  {
   "cell_type": "markdown",
   "metadata": {},
   "source": [
    "Nome: Alison Araujo\n",
    "\n",
    "Nome: Gabrielly Carneiro"
   ]
  },
  {
   "cell_type": "markdown",
   "metadata": {},
   "source": [
    "Atenção: Serão permitidos grupos de três pessoas, mas com uma rubrica mais exigente. Grupos deste tamanho precisarão fazer um questionário de avaliação de trabalho em equipe"
   ]
  },
  {
   "cell_type": "markdown",
   "metadata": {},
   "source": [
    "___\n",
    "Carregando algumas bibliotecas:"
   ]
  },
  {
   "cell_type": "code",
   "execution_count": 143,
   "metadata": {},
   "outputs": [
    {
     "name": "stderr",
     "output_type": "stream",
     "text": [
      "[nltk_data] Downloading package punkt to\n",
      "[nltk_data]     C:\\Users\\gabri\\AppData\\Roaming\\nltk_data...\n",
      "[nltk_data]   Package punkt is already up-to-date!\n",
      "[nltk_data] Downloading package stopwords to\n",
      "[nltk_data]     C:\\Users\\gabri\\AppData\\Roaming\\nltk_data...\n",
      "[nltk_data]   Package stopwords is already up-to-date!\n",
      "[nltk_data] Error loading word_tokenize: Package 'word_tokenize' not\n",
      "[nltk_data]     found in index\n"
     ]
    }
   ],
   "source": [
    "%matplotlib inline\n",
    "import pandas as pd\n",
    "import matplotlib.pyplot as plt\n",
    "import numpy as np\n",
    "import os\n",
    "import re\n",
    "from unidecode import unidecode\n",
    "import nltk\n",
    "from nltk.corpus import stopwords\n",
    "from nltk.tokenize import word_tokenize\n",
    "nltk.download('punkt')\n",
    "nltk.download('stopwords')\n",
    "nltk.download('word_tokenize')\n",
    "stopwordsdic = stopwords.words('portuguese')\n",
    "\n",
    "from spacy import load\n",
    "nlp = load('pt_core_news_sm')"
   ]
  },
  {
   "cell_type": "code",
   "execution_count": 144,
   "metadata": {
    "scrolled": false
   },
   "outputs": [
    {
     "name": "stdout",
     "output_type": "stream",
     "text": [
      "Esperamos trabalhar no diretório\n",
      "c:\\Users\\gabri\\OneDrive - Insper - Institudo de Ensino e Pesquisa\\Projeto 1\\C.DadosP1\n"
     ]
    }
   ],
   "source": [
    "print('Esperamos trabalhar no diretório')\n",
    "print(os.getcwd())"
   ]
  },
  {
   "cell_type": "markdown",
   "metadata": {},
   "source": [
    "Carregando a base de dados com os tweets classificados manualmente:"
   ]
  },
  {
   "cell_type": "code",
   "execution_count": 145,
   "metadata": {},
   "outputs": [
    {
     "data": {
      "text/html": [
       "<div>\n",
       "<style scoped>\n",
       "    .dataframe tbody tr th:only-of-type {\n",
       "        vertical-align: middle;\n",
       "    }\n",
       "\n",
       "    .dataframe tbody tr th {\n",
       "        vertical-align: top;\n",
       "    }\n",
       "\n",
       "    .dataframe thead th {\n",
       "        text-align: right;\n",
       "    }\n",
       "</style>\n",
       "<table border=\"1\" class=\"dataframe\">\n",
       "  <thead>\n",
       "    <tr style=\"text-align: right;\">\n",
       "      <th></th>\n",
       "      <th>Mensagem</th>\n",
       "      <th>Acionável/Direcionável/Não Acionável</th>\n",
       "    </tr>\n",
       "  </thead>\n",
       "  <tbody>\n",
       "    <tr>\n",
       "      <th>0</th>\n",
       "      <td>Para quem gosta de poemas simples, esse é o li...</td>\n",
       "      <td>N</td>\n",
       "    </tr>\n",
       "    <tr>\n",
       "      <th>1</th>\n",
       "      <td>Quando vi o lançamento pensei que finalmente p...</td>\n",
       "      <td>D</td>\n",
       "    </tr>\n",
       "    <tr>\n",
       "      <th>2</th>\n",
       "      <td>É incrível como esses escritores e \"intelectua...</td>\n",
       "      <td>N</td>\n",
       "    </tr>\n",
       "    <tr>\n",
       "      <th>3</th>\n",
       "      <td>Se desse pra devolver eu devolvia, nao é por e...</td>\n",
       "      <td>N</td>\n",
       "    </tr>\n",
       "    <tr>\n",
       "      <th>4</th>\n",
       "      <td>Futilidade, inutilidade, desperdício de papel,...</td>\n",
       "      <td>N</td>\n",
       "    </tr>\n",
       "  </tbody>\n",
       "</table>\n",
       "</div>"
      ],
      "text/plain": [
       "                                            Mensagem  \\\n",
       "0  Para quem gosta de poemas simples, esse é o li...   \n",
       "1  Quando vi o lançamento pensei que finalmente p...   \n",
       "2  É incrível como esses escritores e \"intelectua...   \n",
       "3  Se desse pra devolver eu devolvia, nao é por e...   \n",
       "4  Futilidade, inutilidade, desperdício de papel,...   \n",
       "\n",
       "  Acionável/Direcionável/Não Acionável  \n",
       "0                                    N  \n",
       "1                                    D  \n",
       "2                                    N  \n",
       "3                                    N  \n",
       "4                                    N  "
      ]
     },
     "execution_count": 145,
     "metadata": {},
     "output_type": "execute_result"
    }
   ],
   "source": [
    "train = pd.read_excel('dados_treino.xlsx')\n",
    "train.head(5)"
   ]
  },
  {
   "cell_type": "code",
   "execution_count": 146,
   "metadata": {},
   "outputs": [
    {
     "data": {
      "text/html": [
       "<div>\n",
       "<style scoped>\n",
       "    .dataframe tbody tr th:only-of-type {\n",
       "        vertical-align: middle;\n",
       "    }\n",
       "\n",
       "    .dataframe tbody tr th {\n",
       "        vertical-align: top;\n",
       "    }\n",
       "\n",
       "    .dataframe thead th {\n",
       "        text-align: right;\n",
       "    }\n",
       "</style>\n",
       "<table border=\"1\" class=\"dataframe\">\n",
       "  <thead>\n",
       "    <tr style=\"text-align: right;\">\n",
       "      <th></th>\n",
       "      <th>Mensagem</th>\n",
       "      <th>Acionável/Direcionável/Não Acionável</th>\n",
       "    </tr>\n",
       "  </thead>\n",
       "  <tbody>\n",
       "    <tr>\n",
       "      <th>0</th>\n",
       "      <td>O livro é prolixo, redundante, doentio. Sou su...</td>\n",
       "      <td>N</td>\n",
       "    </tr>\n",
       "    <tr>\n",
       "      <th>1</th>\n",
       "      <td>Bom livro e história envolvente. Porém, o leit...</td>\n",
       "      <td>D</td>\n",
       "    </tr>\n",
       "    <tr>\n",
       "      <th>2</th>\n",
       "      <td>Fala tudo que todos já sabem, sem falar que nã...</td>\n",
       "      <td>N</td>\n",
       "    </tr>\n",
       "    <tr>\n",
       "      <th>3</th>\n",
       "      <td>Ganhei na compra do Kindle. Não é estilo de li...</td>\n",
       "      <td>N</td>\n",
       "    </tr>\n",
       "    <tr>\n",
       "      <th>4</th>\n",
       "      <td>Custa crer que um livro tão medíocre, embora m...</td>\n",
       "      <td>N</td>\n",
       "    </tr>\n",
       "  </tbody>\n",
       "</table>\n",
       "</div>"
      ],
      "text/plain": [
       "                                            Mensagem  \\\n",
       "0  O livro é prolixo, redundante, doentio. Sou su...   \n",
       "1  Bom livro e história envolvente. Porém, o leit...   \n",
       "2  Fala tudo que todos já sabem, sem falar que nã...   \n",
       "3  Ganhei na compra do Kindle. Não é estilo de li...   \n",
       "4  Custa crer que um livro tão medíocre, embora m...   \n",
       "\n",
       "  Acionável/Direcionável/Não Acionável  \n",
       "0                                    N  \n",
       "1                                    D  \n",
       "2                                    N  \n",
       "3                                    N  \n",
       "4                                    N  "
      ]
     },
     "execution_count": 146,
     "metadata": {},
     "output_type": "execute_result"
    }
   ],
   "source": [
    "test = pd.read_excel('dados_teste.xlsx')\n",
    "test.head(5)"
   ]
  },
  {
   "cell_type": "markdown",
   "metadata": {},
   "source": [
    "___\n",
    "## Classificador automático\n"
   ]
  },
  {
   "cell_type": "markdown",
   "metadata": {},
   "source": [
    "Na primeira etapa, de classificação manual, consideramos três targets para os reviews: Acionável, Direcionável e Não Acionável. \n",
    "\n",
    "- Acionável: para ser considerado \"acionável\" (\"A\") o review deve ser passível de alguma ação pela Amazon, ou seja, o review deve ser sobre entrega, estado do produto, contato com o suporte, etc. \n",
    "- Direcionável: para o target \"direcionável\" (\"D\") foram considerados comentários relativos à editora, como qualidade do material do livro, preço do livro e do e-book, tradução e edição. \n",
    "- Não Acionáveis: por fim, os não acionáveis (\"NA\") eram comentários relativos ao autor, ao apreço pelo conteúdo do livro, ou comentários irrelavantes."
   ]
  },
  {
   "cell_type": "markdown",
   "metadata": {},
   "source": [
    "___\n",
    "### Montando um Classificador Naive-Bayes\n",
    "\n",
    "Considerando apenas as mensagens da planilha Treinamento, ensine  seu classificador."
   ]
  },
  {
   "cell_type": "markdown",
   "metadata": {},
   "source": [
    "Funções úteis:"
   ]
  },
  {
   "cell_type": "code",
   "execution_count": 147,
   "metadata": {},
   "outputs": [],
   "source": [
    "#Criar uma função que transforma as frases da planilha em um texto só \n",
    "    #(Será útil para criar o dicionário com as palavras)\n",
    "def transforma_em_string(coluna):\n",
    "    texto = ''\n",
    "    for linha in coluna:\n",
    "        texto += linha + ' '\n",
    "    return texto    "
   ]
  },
  {
   "cell_type": "code",
   "execution_count": 148,
   "metadata": {},
   "outputs": [],
   "source": [
    "#Criar uma função que limpa todas as pontuações\n",
    "def cleanup(text):\n",
    "    punctuation = r'[´\"\\'!-.:?;$,/~^_=+*&¨%$#@|\\{}()[\\]]'\n",
    "    pattern = re.compile(punctuation)\n",
    "    text_subbed = re.sub(pattern, '', text)\n",
    "    return text_subbed"
   ]
  },
  {
   "cell_type": "code",
   "execution_count": 149,
   "metadata": {},
   "outputs": [],
   "source": [
    "#Cria uma função que limpa os espaços duplicados\n",
    "def limpa_espaco(text):\n",
    "    punctuation = r'[\\n]'  # Adicione os caracteres desejados aqui\n",
    "    pattern = re.compile(punctuation)\n",
    "    text_subbed = re.sub(pattern, '', text)\n",
    "    return text_subbed"
   ]
  },
  {
   "cell_type": "code",
   "execution_count": 150,
   "metadata": {},
   "outputs": [],
   "source": [
    "#Criando uma função para remover emoji\n",
    "def remove_emoji(text):\n",
    "    text_without_emojis = unidecode(text)\n",
    "    return text_without_emojis"
   ]
  },
  {
   "cell_type": "code",
   "execution_count": 151,
   "metadata": {},
   "outputs": [],
   "source": [
    "#Criando a função de stopwords\n",
    "def stopwords(texto):\n",
    "    palavras = word_tokenize(texto, language='portuguese') # Tokenize é analisar palavras individualmente, basicamente\n",
    "    palavras_sem_stopword = []\n",
    "    for palavra in palavras:\n",
    "        if palavra not in stopwordsdic:\n",
    "            palavras_sem_stopword.append(palavra)\n",
    "    # Reúna as palavras sem stopwords em uma string novamente\n",
    "    texto_sem_stopword = ' '.join(palavras_sem_stopword)\n",
    "    return texto_sem_stopword"
   ]
  },
  {
   "cell_type": "code",
   "execution_count": 152,
   "metadata": {},
   "outputs": [],
   "source": [
    "#Criando a função de lematização\n",
    "def lemmat(texto):\n",
    "    doc = nlp(texto)\n",
    "    lemmat_radicais = []\n",
    "    for radicais in doc:\n",
    "        lemmat_radicais.append(radicais.lemma_)\n",
    "    texto_lemmat = ' '.join(lemmat_radicais)    \n",
    "    return texto_lemmat"
   ]
  },
  {
   "cell_type": "code",
   "execution_count": 153,
   "metadata": {
    "scrolled": false
   },
   "outputs": [],
   "source": [
    "# Cria uma função que reúna as funções de limpeza\n",
    "def limpa_tudo(mensagem):\n",
    "    #Aplicando a função de limpeza de pontuação\n",
    "    texto = cleanup(mensagem)\n",
    "    #Deixando tudo em letra minúscula\n",
    "    texto = texto.lower()\n",
    "    #Removendo emoji\n",
    "    texto = remove_emoji(texto)\n",
    "    #Aplicando a função de limpeza de espaço\n",
    "    texto = limpa_espaco(texto)\n",
    "    #Removendo stopwords\n",
    "    texto = stopwords(texto)\n",
    "    #Realiza lemmatização\n",
    "    # texto = lemmat(texto)          # removi pois demora muito para classificar \n",
    "    return texto\n"
   ]
  },
  {
   "cell_type": "code",
   "execution_count": 154,
   "metadata": {},
   "outputs": [],
   "source": [
    "#Cria uma função que limpa as linhas da planilha e adiciona as mensagens limpas à planilha\n",
    "def mensagem_limpa(planilha):   #recebe a planilha e retorna com a coluna de mensagem limpa\n",
    "    planilha['Mensagem Limpa'] = [limpa_tudo(x) for x in list(planilha['Mensagem'])]\n",
    "    return planilha\n"
   ]
  },
  {
   "cell_type": "code",
   "execution_count": 155,
   "metadata": {},
   "outputs": [],
   "source": [
    "#Cria vocabulário de tudo\n",
    "def cria_vocabulario(coluna_da_planilha):                       #recebe uma coluna da planilha\n",
    "    lista_palavras = transforma_em_string(coluna_da_planilha)\n",
    "    lista_palavras = limpa_tudo(lista_palavras)\n",
    "    lista_palavras = lista_palavras.split()\n",
    "    return lista_palavras     #devolve uma lista com as palavras separadas~\n"
   ]
  },
  {
   "cell_type": "code",
   "execution_count": 156,
   "metadata": {},
   "outputs": [],
   "source": [
    "#Cria função que retorna uma lista sem as palavras repetidas\n",
    "def remove_repeticao(lista):\n",
    "    dic = set(lista)\n",
    "    vocabulario = list(dic)\n",
    "    return vocabulario"
   ]
  },
  {
   "cell_type": "code",
   "execution_count": 157,
   "metadata": {},
   "outputs": [],
   "source": [
    "# Cria uma função que guarda as palavras em pd.Series\n",
    "def cria_pdseries(lista):\n",
    "    tabela = pd.Series(lista)\n",
    "    return tabela\n",
    "\n",
    "#Cria uma função que retorna a frequência absoluta de cada palavra no texto\n",
    "def freq_abs(tabela):\n",
    "    absoluta = tabela.value_counts()\n",
    "    return absoluta\n",
    "\n",
    "#Cria uma função que retorna a frequência relativa de cada palavra no texto\n",
    "def freq_rel(tabela):\n",
    "    relativa = tabela.value_counts(True)\n",
    "    return relativa"
   ]
  },
  {
   "cell_type": "code",
   "execution_count": 158,
   "metadata": {},
   "outputs": [],
   "source": [
    "## Cria uma função que recebe a planilha e o target e retorna o total de palavras e as tabelas de frequencia absoluta e relativa, nessa ordem\n",
    "def divisao_categorias(planilha, target):\n",
    "    #Etapa de divisão de categorias\n",
    "    planilha= mensagem_limpa(planilha)\n",
    "    \n",
    "    if target == \"N\":\n",
    "        filtro_target = planilha.loc[planilha['Acionável/Direcionável/Não Acionável'] =='N']\n",
    "        vocab_target = cria_vocabulario(filtro_target[\"Mensagem Limpa\"])\n",
    "        df_vocab_target = cria_pdseries(vocab_target)\n",
    "        freq_rel_target = freq_rel(df_vocab_target)\n",
    "        freq_abs_target = freq_abs(df_vocab_target)\n",
    "        total_target = freq_abs_target.sum()\n",
    "        #criar vocabulario limpo\n",
    "        vocab_target = remove_repeticao(vocab_target)\n",
    "    elif target == \"D\":\n",
    "        filtro_target = planilha.loc[planilha['Acionável/Direcionável/Não Acionável'] =='D']\n",
    "        vocab_target = cria_vocabulario(filtro_target[\"Mensagem Limpa\"])\n",
    "        df_vocab_target = cria_pdseries(vocab_target)\n",
    "        freq_rel_target = freq_rel(df_vocab_target)\n",
    "        freq_abs_target = freq_abs(df_vocab_target)\n",
    "        total_target = freq_abs_target.sum()\n",
    "        #criar vocabulario limpo\n",
    "        vocab_target = remove_repeticao(vocab_target)\n",
    "    elif target == \"A\":\n",
    "        filtro_target = planilha.loc[planilha['Acionável/Direcionável/Não Acionável'] =='A']\n",
    "        vocab_target = cria_vocabulario(filtro_target[\"Mensagem Limpa\"])\n",
    "        df_vocab_target = cria_pdseries(vocab_target)\n",
    "        freq_rel_target = freq_rel(df_vocab_target)\n",
    "        freq_abs_target = freq_abs(df_vocab_target)\n",
    "        total_target = freq_abs_target.sum()\n",
    "        #criar vocabulario limpo\n",
    "        vocab_target = remove_repeticao(vocab_target)\n",
    "    return total_target, freq_abs_target, freq_rel_target, vocab_target"
   ]
  },
  {
   "cell_type": "code",
   "execution_count": 159,
   "metadata": {},
   "outputs": [],
   "source": [
    "## Função que recebe a planilha e retorna:\n",
    "# o total de palavras com repetição [0] (int)\n",
    "# a tabela com a frequência absoluta de cada palavra na planilha [1] (Series)\n",
    "# a tabela com a frequência relativa de cada palavra na planilha [2] (Series)\n",
    "# a lista com todas as palavras da planilha sem repetição [3] (list)\n",
    "def divisao_planilhas(planilha):\n",
    "\n",
    "    planilha= mensagem_limpa(planilha)                      #cria coluna \"Mensagem Limpa\"\n",
    "    planilha = planilha[\"Mensagem Limpa\"]                   #separa só a coluna \"Mensagem Limpa\"\n",
    "    \n",
    "    vocab_planilha = cria_vocabulario(planilha)             #lista de palavras na coluna \"Mensagem Limpa\"\n",
    "    df_vocab_planilha = cria_pdseries(vocab_planilha)       #coloca essa lista em um df\n",
    "\n",
    "    freq_abs_planilha = freq_abs(df_vocab_planilha)         #calcula a frequência absoluta de cada palavra\n",
    "    freq_rel_planilha = freq_rel(df_vocab_planilha)         #calcula a frequência relativa de cada palavra\n",
    "\n",
    "    total_planilha = freq_abs_planilha.sum()                #calcula o total de palavras com repetição\n",
    "\n",
    "    vocab_planilha = remove_repeticao(vocab_planilha)\n",
    "\n",
    "    return total_planilha, freq_abs_planilha, freq_rel_planilha, vocab_planilha"
   ]
  },
  {
   "cell_type": "code",
   "execution_count": 160,
   "metadata": {},
   "outputs": [],
   "source": [
    "#Função de Suavização de LaPlace\n",
    "# A função recebe a palavra, o target e a planilha\n",
    "def suavizacao(palavra, target, planilha):\n",
    "    #extraindo dados da planilha\n",
    "    dados_target = divisao_categorias(planilha, target)\n",
    "    qtdd_palavras = dados_target[0]                  #quantidade de palavras no target informado\n",
    "    qtdd_palavras_sem_repeticao = len(dados_target[3]) #quantidade de palavras sem repetição no target informado\n",
    "    if palavra in dados_target[3]:\n",
    "        freq_abs_palavra = dados_target[1][palavra]      #frequencia absoluta da palavra nesse target\n",
    "        # freq_rel_palavra = dados_target[2][palavra]      #frequencia relativa da palavra nesse target\n",
    "        Prob_palavra_dado_target = (freq_abs_palavra + 1)/(qtdd_palavras + qtdd_palavras_sem_repeticao)\n",
    "    else:\n",
    "        freq_abs_palavra = 0\n",
    "        Prob_palavra_dado_target = (freq_abs_palavra + 1)/(qtdd_palavras + qtdd_palavras_sem_repeticao)\n",
    "        \n",
    "    return Prob_palavra_dado_target\n",
    "\n",
    "# exemplo de como usar\n",
    "# print(suavizacao(\"absurdo\", \"N\", train))"
   ]
  },
  {
   "cell_type": "code",
   "execution_count": 169,
   "metadata": {},
   "outputs": [],
   "source": [
    "# Calculando probabilidade da frase dado target\n",
    "# recebe uma frase qualquer (não precisa estar limpa)\n",
    "def classifica_por_target(frase, target, planilha):\n",
    "    prob_frase_dado_classe = 1\n",
    "    frase = limpa_tudo(frase)\n",
    "    frase =  frase.split()\n",
    "    for palavra in frase:\n",
    "        prob_palavra_dado_classe = suavizacao(palavra, target, planilha)\n",
    "        prob_frase_dado_classe *= prob_palavra_dado_classe\n",
    "    return prob_frase_dado_classe\n"
   ]
  },
  {
   "cell_type": "code",
   "execution_count": null,
   "metadata": {},
   "outputs": [],
   "source": [
    "\n",
    "def classificador(frase, planilha):\n",
    "    \n",
    "    #Extraindo as informações\n",
    "    total_train_N = divisao_categorias(train, \"N\")[0]\n",
    "    total_train_D = divisao_categorias(train, \"D\")[0]\n",
    "    total_train_A = divisao_categorias(train, \"A\")[0]\n",
    "    total_train = divisao_planilhas(train)[0]\n",
    "    \n",
    "    #Cálculo das probabilidades\n",
    "    P_frase_dado_A = classifica_por_target(frase, \"A\", planilha)\n",
    "    P_frase_dado_D = classifica_por_target(frase, \"D\", planilha)\n",
    "    P_frase_dado_N = classifica_por_target(frase, \"N\", planilha)\n",
    "    P_train_N = total_train_N/total_train         #probabilidade de estar na categoria N\n",
    "    P_train_D = total_train_D/total_train         #probabilidade de estar na categoria D\n",
    "    P_train_A = total_train_A/total_train         #probabilidade de estar na categoria A\n",
    "    P_A_dado_frase = P_frase_dado_A*P_train_A \n",
    "    P_N_dado_frase = P_frase_dado_N*P_train_N\n",
    "    P_D_dado_frase = P_frase_dado_D*P_train_D\n",
    "        \n",
    "    #Classificação\n",
    "    if P_A_dado_frase > P_D_dado_frase and P_A_dado_frase > P_N_dado_frase:\n",
    "        return \"A\"\n",
    "    elif P_D_dado_frase > P_N_dado_frase and P_D_dado_frase > P_A_dado_frase:\n",
    "        return \"D\"\n",
    "    elif P_N_dado_frase > P_D_dado_frase and P_N_dado_frase > P_A_dado_frase:\n",
    "        return \"N\"\n",
    "    else:\n",
    "        return \"Houve um impasse\"\n",
    "\n",
    "frase = \"O livro é prolixo, redundante, doentio\"\n",
    "\n",
    "print(classificador(frase, train))\n",
    "    "
   ]
  },
  {
   "cell_type": "markdown",
   "metadata": {},
   "source": [
    "Calculando as informações da base de treino"
   ]
  },
  {
   "cell_type": "code",
   "execution_count": 168,
   "metadata": {},
   "outputs": [],
   "source": [
    "####-  DIVISÃO CATEGORIAS TREINO  -####\n",
    "\n",
    "#--- categoria Não Acionável\n",
    "# total_train_N = divisao_categorias(train, \"N\")[0]         #Quantidade total de palavras (incluindo as repetições)\n",
    "# freq_abs_train_N = divisao_categorias(train, \"N\")[1]      #Tabela com as frequencias absolutas das palavras\n",
    "# freq_rel_train_N = divisao_categorias(train, \"N\")[2]      #Tabela com as frequencias relativas das palavras\n",
    "# vocab_train_N = divisao_categorias(train, \"N\")[3]         #Vocabulario de todas as palavras dessa classificação (SEM as repetições)\n",
    "\n",
    "# #--- categoria Direcionável\n",
    "# total_train_D = divisao_categorias(train, \"D\")[0]\n",
    "# freq_abs_train_D = divisao_categorias(train, \"D\")[1]\n",
    "# freq_rel_train_D = divisao_categorias(train, \"D\")[2]\n",
    "# vocab_train_D = divisao_categorias(train, \"D\")[3]              \n",
    "\n",
    "# #--- categoria Acionável\n",
    "# total_train_A = divisao_categorias(train, \"A\")[0]\n",
    "# freq_abs_train_A = divisao_categorias(train, \"A\")[1]\n",
    "# freq_rel_train_A = divisao_categorias(train, \"A\")[2]\n",
    "# vocab_train_A = divisao_categorias(train, \"A\")[3]       \n",
    "\n",
    "# #--- Todas as palavras\n",
    "# total_train = divisao_planilhas(train)[0]\n",
    "# freq_abs_train = divisao_planilhas(train)[1]\n",
    "# freq_rel_train = divisao_planilhas(train)[2]\n",
    "# vocab_train = divisao_planilhas(train)[3]\n",
    "\n",
    "# #### Guardando as palavras em um pd.Series\n",
    "# todas_palavras_train = cria_pdseries(vocab_train)\n",
    "# palavras_train_A = cria_pdseries(vocab_train_A)\n",
    "# palavras_train_N = cria_pdseries(vocab_train_N)\n",
    "# palavras_train_D = cria_pdseries(vocab_train_D)\n",
    "\n",
    "####- PROBABILIDADES DAS CATEGORIAS TREINO -####\n",
    "# prob_trein_N = total_train_N/total_train         #probabilidade de estar na categoria N\n",
    "# prob_trein_D = total_train_D/total_train         #probabilidade de estar na categoria D\n",
    "# prob_trein_A = total_train_A/total_train         #probabilidade de estar na categoria A\n",
    "\n",
    "# prob_trein_N + prob_trein_A + prob_trein_D       #conferindo\n"
   ]
  },
  {
   "cell_type": "markdown",
   "metadata": {},
   "source": [
    "Palavras da base de teste"
   ]
  },
  {
   "cell_type": "code",
   "execution_count": null,
   "metadata": {},
   "outputs": [],
   "source": [
    "# ####-  DIVISÃO CATEGORIAS TESTE  -####\n",
    "\n",
    "# #--- categoria Não Acionável\n",
    "# total_test_N = divisao_categorias(test, \"N\")[0]         #Quantidade total de palavras (incluindo as repetições)\n",
    "# freq_abs_test_N = divisao_categorias(test, \"N\")[1]      #Tabela com as frequencias absolutas\n",
    "# freq_rel_test_N = divisao_categorias(test, \"N\")[2]      #Tabela com as frequencias relativas\n",
    "# vocab_test_N = divisao_categorias(test, \"N\")[3]         #vocabulario com as palavras dessa categoria (SEM as repetições)\n",
    "\n",
    "# #--- categoria Direcionável\n",
    "# total_test_D = divisao_categorias(test, \"D\")[0]         \n",
    "# freq_abs_test_D = divisao_categorias(test, \"D\")[1]\n",
    "# freq_rel_test_D = divisao_categorias(test, \"D\")[2]\n",
    "# vocab_test_D = divisao_categorias(test, \"D\")[3]  \n",
    "\n",
    "# #--- categoria Acionável\n",
    "# total_test_A = divisao_categorias(test, \"A\")[0]\n",
    "# freq_abs_test_A = divisao_categorias(test, \"A\")[1]\n",
    "# freq_rel_test_A = divisao_categorias(test, \"A\")[2]\n",
    "# vocab_test_A = divisao_categorias(test, \"A\")[3]  \n",
    "\n",
    "# #--- Todas as palavras\n",
    "# total_test = divisao_planilhas(test)[0]\n",
    "# freq_abs_test = divisao_planilhas(test)[1]\n",
    "# freq_rel_test = divisao_planilhas(test)[2]\n",
    "# vocab_test = divisao_planilhas(test)[3]\n",
    "\n",
    "# #### Guardando as palavras em um pd.Series\n",
    "# todas_palavras_test = cria_pdseries(vocab_test)         #cria um dataframe com todas as palavras da planilha de teste\n",
    "# palavras_test_A = cria_pdseries(vocab_test_A)           #cria um df com todas as palavras do target acionavel\n",
    "# palavras_test_N = cria_pdseries(vocab_test_N)           #cria um df com todas as palavras do target nao acionavel\n",
    "# palavras_test_D = cria_pdseries(vocab_test_D)           #cria um df com todas as palvras do target direcionavel\n",
    "# \"\"\"EXPLICAÇÕES\n",
    "# vocab_df [lista] = palavras já limpas\n",
    "\n",
    "# df_vocab_df [tabela] = transforma o vocab_df em tabela\n",
    "\n",
    "# freq_rel_df [tabela] = frequencia relativa de cada palavra\n",
    "# freq_abs_df [tabela] = 1\n",
    "# total_df [int] = quantidade total de palavras\n",
    "# \"\"\"\n",
    "# ####- PROBABILIDADES DAS CATEGORIAS TESTE -####\n",
    "# prob_test_N = total_test_N/total_test    #probabilidade de estar na categoria N\n",
    "# prob_test_D = total_test_D/total_test    #probabilidade de estar na categoria D\n",
    "# prob_test_A = total_test_A/total_test    #probabilidade de estar na categoria A\n",
    "\n",
    "# prob_test_A + prob_test_D + prob_test_N  #conferindo"
   ]
  },
  {
   "cell_type": "markdown",
   "metadata": {},
   "source": [
    "___\n",
    "### Verificando a performance do Classificador\n",
    "\n",
    "Agora você deve testar o seu classificador com a base de Testes."
   ]
  },
  {
   "cell_type": "code",
   "execution_count": 175,
   "metadata": {},
   "outputs": [],
   "source": [
    "## Fazer meu classificador classificar todas as frases da planilha de teste\n",
    "\n",
    "def classifica_planilha(planilha):\n",
    "    planilha= mensagem_limpa(planilha)                      #cria coluna \"Mensagem Limpa\"\n",
    "    avaliacoes_limpas = planilha[\"Mensagem Limpa\"]          #separa só a coluna \"Mensagem Limpa\"\n",
    "    df_avaliacoes_limpas = cria_pdseries(avaliacoes_limpas)\n",
    "    \n",
    "    for frase in df_avaliacoes_limpas:\n",
    "        planilha['Classificador Automático'] = classificador(frase, planilha)\n",
    "    \n",
    "    return planilha\n",
    "        \n",
    "# classifica_planilha(train)\n",
    "    "
   ]
  },
  {
   "cell_type": "code",
   "execution_count": null,
   "metadata": {},
   "outputs": [],
   "source": []
  },
  {
   "cell_type": "code",
   "execution_count": null,
   "metadata": {},
   "outputs": [],
   "source": []
  },
  {
   "cell_type": "code",
   "execution_count": null,
   "metadata": {},
   "outputs": [],
   "source": []
  },
  {
   "cell_type": "markdown",
   "metadata": {},
   "source": [
    "___\n",
    "### Concluindo"
   ]
  },
  {
   "cell_type": "code",
   "execution_count": null,
   "metadata": {},
   "outputs": [],
   "source": [
    "#a probabilidade de todas as palavras estarem contidas num texto não é a mesma? "
   ]
  },
  {
   "cell_type": "code",
   "execution_count": null,
   "metadata": {},
   "outputs": [],
   "source": []
  },
  {
   "cell_type": "code",
   "execution_count": null,
   "metadata": {},
   "outputs": [],
   "source": []
  },
  {
   "cell_type": "markdown",
   "metadata": {},
   "source": [
    "___\n",
    "### Qualidade do Classificador a partir de novas separações dos tweets entre Treinamento e Teste\n",
    "\n",
    "Caso for fazer esse item do Projeto"
   ]
  },
  {
   "cell_type": "code",
   "execution_count": null,
   "metadata": {},
   "outputs": [],
   "source": []
  },
  {
   "cell_type": "code",
   "execution_count": null,
   "metadata": {},
   "outputs": [],
   "source": []
  },
  {
   "cell_type": "code",
   "execution_count": null,
   "metadata": {},
   "outputs": [],
   "source": []
  },
  {
   "cell_type": "markdown",
   "metadata": {},
   "source": [
    "___\n",
    "## Aperfeiçoamento:\n",
    "\n",
    "Trabalhos que conseguirem pelo menos conceito B vão evoluir em conceito dependendo da quantidade de itens avançados:\n",
    "\n",
    "* IMPLEMENTOU outras limpezas e transformações que não afetem a qualidade da informação contida nos tweets. Ex: stemming, lemmatization, stopwords\n",
    "* CONSIDEROU mais de duas categorias na variável Target e INCREMENTOU a quantidade de notícias, mantendo pelo menos 250 notícias por categoria (OBRIGATÓRIO PARA TRIOS, sem contar como item avançado)\n",
    "* Para Target com duas categorias: CRIOU pelo menos quatro categorias intermediárias de relevância baseadas na probabilidade: ex.: muito relevante, relevante, neutro, irrelevante, muito irrelevante\n",
    "* EXPLICOU porquê não pode usar o próprio classificador para gerar mais amostras de treinamento\n",
    "* PROPÔS diferentes cenários para Naïve Bayes fora do contexto do projeto (pelo menos dois cenários, exceto aqueles já apresentados em sala pelos professores: por exemplo, filtro de spam)\n",
    "* SUGERIU e EXPLICOU melhorias reais com indicações concretas de como implementar (indicar como fazer e indicar material de pesquisa)\n",
    "* FEZ o item Qualidade do Classificador a partir de novas separações das Notícias entre Treinamento e Teste descrito no enunciado do projeto (OBRIGATÓRIO para conceitos A ou A+)"
   ]
  },
  {
   "cell_type": "markdown",
   "metadata": {},
   "source": [
    "___\n",
    "## Referências"
   ]
  },
  {
   "cell_type": "markdown",
   "metadata": {},
   "source": [
    "[Naive Bayes and Text Classification](https://arxiv.org/pdf/1410.5329.pdf)  **Mais completo**\n",
    "\n",
    "[A practical explanation of a Naive Bayes Classifier](https://monkeylearn.com/blog/practical-explanation-naive-bayes-classifier/) **Mais simples**"
   ]
  },
  {
   "cell_type": "markdown",
   "metadata": {},
   "source": [
    "Dica: apresentar um grafico com testes mostrando quais limpezas melhoraram a acurácia do nosso classificador (lemmatization, stopwords, etc)\n",
    "\n",
    "REtirar algumas palavras para ver se melhora a qualidade do classificador (exemplo palavra não)"
   ]
  },
  {
   "cell_type": "code",
   "execution_count": null,
   "metadata": {},
   "outputs": [],
   "source": []
  },
  {
   "cell_type": "code",
   "execution_count": null,
   "metadata": {},
   "outputs": [],
   "source": []
  }
 ],
 "metadata": {
  "kernelspec": {
   "display_name": "Python 3 (ipykernel)",
   "language": "python",
   "name": "python3"
  },
  "language_info": {
   "codemirror_mode": {
    "name": "ipython",
    "version": 3
   },
   "file_extension": ".py",
   "mimetype": "text/x-python",
   "name": "python",
   "nbconvert_exporter": "python",
   "pygments_lexer": "ipython3",
   "version": "3.9.13"
  }
 },
 "nbformat": 4,
 "nbformat_minor": 4
}

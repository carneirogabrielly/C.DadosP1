{
 "cells": [
  {
   "cell_type": "markdown",
   "metadata": {},
   "source": [
    "# Projeto 1 - Ciência dos Dados"
   ]
  },
  {
   "cell_type": "markdown",
   "metadata": {},
   "source": [
    "Nome: Alison Araujo\n",
    "\n",
    "Nome: Gabrielly Carneiro"
   ]
  },
  {
   "cell_type": "markdown",
   "metadata": {},
   "source": [
    "Atenção: Serão permitidos grupos de três pessoas, mas com uma rubrica mais exigente. Grupos deste tamanho precisarão fazer um questionário de avaliação de trabalho em equipe"
   ]
  },
  {
   "cell_type": "markdown",
   "metadata": {},
   "source": [
    "___\n",
    "Carregando algumas bibliotecas:"
   ]
  },
  {
   "cell_type": "code",
   "execution_count": 78,
   "metadata": {},
   "outputs": [
    {
     "name": "stderr",
     "output_type": "stream",
     "text": [
      "[nltk_data] Downloading package punkt to\n",
      "[nltk_data]     C:\\Users\\gabri\\AppData\\Roaming\\nltk_data...\n",
      "[nltk_data]   Package punkt is already up-to-date!\n",
      "[nltk_data] Downloading package stopwords to\n",
      "[nltk_data]     C:\\Users\\gabri\\AppData\\Roaming\\nltk_data...\n",
      "[nltk_data]   Package stopwords is already up-to-date!\n",
      "[nltk_data] Error loading word_tokenize: Package 'word_tokenize' not\n",
      "[nltk_data]     found in index\n"
     ]
    }
   ],
   "source": [
    "%matplotlib inline\n",
    "import pandas as pd\n",
    "import matplotlib.pyplot as plt\n",
    "import numpy as np\n",
    "import os\n",
    "import re\n",
    "from unidecode import unidecode\n",
    "import nltk\n",
    "from nltk.corpus import stopwords\n",
    "from nltk.tokenize import word_tokenize\n",
    "from nltk.util import ngrams\n",
    "from tqdm import tqdm\n",
    "from sklearn.model_selection import train_test_split\n",
    "from spacy import load\n",
    "nltk.download('punkt')\n",
    "nltk.download('stopwords')\n",
    "nltk.download('word_tokenize')\n",
    "stopwordsdic = stopwords.words('portuguese')\n",
    "nlp = load('pt_core_news_md')"
   ]
  },
  {
   "cell_type": "code",
   "execution_count": 79,
   "metadata": {
    "scrolled": false
   },
   "outputs": [
    {
     "name": "stdout",
     "output_type": "stream",
     "text": [
      "Esperamos trabalhar no diretório\n",
      "c:\\Users\\gabri\\OneDrive - Insper - Institudo de Ensino e Pesquisa\\Projeto 1\\C.DadosP1\n"
     ]
    }
   ],
   "source": [
    "print('Esperamos trabalhar no diretório')\n",
    "print(os.getcwd())"
   ]
  },
  {
   "cell_type": "markdown",
   "metadata": {},
   "source": [
    "Carregando a base de dados com os tweets classificados manualmente:"
   ]
  },
  {
   "cell_type": "code",
   "execution_count": 80,
   "metadata": {},
   "outputs": [
    {
     "data": {
      "text/html": [
       "<div>\n",
       "<style scoped>\n",
       "    .dataframe tbody tr th:only-of-type {\n",
       "        vertical-align: middle;\n",
       "    }\n",
       "\n",
       "    .dataframe tbody tr th {\n",
       "        vertical-align: top;\n",
       "    }\n",
       "\n",
       "    .dataframe thead th {\n",
       "        text-align: right;\n",
       "    }\n",
       "</style>\n",
       "<table border=\"1\" class=\"dataframe\">\n",
       "  <thead>\n",
       "    <tr style=\"text-align: right;\">\n",
       "      <th></th>\n",
       "      <th>Mensagem</th>\n",
       "      <th>Acionável/Direcionável/Não Acionável</th>\n",
       "    </tr>\n",
       "  </thead>\n",
       "  <tbody>\n",
       "    <tr>\n",
       "      <th>0</th>\n",
       "      <td>Para quem gosta de poemas simples, esse é o li...</td>\n",
       "      <td>N</td>\n",
       "    </tr>\n",
       "    <tr>\n",
       "      <th>1</th>\n",
       "      <td>Quando vi o lançamento pensei que finalmente p...</td>\n",
       "      <td>D</td>\n",
       "    </tr>\n",
       "    <tr>\n",
       "      <th>2</th>\n",
       "      <td>É incrível como esses escritores e \"intelectua...</td>\n",
       "      <td>N</td>\n",
       "    </tr>\n",
       "    <tr>\n",
       "      <th>3</th>\n",
       "      <td>Se desse pra devolver eu devolvia, nao é por e...</td>\n",
       "      <td>N</td>\n",
       "    </tr>\n",
       "    <tr>\n",
       "      <th>4</th>\n",
       "      <td>Futilidade, inutilidade, desperdício de papel,...</td>\n",
       "      <td>N</td>\n",
       "    </tr>\n",
       "  </tbody>\n",
       "</table>\n",
       "</div>"
      ],
      "text/plain": [
       "                                            Mensagem  \\\n",
       "0  Para quem gosta de poemas simples, esse é o li...   \n",
       "1  Quando vi o lançamento pensei que finalmente p...   \n",
       "2  É incrível como esses escritores e \"intelectua...   \n",
       "3  Se desse pra devolver eu devolvia, nao é por e...   \n",
       "4  Futilidade, inutilidade, desperdício de papel,...   \n",
       "\n",
       "  Acionável/Direcionável/Não Acionável  \n",
       "0                                    N  \n",
       "1                                    D  \n",
       "2                                    N  \n",
       "3                                    N  \n",
       "4                                    N  "
      ]
     },
     "execution_count": 80,
     "metadata": {},
     "output_type": "execute_result"
    }
   ],
   "source": [
    "train = pd.read_excel('dados_treino.xlsx')\n",
    "train.head(5)"
   ]
  },
  {
   "cell_type": "code",
   "execution_count": 81,
   "metadata": {},
   "outputs": [
    {
     "data": {
      "text/html": [
       "<div>\n",
       "<style scoped>\n",
       "    .dataframe tbody tr th:only-of-type {\n",
       "        vertical-align: middle;\n",
       "    }\n",
       "\n",
       "    .dataframe tbody tr th {\n",
       "        vertical-align: top;\n",
       "    }\n",
       "\n",
       "    .dataframe thead th {\n",
       "        text-align: right;\n",
       "    }\n",
       "</style>\n",
       "<table border=\"1\" class=\"dataframe\">\n",
       "  <thead>\n",
       "    <tr style=\"text-align: right;\">\n",
       "      <th></th>\n",
       "      <th>Mensagem</th>\n",
       "      <th>Acionável/Direcionável/Não Acionável</th>\n",
       "    </tr>\n",
       "  </thead>\n",
       "  <tbody>\n",
       "    <tr>\n",
       "      <th>0</th>\n",
       "      <td>O livro é prolixo, redundante, doentio. Sou su...</td>\n",
       "      <td>N</td>\n",
       "    </tr>\n",
       "    <tr>\n",
       "      <th>1</th>\n",
       "      <td>Bom livro e história envolvente. Porém, o leit...</td>\n",
       "      <td>D</td>\n",
       "    </tr>\n",
       "    <tr>\n",
       "      <th>2</th>\n",
       "      <td>Fala tudo que todos já sabem, sem falar que nã...</td>\n",
       "      <td>N</td>\n",
       "    </tr>\n",
       "    <tr>\n",
       "      <th>3</th>\n",
       "      <td>Ganhei na compra do Kindle. Não é estilo de li...</td>\n",
       "      <td>N</td>\n",
       "    </tr>\n",
       "    <tr>\n",
       "      <th>4</th>\n",
       "      <td>Custa crer que um livro tão medíocre, embora m...</td>\n",
       "      <td>N</td>\n",
       "    </tr>\n",
       "  </tbody>\n",
       "</table>\n",
       "</div>"
      ],
      "text/plain": [
       "                                            Mensagem  \\\n",
       "0  O livro é prolixo, redundante, doentio. Sou su...   \n",
       "1  Bom livro e história envolvente. Porém, o leit...   \n",
       "2  Fala tudo que todos já sabem, sem falar que nã...   \n",
       "3  Ganhei na compra do Kindle. Não é estilo de li...   \n",
       "4  Custa crer que um livro tão medíocre, embora m...   \n",
       "\n",
       "  Acionável/Direcionável/Não Acionável  \n",
       "0                                    N  \n",
       "1                                    D  \n",
       "2                                    N  \n",
       "3                                    N  \n",
       "4                                    N  "
      ]
     },
     "execution_count": 81,
     "metadata": {},
     "output_type": "execute_result"
    }
   ],
   "source": [
    "test = pd.read_excel('dados_teste.xlsx')\n",
    "test.head(5)"
   ]
  },
  {
   "cell_type": "markdown",
   "metadata": {},
   "source": [
    "___\n",
    "## Classificador automático\n"
   ]
  },
  {
   "cell_type": "markdown",
   "metadata": {},
   "source": [
    "Na primeira etapa, de classificação manual, consideramos três targets para os reviews: Acionável, Direcionável e Não Acionável. \n",
    "\n",
    "- Acionável: para ser considerado \"acionável\" (\"A\") o review deve ser passível de alguma ação pela Amazon, ou seja, o review deve ser sobre entrega, estado do produto, contato com o suporte, etc. \n",
    "- Direcionável: para o target \"direcionável\" (\"D\") foram considerados comentários relativos à editora, como qualidade do material do livro, preço do livro e do e-book, tradução e edição. \n",
    "- Não Acionáveis: por fim, os não acionáveis (\"N\") eram comentários relativos ao autor, ao apreço pelo conteúdo do livro, ou comentários irrelavantes."
   ]
  },
  {
   "cell_type": "markdown",
   "metadata": {},
   "source": [
    "___\n",
    "### Montando um Classificador Naive-Bayes\n",
    "\n",
    "Considerando apenas as mensagens da planilha Treinamento, ensine  seu classificador."
   ]
  },
  {
   "cell_type": "markdown",
   "metadata": {},
   "source": [
    "Funções úteis:"
   ]
  },
  {
   "cell_type": "code",
   "execution_count": 82,
   "metadata": {},
   "outputs": [],
   "source": [
    "#Criar uma função que transforma as frases da planilha em um texto só \n",
    "    #(Será útil para criar o dicionário com as palavras)\n",
    "\n",
    "def transforma_em_string(coluna):\n",
    "    texto = ''\n",
    "    for linha in coluna:\n",
    "        texto += linha + ' '\n",
    "    return texto    "
   ]
  },
  {
   "cell_type": "code",
   "execution_count": 83,
   "metadata": {},
   "outputs": [],
   "source": [
    "#Criar uma função que limpa todas as pontuações\n",
    "#recebe um texto\n",
    "#vou utilizar ela na função limpa tudo\n",
    "def cleanup(text):\n",
    "    punctuation = r'[´\"\\'!-.:?;$,/~^_=+*&¨%$#@|\\{}()[\\]]'\n",
    "    pattern = re.compile(punctuation)\n",
    "    text_subbed = re.sub(pattern, '', text)\n",
    "    return text_subbed"
   ]
  },
  {
   "cell_type": "code",
   "execution_count": 84,
   "metadata": {},
   "outputs": [],
   "source": [
    "#Cria uma função que limpa os espaços duplicados\n",
    "#vou utilizar ela na função limpa tudo\n",
    "def limpa_espaco(text):\n",
    "    punctuation = r'[\\n]'  # Adicione os caracteres desejados aqui\n",
    "    pattern = re.compile(punctuation)\n",
    "    text_subbed = re.sub(pattern, '', text)\n",
    "    return text_subbed"
   ]
  },
  {
   "cell_type": "code",
   "execution_count": 85,
   "metadata": {},
   "outputs": [],
   "source": [
    "#Criando uma função para remover emoji\n",
    "#vou utilizar ela na função limpa tudo\n",
    "def remove_emoji(text):\n",
    "    text_without_emojis = unidecode(text)\n",
    "    return text_without_emojis"
   ]
  },
  {
   "cell_type": "code",
   "execution_count": 86,
   "metadata": {},
   "outputs": [],
   "source": [
    "#Criando a função de stopwords\n",
    "#vou utilizar ela na função limpa tudo\n",
    "#vai receber o texto limpo pelas outras funções\n",
    "def stopwords(texto):\n",
    "    palavras = word_tokenize(texto, language='portuguese') # Tokenize é analisar palavras individualmente, basicamente\n",
    "    palavras_sem_stopword = []\n",
    "    for palavra in palavras:\n",
    "        if palavra not in stopwordsdic:\n",
    "            palavras_sem_stopword.append(palavra)\n",
    "    # Reúna as palavras sem stopwords em uma string novamente\n",
    "    texto_sem_stopword = ' '.join(palavras_sem_stopword)\n",
    "    return texto_sem_stopword"
   ]
  },
  {
   "cell_type": "code",
   "execution_count": 87,
   "metadata": {},
   "outputs": [],
   "source": [
    "#Criando a função de lematização\n",
    "#vou utilizar ela na função limpa tudo\n",
    "#vai receber o texto limpo pelas outras funções, incluindo limpeza de stopwords\n",
    "\n",
    "def lemmat(texto):\n",
    "    doc = nlp(texto)\n",
    "    lemmat_radicais = []\n",
    "    for radicais in doc:\n",
    "        lemmat_radicais.append(radicais.lemma_)\n",
    "    texto_lemmat = ' '.join(lemmat_radicais)    \n",
    "    return texto_lemmat"
   ]
  },
  {
   "cell_type": "code",
   "execution_count": 88,
   "metadata": {
    "scrolled": false
   },
   "outputs": [],
   "source": [
    "# Cria uma função que reúna as funções de limpeza\n",
    "def limpa_tudo(mensagem):\n",
    "    #Aplicando a função de limpeza de pontuação\n",
    "    texto = cleanup(mensagem)\n",
    "    #Deixando tudo em letra minúscula\n",
    "    texto = texto.lower()\n",
    "    #Removendo emoji\n",
    "    texto = remove_emoji(texto)\n",
    "    #Aplicando a função de limpeza de espaço\n",
    "    texto = limpa_espaco(texto)\n",
    "    #Removendo stopwords\n",
    "    texto = stopwords(texto)\n",
    "    #Realiza lemmatização\n",
    "    texto = lemmat(texto)  \n",
    "    return texto"
   ]
  },
  {
   "cell_type": "code",
   "execution_count": 89,
   "metadata": {},
   "outputs": [],
   "source": [
    "#Cria uma função que limpa as linhas da planilha e adiciona uma coluna com as mensagens limpas à planilha\n",
    "def mensagem_limpa(planilha):   #recebe a planilha e cria uma nova planilha com a coluna de mensagem limpa com as frases limpas\n",
    "    planilha_limpa = planilha.copy()\n",
    "    planilha_limpa['Mensagem Limpa'] = [limpa_tudo(x) for x in list(planilha['Mensagem'])]\n",
    "    return planilha_limpa    #retorna a planilha modificada"
   ]
  },
  {
   "cell_type": "code",
   "execution_count": 90,
   "metadata": {},
   "outputs": [],
   "source": [
    "#Cria função que cria o vocabulário de tudo\n",
    "def cria_vocabulario(coluna_mensagem_limpa_da_planilha_limpa):                       #recebe uma coluna da planilha\n",
    "    lista_palavras = transforma_em_string(coluna_mensagem_limpa_da_planilha_limpa)\n",
    "    lista_palavras = lista_palavras.split()\n",
    "    bigramas = []\n",
    "    for i in range(len(lista_palavras) - 1):\n",
    "        bigrama = (lista_palavras[i], lista_palavras[i + 1])\n",
    "        bigramas.append(bigrama)\n",
    "    \n",
    "    bigramas_lista = []   \n",
    "    for palavras in bigramas:\n",
    "        palavra = palavras[0] + ' ' + palavras[1]\n",
    "        bigramas_lista.append(palavra)\n",
    "    return bigramas_lista     #devolve uma lista com as palavras separadas em bigramas\n",
    "\n"
   ]
  },
  {
   "cell_type": "code",
   "execution_count": 91,
   "metadata": {},
   "outputs": [],
   "source": [
    "#Cria função que retorna uma lista sem as palavras repetidas\n",
    "def remove_repeticao(lista_de_palavras):\n",
    "    dic = set(lista_de_palavras)\n",
    "    lista_vocabulario_sem_repeticao = list(dic)\n",
    "    return lista_vocabulario_sem_repeticao"
   ]
  },
  {
   "cell_type": "code",
   "execution_count": 92,
   "metadata": {},
   "outputs": [],
   "source": [
    "# Cria uma função que guarda as palavras em pd.Series e calculas frequencia (relativa e absoluta) das palavras\n",
    "#recebe uma lista (devolvida pelo cria vocabulário, preferencialmente)\n",
    "def cria_pdseries(lista):\n",
    "    tabela = pd.Series(lista)\n",
    "    return tabela\n",
    "\n",
    "#Cria uma função que retorna a frequência absoluta de cada palavra no texto\n",
    "#recebe uma tabela de pd\n",
    "def freq_abs(tabela):\n",
    "    absoluta = tabela.value_counts()\n",
    "    return absoluta\n",
    "\n",
    "#Cria uma função que retorna a frequência relativa de cada palavra no texto\n",
    "def freq_rel(tabela):\n",
    "    relativa = tabela.value_counts(True)\n",
    "    return relativa"
   ]
  },
  {
   "cell_type": "code",
   "execution_count": 93,
   "metadata": {},
   "outputs": [],
   "source": [
    "#Cria função de divisão com base nas categorias/targets\n",
    "## Cria uma função que recebe a planilha e o target e \n",
    "# retorna o total de palavras e as tabelas de frequencia absoluta e relativa e o vocabulario sem palavras repetidas, nessa ordem\n",
    "#vou falar que ela recebe a planilha limpa já\n",
    "\n",
    "def divisao_categorias(planilha_limpa, target):\n",
    "    #Etapa de divisão de categorias     \n",
    "    #criou uma nova planilha apenas com as linha com aquele target                \n",
    "    filtro_target = planilha_limpa.loc[planilha_limpa['Acionável/Direcionável/Não Acionável'] == target]\n",
    "    vocab_target = cria_vocabulario(filtro_target[\"Mensagem Limpa\"]) #vocabulario daquele target\n",
    "    df_vocab_target = cria_pdseries(vocab_target)\n",
    "    freq_rel_target = freq_rel(df_vocab_target)\n",
    "    freq_abs_target = freq_abs(df_vocab_target)   #frequencia de palavras daquele target\n",
    "    total_target = freq_abs_target.sum()  #total de palavras daquele target\n",
    "    #criar vocabulario limpo\n",
    "    vocab_target_sr = remove_repeticao(vocab_target)   #vocabulario do target sem palavras repetidas\n",
    "    return total_target, freq_abs_target, freq_rel_target, vocab_target_sr"
   ]
  },
  {
   "cell_type": "code",
   "execution_count": 94,
   "metadata": {},
   "outputs": [],
   "source": [
    "# Função que realiza a divisão de toda a planilha \n",
    "# # Função que recebe a planilha já limpa e retorna:\n",
    "# o total de palavras com repetição [0] (int)\n",
    "# a tabela com a frequência absoluta de cada palavra na planilha [1] (Series)\n",
    "# a tabela com a frequência relativa de cada palavra na planilha [2] (Series)\n",
    "# a lista com todas as palavras da planilha sem repetição [3] (list)\n",
    "def divisao_planilhas(planilha_limpa):\n",
    "    \n",
    "    coluna_limpa = planilha_limpa[\"Mensagem Limpa\"]                   #separa só a coluna \"Mensagem Limpa\"\n",
    "    vocab_planilha = cria_vocabulario(coluna_limpa)             #lista de palavras na coluna \"Mensagem Limpa\"\n",
    "    df_vocab_planilha = cria_pdseries(vocab_planilha)       #coloca essa lista em um df\n",
    "    freq_abs_planilha = freq_abs(df_vocab_planilha)         #calcula a frequência absoluta de cada palavra\n",
    "    freq_rel_planilha = freq_rel(df_vocab_planilha)         #calcula a frequência relativa de cada palavra\n",
    "    total_planilha = freq_abs_planilha.sum()                #calcula o total de palavras com repetição\n",
    "    vocab_planilha_sr = remove_repeticao(vocab_planilha)       #vocabulario sem repeticao (é uma lista)\n",
    "\n",
    "    return total_planilha, freq_abs_planilha, freq_rel_planilha, vocab_planilha_sr\n"
   ]
  },
  {
   "cell_type": "code",
   "execution_count": 95,
   "metadata": {},
   "outputs": [],
   "source": [
    "# Função que cria um dicionário com as palavras e as frequencias absolutas\n",
    "\n",
    "#vou criar um dicionário com todas as palavras e seus valores de \n",
    "# frequencia absoluta para cada target\n",
    "# aí vai ficar mais rapido de encontrar os valores\n",
    "# do que ter que suavizar pra cada palavra toda vez\n",
    "# que chamar o loop\n",
    "def dicionario_prob_palavra_dado_target_treino(planilha_treino_limpa, target):\n",
    "    coluna_limpa = planilha_treino_limpa[\"Mensagem Limpa\"]\n",
    "    dados_target = divisao_categorias(planilha_treino_limpa, target)\n",
    "    # frequencias_relativas = dados_target[2]\n",
    "    frequencias_absolutas = dados_target[1]\n",
    "\n",
    "    dic_treino = {} \n",
    "    \n",
    "    for frase in coluna_limpa:\n",
    "        frase = frase.split()\n",
    "        for palavra in frase:\n",
    "            if palavra not in dic_treino:\n",
    "                if palavra in frequencias_absolutas:\n",
    "                    freq_abs_palavra = frequencias_absolutas[palavra]\n",
    "                    dic_treino[palavra] = freq_abs_palavra\n",
    "    return dic_treino"
   ]
  },
  {
   "cell_type": "code",
   "execution_count": 96,
   "metadata": {},
   "outputs": [],
   "source": [
    "# Função que calcula probabidade da frase dado target realizando suavização de LaPlace\n",
    "# Probabilidade da frase dado target mais suavização de LaPlace\n",
    "def frase_dado_target(frase_do_teste, target, planilha_treino_limpa):\n",
    "    prob_frase_dado_classe = 1\n",
    "    #criar bigramas da frase:\n",
    "    frase_do_teste =  frase_do_teste.split()\n",
    "    bigramas = []\n",
    "    for i in range(len(frase_do_teste) - 1):\n",
    "        bigrama = (frase_do_teste[i], frase_do_teste[i + 1])\n",
    "        bigramas.append(bigrama)\n",
    "    \n",
    "    frase_do_teste = []   \n",
    "    for palavras in bigramas:\n",
    "        palavra = palavras[0] + ' ' + palavras[1]\n",
    "        frase_do_teste.append(palavra)\n",
    "    \n",
    "    dic_probabilidades_por_classe_treino = dicionario_prob_palavra_dado_target_treino(planilha_treino_limpa, target)   #dicionario com as palavras e suas frequencias absolutas\n",
    "    dados_target = divisao_categorias(planilha_treino_limpa, target)\n",
    "    qtdd_palavras = dados_target[0]                  #quantidade de palavras no target informado\n",
    "    qtdd_palavras_sem_repeticao = len(dados_target[3]) \n",
    "    \n",
    "    alfa = 0.01\n",
    "    for palavra in frase_do_teste:\n",
    "        if palavra in dic_probabilidades_por_classe_treino:\n",
    "            freq_abs_palavra = dic_probabilidades_por_classe_treino[palavra]\n",
    "            #APLIQUEI A SUAVIZAÇÃO DE LA PLACE\n",
    "            prob_palavra_dado_classe = (freq_abs_palavra + alfa)/(qtdd_palavras + alfa*qtdd_palavras_sem_repeticao)\n",
    "            prob_frase_dado_classe *= prob_palavra_dado_classe\n",
    "        else:\n",
    "            freq_abs_palavra = 0\n",
    "            #APLIQUEI A SUAVIZAÇÃO DE LA PLACE\n",
    "            prob_palavra_dado_classe = (freq_abs_palavra + alfa)/(qtdd_palavras + alfa*qtdd_palavras_sem_repeticao)\n",
    "            prob_frase_dado_classe *= prob_palavra_dado_classe\n",
    "    return prob_frase_dado_classe"
   ]
  },
  {
   "cell_type": "code",
   "execution_count": 97,
   "metadata": {},
   "outputs": [],
   "source": [
    "#Função de classificação das frases (quanto a acionável, não acionável e direcionável)\n",
    "#recebe a planilha já limpa\n",
    "def classificador(frase_do_teste, planilha_treino):\n",
    "    \n",
    "    #Extraindo as informações\n",
    "    total_planilha_N = divisao_categorias(planilha_treino, \"N\")[0]\n",
    "    total_planilha_D = divisao_categorias(planilha_treino, \"D\")[0]\n",
    "    total_planilha_A = divisao_categorias(planilha_treino, \"A\")[0]\n",
    "    total_planilha = divisao_planilhas(planilha_treino)[0]\n",
    "    \n",
    "    #Cálculo das probabilidades\n",
    "    P_frase_dado_A = frase_dado_target(frase_do_teste, \"A\", planilha_treino)\n",
    "    P_frase_dado_D = frase_dado_target(frase_do_teste, \"D\", planilha_treino)\n",
    "    P_frase_dado_N = frase_dado_target(frase_do_teste, \"N\", planilha_treino)\n",
    "    P_N = total_planilha_N/total_planilha         #probabilidade de estar na categoria N\n",
    "    P_D = total_planilha_D/total_planilha         #probabilidade de estar na categoria D\n",
    "    P_A = total_planilha_A/total_planilha         #probabilidade de estar na categoria A\n",
    "    \n",
    "    P_A_dado_frase = P_frase_dado_A*P_A\n",
    "    P_N_dado_frase = P_frase_dado_N*P_N\n",
    "    P_D_dado_frase = P_frase_dado_D*P_D\n",
    "        \n",
    "    #Classificação\n",
    "    if P_A_dado_frase >= P_D_dado_frase and P_A_dado_frase >= P_N_dado_frase:    #na classificação manual quando impatava a prioridade era acionável\n",
    "        return \"A\"\n",
    "    elif P_D_dado_frase > P_N_dado_frase and P_D_dado_frase > P_A_dado_frase:\n",
    "        return \"D\"\n",
    "    elif P_N_dado_frase > P_D_dado_frase and P_N_dado_frase > P_A_dado_frase:\n",
    "        return \"N\"\n",
    "    else:\n",
    "        return \"Houve um impasse\"    \n",
    "    "
   ]
  },
  {
   "cell_type": "code",
   "execution_count": 98,
   "metadata": {},
   "outputs": [],
   "source": [
    "# #Cria função que cria o vocabulário de tudo\n",
    "# def cria_vocabulario(coluna_mensagem_limpa_da_planilha_limpa):                       #recebe uma coluna da planilha\n",
    "#     lista_palavras = transforma_em_string(coluna_mensagem_limpa_da_planilha_limpa)\n",
    "#     lista_palavras = lista_palavras.split()\n",
    "#     bigramas = []\n",
    "#     for i in range(len(lista_palavras) - 1):\n",
    "#         bigrama = (lista_palavras[i], lista_palavras[i + 1])\n",
    "#         bigramas.append(bigrama)\n",
    "    \n",
    "#     bigramas_lista = []   \n",
    "#     for palavras in bigramas:\n",
    "#         palavra = palavras[0] + ' ' + palavras[1]\n",
    "#         bigramas_lista.append(palavra)\n",
    "#     return bigramas_lista     #devolve uma lista com as palavras separadas em bigramas\n",
    "\n",
    "# # Função que calcula probabidade da frase dado target realizando suavização de LaPlace\n",
    "# # Probabilidade da frase dado target mais suavização de LaPlace\n",
    "# def frase_dado_target(frase_do_teste, target, planilha_treino_limpa):\n",
    "#     prob_frase_dado_classe = 1\n",
    "#     #criar bigramas da frase:\n",
    "#     frase_do_teste =  frase_do_teste.split()\n",
    "#     bigramas = []\n",
    "#     for i in range(len(frase_do_teste) - 1):\n",
    "#         bigrama = (frase_do_teste[i], frase_do_teste[i + 1])\n",
    "#         bigramas.append(bigrama)\n",
    "    \n",
    "#     frase_do_teste = []   \n",
    "#     for palavras in bigramas:\n",
    "#         palavra = palavras[0] + ' ' + palavras[1]\n",
    "#         frase_do_teste.append(palavra)\n",
    "    \n",
    "#     dic_probabilidades_por_classe_treino = dicionario_prob_palavra_dado_target_treino(planilha_treino_limpa, target)   #dicionario com as palavras e suas frequencias absolutas\n",
    "#     dados_target = divisao_categorias(planilha_treino_limpa, target)\n",
    "#     qtdd_palavras = dados_target[0]                  #quantidade de palavras no target informado\n",
    "#     qtdd_palavras_sem_repeticao = len(dados_target[3]) \n",
    "    \n",
    "#     alfa = 0.01\n",
    "#     for palavra in frase_do_teste:\n",
    "#         if palavra in dic_probabilidades_por_classe_treino:\n",
    "#             freq_abs_palavra = dic_probabilidades_por_classe_treino[palavra]\n",
    "#             #APLIQUEI A SUAVIZAÇÃO DE LA PLACE\n",
    "#             prob_palavra_dado_classe = (freq_abs_palavra + alfa)/(qtdd_palavras + alfa*qtdd_palavras_sem_repeticao)\n",
    "#             prob_frase_dado_classe *= prob_palavra_dado_classe\n",
    "#         else:\n",
    "#             freq_abs_palavra = 0\n",
    "#             #APLIQUEI A SUAVIZAÇÃO DE LA PLACE\n",
    "#             prob_palavra_dado_classe = (freq_abs_palavra + alfa)/(qtdd_palavras + alfa*qtdd_palavras_sem_repeticao)\n",
    "#             prob_frase_dado_classe *= prob_palavra_dado_classe\n",
    "#     return prob_frase_dado_classe"
   ]
  },
  {
   "cell_type": "markdown",
   "metadata": {},
   "source": [
    "___\n",
    "### Verificando a performance do Classificador\n",
    "\n",
    "Agora você deve testar o seu classificador com a base de Testes."
   ]
  },
  {
   "cell_type": "code",
   "execution_count": 99,
   "metadata": {},
   "outputs": [],
   "source": [
    "# Função que classifica todas as mensagens da planilha de teste com base na planilha de treino\n",
    "#Fazer meu classificador classificar todas as frases da planilha de teste\n",
    "#recebe a planilha inteira, não precisa realizar nenhuma limpeza\n",
    "def classifica_planilha(planilha_teste, planilha_treino):\n",
    "    planilha_teste_limpa = mensagem_limpa(planilha_teste)\n",
    "    planilha_treino_limpa = mensagem_limpa(planilha_treino)\n",
    "    avaliacoes_limpas = planilha_teste_limpa[\"Mensagem Limpa\"]\n",
    "    #fez uma cópia da planilha para nao alterar a antiga\n",
    "    planilha_nova = planilha_teste_limpa.copy()\n",
    "    # Criar uma lista para armazenar os resultados do classificador\n",
    "    resultados = []\n",
    "    for frase in avaliacoes_limpas:\n",
    "        resultado = classificador(frase, planilha_treino_limpa)\n",
    "        resultados.append(resultado)\n",
    "    # Atribuir a lista de resultados à coluna 'Classificador Automático'\n",
    "    planilha_nova['Classificador Automático'] = resultados\n",
    "    return planilha_nova"
   ]
  },
  {
   "cell_type": "code",
   "execution_count": 100,
   "metadata": {},
   "outputs": [],
   "source": [
    "#Função que faz as comparações de acurácia e classificação das mensagens\n",
    "def divide_comparativos(planilha_treino, planilha_teste):\n",
    "\n",
    "    planilha = classifica_planilha(planilha_teste, planilha_treino)\n",
    "    comparador = pd.crosstab(planilha['Classificador Automático'], planilha['Acionável/Direcionável/Não Acionável'],normalize=True, margins=True)\n",
    "\n",
    "    acuracia = comparador.iloc[0]['A'] + comparador.iloc[1]['D'] + comparador.iloc[2]['N'] \n",
    "\n",
    "    pct_falsos_A = comparador.iloc[0]['D'] + comparador.iloc[0]['N']\n",
    "    pct_falsos_D = comparador.iloc[1]['A'] + comparador.iloc[1]['N']\n",
    "    pct_falsos_N = comparador.iloc[2]['D'] + comparador.iloc[2]['A']\n",
    "    pct_verdadeiros_A = comparador.iloc[0]['A']\n",
    "    pct_verdadeiros_D = comparador.iloc[1]['D']\n",
    "    pct_verdadeiros_N = comparador.iloc[2]['N'] \n",
    "\n",
    "    return acuracia*100, pct_falsos_A*100, pct_falsos_D*100, pct_falsos_N*100, pct_verdadeiros_A*100, pct_verdadeiros_D*100, pct_verdadeiros_N*100, comparador\n",
    "\n",
    "resultados = divide_comparativos(train,test)\n",
    "\n",
    "verdadeiros_positivos = resultados[0]\n",
    "falsos_acionaveis = resultados[1]\n",
    "falsos_direcionaveis = resultados[2]\n",
    "falsos_nao_acionaveis = resultados[3]\n",
    "verdadeiros_acionaveis = resultados[4]\n",
    "verdadeiros_direcionaveis = resultados[5]\n",
    "verdadeiros_naoacionaveis = resultados[6]\n",
    "df_crosstab = resultados[7]"
   ]
  },
  {
   "cell_type": "code",
   "execution_count": 101,
   "metadata": {},
   "outputs": [
    {
     "name": "stdout",
     "output_type": "stream",
     "text": [
      "A acurácia foi 80.80% (mensagens corretamente classificadas)\n",
      "A procentagem de falsos acionáveis foi 85.20% (mensagens incorretamente classificadas como acionáveis)\n",
      "A procentagem de falsos direcionáveis foi 0.40% (mensagens incorretamente classificadas como direcionáveis)\n",
      "A procentagem de falsos não acionáveis foi 33.60% (mensagens incorretamente classificadas como não acionáveis)\n",
      "A procentagem de verdadeiros acionáveis foi 14.40% (mensagens corretamente classificadas como acionáveis)\n",
      "A procentagem de verdadeiros direcionáveis foi 0.00% (mensagens corretamente classificadas como direcionáveis)\n",
      "A procentagem de verdadeiros não acionáveis foi 66.40% (mensagens corretamente classificadas como não acionáveis)\n"
     ]
    },
    {
     "data": {
      "text/html": [
       "<div>\n",
       "<style scoped>\n",
       "    .dataframe tbody tr th:only-of-type {\n",
       "        vertical-align: middle;\n",
       "    }\n",
       "\n",
       "    .dataframe tbody tr th {\n",
       "        vertical-align: top;\n",
       "    }\n",
       "\n",
       "    .dataframe thead th {\n",
       "        text-align: right;\n",
       "    }\n",
       "</style>\n",
       "<table border=\"1\" class=\"dataframe\">\n",
       "  <thead>\n",
       "    <tr style=\"text-align: right;\">\n",
       "      <th>Acionável/Direcionável/Não Acionável</th>\n",
       "      <th>A</th>\n",
       "      <th>D</th>\n",
       "      <th>N</th>\n",
       "      <th>All</th>\n",
       "    </tr>\n",
       "    <tr>\n",
       "      <th>Classificador Automático</th>\n",
       "      <th></th>\n",
       "      <th></th>\n",
       "      <th></th>\n",
       "      <th></th>\n",
       "    </tr>\n",
       "  </thead>\n",
       "  <tbody>\n",
       "    <tr>\n",
       "      <th>A</th>\n",
       "      <td>0.144</td>\n",
       "      <td>0.192</td>\n",
       "      <td>0.660</td>\n",
       "      <td>0.996</td>\n",
       "    </tr>\n",
       "    <tr>\n",
       "      <th>N</th>\n",
       "      <td>0.000</td>\n",
       "      <td>0.000</td>\n",
       "      <td>0.004</td>\n",
       "      <td>0.004</td>\n",
       "    </tr>\n",
       "    <tr>\n",
       "      <th>All</th>\n",
       "      <td>0.144</td>\n",
       "      <td>0.192</td>\n",
       "      <td>0.664</td>\n",
       "      <td>1.000</td>\n",
       "    </tr>\n",
       "  </tbody>\n",
       "</table>\n",
       "</div>"
      ],
      "text/plain": [
       "Acionável/Direcionável/Não Acionável      A      D      N    All\n",
       "Classificador Automático                                        \n",
       "A                                     0.144  0.192  0.660  0.996\n",
       "N                                     0.000  0.000  0.004  0.004\n",
       "All                                   0.144  0.192  0.664  1.000"
      ]
     },
     "execution_count": 101,
     "metadata": {},
     "output_type": "execute_result"
    }
   ],
   "source": [
    "#printando resultados\n",
    "print(\"A acurácia foi {0:.2f}% (mensagens corretamente classificadas)\".format(verdadeiros_positivos))\n",
    "print(\"A procentagem de falsos acionáveis foi {0:.2f}% (mensagens incorretamente classificadas como acionáveis)\".format(falsos_acionaveis))\n",
    "print(\"A procentagem de falsos direcionáveis foi {0:.2f}% (mensagens incorretamente classificadas como direcionáveis)\".format(falsos_direcionaveis))\n",
    "print(\"A procentagem de falsos não acionáveis foi {0:.2f}% (mensagens incorretamente classificadas como não acionáveis)\".format(falsos_nao_acionaveis))\n",
    "print(\"A procentagem de verdadeiros acionáveis foi {0:.2f}% (mensagens corretamente classificadas como acionáveis)\".format(verdadeiros_acionaveis))\n",
    "print(\"A procentagem de verdadeiros direcionáveis foi {0:.2f}% (mensagens corretamente classificadas como direcionáveis)\".format(verdadeiros_direcionaveis))\n",
    "print(\"A procentagem de verdadeiros não acionáveis foi {0:.2f}% (mensagens corretamente classificadas como não acionáveis)\".format(verdadeiros_naoacionaveis))\n",
    "#cruzamento de dados da planilha\n",
    "df_crosstab"
   ]
  },
  {
   "cell_type": "code",
   "execution_count": null,
   "metadata": {},
   "outputs": [],
   "source": []
  },
  {
   "cell_type": "markdown",
   "metadata": {},
   "source": [
    "___\n",
    "### Concluindo"
   ]
  },
  {
   "cell_type": "markdown",
   "metadata": {},
   "source": [
    "*Análise Qualitativa*\n",
    "\n",
    "Pensando em apurar a performance do classificador, propomos aqui a análise qualitativa do desempenho do classificador automático em diferentes cenários.\n"
   ]
  },
  {
   "cell_type": "markdown",
   "metadata": {},
   "source": [
    "* Primeiro cenário: análise de frases ambíguas\n",
    "\n",
    "Nesse primeiro caso, temos a intenção de analisar o comportamento do classificador diante de mensagens que podem ser ambíguas, ou seja, poderiam ser classificadas tanto como acionáveis, quanto como direcionáveis.\n",
    "\n",
    "Frase: \"As páginas desse livro têm uma péssima qualidade, são extremamente finas e fáceis de rasgar. Além disso o box chegou todo rasgado e a entrega foi demorada\"\n",
    "\n",
    "Essa frase deveria ser classificada como Acionável, visto que durante a classificação manual as reclamações quanto à amazon (acionáveis) deveriam ter prioridade. Vamos então verificar o que acontece com ela quando utilizamos nosso classificador:"
   ]
  },
  {
   "cell_type": "code",
   "execution_count": 102,
   "metadata": {},
   "outputs": [],
   "source": [
    "#Como a função classificador recebe a planilha com as mensagens limpas, vamos realizar essa limpeza para todas as estapas abaixo\n",
    "planilha_limpa = mensagem_limpa(train)"
   ]
  },
  {
   "cell_type": "code",
   "execution_count": 103,
   "metadata": {},
   "outputs": [
    {
     "name": "stdout",
     "output_type": "stream",
     "text": [
      "A frase foi classificada como A\n"
     ]
    }
   ],
   "source": [
    "frase1 = \"As páginas desse livro têm uma péssima qualidade, são extremamente finas e fáceis de rasgar. Além disso o box chegou todo rasgado e a entrega foi demorada\"\n",
    "#como a frase precisa estar limpa, realizamos as limpezas do texto:\n",
    "#vou criar uma pequena função para classificar rapidamente as frases\n",
    "def classifica_frase(frase, planilha_limpa):\n",
    "    frase = limpa_tudo(frase)\n",
    "    classificacao = classificador(frase, planilha_limpa)\n",
    "    return classificacao\n",
    "\n",
    "print(\"A frase foi classificada como {0}\".format(classifica_frase(frase1, planilha_limpa)))\n"
   ]
  },
  {
   "cell_type": "markdown",
   "metadata": {},
   "source": [
    "Como podemos observar, a frase foi classificada como Direcionável, o que representa uma incoerência do nosso classificador. Vamos então realizar alguns testes, como remoção de palavras, para avaliar se nosso classificador interpreta de outra maneira.\n",
    "\n",
    "Frase = \"Esse livro têm uma péssima qualidade. Além disso o box chegou todo rasgado e a entrega foi demorada\""
   ]
  },
  {
   "cell_type": "code",
   "execution_count": 104,
   "metadata": {},
   "outputs": [
    {
     "name": "stdout",
     "output_type": "stream",
     "text": [
      "A frase foi classificada como A\n"
     ]
    }
   ],
   "source": [
    "frase1 = \"Esse livro têm uma péssima qualidade. Além disso o box chegou todo rasgado e a entrega foi demorada\"\n",
    "print(\"A frase foi classificada como {0}\".format(classifica_frase(frase1, planilha_limpa)))"
   ]
  },
  {
   "cell_type": "markdown",
   "metadata": {},
   "source": [
    "Novamente, a classificação foi incorreta. Realizando uma nova iteração:\n",
    "\n",
    "Frase = \"Péssima qualidade. Além disso o box chegou todo rasgado e a entrega foi demorada\""
   ]
  },
  {
   "cell_type": "code",
   "execution_count": 105,
   "metadata": {},
   "outputs": [
    {
     "name": "stdout",
     "output_type": "stream",
     "text": [
      "A frase foi classificada como A\n"
     ]
    }
   ],
   "source": [
    "frase1 = \"Péssima qualidade. Além disso o box chegou todo rasgado e a entrega foi demorada\"\n",
    "print(\"A frase foi classificada como {0}\".format(classifica_frase(frase1, planilha_limpa)))"
   ]
  },
  {
   "cell_type": "markdown",
   "metadata": {},
   "source": [
    "Aqui, percebemos que apesar de não haver nenhuma citação direta quanto à qualidade das páginas ou da edição, ainda assim a frase foi classificada como Direcionável. Vamos, por fim, remover qualquer menção à qualidade:\n",
    "\n",
    "Frase = \"O box chegou todo rasgado e a entrega foi demorada\""
   ]
  },
  {
   "cell_type": "code",
   "execution_count": 106,
   "metadata": {},
   "outputs": [
    {
     "name": "stdout",
     "output_type": "stream",
     "text": [
      "A frase foi classificada como A\n"
     ]
    }
   ],
   "source": [
    "frase1 = \"O box chegou todo rasgado e a entrega foi demorada\"\n",
    "print(\"A frase foi classificada como {0}\".format(classifica_frase(frase1, planilha_limpa)))"
   ]
  },
  {
   "cell_type": "markdown",
   "metadata": {},
   "source": [
    "Somente nessa frase ela foi corretamente classificada. Ou seja, notamos que nosso classificador apresenta uma falha ao diferenciar frases com ambiguidade, que deveriam, por prioridade da classificação manual, ser classificadas como Acionável (para a Amazon). \n",
    "\n",
    "Uma das principais hipóteses para explicar essa falha é a de que a base de treino do nosso classificador continha pouquíssimas frases que reclamavam tanto da editora quanto da Amazon, de modo que não foi possível treinar corretamente o classificador para distinguir essas informações.\n",
    "\n",
    "Vamos agora analisar uma frase que poderia ser classificada como Não Acionável e como Acionável, como por exemplo:\n",
    "\n",
    "Frase = \"Esse livro não tem nada de interessante, história básica, personagens sem graça e descrições muito longas. Além disso, a entrega chegou atrasada e em péssimas condições\"\n"
   ]
  },
  {
   "cell_type": "code",
   "execution_count": 107,
   "metadata": {},
   "outputs": [
    {
     "name": "stdout",
     "output_type": "stream",
     "text": [
      "A frase foi classificada como A\n"
     ]
    }
   ],
   "source": [
    "frase = \"Esse livro não tem nada de interessante, história básica, personagens sem graça e descrições muito longas. Além disso, a entrega chegou atrasada e em péssimas condições\"\n",
    "print(\"A frase foi classificada como {0}\".format(classifica_frase(frase, planilha_limpa)))"
   ]
  },
  {
   "cell_type": "code",
   "execution_count": 108,
   "metadata": {},
   "outputs": [
    {
     "name": "stdout",
     "output_type": "stream",
     "text": [
      "A frase foi classificada como A\n"
     ]
    }
   ],
   "source": [
    "frase = \"Esse livro não tem nada de interessante. Além disso, a entrega chegou atrasada e em péssimas condições\"\n",
    "print(\"A frase foi classificada como {0}\".format(classifica_frase(frase, planilha_limpa)))"
   ]
  },
  {
   "cell_type": "code",
   "execution_count": 109,
   "metadata": {},
   "outputs": [
    {
     "name": "stdout",
     "output_type": "stream",
     "text": [
      "A frase foi classificada como A\n"
     ]
    }
   ],
   "source": [
    "frase = \"Nada de interessante. Além disso, a entrega chegou atrasada e em péssimas condições\"\n",
    "print(\"A frase foi classificada como {0}\".format(classifica_frase(frase, planilha_limpa)))"
   ]
  },
  {
   "cell_type": "code",
   "execution_count": 110,
   "metadata": {},
   "outputs": [
    {
     "name": "stdout",
     "output_type": "stream",
     "text": [
      "A frase foi classificada como A\n"
     ]
    }
   ],
   "source": [
    "frase = \"A entrega chegou atrasada e em péssimas condições\"\n",
    "print(\"A frase foi classificada como {0}\".format(classifica_frase(frase, planilha_limpa)))"
   ]
  },
  {
   "cell_type": "markdown",
   "metadata": {},
   "source": [
    "Como podemos perceber, o classificador de fato apresenta problemas em diferenciar frases com diferentes posíveis classificações. Além disso, ele classificou incorretamente a frase como Direcionável, enquanto deveria ter classificado como Acionável. \n",
    "Novamente, essa incoerência pode estar relacionada à pobreza da base de treino quanto à classificações Acionáveis e Direcionáveis. \n",
    "\n",
    "Fazendo uma breve análise quantitativa na distribuição de dados da planilha de treino, podemos observar a quantidade de classificações manuais como Acionável, Direcionável e Não Acionável. Veja na célula abaixo:"
   ]
  },
  {
   "cell_type": "code",
   "execution_count": 111,
   "metadata": {},
   "outputs": [
    {
     "name": "stdout",
     "output_type": "stream",
     "text": [
      "A porcentagem de frases manualmente classificadas foi:\n",
      "Acionáveis = 15.60%\n",
      "Direcionáveis = 20.20%\n",
      "Não Acionáveis = 64.20%\n"
     ]
    }
   ],
   "source": [
    "#cria uma pequena função para calcular as ocorrências de cada target na planilha\n",
    "def filtro (planilha_limpa, target):\n",
    "    filtro_target = planilha_limpa.loc[planilha_limpa['Acionável/Direcionável/Não Acionável'] == target]\n",
    "    return len(filtro_target)\n",
    "\n",
    "acionaveis = filtro(planilha_limpa, \"A\")\n",
    "direcionaveis = filtro(planilha_limpa, \"D\")\n",
    "naoacionaveis = filtro(planilha_limpa, \"N\")\n",
    "total = acionaveis + direcionaveis + naoacionaveis\n",
    "pct_a = acionaveis/total\n",
    "pct_d = direcionaveis/total\n",
    "pct_n = naoacionaveis/total\n",
    "\n",
    "print(\"A porcentagem de frases manualmente classificadas foi:\\nAcionáveis = {0:.2f}%\\nDirecionáveis = {1:.2f}%\\nNão Acionáveis = {2:.2f}%\".format(pct_a*100,pct_d*100, pct_n*100))"
   ]
  },
  {
   "cell_type": "markdown",
   "metadata": {},
   "source": [
    "Ou seja, há mais referências para frases Não Acionáveis, em seguida Direcionáveis, e por último Acionáveis, o que pode ser uma boa explicação para as falhas do classificador quanto à distinção da classificação.\n",
    "\n",
    "Analisaremos agora outro cenário"
   ]
  },
  {
   "cell_type": "markdown",
   "metadata": {},
   "source": [
    "* Segundo cenário: análise de frases sarcásticas\n",
    "\n",
    "Queremos agora analisar o comportamento do nosso classificador diante de frases sarcásticas, mas que poderiam ser classificadas de diferentes maneiras.\n",
    "\n",
    "Frase: \"Amei que meu box veio todo rasgado\"\n",
    "\n",
    "Essa frase deveria ser classificada como Acionável. Vamos verificar a classificação automática:"
   ]
  },
  {
   "cell_type": "code",
   "execution_count": 112,
   "metadata": {},
   "outputs": [
    {
     "name": "stdout",
     "output_type": "stream",
     "text": [
      "A frase foi classificada como A\n"
     ]
    }
   ],
   "source": [
    "frase2 = \"Amei que meu box veio todo rasgado\"\n",
    "print(\"A frase foi classificada como {0}\".format(classifica_frase(frase2, planilha_limpa)))"
   ]
  },
  {
   "cell_type": "markdown",
   "metadata": {},
   "source": [
    "Essa frase foi corretamente interpretada. Vamos testar agora para outras frases irônicas com diferentes classificações:\n",
    "\n",
    "Frase 1 = \"A Amazon é ótima, ideal para quem gosta de receber os livros com atraso e com as embalagens mal feitas\"\n",
    "\n",
    "Frase 2 = \"A Amazon é ideal para quem gosta de receber livros com páginas de péssima qualidade e com tradução mal feita\"\n",
    "\n",
    "Frase 3 = \"O livro é ótimo para quem quer perder capacidade intelectual\"\n",
    "\n",
    "A frase 1 deve ser classificada como Acionável, a frase 2 deve ser classificada como Direcionável e a frase 3 como Não Acionável"
   ]
  },
  {
   "cell_type": "code",
   "execution_count": 113,
   "metadata": {},
   "outputs": [
    {
     "name": "stdout",
     "output_type": "stream",
     "text": [
      "A Frase 1 foi classificada como A\n",
      "A Frase 2 foi classificada como A\n",
      "A Frase 3 foi classificada como A\n"
     ]
    }
   ],
   "source": [
    "frase_ironica_a = \"A Amazon é ótima, ideal para quem gosta de receber os livros com atraso e com as embalagens mal feitas\"\n",
    "frase_ironica_d = \"A Amazon é ideal para quem gosta de receber livros com páginas de péssima qualidade e com tradução mal feita\"\n",
    "frase_ironica_n = \"O livro é ótimo para quem quer perder capacidade intelectual\"\n",
    "print(\"A Frase 1 foi classificada como {0}\\nA Frase 2 foi classificada como {1}\\nA Frase 3 foi classificada como {2}\".format(classifica_frase(frase_ironica_a, planilha_limpa), classifica_frase(frase_ironica_d, planilha_limpa), classifica_frase(frase_ironica_n, planilha_limpa)))\n"
   ]
  },
  {
   "cell_type": "markdown",
   "metadata": {},
   "source": [
    "Com base nessas classificações, percebemos que as três frases foram corretamente classificadas.\n",
    "\n",
    "Ou seja, podemos concluir que o classificador foi capaz de contornar a ironia contida nas frases! \n",
    "\n",
    "Uma das possíveis explicações para esse fato é de que, como o classificador analisa as palavras individualmente e remove algumas stopwords, uma reclamação quanto ao atraso ou quanto à entrega terá o mesmo efeito se acompanhada de palavras positivas (como ótimo, excelente, incrível) ou negativas (como péssimo, horrível). Vamos verificar essa suspeita?\n",
    "\n",
    "Frase 1 = \"A Amazon é ótima, ideal para quem gosta de receber os livros com atraso e com as embalagens mal feitas\"\n",
    "\n",
    "Frase 4 = \"A Amazon é horrível, péssima para quem gosta de receber os livros sem atraso e sem as embalagens mal feitas\"\n",
    "\n",
    "Note que o sentido da frase se manteve. Será que o classificador irá classificá-las igualmente?"
   ]
  },
  {
   "cell_type": "code",
   "execution_count": 114,
   "metadata": {},
   "outputs": [
    {
     "name": "stdout",
     "output_type": "stream",
     "text": [
      "A Frase 1 foi classificada como A\n",
      "A Frase 4 foi classificada como A\n"
     ]
    }
   ],
   "source": [
    "Frase_1 = \"A Amazon é ótima, ideal para quem gosta de receber os livros com atraso e com as embalagens mal feitas\"\n",
    "Frase_4 = \"A Amazon é horrível, péssima para quem gosta de receber os livros sem atraso e sem as embalagens mal feitas\"\n",
    "print(\"A Frase 1 foi classificada como {0}\\nA Frase 4 foi classificada como {1}\".format(classifica_frase(Frase_1, planilha_limpa), classifica_frase(Frase_4, planilha_limpa)))\n"
   ]
  },
  {
   "cell_type": "markdown",
   "metadata": {},
   "source": [
    "Parece que o classificador realmente consegue contornar ironias contidas nas frases. Vamos então para o último cenário."
   ]
  },
  {
   "cell_type": "markdown",
   "metadata": {},
   "source": [
    "* Terceiro cenário: análise de frases com dupla negação\n",
    "\n",
    "Queremos saber, por fim, se o classificador é capaz de interpretar corretamente frases com dupla negação. Isto é, diante da ocorrência frequente de uma palavra, ele consegue analisar seu verdadeiro sentido?\n",
    "\n",
    "Tomemos como exemplo as seguintes frases:\n",
    "\n",
    "Frase A = \"Não entendo como não conseguem enviar no prazo e sem chegar tudo rasgado\"\n",
    "\n",
    "Frase D = \"Não entendo como não conseguem fazer páginas com qualidade ou com uma tradução decente\"\n",
    "\n",
    "Frase N = \"Não entendo como pode um autor tão famoso não ter o mínimo de conteúdo para apresentar\"\n",
    "\n",
    "A Frase A deverá ser classificada como Acionável, enquanto a Frase D deverá ser classificada como Direcionável e a frase N como Não Acionável. Vejamos o que o classificador indica:\n"
   ]
  },
  {
   "cell_type": "code",
   "execution_count": 115,
   "metadata": {},
   "outputs": [
    {
     "name": "stdout",
     "output_type": "stream",
     "text": [
      "A Frase A foi classificada como A\n",
      "A Frase D foi classificada como A\n",
      "A Frase N foi classificada como A\n"
     ]
    }
   ],
   "source": [
    "\n",
    "frasea = \"Não entendo como não conseguem enviar no prazo e sem chegar tudo rasgado\"\n",
    "frased = \"Não entendo como não conseguem fazer páginas com qualidade ou com uma tradução decente\"\n",
    "frasen = \"Não entendo como pode um autor tão famoso não ter o mínimo de conteúdo para apresentar\"\n",
    "\n",
    "classifica_frase(frase1, planilha_limpa)\n",
    "print(\"A Frase A foi classificada como {0}\\nA Frase D foi classificada como {1}\\nA Frase N foi classificada como {2}\".format(classifica_frase(frasea, planilha_limpa), classifica_frase(frased, planilha_limpa), classifica_frase(frasen, planilha_limpa)))\n"
   ]
  },
  {
   "cell_type": "markdown",
   "metadata": {},
   "source": [
    "Com base nesse resultado, o classificador automático também não parece apresentar problemas quanto à interpretação de frases com dupla negação. A isso provavelmente se deve o fato de a ocorrência da palavra não apresentar frequência relativa muito parecida nas três classes  (A, D e N). Vamos verificar isso quantitativamente:"
   ]
  },
  {
   "cell_type": "code",
   "execution_count": 116,
   "metadata": {},
   "outputs": [
    {
     "ename": "KeyError",
     "evalue": "'nao'",
     "output_type": "error",
     "traceback": [
      "\u001b[1;31m---------------------------------------------------------------------------\u001b[0m",
      "\u001b[1;31mKeyError\u001b[0m                                  Traceback (most recent call last)",
      "\u001b[1;32mc:\\Users\\gabri\\anaconda3\\lib\\site-packages\\pandas\\core\\indexes\\base.py\u001b[0m in \u001b[0;36mget_loc\u001b[1;34m(self, key, method, tolerance)\u001b[0m\n\u001b[0;32m   3628\u001b[0m             \u001b[1;32mtry\u001b[0m\u001b[1;33m:\u001b[0m\u001b[1;33m\u001b[0m\u001b[1;33m\u001b[0m\u001b[0m\n\u001b[1;32m-> 3629\u001b[1;33m                 \u001b[1;32mreturn\u001b[0m \u001b[0mself\u001b[0m\u001b[1;33m.\u001b[0m\u001b[0m_engine\u001b[0m\u001b[1;33m.\u001b[0m\u001b[0mget_loc\u001b[0m\u001b[1;33m(\u001b[0m\u001b[0mcasted_key\u001b[0m\u001b[1;33m)\u001b[0m\u001b[1;33m\u001b[0m\u001b[1;33m\u001b[0m\u001b[0m\n\u001b[0m\u001b[0;32m   3630\u001b[0m             \u001b[1;32mexcept\u001b[0m \u001b[0mKeyError\u001b[0m \u001b[1;32mas\u001b[0m \u001b[0merr\u001b[0m\u001b[1;33m:\u001b[0m\u001b[1;33m\u001b[0m\u001b[1;33m\u001b[0m\u001b[0m\n",
      "\u001b[1;32mc:\\Users\\gabri\\anaconda3\\lib\\site-packages\\pandas\\_libs\\index.pyx\u001b[0m in \u001b[0;36mpandas._libs.index.IndexEngine.get_loc\u001b[1;34m()\u001b[0m\n",
      "\u001b[1;32mc:\\Users\\gabri\\anaconda3\\lib\\site-packages\\pandas\\_libs\\index.pyx\u001b[0m in \u001b[0;36mpandas._libs.index.IndexEngine.get_loc\u001b[1;34m()\u001b[0m\n",
      "\u001b[1;32mpandas\\_libs\\hashtable_class_helper.pxi\u001b[0m in \u001b[0;36mpandas._libs.hashtable.PyObjectHashTable.get_item\u001b[1;34m()\u001b[0m\n",
      "\u001b[1;32mpandas\\_libs\\hashtable_class_helper.pxi\u001b[0m in \u001b[0;36mpandas._libs.hashtable.PyObjectHashTable.get_item\u001b[1;34m()\u001b[0m\n",
      "\u001b[1;31mKeyError\u001b[0m: 'nao'",
      "\nThe above exception was the direct cause of the following exception:\n",
      "\u001b[1;31mKeyError\u001b[0m                                  Traceback (most recent call last)",
      "\u001b[1;32m~\\AppData\\Local\\Temp\\ipykernel_23196\\4172920381.py\u001b[0m in \u001b[0;36m<module>\u001b[1;34m\u001b[0m\n\u001b[0;32m      1\u001b[0m \u001b[1;31m#Frequencia relativa da palavra \"não\" em cada classificação\u001b[0m\u001b[1;33m\u001b[0m\u001b[1;33m\u001b[0m\u001b[0m\n\u001b[0;32m      2\u001b[0m \u001b[1;33m\u001b[0m\u001b[0m\n\u001b[1;32m----> 3\u001b[1;33m \u001b[0mnao_em_a\u001b[0m \u001b[1;33m=\u001b[0m \u001b[0mdivisao_categorias\u001b[0m\u001b[1;33m(\u001b[0m\u001b[0mplanilha_limpa\u001b[0m\u001b[1;33m,\u001b[0m \u001b[1;34m\"A\"\u001b[0m\u001b[1;33m)\u001b[0m\u001b[1;33m[\u001b[0m\u001b[1;36m2\u001b[0m\u001b[1;33m]\u001b[0m\u001b[1;33m[\u001b[0m\u001b[1;34m\"nao\"\u001b[0m\u001b[1;33m]\u001b[0m\u001b[1;33m\u001b[0m\u001b[1;33m\u001b[0m\u001b[0m\n\u001b[0m\u001b[0;32m      4\u001b[0m \u001b[0mnao_em_d\u001b[0m \u001b[1;33m=\u001b[0m \u001b[0mnao_em_a\u001b[0m \u001b[1;33m=\u001b[0m \u001b[0mdivisao_categorias\u001b[0m\u001b[1;33m(\u001b[0m\u001b[0mplanilha_limpa\u001b[0m\u001b[1;33m,\u001b[0m \u001b[1;34m\"D\"\u001b[0m\u001b[1;33m)\u001b[0m\u001b[1;33m[\u001b[0m\u001b[1;36m2\u001b[0m\u001b[1;33m]\u001b[0m\u001b[1;33m[\u001b[0m\u001b[1;34m\"nao\"\u001b[0m\u001b[1;33m]\u001b[0m\u001b[1;33m\u001b[0m\u001b[1;33m\u001b[0m\u001b[0m\n\u001b[0;32m      5\u001b[0m \u001b[0mnao_em_n\u001b[0m \u001b[1;33m=\u001b[0m \u001b[0mdivisao_categorias\u001b[0m\u001b[1;33m(\u001b[0m\u001b[0mplanilha_limpa\u001b[0m\u001b[1;33m,\u001b[0m \u001b[1;34m\"N\"\u001b[0m\u001b[1;33m)\u001b[0m\u001b[1;33m[\u001b[0m\u001b[1;36m2\u001b[0m\u001b[1;33m]\u001b[0m\u001b[1;33m[\u001b[0m\u001b[1;34m\"nao\"\u001b[0m\u001b[1;33m]\u001b[0m\u001b[1;33m\u001b[0m\u001b[1;33m\u001b[0m\u001b[0m\n",
      "\u001b[1;32mc:\\Users\\gabri\\anaconda3\\lib\\site-packages\\pandas\\core\\series.py\u001b[0m in \u001b[0;36m__getitem__\u001b[1;34m(self, key)\u001b[0m\n\u001b[0;32m    956\u001b[0m \u001b[1;33m\u001b[0m\u001b[0m\n\u001b[0;32m    957\u001b[0m         \u001b[1;32melif\u001b[0m \u001b[0mkey_is_scalar\u001b[0m\u001b[1;33m:\u001b[0m\u001b[1;33m\u001b[0m\u001b[1;33m\u001b[0m\u001b[0m\n\u001b[1;32m--> 958\u001b[1;33m             \u001b[1;32mreturn\u001b[0m \u001b[0mself\u001b[0m\u001b[1;33m.\u001b[0m\u001b[0m_get_value\u001b[0m\u001b[1;33m(\u001b[0m\u001b[0mkey\u001b[0m\u001b[1;33m)\u001b[0m\u001b[1;33m\u001b[0m\u001b[1;33m\u001b[0m\u001b[0m\n\u001b[0m\u001b[0;32m    959\u001b[0m \u001b[1;33m\u001b[0m\u001b[0m\n\u001b[0;32m    960\u001b[0m         \u001b[1;32mif\u001b[0m \u001b[0mis_hashable\u001b[0m\u001b[1;33m(\u001b[0m\u001b[0mkey\u001b[0m\u001b[1;33m)\u001b[0m\u001b[1;33m:\u001b[0m\u001b[1;33m\u001b[0m\u001b[1;33m\u001b[0m\u001b[0m\n",
      "\u001b[1;32mc:\\Users\\gabri\\anaconda3\\lib\\site-packages\\pandas\\core\\series.py\u001b[0m in \u001b[0;36m_get_value\u001b[1;34m(self, label, takeable)\u001b[0m\n\u001b[0;32m   1067\u001b[0m \u001b[1;33m\u001b[0m\u001b[0m\n\u001b[0;32m   1068\u001b[0m         \u001b[1;31m# Similar to Index.get_value, but we do not fall back to positional\u001b[0m\u001b[1;33m\u001b[0m\u001b[1;33m\u001b[0m\u001b[0m\n\u001b[1;32m-> 1069\u001b[1;33m         \u001b[0mloc\u001b[0m \u001b[1;33m=\u001b[0m \u001b[0mself\u001b[0m\u001b[1;33m.\u001b[0m\u001b[0mindex\u001b[0m\u001b[1;33m.\u001b[0m\u001b[0mget_loc\u001b[0m\u001b[1;33m(\u001b[0m\u001b[0mlabel\u001b[0m\u001b[1;33m)\u001b[0m\u001b[1;33m\u001b[0m\u001b[1;33m\u001b[0m\u001b[0m\n\u001b[0m\u001b[0;32m   1070\u001b[0m         \u001b[1;32mreturn\u001b[0m \u001b[0mself\u001b[0m\u001b[1;33m.\u001b[0m\u001b[0mindex\u001b[0m\u001b[1;33m.\u001b[0m\u001b[0m_get_values_for_loc\u001b[0m\u001b[1;33m(\u001b[0m\u001b[0mself\u001b[0m\u001b[1;33m,\u001b[0m \u001b[0mloc\u001b[0m\u001b[1;33m,\u001b[0m \u001b[0mlabel\u001b[0m\u001b[1;33m)\u001b[0m\u001b[1;33m\u001b[0m\u001b[1;33m\u001b[0m\u001b[0m\n\u001b[0;32m   1071\u001b[0m \u001b[1;33m\u001b[0m\u001b[0m\n",
      "\u001b[1;32mc:\\Users\\gabri\\anaconda3\\lib\\site-packages\\pandas\\core\\indexes\\base.py\u001b[0m in \u001b[0;36mget_loc\u001b[1;34m(self, key, method, tolerance)\u001b[0m\n\u001b[0;32m   3629\u001b[0m                 \u001b[1;32mreturn\u001b[0m \u001b[0mself\u001b[0m\u001b[1;33m.\u001b[0m\u001b[0m_engine\u001b[0m\u001b[1;33m.\u001b[0m\u001b[0mget_loc\u001b[0m\u001b[1;33m(\u001b[0m\u001b[0mcasted_key\u001b[0m\u001b[1;33m)\u001b[0m\u001b[1;33m\u001b[0m\u001b[1;33m\u001b[0m\u001b[0m\n\u001b[0;32m   3630\u001b[0m             \u001b[1;32mexcept\u001b[0m \u001b[0mKeyError\u001b[0m \u001b[1;32mas\u001b[0m \u001b[0merr\u001b[0m\u001b[1;33m:\u001b[0m\u001b[1;33m\u001b[0m\u001b[1;33m\u001b[0m\u001b[0m\n\u001b[1;32m-> 3631\u001b[1;33m                 \u001b[1;32mraise\u001b[0m \u001b[0mKeyError\u001b[0m\u001b[1;33m(\u001b[0m\u001b[0mkey\u001b[0m\u001b[1;33m)\u001b[0m \u001b[1;32mfrom\u001b[0m \u001b[0merr\u001b[0m\u001b[1;33m\u001b[0m\u001b[1;33m\u001b[0m\u001b[0m\n\u001b[0m\u001b[0;32m   3632\u001b[0m             \u001b[1;32mexcept\u001b[0m \u001b[0mTypeError\u001b[0m\u001b[1;33m:\u001b[0m\u001b[1;33m\u001b[0m\u001b[1;33m\u001b[0m\u001b[0m\n\u001b[0;32m   3633\u001b[0m                 \u001b[1;31m# If we have a listlike key, _check_indexing_error will raise\u001b[0m\u001b[1;33m\u001b[0m\u001b[1;33m\u001b[0m\u001b[0m\n",
      "\u001b[1;31mKeyError\u001b[0m: 'nao'"
     ]
    }
   ],
   "source": [
    "#Frequencia relativa da palavra \"não\" em cada classificação\n",
    "\n",
    "nao_em_a = divisao_categorias(planilha_limpa, \"A\")[2][\"nao\"]\n",
    "nao_em_d = nao_em_a = divisao_categorias(planilha_limpa, \"D\")[2][\"nao\"]\n",
    "nao_em_n = divisao_categorias(planilha_limpa, \"N\")[2][\"nao\"]\n",
    "\n",
    "print('Frequência relativa de aparecimento da palavra \"não\" em classificações Acionáveis: {0:.5f}\\nFrequência relativa de aparecimento da palavra \"não\" em classificações Direcionáveis: {1:.5f}\\nFrequência relativa de aparecimento da palavra \"não\" em classificações Não Acionáveis: {2:.5f}'.format(nao_em_a, nao_em_d, nao_em_n))\n",
    "    "
   ]
  },
  {
   "cell_type": "markdown",
   "metadata": {},
   "source": [
    "Ou seja, a dupla negação não parece interferir na classificação final da frase. Ainda assim, vale ressaltar que esses são apenas alguns exemplos e não representam a totalidade dos casos.;\n",
    "\n",
    "Uma análise mais fidedigna deveria ser realizada de maneira quantitativa. Porém, por ora, é possível concluir que nos casos de ironia e dupla negação o classificador funciona, apresentando real dificuldade apenas para distinguir frases com ambiguidade de dupla classificação."
   ]
  },
  {
   "cell_type": "markdown",
   "metadata": {},
   "source": [
    "* *Conclusões Gerais*"
   ]
  },
  {
   "cell_type": "markdown",
   "metadata": {},
   "source": [
    "A partir da análise qualitativa dos percentuais de acertos obtidos no item Verificando a Performance do Classificador, podemos concluir que o melhor desempenho do classificador ocorre na categoria \"Não Acionável\", com a maior porcentagem de acertos na classificação, e menor porcentagem de erros (4,72% de erro em relação a quantidade de acertos).\n",
    "\n",
    "Para a categoria direcionáveis, o percentual de erros comparados ao percentual de acertos foi de aproximandamente 47%, o que representa uma certa dificuldade do classificador para identificar essas frases.\n",
    "\n",
    "O pior desempenho, no entanto, ocorre para a categoria Acionáveis, visto que o percentual de acertos é bastante comparável ao percentual de erros (o percentual de erros representa cerca de 71.43% dos acertos). Ou seja, se o objetivo principal do classificador é direcionar mensagens acionáveis para a Amazon, seu desempenho não se mostra tão satisfatório. \n",
    "\n",
    "Contudo, podemos pensar em outras estratégias para a melhoria do nosso classificador. Por exemplo, notamos que o classificador consegue tratar adequadamente frases com dupla negação ou com sarcasmos, mas não consegue diferenciar tão bem as categorias Acionável e Direcionável. Uma ideia para a expansão e nova iteração para esse projeto seria treiná-lo mais uma vez com as frases Acionáveis e Direcionáveis: ou seja, realizar duas classificações. Na primeira, manteríamos as três classificações (A, D e N). Em seguida, poderíamos descartar as frases classificadas como Não Acionáveis (que apresentam pequeno percentual de erro). Por fim, realizaríamos novo treinamento somente considerando as frases Acionáveis e Direcionáveis, para então reclassificar as frases como A ou D. Para isso, seria necessário, também, ampliar a base de dados a fim de obter mais referências para o treino do classificador.\n",
    "\n",
    "Ou seja, embora o classificador ainda apresente erros consideráveis nas classificações, sua expansão poderia levar a melhorias significativas nos resultados, mostrando-se uma ferramenta útil para a Amazon direcionar reclamações ou tomar medidas para o atendimento do consumidor. De todo modo, mesmo sem uma nova iteração o classificador funciona, ao menos, como um bom filtro para descartar mensagens \"não acionáveis\", ou seja, elimina avaliações irrelevantes para a empresa."
   ]
  },
  {
   "cell_type": "markdown",
   "metadata": {},
   "source": [
    "* *Outros Cenários*\n"
   ]
  },
  {
   "cell_type": "markdown",
   "metadata": {},
   "source": [
    "Pensando na utilidade de um classificador Naive-Bayes, destacamos outras aplicações além de um classificador de frases: \n",
    "\n",
    "* Recomendação de oportunidades\n",
    "\n",
    "Na disciplina de Codesign de Aplicativos no Insper, há um projeto de desenvolvimento de um aplicativo comercializável. Um dos projetos consiste no desenvolvimento de um app que irá recomendar oportunidades profissionais e acadêmicas relevantes para um usuário, baseado no seu perfil de interesses. Nesse contexto, a recomendação de conteúdo baseada em um classificador Naive-Bayes seria uma ótima aplicação da ferramenta. Para isso deveríamos considerar que cada interesse e oportunidade são independentes entre si (o que não é necessariamente verdade, mas é uma boa aproximação). Assim, poderíamos calcular a P(Oportunidade|Interesses), que seria a probabilidade de uma oportunidade ser relevante para a pessoa dado os interesses que ela declarou. Nesse caso, cada \"interesse\" receberia um rótulo, e haveria uma probabilidade desse rótulo ocorrer no perfil daquela pessoa (etapa de coleta de dados). Cada \"oportunidade\" também seria um rótulo, mas com uma probabilidade (ocorrência) dentro do app (novamente, coleta de dados). Precisaríamos, ainda, treinar o classificador para identificar quais oportunidades são relevantes para os interesses declarados de cada pessoa. Dessa maneira, poderíamos quantificar os interesses do usuário e recomendar oportunidades mais relevantes com base em seus interesses. Isso é uma boa aplicação para direcionar conteúdos específicos para cada perfil de usuário. \n",
    "\n",
    "(Ideia matemática: P(Oportunidade|Interesses) = P(Interesses|Oportunidade)*P(Oportunidade)/P(Interesses))\n",
    "\n",
    "\n",
    "* Previsão do tempo simples\n",
    "\n",
    "Uma outra aplicação para o classificador Naive-Bayes seria um sistema simplificado de previsão do tempo com base em dados anteriores. Se a base de dados anteriores contiver informações como umidade e temperatura e a condição meteorológica daquele dia (por exemplo, sol, chuva ou nublado), será possível treinar o classificador para prever o tempo de um dia com base na umidade e temperatura coletadas. Isto é: calcularíamos P(Sol|Umidade e Temperatura) = P(Umidade e Temparatura|Sol)*P(Sol)/P(Umidade e Temperatura). Contudo, como iremos comparar P(Sol|Umidade e Temperatura) com P(Chuva|Umidade e Temperatura) e P(Nublado|Umidade e Temperatura), não precisaríamos do fator P(Umidade e Temperatura). Logo, poderíamos indicar qual a condição climática de maior probabilidade para cada dia (ou melhor, para cada par de umidade e temperatura). Portanto, embora as previsões climáticas considerem muitos outros fatores, a aplicação de Naive-Bayes para uma previsão simplificada faz bastante sentido.\n",
    "\n",
    "\n",
    "\n",
    "\n",
    "\n",
    "\n",
    "\n"
   ]
  },
  {
   "cell_type": "markdown",
   "metadata": {},
   "source": [
    "___\n",
    "### Qualidade do Classificador a partir de novas separações dos tweets entre Treinamento e Teste\n",
    "\n",
    "Caso for fazer esse item do Projeto"
   ]
  },
  {
   "cell_type": "code",
   "execution_count": null,
   "metadata": {},
   "outputs": [],
   "source": [
    "#Criar planilha com todas as avaliações (treino e teste)\n",
    "train_test = pd.concat([train, test])"
   ]
  },
  {
   "cell_type": "code",
   "execution_count": null,
   "metadata": {},
   "outputs": [
    {
     "name": "stderr",
     "output_type": "stream",
     "text": [
      "Progesso:   0%|          | 0/100 [00:12<?, ?rows/s]\n"
     ]
    },
    {
     "ename": "KeyboardInterrupt",
     "evalue": "",
     "output_type": "error",
     "traceback": [
      "\u001b[1;31m---------------------------------------------------------------------------\u001b[0m",
      "\u001b[1;31mKeyboardInterrupt\u001b[0m                         Traceback (most recent call last)",
      "\u001b[1;32m~\\AppData\\Local\\Temp\\ipykernel_23196\\508030766.py\u001b[0m in \u001b[0;36m<module>\u001b[1;34m\u001b[0m\n\u001b[0;32m     12\u001b[0m \u001b[1;33m\u001b[0m\u001b[0m\n\u001b[0;32m     13\u001b[0m     \u001b[0mnovo_treino\u001b[0m\u001b[1;33m,\u001b[0m \u001b[0mnovo_teste\u001b[0m \u001b[1;33m=\u001b[0m \u001b[0mtrain_test_split\u001b[0m\u001b[1;33m(\u001b[0m\u001b[0mtrain_test\u001b[0m\u001b[1;33m,\u001b[0m \u001b[0mtest_size\u001b[0m\u001b[1;33m=\u001b[0m\u001b[1;36m250\u001b[0m\u001b[1;33m,\u001b[0m \u001b[0mrandom_state\u001b[0m\u001b[1;33m=\u001b[0m\u001b[1;32mNone\u001b[0m\u001b[1;33m)\u001b[0m\u001b[1;33m\u001b[0m\u001b[1;33m\u001b[0m\u001b[0m\n\u001b[1;32m---> 14\u001b[1;33m     \u001b[0mresultados\u001b[0m \u001b[1;33m=\u001b[0m \u001b[0mdivide_comparativos\u001b[0m\u001b[1;33m(\u001b[0m\u001b[0mnovo_treino\u001b[0m\u001b[1;33m,\u001b[0m \u001b[0mnovo_teste\u001b[0m\u001b[1;33m)\u001b[0m\u001b[1;33m\u001b[0m\u001b[1;33m\u001b[0m\u001b[0m\n\u001b[0m\u001b[0;32m     15\u001b[0m     \u001b[0macuracia\u001b[0m\u001b[1;33m.\u001b[0m\u001b[0mappend\u001b[0m\u001b[1;33m(\u001b[0m\u001b[0mresultados\u001b[0m\u001b[1;33m[\u001b[0m\u001b[1;36m0\u001b[0m\u001b[1;33m]\u001b[0m\u001b[1;33m)\u001b[0m\u001b[1;33m\u001b[0m\u001b[1;33m\u001b[0m\u001b[0m\n\u001b[0;32m     16\u001b[0m     \u001b[0mfalsos_acionaveis\u001b[0m\u001b[1;33m.\u001b[0m\u001b[0mappend\u001b[0m\u001b[1;33m(\u001b[0m\u001b[0mresultados\u001b[0m\u001b[1;33m[\u001b[0m\u001b[1;36m1\u001b[0m\u001b[1;33m]\u001b[0m\u001b[1;33m)\u001b[0m\u001b[1;33m\u001b[0m\u001b[1;33m\u001b[0m\u001b[0m\n",
      "\u001b[1;32m~\\AppData\\Local\\Temp\\ipykernel_23196\\4230512541.py\u001b[0m in \u001b[0;36mdivide_comparativos\u001b[1;34m(planilha_treino, planilha_teste)\u001b[0m\n\u001b[0;32m      2\u001b[0m \u001b[1;32mdef\u001b[0m \u001b[0mdivide_comparativos\u001b[0m\u001b[1;33m(\u001b[0m\u001b[0mplanilha_treino\u001b[0m\u001b[1;33m,\u001b[0m \u001b[0mplanilha_teste\u001b[0m\u001b[1;33m)\u001b[0m\u001b[1;33m:\u001b[0m\u001b[1;33m\u001b[0m\u001b[1;33m\u001b[0m\u001b[0m\n\u001b[0;32m      3\u001b[0m \u001b[1;33m\u001b[0m\u001b[0m\n\u001b[1;32m----> 4\u001b[1;33m     \u001b[0mplanilha\u001b[0m \u001b[1;33m=\u001b[0m \u001b[0mclassifica_planilha\u001b[0m\u001b[1;33m(\u001b[0m\u001b[0mplanilha_teste\u001b[0m\u001b[1;33m,\u001b[0m \u001b[0mplanilha_treino\u001b[0m\u001b[1;33m)\u001b[0m\u001b[1;33m\u001b[0m\u001b[1;33m\u001b[0m\u001b[0m\n\u001b[0m\u001b[0;32m      5\u001b[0m     \u001b[0mcomparador\u001b[0m \u001b[1;33m=\u001b[0m \u001b[0mpd\u001b[0m\u001b[1;33m.\u001b[0m\u001b[0mcrosstab\u001b[0m\u001b[1;33m(\u001b[0m\u001b[0mplanilha\u001b[0m\u001b[1;33m[\u001b[0m\u001b[1;34m'Classificador Automático'\u001b[0m\u001b[1;33m]\u001b[0m\u001b[1;33m,\u001b[0m \u001b[0mplanilha\u001b[0m\u001b[1;33m[\u001b[0m\u001b[1;34m'Acionável/Direcionável/Não Acionável'\u001b[0m\u001b[1;33m]\u001b[0m\u001b[1;33m,\u001b[0m\u001b[0mnormalize\u001b[0m\u001b[1;33m=\u001b[0m\u001b[1;32mTrue\u001b[0m\u001b[1;33m,\u001b[0m \u001b[0mmargins\u001b[0m\u001b[1;33m=\u001b[0m\u001b[1;32mTrue\u001b[0m\u001b[1;33m)\u001b[0m\u001b[1;33m\u001b[0m\u001b[1;33m\u001b[0m\u001b[0m\n\u001b[0;32m      6\u001b[0m \u001b[1;33m\u001b[0m\u001b[0m\n",
      "\u001b[1;32m~\\AppData\\Local\\Temp\\ipykernel_23196\\669956794.py\u001b[0m in \u001b[0;36mclassifica_planilha\u001b[1;34m(planilha_teste, planilha_treino)\u001b[0m\n\u001b[0;32m     11\u001b[0m     \u001b[0mresultados\u001b[0m \u001b[1;33m=\u001b[0m \u001b[1;33m[\u001b[0m\u001b[1;33m]\u001b[0m\u001b[1;33m\u001b[0m\u001b[1;33m\u001b[0m\u001b[0m\n\u001b[0;32m     12\u001b[0m     \u001b[1;32mfor\u001b[0m \u001b[0mfrase\u001b[0m \u001b[1;32min\u001b[0m \u001b[0mavaliacoes_limpas\u001b[0m\u001b[1;33m:\u001b[0m\u001b[1;33m\u001b[0m\u001b[1;33m\u001b[0m\u001b[0m\n\u001b[1;32m---> 13\u001b[1;33m         \u001b[0mresultado\u001b[0m \u001b[1;33m=\u001b[0m \u001b[0mclassificador\u001b[0m\u001b[1;33m(\u001b[0m\u001b[0mfrase\u001b[0m\u001b[1;33m,\u001b[0m \u001b[0mplanilha_treino_limpa\u001b[0m\u001b[1;33m)\u001b[0m\u001b[1;33m\u001b[0m\u001b[1;33m\u001b[0m\u001b[0m\n\u001b[0m\u001b[0;32m     14\u001b[0m         \u001b[0mresultados\u001b[0m\u001b[1;33m.\u001b[0m\u001b[0mappend\u001b[0m\u001b[1;33m(\u001b[0m\u001b[0mresultado\u001b[0m\u001b[1;33m)\u001b[0m\u001b[1;33m\u001b[0m\u001b[1;33m\u001b[0m\u001b[0m\n\u001b[0;32m     15\u001b[0m     \u001b[1;31m# Atribuir a lista de resultados à coluna 'Classificador Automático'\u001b[0m\u001b[1;33m\u001b[0m\u001b[1;33m\u001b[0m\u001b[0m\n",
      "\u001b[1;32m~\\AppData\\Local\\Temp\\ipykernel_23196\\3959825836.py\u001b[0m in \u001b[0;36mclassificador\u001b[1;34m(frase_do_teste, planilha_treino)\u001b[0m\n\u001b[0;32m      5\u001b[0m     \u001b[1;31m#Extraindo as informações\u001b[0m\u001b[1;33m\u001b[0m\u001b[1;33m\u001b[0m\u001b[0m\n\u001b[0;32m      6\u001b[0m     \u001b[0mtotal_planilha_N\u001b[0m \u001b[1;33m=\u001b[0m \u001b[0mdivisao_categorias\u001b[0m\u001b[1;33m(\u001b[0m\u001b[0mplanilha_treino\u001b[0m\u001b[1;33m,\u001b[0m \u001b[1;34m\"N\"\u001b[0m\u001b[1;33m)\u001b[0m\u001b[1;33m[\u001b[0m\u001b[1;36m0\u001b[0m\u001b[1;33m]\u001b[0m\u001b[1;33m\u001b[0m\u001b[1;33m\u001b[0m\u001b[0m\n\u001b[1;32m----> 7\u001b[1;33m     \u001b[0mtotal_planilha_D\u001b[0m \u001b[1;33m=\u001b[0m \u001b[0mdivisao_categorias\u001b[0m\u001b[1;33m(\u001b[0m\u001b[0mplanilha_treino\u001b[0m\u001b[1;33m,\u001b[0m \u001b[1;34m\"D\"\u001b[0m\u001b[1;33m)\u001b[0m\u001b[1;33m[\u001b[0m\u001b[1;36m0\u001b[0m\u001b[1;33m]\u001b[0m\u001b[1;33m\u001b[0m\u001b[1;33m\u001b[0m\u001b[0m\n\u001b[0m\u001b[0;32m      8\u001b[0m     \u001b[0mtotal_planilha_A\u001b[0m \u001b[1;33m=\u001b[0m \u001b[0mdivisao_categorias\u001b[0m\u001b[1;33m(\u001b[0m\u001b[0mplanilha_treino\u001b[0m\u001b[1;33m,\u001b[0m \u001b[1;34m\"A\"\u001b[0m\u001b[1;33m)\u001b[0m\u001b[1;33m[\u001b[0m\u001b[1;36m0\u001b[0m\u001b[1;33m]\u001b[0m\u001b[1;33m\u001b[0m\u001b[1;33m\u001b[0m\u001b[0m\n\u001b[0;32m      9\u001b[0m     \u001b[0mtotal_planilha\u001b[0m \u001b[1;33m=\u001b[0m \u001b[0mdivisao_planilhas\u001b[0m\u001b[1;33m(\u001b[0m\u001b[0mplanilha_treino\u001b[0m\u001b[1;33m)\u001b[0m\u001b[1;33m[\u001b[0m\u001b[1;36m0\u001b[0m\u001b[1;33m]\u001b[0m\u001b[1;33m\u001b[0m\u001b[1;33m\u001b[0m\u001b[0m\n",
      "\u001b[1;32m~\\AppData\\Local\\Temp\\ipykernel_23196\\1741588726.py\u001b[0m in \u001b[0;36mdivisao_categorias\u001b[1;34m(planilha_limpa, target)\u001b[0m\n\u001b[0;32m     11\u001b[0m     \u001b[0mdf_vocab_target\u001b[0m \u001b[1;33m=\u001b[0m \u001b[0mcria_pdseries\u001b[0m\u001b[1;33m(\u001b[0m\u001b[0mvocab_target\u001b[0m\u001b[1;33m)\u001b[0m\u001b[1;33m\u001b[0m\u001b[1;33m\u001b[0m\u001b[0m\n\u001b[0;32m     12\u001b[0m     \u001b[0mfreq_rel_target\u001b[0m \u001b[1;33m=\u001b[0m \u001b[0mfreq_rel\u001b[0m\u001b[1;33m(\u001b[0m\u001b[0mdf_vocab_target\u001b[0m\u001b[1;33m)\u001b[0m\u001b[1;33m\u001b[0m\u001b[1;33m\u001b[0m\u001b[0m\n\u001b[1;32m---> 13\u001b[1;33m     \u001b[0mfreq_abs_target\u001b[0m \u001b[1;33m=\u001b[0m \u001b[0mfreq_abs\u001b[0m\u001b[1;33m(\u001b[0m\u001b[0mdf_vocab_target\u001b[0m\u001b[1;33m)\u001b[0m   \u001b[1;31m#frequencia de palavras daquele target\u001b[0m\u001b[1;33m\u001b[0m\u001b[1;33m\u001b[0m\u001b[0m\n\u001b[0m\u001b[0;32m     14\u001b[0m     \u001b[0mtotal_target\u001b[0m \u001b[1;33m=\u001b[0m \u001b[0mfreq_abs_target\u001b[0m\u001b[1;33m.\u001b[0m\u001b[0msum\u001b[0m\u001b[1;33m(\u001b[0m\u001b[1;33m)\u001b[0m  \u001b[1;31m#total de palavras daquele target\u001b[0m\u001b[1;33m\u001b[0m\u001b[1;33m\u001b[0m\u001b[0m\n\u001b[0;32m     15\u001b[0m     \u001b[1;31m#criar vocabulario limpo\u001b[0m\u001b[1;33m\u001b[0m\u001b[1;33m\u001b[0m\u001b[0m\n",
      "\u001b[1;32m~\\AppData\\Local\\Temp\\ipykernel_23196\\2063556722.py\u001b[0m in \u001b[0;36mfreq_abs\u001b[1;34m(tabela)\u001b[0m\n\u001b[0;32m      8\u001b[0m \u001b[1;31m#recebe uma tabela de pd\u001b[0m\u001b[1;33m\u001b[0m\u001b[1;33m\u001b[0m\u001b[0m\n\u001b[0;32m      9\u001b[0m \u001b[1;32mdef\u001b[0m \u001b[0mfreq_abs\u001b[0m\u001b[1;33m(\u001b[0m\u001b[0mtabela\u001b[0m\u001b[1;33m)\u001b[0m\u001b[1;33m:\u001b[0m\u001b[1;33m\u001b[0m\u001b[1;33m\u001b[0m\u001b[0m\n\u001b[1;32m---> 10\u001b[1;33m     \u001b[0mabsoluta\u001b[0m \u001b[1;33m=\u001b[0m \u001b[0mtabela\u001b[0m\u001b[1;33m.\u001b[0m\u001b[0mvalue_counts\u001b[0m\u001b[1;33m(\u001b[0m\u001b[1;33m)\u001b[0m\u001b[1;33m\u001b[0m\u001b[1;33m\u001b[0m\u001b[0m\n\u001b[0m\u001b[0;32m     11\u001b[0m     \u001b[1;32mreturn\u001b[0m \u001b[0mabsoluta\u001b[0m\u001b[1;33m\u001b[0m\u001b[1;33m\u001b[0m\u001b[0m\n\u001b[0;32m     12\u001b[0m \u001b[1;33m\u001b[0m\u001b[0m\n",
      "\u001b[1;32mc:\\Users\\gabri\\anaconda3\\lib\\site-packages\\pandas\\core\\base.py\u001b[0m in \u001b[0;36mvalue_counts\u001b[1;34m(self, normalize, sort, ascending, bins, dropna)\u001b[0m\n\u001b[0;32m    968\u001b[0m         \u001b[0mdtype\u001b[0m\u001b[1;33m:\u001b[0m \u001b[0mint64\u001b[0m\u001b[1;33m\u001b[0m\u001b[1;33m\u001b[0m\u001b[0m\n\u001b[0;32m    969\u001b[0m         \"\"\"\n\u001b[1;32m--> 970\u001b[1;33m         return value_counts(\n\u001b[0m\u001b[0;32m    971\u001b[0m             \u001b[0mself\u001b[0m\u001b[1;33m,\u001b[0m\u001b[1;33m\u001b[0m\u001b[1;33m\u001b[0m\u001b[0m\n\u001b[0;32m    972\u001b[0m             \u001b[0msort\u001b[0m\u001b[1;33m=\u001b[0m\u001b[0msort\u001b[0m\u001b[1;33m,\u001b[0m\u001b[1;33m\u001b[0m\u001b[1;33m\u001b[0m\u001b[0m\n",
      "\u001b[1;32mc:\\Users\\gabri\\anaconda3\\lib\\site-packages\\pandas\\core\\algorithms.py\u001b[0m in \u001b[0;36mvalue_counts\u001b[1;34m(values, sort, ascending, normalize, bins, dropna)\u001b[0m\n\u001b[0;32m    872\u001b[0m \u001b[1;33m\u001b[0m\u001b[0m\n\u001b[0;32m    873\u001b[0m     \u001b[1;32mif\u001b[0m \u001b[0msort\u001b[0m\u001b[1;33m:\u001b[0m\u001b[1;33m\u001b[0m\u001b[1;33m\u001b[0m\u001b[0m\n\u001b[1;32m--> 874\u001b[1;33m         \u001b[0mresult\u001b[0m \u001b[1;33m=\u001b[0m \u001b[0mresult\u001b[0m\u001b[1;33m.\u001b[0m\u001b[0msort_values\u001b[0m\u001b[1;33m(\u001b[0m\u001b[0mascending\u001b[0m\u001b[1;33m=\u001b[0m\u001b[0mascending\u001b[0m\u001b[1;33m)\u001b[0m\u001b[1;33m\u001b[0m\u001b[1;33m\u001b[0m\u001b[0m\n\u001b[0m\u001b[0;32m    875\u001b[0m \u001b[1;33m\u001b[0m\u001b[0m\n\u001b[0;32m    876\u001b[0m     \u001b[1;32mif\u001b[0m \u001b[0mnormalize\u001b[0m\u001b[1;33m:\u001b[0m\u001b[1;33m\u001b[0m\u001b[1;33m\u001b[0m\u001b[0m\n",
      "\u001b[1;32mc:\\Users\\gabri\\anaconda3\\lib\\site-packages\\pandas\\util\\_decorators.py\u001b[0m in \u001b[0;36mwrapper\u001b[1;34m(*args, **kwargs)\u001b[0m\n\u001b[0;32m    309\u001b[0m                     \u001b[0mstacklevel\u001b[0m\u001b[1;33m=\u001b[0m\u001b[0mstacklevel\u001b[0m\u001b[1;33m,\u001b[0m\u001b[1;33m\u001b[0m\u001b[1;33m\u001b[0m\u001b[0m\n\u001b[0;32m    310\u001b[0m                 )\n\u001b[1;32m--> 311\u001b[1;33m             \u001b[1;32mreturn\u001b[0m \u001b[0mfunc\u001b[0m\u001b[1;33m(\u001b[0m\u001b[1;33m*\u001b[0m\u001b[0margs\u001b[0m\u001b[1;33m,\u001b[0m \u001b[1;33m**\u001b[0m\u001b[0mkwargs\u001b[0m\u001b[1;33m)\u001b[0m\u001b[1;33m\u001b[0m\u001b[1;33m\u001b[0m\u001b[0m\n\u001b[0m\u001b[0;32m    312\u001b[0m \u001b[1;33m\u001b[0m\u001b[0m\n\u001b[0;32m    313\u001b[0m         \u001b[1;32mreturn\u001b[0m \u001b[0mwrapper\u001b[0m\u001b[1;33m\u001b[0m\u001b[1;33m\u001b[0m\u001b[0m\n",
      "\u001b[1;32mc:\\Users\\gabri\\anaconda3\\lib\\site-packages\\pandas\\core\\series.py\u001b[0m in \u001b[0;36msort_values\u001b[1;34m(self, axis, ascending, inplace, kind, na_position, ignore_index, key)\u001b[0m\n\u001b[0;32m   3524\u001b[0m         \u001b[1;31m# GH 35922. Make sorting stable by leveraging nargsort\u001b[0m\u001b[1;33m\u001b[0m\u001b[1;33m\u001b[0m\u001b[0m\n\u001b[0;32m   3525\u001b[0m         \u001b[0mvalues_to_sort\u001b[0m \u001b[1;33m=\u001b[0m \u001b[0mensure_key_mapped\u001b[0m\u001b[1;33m(\u001b[0m\u001b[0mself\u001b[0m\u001b[1;33m,\u001b[0m \u001b[0mkey\u001b[0m\u001b[1;33m)\u001b[0m\u001b[1;33m.\u001b[0m\u001b[0m_values\u001b[0m \u001b[1;32mif\u001b[0m \u001b[0mkey\u001b[0m \u001b[1;32melse\u001b[0m \u001b[0mself\u001b[0m\u001b[1;33m.\u001b[0m\u001b[0m_values\u001b[0m\u001b[1;33m\u001b[0m\u001b[1;33m\u001b[0m\u001b[0m\n\u001b[1;32m-> 3526\u001b[1;33m         \u001b[0msorted_index\u001b[0m \u001b[1;33m=\u001b[0m \u001b[0mnargsort\u001b[0m\u001b[1;33m(\u001b[0m\u001b[0mvalues_to_sort\u001b[0m\u001b[1;33m,\u001b[0m \u001b[0mkind\u001b[0m\u001b[1;33m,\u001b[0m \u001b[0mbool\u001b[0m\u001b[1;33m(\u001b[0m\u001b[0mascending\u001b[0m\u001b[1;33m)\u001b[0m\u001b[1;33m,\u001b[0m \u001b[0mna_position\u001b[0m\u001b[1;33m)\u001b[0m\u001b[1;33m\u001b[0m\u001b[1;33m\u001b[0m\u001b[0m\n\u001b[0m\u001b[0;32m   3527\u001b[0m \u001b[1;33m\u001b[0m\u001b[0m\n\u001b[0;32m   3528\u001b[0m         result = self._constructor(\n",
      "\u001b[1;32mc:\\Users\\gabri\\anaconda3\\lib\\site-packages\\pandas\\core\\sorting.py\u001b[0m in \u001b[0;36mnargsort\u001b[1;34m(items, kind, ascending, na_position, key, mask)\u001b[0m\n\u001b[0;32m    408\u001b[0m \u001b[1;33m\u001b[0m\u001b[0m\n\u001b[0;32m    409\u001b[0m     \u001b[0midx\u001b[0m \u001b[1;33m=\u001b[0m \u001b[0mnp\u001b[0m\u001b[1;33m.\u001b[0m\u001b[0marange\u001b[0m\u001b[1;33m(\u001b[0m\u001b[0mlen\u001b[0m\u001b[1;33m(\u001b[0m\u001b[0mitems\u001b[0m\u001b[1;33m)\u001b[0m\u001b[1;33m)\u001b[0m\u001b[1;33m\u001b[0m\u001b[1;33m\u001b[0m\u001b[0m\n\u001b[1;32m--> 410\u001b[1;33m     \u001b[0mnon_nans\u001b[0m \u001b[1;33m=\u001b[0m \u001b[0mitems\u001b[0m\u001b[1;33m[\u001b[0m\u001b[1;33m~\u001b[0m\u001b[0mmask\u001b[0m\u001b[1;33m]\u001b[0m\u001b[1;33m\u001b[0m\u001b[1;33m\u001b[0m\u001b[0m\n\u001b[0m\u001b[0;32m    411\u001b[0m     \u001b[0mnon_nan_idx\u001b[0m \u001b[1;33m=\u001b[0m \u001b[0midx\u001b[0m\u001b[1;33m[\u001b[0m\u001b[1;33m~\u001b[0m\u001b[0mmask\u001b[0m\u001b[1;33m]\u001b[0m\u001b[1;33m\u001b[0m\u001b[1;33m\u001b[0m\u001b[0m\n\u001b[0;32m    412\u001b[0m \u001b[1;33m\u001b[0m\u001b[0m\n",
      "\u001b[1;31mKeyboardInterrupt\u001b[0m: "
     ]
    }
   ],
   "source": [
    "# Dividindo os dados em treinamento e teste usando a função train_test_split da biblioteca sklearn\n",
    "\n",
    "acuracia = []\n",
    "falsos_acionaveis = []\n",
    "falsos_direcionaveis = []\n",
    "falsos_nao_acionaveis = []\n",
    "verdadeiros_acionaveis = []\n",
    "verdadeiros_direcionaveis = []\n",
    "verdadeiros_naoacionaveis = []\n",
    "\n",
    "for i in tqdm(range(0,100),  desc=\"Progesso\", unit=\"rows\"):\n",
    "    \n",
    "    novo_treino, novo_teste = train_test_split(train_test, test_size=250, random_state=None)\n",
    "    resultados = divide_comparativos(novo_treino, novo_teste)\n",
    "    acuracia.append(resultados[0])\n",
    "    falsos_acionaveis.append(resultados[1])\n",
    "    falsos_direcionaveis.append(resultados[2])\n",
    "    falsos_nao_acionaveis.append(resultados[3])\n",
    "    verdadeiros_acionaveis.append(resultados[4])\n",
    "    verdadeiros_direcionaveis.append(resultados[5])\n",
    "    verdadeiros_naoacionaveis.append(resultados[6])\n",
    "    \n",
    "    "
   ]
  },
  {
   "cell_type": "code",
   "execution_count": null,
   "metadata": {},
   "outputs": [
    {
     "data": {
      "text/html": [
       "<div>\n",
       "<style scoped>\n",
       "    .dataframe tbody tr th:only-of-type {\n",
       "        vertical-align: middle;\n",
       "    }\n",
       "\n",
       "    .dataframe tbody tr th {\n",
       "        vertical-align: top;\n",
       "    }\n",
       "\n",
       "    .dataframe thead th {\n",
       "        text-align: right;\n",
       "    }\n",
       "</style>\n",
       "<table border=\"1\" class=\"dataframe\">\n",
       "  <thead>\n",
       "    <tr style=\"text-align: right;\">\n",
       "      <th></th>\n",
       "      <th>Acurácia</th>\n",
       "      <th>Falsos Acionáveis</th>\n",
       "      <th>Falsos Direcionáveis</th>\n",
       "      <th>Falsos Não Acionáveis</th>\n",
       "      <th>Verdadeiros Acionáveis</th>\n",
       "      <th>Verdadeiros Direcionáveis</th>\n",
       "      <th>Verdadeiros Não Acionáveis</th>\n",
       "    </tr>\n",
       "  </thead>\n",
       "  <tbody>\n",
       "    <tr>\n",
       "      <th>0</th>\n",
       "      <td>82.0</td>\n",
       "      <td>8.4</td>\n",
       "      <td>7.6</td>\n",
       "      <td>2.0</td>\n",
       "      <td>13.2</td>\n",
       "      <td>13.6</td>\n",
       "      <td>55.2</td>\n",
       "    </tr>\n",
       "    <tr>\n",
       "      <th>1</th>\n",
       "      <td>82.4</td>\n",
       "      <td>8.8</td>\n",
       "      <td>5.2</td>\n",
       "      <td>3.6</td>\n",
       "      <td>15.2</td>\n",
       "      <td>11.6</td>\n",
       "      <td>55.6</td>\n",
       "    </tr>\n",
       "    <tr>\n",
       "      <th>2</th>\n",
       "      <td>83.6</td>\n",
       "      <td>10.0</td>\n",
       "      <td>4.4</td>\n",
       "      <td>2.0</td>\n",
       "      <td>6.8</td>\n",
       "      <td>12.8</td>\n",
       "      <td>64.0</td>\n",
       "    </tr>\n",
       "    <tr>\n",
       "      <th>3</th>\n",
       "      <td>82.4</td>\n",
       "      <td>6.4</td>\n",
       "      <td>9.2</td>\n",
       "      <td>2.0</td>\n",
       "      <td>9.6</td>\n",
       "      <td>16.0</td>\n",
       "      <td>56.8</td>\n",
       "    </tr>\n",
       "    <tr>\n",
       "      <th>4</th>\n",
       "      <td>82.4</td>\n",
       "      <td>8.4</td>\n",
       "      <td>6.4</td>\n",
       "      <td>2.8</td>\n",
       "      <td>10.4</td>\n",
       "      <td>12.4</td>\n",
       "      <td>59.6</td>\n",
       "    </tr>\n",
       "    <tr>\n",
       "      <th>...</th>\n",
       "      <td>...</td>\n",
       "      <td>...</td>\n",
       "      <td>...</td>\n",
       "      <td>...</td>\n",
       "      <td>...</td>\n",
       "      <td>...</td>\n",
       "      <td>...</td>\n",
       "    </tr>\n",
       "    <tr>\n",
       "      <th>95</th>\n",
       "      <td>83.2</td>\n",
       "      <td>6.4</td>\n",
       "      <td>5.6</td>\n",
       "      <td>4.8</td>\n",
       "      <td>8.0</td>\n",
       "      <td>14.8</td>\n",
       "      <td>60.4</td>\n",
       "    </tr>\n",
       "    <tr>\n",
       "      <th>96</th>\n",
       "      <td>83.6</td>\n",
       "      <td>5.6</td>\n",
       "      <td>7.6</td>\n",
       "      <td>3.2</td>\n",
       "      <td>11.6</td>\n",
       "      <td>12.0</td>\n",
       "      <td>60.0</td>\n",
       "    </tr>\n",
       "    <tr>\n",
       "      <th>97</th>\n",
       "      <td>79.6</td>\n",
       "      <td>8.4</td>\n",
       "      <td>8.4</td>\n",
       "      <td>3.6</td>\n",
       "      <td>11.6</td>\n",
       "      <td>14.4</td>\n",
       "      <td>53.6</td>\n",
       "    </tr>\n",
       "    <tr>\n",
       "      <th>98</th>\n",
       "      <td>81.2</td>\n",
       "      <td>12.4</td>\n",
       "      <td>4.8</td>\n",
       "      <td>1.6</td>\n",
       "      <td>9.2</td>\n",
       "      <td>12.8</td>\n",
       "      <td>59.2</td>\n",
       "    </tr>\n",
       "    <tr>\n",
       "      <th>99</th>\n",
       "      <td>83.6</td>\n",
       "      <td>8.4</td>\n",
       "      <td>6.8</td>\n",
       "      <td>1.2</td>\n",
       "      <td>12.8</td>\n",
       "      <td>13.6</td>\n",
       "      <td>57.2</td>\n",
       "    </tr>\n",
       "  </tbody>\n",
       "</table>\n",
       "<p>100 rows × 7 columns</p>\n",
       "</div>"
      ],
      "text/plain": [
       "    Acurácia  Falsos Acionáveis  Falsos Direcionáveis  Falsos Não Acionáveis  \\\n",
       "0       82.0                8.4                   7.6                    2.0   \n",
       "1       82.4                8.8                   5.2                    3.6   \n",
       "2       83.6               10.0                   4.4                    2.0   \n",
       "3       82.4                6.4                   9.2                    2.0   \n",
       "4       82.4                8.4                   6.4                    2.8   \n",
       "..       ...                ...                   ...                    ...   \n",
       "95      83.2                6.4                   5.6                    4.8   \n",
       "96      83.6                5.6                   7.6                    3.2   \n",
       "97      79.6                8.4                   8.4                    3.6   \n",
       "98      81.2               12.4                   4.8                    1.6   \n",
       "99      83.6                8.4                   6.8                    1.2   \n",
       "\n",
       "    Verdadeiros Acionáveis  Verdadeiros Direcionáveis  \\\n",
       "0                     13.2                       13.6   \n",
       "1                     15.2                       11.6   \n",
       "2                      6.8                       12.8   \n",
       "3                      9.6                       16.0   \n",
       "4                     10.4                       12.4   \n",
       "..                     ...                        ...   \n",
       "95                     8.0                       14.8   \n",
       "96                    11.6                       12.0   \n",
       "97                    11.6                       14.4   \n",
       "98                     9.2                       12.8   \n",
       "99                    12.8                       13.6   \n",
       "\n",
       "    Verdadeiros Não Acionáveis  \n",
       "0                         55.2  \n",
       "1                         55.6  \n",
       "2                         64.0  \n",
       "3                         56.8  \n",
       "4                         59.6  \n",
       "..                         ...  \n",
       "95                        60.4  \n",
       "96                        60.0  \n",
       "97                        53.6  \n",
       "98                        59.2  \n",
       "99                        57.2  \n",
       "\n",
       "[100 rows x 7 columns]"
      ]
     },
     "execution_count": 82,
     "metadata": {},
     "output_type": "execute_result"
    }
   ],
   "source": [
    "#Cria dataframe com as informações obtidas ao repetir 100 vezes a classificação\n",
    "dados_dic = {\n",
    "    'Acurácia': acuracia,\n",
    "    'Falsos Acionáveis': falsos_acionaveis,\n",
    "    'Falsos Direcionáveis': falsos_direcionaveis,\n",
    "    'Falsos Não Acionáveis':falsos_nao_acionaveis,\n",
    "    'Verdadeiros Acionáveis':verdadeiros_acionaveis,\n",
    "    'Verdadeiros Direcionáveis': verdadeiros_direcionaveis,\n",
    "    'Verdadeiros Não Acionáveis': verdadeiros_naoacionaveis\n",
    "}\n",
    "\n",
    "dados_calculados = pd.DataFrame(dados_dic)\n",
    "dados_calculados\n",
    "\n"
   ]
  },
  {
   "cell_type": "code",
   "execution_count": null,
   "metadata": {},
   "outputs": [
    {
     "data": {
      "image/png": "[encoded data removed]",
      "text/plain": [
       "<Figure size 1500x400 with 3 Axes>"
      ]
     },
     "metadata": {},
     "output_type": "display_data"
    }
   ],
   "source": [
    "\n",
    "tamanho_fonte = 14\n",
    "peso_fonte = 600\n",
    "# Histogramas\n",
    "plt.figure(figsize=(15, 4))\n",
    "plt.suptitle('Acurácia para cada par de treino e teste',fontsize=tamanho_fonte, fontweight=peso_fonte, y=1.05)\n",
    "\n",
    "\n",
    "plt.subplot(131) # Janela gráfica com 1 linha, 2 colunas e histograma a seguir é colocado na posição 1\n",
    "plt.hist(dados_calculados[\"Acurácia\"], edgecolor='white') \n",
    "plt.title(\"Agrupamentos a cada 1%\")\n",
    "plt.xlabel('Porcentagem de acertos (%)')\n",
    "plt.ylabel('Frequência absoluta')\n",
    "\n",
    "\n",
    "plt.subplot(132) # Janela gráfica com 1 linha, 2 colunas e histograma a seguir é colocado na posição 2\n",
    "plt.hist(dados_calculados[\"Acurácia\"], bins=[76, 78, 80, 82, 84,86,88], edgecolor='white') \n",
    "plt.title(\"Agrupamentos a cada 2%\")\n",
    "plt.xlabel('Porcentagem de acertos (%)')\n",
    "# plt.ylabel('Frequência absoluta')\n",
    "\n",
    "plt.subplot(133) # Janela gráfica com 1 linha, 2 colunas e histograma a seguir é colocado na posição 3\n",
    "plt.hist(dados_calculados[\"Acurácia\"], bins=[76, 80, 84, 88], edgecolor='white') \n",
    "plt.title(\"Agrupamentos a cada 4%\")\n",
    "plt.xlabel('Porcentagem de acertos (%)')\n",
    "\n",
    "\n",
    "# plt.tight_layout()\n",
    "plt.show()"
   ]
  },
  {
   "cell_type": "code",
   "execution_count": null,
   "metadata": {},
   "outputs": [
    {
     "data": {
      "image/png": "[encoded data removed]",
      "text/plain": [
       "<Figure size 640x480 with 1 Axes>"
      ]
     },
     "metadata": {},
     "output_type": "display_data"
    }
   ],
   "source": [
    "numeros_de_dados = list(range(1, len(acuracia) + 1))\n",
    "\n",
    "# Crie o gráfico de barras\n",
    "plt.bar(numeros_de_dados, acuracia)\n",
    "plt.xlabel('Número dos Dados')\n",
    "plt.ylabel('Acurácia (%)')\n",
    "plt.title('Acurácia dos Dados')\n",
    "plt.show()"
   ]
  },
  {
   "cell_type": "markdown",
   "metadata": {},
   "source": [
    "___\n",
    "## Aperfeiçoamento:\n",
    "\n",
    "Trabalhos que conseguirem pelo menos conceito B vão evoluir em conceito dependendo da quantidade de itens avançados:\n",
    "\n",
    "* IMPLEMENTOU outras limpezas e transformações que não afetem a qualidade da informação contida nos tweets. Ex: stemming, lemmatization, stopwords\n",
    "* CONSIDEROU mais de duas categorias na variável Target e INCREMENTOU a quantidade de notícias, mantendo pelo menos 250 notícias por categoria (OBRIGATÓRIO PARA TRIOS, sem contar como item avançado)\n",
    "* Para Target com duas categorias: CRIOU pelo menos quatro categorias intermediárias de relevância baseadas na probabilidade: ex.: muito relevante, relevante, neutro, irrelevante, muito irrelevante\n",
    "* EXPLICOU porquê não pode usar o próprio classificador para gerar mais amostras de treinamento\n",
    "* PROPÔS diferentes cenários para Naïve Bayes fora do contexto do projeto (pelo menos dois cenários, exceto aqueles já apresentados em sala pelos professores: por exemplo, filtro de spam)\n",
    "* SUGERIU e EXPLICOU melhorias reais com indicações concretas de como implementar (indicar como fazer e indicar material de pesquisa)\n",
    "* FEZ o item Qualidade do Classificador a partir de novas separações das Notícias entre Treinamento e Teste descrito no enunciado do projeto (OBRIGATÓRIO para conceitos A ou A+)"
   ]
  },
  {
   "cell_type": "markdown",
   "metadata": {},
   "source": [
    "___\n",
    "## Referências"
   ]
  },
  {
   "cell_type": "markdown",
   "metadata": {},
   "source": [
    "[Naive Bayes and Text Classification](https://arxiv.org/pdf/1410.5329.pdf)  **Mais completo**\n",
    "\n",
    "[A practical explanation of a Naive Bayes Classifier](https://monkeylearn.com/blog/practical-explanation-naive-bayes-classifier/) **Mais simples**"
   ]
  },
  {
   "cell_type": "markdown",
   "metadata": {},
   "source": [
    "Dica: apresentar um grafico com testes mostrando quais limpezas melhoraram a acurácia do nosso classificador (lemmatization, stopwords, etc)\n",
    "\n",
    "REtirar algumas palavras para ver se melhora a qualidade do classificador (exemplo palavra não)"
   ]
  },
  {
   "cell_type": "code",
   "execution_count": null,
   "metadata": {},
   "outputs": [],
   "source": []
  },
  {
   "cell_type": "code",
   "execution_count": null,
   "metadata": {},
   "outputs": [],
   "source": []
  }
 ],
 "metadata": {
  "kernelspec": {
   "display_name": "Python 3 (ipykernel)",
   "language": "python",
   "name": "python3"
  },
  "language_info": {
   "codemirror_mode": {
    "name": "ipython",
    "version": 3
   },
   "file_extension": ".py",
   "mimetype": "text/x-python",
   "name": "python",
   "nbconvert_exporter": "python",
   "pygments_lexer": "ipython3",
   "version": "3.9.13"
  }
 },
 "nbformat": 4,
 "nbformat_minor": 4
}

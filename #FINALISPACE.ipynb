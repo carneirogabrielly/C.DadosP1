{
 "cells": [
  {
   "cell_type": "markdown",
   "metadata": {},
   "source": [
    "# Projeto 1 - Ciência dos Dados"
   ]
  },
  {
   "cell_type": "markdown",
   "metadata": {},
   "source": [
    "Nome: Alison Araujo\n",
    "\n",
    "Nome: Gabrielly Carneiro"
   ]
  },
  {
   "cell_type": "markdown",
   "metadata": {},
   "source": [
    "Atenção: Serão permitidos grupos de três pessoas, mas com uma rubrica mais exigente. Grupos deste tamanho precisarão fazer um questionário de avaliação de trabalho em equipe"
   ]
  },
  {
   "cell_type": "markdown",
   "metadata": {},
   "source": [
    "___\n",
    "Carregando algumas bibliotecas:"
   ]
  },
  {
   "cell_type": "code",
   "execution_count": 144,
   "metadata": {},
   "outputs": [
    {
     "name": "stdout",
     "output_type": "stream",
     "text": [
      "Requirement already satisfied: scikit-learn in c:\\users\\aliso\\appdata\\local\\packages\\pythonsoftwarefoundation.python.3.11_qbz5n2kfra8p0\\localcache\\local-packages\\python311\\site-packages (1.3.1)\n",
      "Requirement already satisfied: numpy<2.0,>=1.17.3 in c:\\users\\aliso\\appdata\\local\\packages\\pythonsoftwarefoundation.python.3.11_qbz5n2kfra8p0\\localcache\\local-packages\\python311\\site-packages (from scikit-learn) (1.26.0)\n",
      "Requirement already satisfied: scipy>=1.5.0 in c:\\users\\aliso\\appdata\\local\\packages\\pythonsoftwarefoundation.python.3.11_qbz5n2kfra8p0\\localcache\\local-packages\\python311\\site-packages (from scikit-learn) (1.11.2)\n",
      "Requirement already satisfied: joblib>=1.1.1 in c:\\users\\aliso\\appdata\\local\\packages\\pythonsoftwarefoundation.python.3.11_qbz5n2kfra8p0\\localcache\\local-packages\\python311\\site-packages (from scikit-learn) (1.3.2)\n",
      "Requirement already satisfied: threadpoolctl>=2.0.0 in c:\\users\\aliso\\appdata\\local\\packages\\pythonsoftwarefoundation.python.3.11_qbz5n2kfra8p0\\localcache\\local-packages\\python311\\site-packages (from scikit-learn) (3.2.0)\n",
      "Note: you may need to restart the kernel to use updated packages.\n"
     ]
    },
    {
     "name": "stderr",
     "output_type": "stream",
     "text": [
      "UsageError: Line magic function `%python` not found (But cell magic `%%python` exists, did you mean that instead?).\n"
     ]
    }
   ],
   "source": [
    "%matplotlib inline\n",
    "%pip install -U scikit-learn\n",
    "%python -m spacy download pt_core_news_md\n",
    "import pandas as pd\n",
    "import matplotlib.pyplot as plt\n",
    "import numpy as np\n",
    "from numpy import arange\n",
    "import os\n",
    "import re\n",
    "from unidecode import unidecode\n",
    "import nltk\n",
    "from nltk.corpus import stopwords\n",
    "from nltk.tokenize import word_tokenize\n",
    "from tqdm import tqdm\n",
    "from sklearn.model_selection import train_test_split\n",
    "from IPython.display import display\n",
    "nltk.download('punkt')\n",
    "nltk.download('stopwords')\n",
    "nltk.download('word_tokenize')\n",
    "stopwordsdic = stopwords.words('portuguese')\n",
    "\n",
    "from spacy import load\n",
    "nlp = load('pt_core_news_md')"
   ]
  },
  {
   "cell_type": "code",
   "execution_count": 7,
   "metadata": {
    "scrolled": false
   },
   "outputs": [
    {
     "name": "stdout",
     "output_type": "stream",
     "text": [
      "Esperamos trabalhar no diretório\n",
      "c:\\Users\\aliso\\OneDrive - Insper - Institudo de Ensino e Pesquisa\\Insper\\2023.2\\Ciência de Dados\\C.DadosP1\n"
     ]
    }
   ],
   "source": [
    "print('Esperamos trabalhar no diretório')\n",
    "print(os.getcwd())"
   ]
  },
  {
   "cell_type": "markdown",
   "metadata": {},
   "source": [
    "Carregando a base de dados com os tweets classificados manualmente:"
   ]
  },
  {
   "cell_type": "code",
   "execution_count": 8,
   "metadata": {},
   "outputs": [
    {
     "data": {
      "text/html": [
       "<div>\n",
       "<style scoped>\n",
       "    .dataframe tbody tr th:only-of-type {\n",
       "        vertical-align: middle;\n",
       "    }\n",
       "\n",
       "    .dataframe tbody tr th {\n",
       "        vertical-align: top;\n",
       "    }\n",
       "\n",
       "    .dataframe thead th {\n",
       "        text-align: right;\n",
       "    }\n",
       "</style>\n",
       "<table border=\"1\" class=\"dataframe\">\n",
       "  <thead>\n",
       "    <tr style=\"text-align: right;\">\n",
       "      <th></th>\n",
       "      <th>Mensagem</th>\n",
       "      <th>Acionável/Direcionável/Não Acionável</th>\n",
       "    </tr>\n",
       "  </thead>\n",
       "  <tbody>\n",
       "    <tr>\n",
       "      <th>0</th>\n",
       "      <td>Para quem gosta de poemas simples, esse é o li...</td>\n",
       "      <td>N</td>\n",
       "    </tr>\n",
       "    <tr>\n",
       "      <th>1</th>\n",
       "      <td>Quando vi o lançamento pensei que finalmente p...</td>\n",
       "      <td>D</td>\n",
       "    </tr>\n",
       "    <tr>\n",
       "      <th>2</th>\n",
       "      <td>É incrível como esses escritores e \"intelectua...</td>\n",
       "      <td>N</td>\n",
       "    </tr>\n",
       "    <tr>\n",
       "      <th>3</th>\n",
       "      <td>Se desse pra devolver eu devolvia, nao é por e...</td>\n",
       "      <td>N</td>\n",
       "    </tr>\n",
       "    <tr>\n",
       "      <th>4</th>\n",
       "      <td>Futilidade, inutilidade, desperdício de papel,...</td>\n",
       "      <td>N</td>\n",
       "    </tr>\n",
       "  </tbody>\n",
       "</table>\n",
       "</div>"
      ],
      "text/plain": [
       "                                            Mensagem  \\\n",
       "0  Para quem gosta de poemas simples, esse é o li...   \n",
       "1  Quando vi o lançamento pensei que finalmente p...   \n",
       "2  É incrível como esses escritores e \"intelectua...   \n",
       "3  Se desse pra devolver eu devolvia, nao é por e...   \n",
       "4  Futilidade, inutilidade, desperdício de papel,...   \n",
       "\n",
       "  Acionável/Direcionável/Não Acionável  \n",
       "0                                    N  \n",
       "1                                    D  \n",
       "2                                    N  \n",
       "3                                    N  \n",
       "4                                    N  "
      ]
     },
     "execution_count": 8,
     "metadata": {},
     "output_type": "execute_result"
    }
   ],
   "source": [
    "train = pd.read_excel('dados_treino.xlsx')\n",
    "train.head(5)"
   ]
  },
  {
   "cell_type": "code",
   "execution_count": 9,
   "metadata": {},
   "outputs": [
    {
     "data": {
      "text/html": [
       "<div>\n",
       "<style scoped>\n",
       "    .dataframe tbody tr th:only-of-type {\n",
       "        vertical-align: middle;\n",
       "    }\n",
       "\n",
       "    .dataframe tbody tr th {\n",
       "        vertical-align: top;\n",
       "    }\n",
       "\n",
       "    .dataframe thead th {\n",
       "        text-align: right;\n",
       "    }\n",
       "</style>\n",
       "<table border=\"1\" class=\"dataframe\">\n",
       "  <thead>\n",
       "    <tr style=\"text-align: right;\">\n",
       "      <th></th>\n",
       "      <th>Mensagem</th>\n",
       "      <th>Acionável/Direcionável/Não Acionável</th>\n",
       "    </tr>\n",
       "  </thead>\n",
       "  <tbody>\n",
       "    <tr>\n",
       "      <th>0</th>\n",
       "      <td>O livro é prolixo, redundante, doentio. Sou su...</td>\n",
       "      <td>N</td>\n",
       "    </tr>\n",
       "    <tr>\n",
       "      <th>1</th>\n",
       "      <td>Bom livro e história envolvente. Porém, o leit...</td>\n",
       "      <td>D</td>\n",
       "    </tr>\n",
       "    <tr>\n",
       "      <th>2</th>\n",
       "      <td>Fala tudo que todos já sabem, sem falar que nã...</td>\n",
       "      <td>N</td>\n",
       "    </tr>\n",
       "    <tr>\n",
       "      <th>3</th>\n",
       "      <td>Ganhei na compra do Kindle. Não é estilo de li...</td>\n",
       "      <td>N</td>\n",
       "    </tr>\n",
       "    <tr>\n",
       "      <th>4</th>\n",
       "      <td>Custa crer que um livro tão medíocre, embora m...</td>\n",
       "      <td>N</td>\n",
       "    </tr>\n",
       "  </tbody>\n",
       "</table>\n",
       "</div>"
      ],
      "text/plain": [
       "                                            Mensagem  \\\n",
       "0  O livro é prolixo, redundante, doentio. Sou su...   \n",
       "1  Bom livro e história envolvente. Porém, o leit...   \n",
       "2  Fala tudo que todos já sabem, sem falar que nã...   \n",
       "3  Ganhei na compra do Kindle. Não é estilo de li...   \n",
       "4  Custa crer que um livro tão medíocre, embora m...   \n",
       "\n",
       "  Acionável/Direcionável/Não Acionável  \n",
       "0                                    N  \n",
       "1                                    D  \n",
       "2                                    N  \n",
       "3                                    N  \n",
       "4                                    N  "
      ]
     },
     "execution_count": 9,
     "metadata": {},
     "output_type": "execute_result"
    }
   ],
   "source": [
    "test = pd.read_excel('dados_teste.xlsx')\n",
    "test.head(5)"
   ]
  },
  {
   "cell_type": "markdown",
   "metadata": {},
   "source": [
    "___\n",
    "## Classificador automático\n"
   ]
  },
  {
   "cell_type": "markdown",
   "metadata": {},
   "source": [
    "Na primeira etapa, de classificação manual, consideramos três targets para os reviews: Acionável, Direcionável e Não Acionável. \n",
    "\n",
    "- Acionável: para ser considerado \"acionável\" (\"A\") o review deve ser passível de alguma ação pela Amazon, ou seja, o review deve ser sobre entrega, estado do produto, contato com o suporte, etc. \n",
    "- Direcionável: para o target \"direcionável\" (\"D\") foram considerados comentários relativos à editora, como qualidade do material do livro, preço do livro e do e-book, tradução e edição. \n",
    "- Não Acionáveis: por fim, os não acionáveis (\"NA\") eram comentários relativos ao autor, ao apreço pelo conteúdo do livro, ou comentários irrelavantes."
   ]
  },
  {
   "cell_type": "markdown",
   "metadata": {},
   "source": [
    "___\n",
    "### Montando um Classificador Naive-Bayes\n",
    "\n",
    "Considerando apenas as mensagens da planilha Treinamento, ensine  seu classificador."
   ]
  },
  {
   "cell_type": "markdown",
   "metadata": {},
   "source": [
    "Funções úteis:"
   ]
  },
  {
   "cell_type": "code",
   "execution_count": 10,
   "metadata": {},
   "outputs": [],
   "source": [
    "#Criar uma função que transforma as frases da planilha em um texto só \n",
    "    #(Será útil para criar o dicionário com as palavras)\n",
    "\n",
    "def transforma_em_string(coluna):\n",
    "    texto = ''\n",
    "    for linha in coluna:\n",
    "        texto += linha + ' '\n",
    "    return texto    "
   ]
  },
  {
   "cell_type": "code",
   "execution_count": 11,
   "metadata": {},
   "outputs": [],
   "source": [
    "#Criar uma função que limpa todas as pontuações\n",
    "#recebe um texto\n",
    "#vou utilizar ela na função limpa tudo\n",
    "def cleanup(text):\n",
    "    punctuation = r'[´\"\\'!-.:?;$,/~^_=+*&¨%$#@|\\{}()[\\]]'\n",
    "    pattern = re.compile(punctuation)\n",
    "    text_subbed = re.sub(pattern, '', text)\n",
    "    return text_subbed"
   ]
  },
  {
   "cell_type": "code",
   "execution_count": 12,
   "metadata": {},
   "outputs": [],
   "source": [
    "#Cria uma função que limpa os espaços duplicados\n",
    "#vou utilizar ela na função limpa tudo\n",
    "def limpa_espaco(text):\n",
    "    punctuation = r'[\\n]'  # Adicione os caracteres desejados aqui\n",
    "    pattern = re.compile(punctuation)\n",
    "    text_subbed = re.sub(pattern, '', text)\n",
    "    return text_subbed"
   ]
  },
  {
   "cell_type": "code",
   "execution_count": 13,
   "metadata": {},
   "outputs": [],
   "source": [
    "#Criando uma função para remover emoji\n",
    "#vou utilizar ela na função limpa tudo\n",
    "def remove_emoji(text):\n",
    "    text_without_emojis = unidecode(text)\n",
    "    return text_without_emojis"
   ]
  },
  {
   "cell_type": "code",
   "execution_count": 14,
   "metadata": {},
   "outputs": [],
   "source": [
    "#Criando a função de stopwords\n",
    "#vou utilizar ela na função limpa tudo\n",
    "#vai receber o texto limpo pelas outras funções\n",
    "def stopwords(texto):\n",
    "    palavras = word_tokenize(texto, language='portuguese') # Tokenize é analisar palavras individualmente, basicamente\n",
    "    palavras_sem_stopword = []\n",
    "    for palavra in palavras:\n",
    "        if palavra not in stopwordsdic:\n",
    "            palavras_sem_stopword.append(palavra)\n",
    "    # Reúna as palavras sem stopwords em uma string novamente\n",
    "    texto_sem_stopword = ' '.join(palavras_sem_stopword)\n",
    "    return texto_sem_stopword"
   ]
  },
  {
   "cell_type": "code",
   "execution_count": 15,
   "metadata": {},
   "outputs": [],
   "source": [
    "#Criando a função de lematização\n",
    "#vou utilizar ela na função limpa tudo\n",
    "#vai receber o texto limpo pelas outras funções, incluindo limpeza de stopwords\n",
    "\n",
    "def lemmat(texto):\n",
    "    doc = nlp(texto)\n",
    "    lemmat_radicais = []\n",
    "    for radicais in doc:\n",
    "        lemmat_radicais.append(radicais.lemma_)\n",
    "    texto_lemmat = ' '.join(lemmat_radicais)    \n",
    "    return texto_lemmat"
   ]
  },
  {
   "cell_type": "code",
   "execution_count": 16,
   "metadata": {
    "scrolled": false
   },
   "outputs": [],
   "source": [
    "# Cria uma função que reúna as funções de limpeza\n",
    "def limpa_tudo(mensagem):\n",
    "    #Aplicando a função de limpeza de pontuação\n",
    "    texto = cleanup(mensagem)\n",
    "    #Deixando tudo em letra minúscula\n",
    "    texto = texto.lower()\n",
    "    #Removendo emoji\n",
    "    texto = remove_emoji(texto)\n",
    "    #Aplicando a função de limpeza de espaço\n",
    "    texto = limpa_espaco(texto)\n",
    "    #Removendo stopwords\n",
    "    texto = stopwords(texto)\n",
    "    #Realiza lemmatização\n",
    "    texto = lemmat(texto)          # removi pois demora muito para classificar \n",
    "    return texto"
   ]
  },
  {
   "cell_type": "code",
   "execution_count": 17,
   "metadata": {},
   "outputs": [],
   "source": [
    "#Cria uma função que limpa as linhas da planilha e adiciona uma coluna com as mensagens limpas à planilha\n",
    "def mensagem_limpa(planilha):   #recebe a planilha e cria uma nova planilha com a coluna de mensagem limpa com as frases limpas\n",
    "    planilha_limpa = planilha.copy()\n",
    "    planilha_limpa['Mensagem Limpa'] = [limpa_tudo(x) for x in list(planilha['Mensagem'])]\n",
    "    return planilha_limpa    #retorna a planilha modificada"
   ]
  },
  {
   "cell_type": "code",
   "execution_count": 18,
   "metadata": {},
   "outputs": [],
   "source": [
    "#Cria função que cria o vocabulário de tudo\n",
    "def cria_vocabulario(coluna_mensagem_limpa_da_planilha_limpa):                       #recebe uma coluna da planilha\n",
    "    lista_palavras = transforma_em_string(coluna_mensagem_limpa_da_planilha_limpa)\n",
    "    lista_palavras = lista_palavras.split()\n",
    "    return lista_palavras     #devolve uma lista com as palavras separadas"
   ]
  },
  {
   "cell_type": "code",
   "execution_count": 19,
   "metadata": {},
   "outputs": [],
   "source": [
    "#Cria função que retorna uma lista sem as palavras repetidas\n",
    "def remove_repeticao(lista_de_palavras):\n",
    "    dic = set(lista_de_palavras)\n",
    "    lista_vocabulario_sem_repeticao = list(dic)\n",
    "    return lista_vocabulario_sem_repeticao"
   ]
  },
  {
   "cell_type": "code",
   "execution_count": 20,
   "metadata": {},
   "outputs": [],
   "source": [
    "# Cria uma função que guarda as palavras em pd.Series e calculas frequencia (relativa e absoluta) das palavras\n",
    "#recebe uma lista (devolvida pelo cria vocabulário, preferencialmente)\n",
    "def cria_pdseries(lista):\n",
    "    tabela = pd.Series(lista)\n",
    "    return tabela\n",
    "\n",
    "#Cria uma função que retorna a frequência absoluta de cada palavra no texto\n",
    "#recebe uma tabela de pd\n",
    "def freq_abs(tabela):\n",
    "    absoluta = tabela.value_counts()\n",
    "    return absoluta\n",
    "\n",
    "#Cria uma função que retorna a frequência relativa de cada palavra no texto\n",
    "def freq_rel(tabela):\n",
    "    relativa = tabela.value_counts(True)\n",
    "    return relativa"
   ]
  },
  {
   "cell_type": "code",
   "execution_count": 21,
   "metadata": {},
   "outputs": [],
   "source": [
    "#Cria função de divisão com base nas categorias/targets\n",
    "## Cria uma função que recebe a planilha e o target e \n",
    "# retorna o total de palavras e as tabelas de frequencia absoluta e relativa e o vocabulario sem palavras repetidas, nessa ordem\n",
    "#vou falar que ela recebe a planilha limpa já\n",
    "\n",
    "def divisao_categorias(planilha_limpa, target):\n",
    "    #Etapa de divisão de categorias     \n",
    "    #criou uma nova planilha apenas com as linha com aquele target                \n",
    "    filtro_target = planilha_limpa.loc[planilha_limpa['Acionável/Direcionável/Não Acionável'] == target]\n",
    "    vocab_target = cria_vocabulario(filtro_target[\"Mensagem Limpa\"]) #vocabulario daquele target\n",
    "    df_vocab_target = cria_pdseries(vocab_target)\n",
    "    freq_rel_target = freq_rel(df_vocab_target)\n",
    "    freq_abs_target = freq_abs(df_vocab_target)   #frequencia de palavras daquele target\n",
    "    total_target = freq_abs_target.sum()  #total de palavras daquele target\n",
    "    #criar vocabulario limpo\n",
    "    vocab_target_sr = remove_repeticao(vocab_target)   #vocabulario do target sem palavras repetidas\n",
    "    return total_target, freq_abs_target, freq_rel_target, vocab_target_sr"
   ]
  },
  {
   "cell_type": "code",
   "execution_count": 22,
   "metadata": {},
   "outputs": [],
   "source": [
    "# Função que realiza a divisão de toda a planilha \n",
    "# # Função que recebe a planilha já limpa e retorna:\n",
    "# o total de palavras com repetição [0] (int)\n",
    "# a tabela com a frequência absoluta de cada palavra na planilha [1] (Series)\n",
    "# a tabela com a frequência relativa de cada palavra na planilha [2] (Series)\n",
    "# a lista com todas as palavras da planilha sem repetição [3] (list)\n",
    "def divisao_planilhas(planilha_limpa):\n",
    "    \n",
    "    coluna_limpa = planilha_limpa[\"Mensagem Limpa\"]                   #separa só a coluna \"Mensagem Limpa\"\n",
    "    vocab_planilha = cria_vocabulario(coluna_limpa)             #lista de palavras na coluna \"Mensagem Limpa\"\n",
    "    df_vocab_planilha = cria_pdseries(vocab_planilha)       #coloca essa lista em um df\n",
    "    freq_abs_planilha = freq_abs(df_vocab_planilha)         #calcula a frequência absoluta de cada palavra\n",
    "    freq_rel_planilha = freq_rel(df_vocab_planilha)         #calcula a frequência relativa de cada palavra\n",
    "    total_planilha = freq_abs_planilha.sum()                #calcula o total de palavras com repetição\n",
    "    vocab_planilha_sr = remove_repeticao(vocab_planilha)       #vocabulario sem repeticao (é uma lista)\n",
    "\n",
    "    return total_planilha, freq_abs_planilha, freq_rel_planilha, vocab_planilha_sr\n"
   ]
  },
  {
   "cell_type": "code",
   "execution_count": 23,
   "metadata": {},
   "outputs": [],
   "source": [
    "# Função que cria um dicionário com as palavras e as frequencias absolutas\n",
    "\n",
    "#vou criar um dicionário com todas as palavras e seus valores de \n",
    "# frequencia absoluta para cada target\n",
    "# aí vai ficar mais rapido de encontrar os valores\n",
    "# do que ter que suavizar pra cada palavra toda vez\n",
    "# que chamar o loop\n",
    "def dicionario_prob_palavra_dado_target_treino(planilha_treino_limpa, target):\n",
    "    coluna_limpa = planilha_treino_limpa[\"Mensagem Limpa\"]\n",
    "    dados_target = divisao_categorias(planilha_treino_limpa, target)\n",
    "    # frequencias_relativas = dados_target[2]\n",
    "    frequencias_absolutas = dados_target[1]\n",
    "\n",
    "    dic_treino = {} \n",
    "    \n",
    "    for frase in coluna_limpa:\n",
    "        frase = frase.split()\n",
    "        for palavra in frase:\n",
    "            if palavra not in dic_treino:\n",
    "                if palavra in frequencias_absolutas:\n",
    "                    freq_abs_palavra = frequencias_absolutas[palavra]\n",
    "                    dic_treino[palavra] = freq_abs_palavra\n",
    "    return dic_treino"
   ]
  },
  {
   "cell_type": "code",
   "execution_count": 24,
   "metadata": {},
   "outputs": [],
   "source": [
    "# Função que calcula probabidade da frase dado target realizando suavização de LaPlace\n",
    "# Probabilidade da frase dado target mais suavização de LaPlace\n",
    "def frase_dado_target(frase_do_teste, target, planilha_treino_limpa):\n",
    "    prob_frase_dado_classe = 1\n",
    "    frase_do_teste =  frase_do_teste.split()\n",
    "    dic_probabilidades_por_classe_treino = dicionario_prob_palavra_dado_target_treino(planilha_treino_limpa, target)   #dicionario com as palavras e suas frequencias absolutas\n",
    "    dados_target = divisao_categorias(planilha_treino_limpa, target)\n",
    "    qtdd_palavras = dados_target[0]                  #quantidade de palavras no target informado\n",
    "    qtdd_palavras_sem_repeticao = len(dados_target[3]) \n",
    "    \n",
    "    alfa = 0.01\n",
    "    for palavra in frase_do_teste:\n",
    "        if palavra in dic_probabilidades_por_classe_treino:\n",
    "            freq_abs_palavra = dic_probabilidades_por_classe_treino[palavra]\n",
    "            #APLIQUEI A SUAVIZAÇÃO DE LA PLACE\n",
    "            prob_palavra_dado_classe = (freq_abs_palavra + alfa)/(qtdd_palavras + alfa*qtdd_palavras_sem_repeticao)\n",
    "            prob_frase_dado_classe *= prob_palavra_dado_classe\n",
    "        else:\n",
    "            freq_abs_palavra = 0\n",
    "            #APLIQUEI A SUAVIZAÇÃO DE LA PLACE\n",
    "            prob_palavra_dado_classe = (freq_abs_palavra + alfa)/(qtdd_palavras + alfa*qtdd_palavras_sem_repeticao)\n",
    "            prob_frase_dado_classe *= prob_palavra_dado_classe\n",
    "    return prob_frase_dado_classe"
   ]
  },
  {
   "cell_type": "code",
   "execution_count": 25,
   "metadata": {},
   "outputs": [],
   "source": [
    "#Função de classificação das frases (quanto a acionável, não acionável e direcionável)\n",
    "#recebe a função já limpa\n",
    "def classificador(frase_do_teste, planilha_treino):\n",
    "    \n",
    "    #Extraindo as informações\n",
    "    total_planilha_N = divisao_categorias(planilha_treino, \"N\")[0]\n",
    "    total_planilha_D = divisao_categorias(planilha_treino, \"D\")[0]\n",
    "    total_planilha_A = divisao_categorias(planilha_treino, \"A\")[0]\n",
    "    total_planilha = divisao_planilhas(planilha_treino)[0]\n",
    "    \n",
    "    #Cálculo das probabilidades\n",
    "    P_frase_dado_A = frase_dado_target(frase_do_teste, \"A\", planilha_treino)\n",
    "    P_frase_dado_D = frase_dado_target(frase_do_teste, \"D\", planilha_treino)\n",
    "    P_frase_dado_N = frase_dado_target(frase_do_teste, \"N\", planilha_treino)\n",
    "    P_N = total_planilha_N/total_planilha         #probabilidade de estar na categoria N\n",
    "    P_D = total_planilha_D/total_planilha         #probabilidade de estar na categoria D\n",
    "    P_A = total_planilha_A/total_planilha         #probabilidade de estar na categoria A\n",
    "    \n",
    "    P_A_dado_frase = P_frase_dado_A*P_A\n",
    "    P_N_dado_frase = P_frase_dado_N*P_N\n",
    "    P_D_dado_frase = P_frase_dado_D*P_D\n",
    "        \n",
    "    #Classificação\n",
    "    if P_A_dado_frase >= P_D_dado_frase and P_A_dado_frase >= P_N_dado_frase:    #na classificação manual quando impatava a prioridade era acionável\n",
    "        return \"A\"\n",
    "    elif P_D_dado_frase > P_N_dado_frase and P_D_dado_frase > P_A_dado_frase:\n",
    "        return \"D\"\n",
    "    elif P_N_dado_frase > P_D_dado_frase and P_N_dado_frase > P_A_dado_frase:\n",
    "        return \"N\"\n",
    "    else:\n",
    "        return \"Houve um impasse\"    \n",
    "    "
   ]
  },
  {
   "cell_type": "markdown",
   "metadata": {},
   "source": [
    "___\n",
    "### Verificando a performance do Classificador\n",
    "\n",
    "Agora você deve testar o seu classificador com a base de Testes."
   ]
  },
  {
   "cell_type": "code",
   "execution_count": 26,
   "metadata": {},
   "outputs": [],
   "source": [
    "# Função que classifica todas as mensagens da planilha de teste com base na planilha de treino\n",
    "#Fazer meu classificador classificar todas as frases da planilha de teste\n",
    "#recebe a planilha inteira, não precisa realizar nenhuma limpeza\n",
    "def classifica_planilha(planilha_teste, planilha_treino):\n",
    "    planilha_teste_limpa = mensagem_limpa(planilha_teste)\n",
    "    planilha_treino_limpa = mensagem_limpa(planilha_treino)\n",
    "    avaliacoes_limpas = planilha_teste_limpa[\"Mensagem Limpa\"]\n",
    "    #fez uma cópia da planilha para nao alterar a antiga\n",
    "    planilha_nova = planilha_teste_limpa.copy()\n",
    "    # Criar uma lista para armazenar os resultados do classificador\n",
    "    resultados = []\n",
    "    for frase in avaliacoes_limpas:\n",
    "        resultado = classificador(frase, planilha_treino_limpa)\n",
    "        resultados.append(resultado)\n",
    "    # Atribuir a lista de resultados à coluna 'Classificador Automático'\n",
    "    planilha_nova['Classificador Automático'] = resultados\n",
    "    return planilha_nova"
   ]
  },
  {
   "cell_type": "code",
   "execution_count": 27,
   "metadata": {},
   "outputs": [],
   "source": [
    "#Função que faz as comparações de acurácia e classificação das mensagens\n",
    "def divide_comparativos(planilha_treino, planilha_teste):\n",
    "\n",
    "    planilha = classifica_planilha(planilha_teste, planilha_treino)\n",
    "    comparador = pd.crosstab(planilha['Classificador Automático'], planilha['Acionável/Direcionável/Não Acionável'],normalize=True, margins=True)\n",
    "\n",
    "    acuracia = comparador.iloc[0]['A'] + comparador.iloc[1]['D'] + comparador.iloc[2]['N'] \n",
    "\n",
    "    pct_falsos_A = comparador.iloc[0]['D'] + comparador.iloc[0]['N']\n",
    "    pct_falsos_D = comparador.iloc[1]['A'] + comparador.iloc[1]['N']\n",
    "    pct_falsos_N = comparador.iloc[2]['D'] + comparador.iloc[2]['A']\n",
    "    pct_verdadeiros_A = comparador.iloc[0]['A']\n",
    "    pct_verdadeiros_D = comparador.iloc[1]['D']\n",
    "    pct_verdadeiros_N = comparador.iloc[2]['N'] \n",
    "\n",
    "    return acuracia*100, pct_falsos_A*100, pct_falsos_D*100, pct_falsos_N*100, pct_verdadeiros_A*100, pct_verdadeiros_D*100, pct_verdadeiros_N*100, comparador\n",
    "\n",
    "resultados = divide_comparativos(train,test)\n",
    "\n",
    "verdadeiros_positivos = resultados[0]\n",
    "falsos_acionaveis = resultados[1]\n",
    "falsos_direcionaveis = resultados[2]\n",
    "falsos_nao_acionaveis = resultados[3]\n",
    "verdadeiros_acionaveis = resultados[4]\n",
    "verdadeiros_direcionaveis = resultados[5]\n",
    "verdadeiros_naoacionaveis = resultados[6]\n",
    "df_crosstab = resultados[7]"
   ]
  },
  {
   "cell_type": "code",
   "execution_count": 28,
   "metadata": {},
   "outputs": [
    {
     "name": "stdout",
     "output_type": "stream",
     "text": [
      "A acurácia foi 83.60% (mensagens corretamente classificadas)\n",
      "A procentagem de falsos acionáveis foi 6.80% (mensagens incorretamente classificadas como acionáveis)\n",
      "A procentagem de falsos direcionáveis foi 6.40% (mensagens incorretamente classificadas como direcionáveis)\n",
      "A procentagem de falsos não acionáveis foi 3.20% (mensagens incorretamente classificadas como não acionáveis)\n",
      "A procentagem de verdadeiros acionáveis foi 10.80% (mensagens corretamente classificadas como acionáveis)\n",
      "A procentagem de verdadeiros direcionáveis foi 13.20% (mensagens corretamente classificadas como direcionáveis)\n",
      "A procentagem de verdadeiros não acionáveis foi 59.60% (mensagens corretamente classificadas como não acionáveis)\n"
     ]
    },
    {
     "data": {
      "text/html": [
       "<div>\n",
       "<style scoped>\n",
       "    .dataframe tbody tr th:only-of-type {\n",
       "        vertical-align: middle;\n",
       "    }\n",
       "\n",
       "    .dataframe tbody tr th {\n",
       "        vertical-align: top;\n",
       "    }\n",
       "\n",
       "    .dataframe thead th {\n",
       "        text-align: right;\n",
       "    }\n",
       "</style>\n",
       "<table border=\"1\" class=\"dataframe\">\n",
       "  <thead>\n",
       "    <tr style=\"text-align: right;\">\n",
       "      <th>Acionável/Direcionável/Não Acionável</th>\n",
       "      <th>A</th>\n",
       "      <th>D</th>\n",
       "      <th>N</th>\n",
       "      <th>All</th>\n",
       "    </tr>\n",
       "    <tr>\n",
       "      <th>Classificador Automático</th>\n",
       "      <th></th>\n",
       "      <th></th>\n",
       "      <th></th>\n",
       "      <th></th>\n",
       "    </tr>\n",
       "  </thead>\n",
       "  <tbody>\n",
       "    <tr>\n",
       "      <th>A</th>\n",
       "      <td>0.108</td>\n",
       "      <td>0.028</td>\n",
       "      <td>0.040</td>\n",
       "      <td>0.176</td>\n",
       "    </tr>\n",
       "    <tr>\n",
       "      <th>D</th>\n",
       "      <td>0.036</td>\n",
       "      <td>0.132</td>\n",
       "      <td>0.028</td>\n",
       "      <td>0.196</td>\n",
       "    </tr>\n",
       "    <tr>\n",
       "      <th>N</th>\n",
       "      <td>0.000</td>\n",
       "      <td>0.032</td>\n",
       "      <td>0.596</td>\n",
       "      <td>0.628</td>\n",
       "    </tr>\n",
       "    <tr>\n",
       "      <th>All</th>\n",
       "      <td>0.144</td>\n",
       "      <td>0.192</td>\n",
       "      <td>0.664</td>\n",
       "      <td>1.000</td>\n",
       "    </tr>\n",
       "  </tbody>\n",
       "</table>\n",
       "</div>"
      ],
      "text/plain": [
       "Acionável/Direcionável/Não Acionável      A      D      N    All\n",
       "Classificador Automático                                        \n",
       "A                                     0.108  0.028  0.040  0.176\n",
       "D                                     0.036  0.132  0.028  0.196\n",
       "N                                     0.000  0.032  0.596  0.628\n",
       "All                                   0.144  0.192  0.664  1.000"
      ]
     },
     "execution_count": 28,
     "metadata": {},
     "output_type": "execute_result"
    }
   ],
   "source": [
    "#printando resultados\n",
    "print(\"A acurácia foi {0:.2f}% (mensagens corretamente classificadas)\".format(verdadeiros_positivos))\n",
    "print(\"A procentagem de falsos acionáveis foi {0:.2f}% (mensagens incorretamente classificadas como acionáveis)\".format(falsos_acionaveis))\n",
    "print(\"A procentagem de falsos direcionáveis foi {0:.2f}% (mensagens incorretamente classificadas como direcionáveis)\".format(falsos_direcionaveis))\n",
    "print(\"A procentagem de falsos não acionáveis foi {0:.2f}% (mensagens incorretamente classificadas como não acionáveis)\".format(falsos_nao_acionaveis))\n",
    "print(\"A procentagem de verdadeiros acionáveis foi {0:.2f}% (mensagens corretamente classificadas como acionáveis)\".format(verdadeiros_acionaveis))\n",
    "print(\"A procentagem de verdadeiros direcionáveis foi {0:.2f}% (mensagens corretamente classificadas como direcionáveis)\".format(verdadeiros_direcionaveis))\n",
    "print(\"A procentagem de verdadeiros não acionáveis foi {0:.2f}% (mensagens corretamente classificadas como não acionáveis)\".format(verdadeiros_naoacionaveis))\n",
    "#cruzamento de dados da planilha\n",
    "df_crosstab"
   ]
  },
  {
   "cell_type": "code",
   "execution_count": null,
   "metadata": {},
   "outputs": [],
   "source": []
  },
  {
   "cell_type": "markdown",
   "metadata": {},
   "source": [
    "___\n",
    "### Concluindo"
   ]
  },
  {
   "cell_type": "code",
   "execution_count": null,
   "metadata": {},
   "outputs": [],
   "source": []
  },
  {
   "cell_type": "code",
   "execution_count": null,
   "metadata": {},
   "outputs": [],
   "source": []
  },
  {
   "cell_type": "code",
   "execution_count": null,
   "metadata": {},
   "outputs": [],
   "source": []
  },
  {
   "cell_type": "markdown",
   "metadata": {},
   "source": [
    "___\n",
    "### Qualidade do Classificador a partir de novas separações dos tweets entre Treinamento e Teste\n",
    "\n",
    "Caso for fazer esse item do Projeto"
   ]
  },
  {
   "cell_type": "code",
   "execution_count": 43,
   "metadata": {},
   "outputs": [
    {
     "data": {
      "text/html": [
       "<div>\n",
       "<style scoped>\n",
       "    .dataframe tbody tr th:only-of-type {\n",
       "        vertical-align: middle;\n",
       "    }\n",
       "\n",
       "    .dataframe tbody tr th {\n",
       "        vertical-align: top;\n",
       "    }\n",
       "\n",
       "    .dataframe thead th {\n",
       "        text-align: right;\n",
       "    }\n",
       "</style>\n",
       "<table border=\"1\" class=\"dataframe\">\n",
       "  <thead>\n",
       "    <tr style=\"text-align: right;\">\n",
       "      <th></th>\n",
       "      <th>Mensagem</th>\n",
       "      <th>Acionável/Direcionável/Não Acionável</th>\n",
       "    </tr>\n",
       "  </thead>\n",
       "  <tbody>\n",
       "    <tr>\n",
       "      <th>0</th>\n",
       "      <td>Para quem gosta de poemas simples, esse é o li...</td>\n",
       "      <td>N</td>\n",
       "    </tr>\n",
       "    <tr>\n",
       "      <th>1</th>\n",
       "      <td>Quando vi o lançamento pensei que finalmente p...</td>\n",
       "      <td>D</td>\n",
       "    </tr>\n",
       "    <tr>\n",
       "      <th>2</th>\n",
       "      <td>É incrível como esses escritores e \"intelectua...</td>\n",
       "      <td>N</td>\n",
       "    </tr>\n",
       "    <tr>\n",
       "      <th>3</th>\n",
       "      <td>Se desse pra devolver eu devolvia, nao é por e...</td>\n",
       "      <td>N</td>\n",
       "    </tr>\n",
       "    <tr>\n",
       "      <th>4</th>\n",
       "      <td>Futilidade, inutilidade, desperdício de papel,...</td>\n",
       "      <td>N</td>\n",
       "    </tr>\n",
       "    <tr>\n",
       "      <th>...</th>\n",
       "      <td>...</td>\n",
       "      <td>...</td>\n",
       "    </tr>\n",
       "    <tr>\n",
       "      <th>245</th>\n",
       "      <td>Minha avaliação negativa não vai para a obra d...</td>\n",
       "      <td>D</td>\n",
       "    </tr>\n",
       "    <tr>\n",
       "      <th>246</th>\n",
       "      <td>Ainda não terminei, estou nos 40%, devo ler em...</td>\n",
       "      <td>N</td>\n",
       "    </tr>\n",
       "    <tr>\n",
       "      <th>247</th>\n",
       "      <td>Num mosteiro italiano em 1300, ocorreram algum...</td>\n",
       "      <td>N</td>\n",
       "    </tr>\n",
       "    <tr>\n",
       "      <th>248</th>\n",
       "      <td>Horrível o livro. Esperei tanto tempo por ele ...</td>\n",
       "      <td>N</td>\n",
       "    </tr>\n",
       "    <tr>\n",
       "      <th>249</th>\n",
       "      <td>Incapaz de conviver com ideias diferentes na a...</td>\n",
       "      <td>N</td>\n",
       "    </tr>\n",
       "  </tbody>\n",
       "</table>\n",
       "<p>750 rows × 2 columns</p>\n",
       "</div>"
      ],
      "text/plain": [
       "                                              Mensagem  \\\n",
       "0    Para quem gosta de poemas simples, esse é o li...   \n",
       "1    Quando vi o lançamento pensei que finalmente p...   \n",
       "2    É incrível como esses escritores e \"intelectua...   \n",
       "3    Se desse pra devolver eu devolvia, nao é por e...   \n",
       "4    Futilidade, inutilidade, desperdício de papel,...   \n",
       "..                                                 ...   \n",
       "245  Minha avaliação negativa não vai para a obra d...   \n",
       "246  Ainda não terminei, estou nos 40%, devo ler em...   \n",
       "247  Num mosteiro italiano em 1300, ocorreram algum...   \n",
       "248  Horrível o livro. Esperei tanto tempo por ele ...   \n",
       "249  Incapaz de conviver com ideias diferentes na a...   \n",
       "\n",
       "    Acionável/Direcionável/Não Acionável  \n",
       "0                                      N  \n",
       "1                                      D  \n",
       "2                                      N  \n",
       "3                                      N  \n",
       "4                                      N  \n",
       "..                                   ...  \n",
       "245                                    D  \n",
       "246                                    N  \n",
       "247                                    N  \n",
       "248                                    N  \n",
       "249                                    N  \n",
       "\n",
       "[750 rows x 2 columns]"
      ]
     },
     "execution_count": 43,
     "metadata": {},
     "output_type": "execute_result"
    }
   ],
   "source": [
    "#Criar planilha com todas as avaliações (treino e teste)\n",
    "train_test = pd.concat([train, test])\n",
    "train_test"
   ]
  },
  {
   "cell_type": "code",
   "execution_count": 30,
   "metadata": {},
   "outputs": [
    {
     "name": "stderr",
     "output_type": "stream",
     "text": [
      "Progesso: 100%|██████████| 100/100 [33:36<00:00, 20.17s/rows]\n"
     ]
    }
   ],
   "source": [
    "# Dividindo os dados em treinamento e teste usando a função train_test_split da biblioteca sklearn\n",
    "\n",
    "acuracia = []\n",
    "falsos_acionaveis = []\n",
    "falsos_direcionaveis = []\n",
    "falsos_nao_acionaveis = []\n",
    "verdadeiros_acionaveis = []\n",
    "verdadeiros_direcionaveis = []\n",
    "verdadeiros_naoacionaveis = []\n",
    "\n",
    "for i in tqdm(range(0,100),  desc=\"Progesso\", unit=\"rows\"):\n",
    "    \n",
    "    novo_treino, novo_teste = train_test_split(train_test, test_size=250, random_state=None)\n",
    "    resultados = divide_comparativos(novo_treino, novo_teste)\n",
    "    acuracia.append(resultados[0])\n",
    "    falsos_acionaveis.append(resultados[1])\n",
    "    falsos_direcionaveis.append(resultados[2])\n",
    "    falsos_nao_acionaveis.append(resultados[3])\n",
    "    verdadeiros_acionaveis.append(resultados[4])\n",
    "    verdadeiros_direcionaveis.append(resultados[5])\n",
    "    verdadeiros_naoacionaveis.append(resultados[6])\n",
    "    \n",
    "    "
   ]
  },
  {
   "cell_type": "code",
   "execution_count": 83,
   "metadata": {},
   "outputs": [
    {
     "data": {
      "text/plain": [
       "82.26399999999998"
      ]
     },
     "execution_count": 83,
     "metadata": {},
     "output_type": "execute_result"
    }
   ],
   "source": [
    "soma_media = 0\n",
    "for media in acuracia:\n",
    "    soma_media += media\n",
    "\n",
    "soma_media/100"
   ]
  },
  {
   "cell_type": "code",
   "execution_count": 82,
   "metadata": {},
   "outputs": [
    {
     "data": {
      "text/html": [
       "<div>\n",
       "<style scoped>\n",
       "    .dataframe tbody tr th:only-of-type {\n",
       "        vertical-align: middle;\n",
       "    }\n",
       "\n",
       "    .dataframe tbody tr th {\n",
       "        vertical-align: top;\n",
       "    }\n",
       "\n",
       "    .dataframe thead th {\n",
       "        text-align: right;\n",
       "    }\n",
       "</style>\n",
       "<table border=\"1\" class=\"dataframe\">\n",
       "  <thead>\n",
       "    <tr style=\"text-align: right;\">\n",
       "      <th></th>\n",
       "      <th>Acurácia</th>\n",
       "      <th>Falsos Acionáveis</th>\n",
       "      <th>Falsos Direcionáveis</th>\n",
       "      <th>Falsos Não Acionáveis</th>\n",
       "      <th>Verdadeiros Acionáveis</th>\n",
       "      <th>Verdadeiros Direcionáveis</th>\n",
       "      <th>Verdadeiros Não Acionáveis</th>\n",
       "    </tr>\n",
       "  </thead>\n",
       "  <tbody>\n",
       "    <tr>\n",
       "      <th>0</th>\n",
       "      <td>82.0</td>\n",
       "      <td>8.8</td>\n",
       "      <td>6.0</td>\n",
       "      <td>3.2</td>\n",
       "      <td>10.8</td>\n",
       "      <td>12.4</td>\n",
       "      <td>58.8</td>\n",
       "    </tr>\n",
       "    <tr>\n",
       "      <th>1</th>\n",
       "      <td>80.4</td>\n",
       "      <td>10.8</td>\n",
       "      <td>6.0</td>\n",
       "      <td>2.8</td>\n",
       "      <td>15.2</td>\n",
       "      <td>13.6</td>\n",
       "      <td>51.6</td>\n",
       "    </tr>\n",
       "    <tr>\n",
       "      <th>2</th>\n",
       "      <td>83.2</td>\n",
       "      <td>6.8</td>\n",
       "      <td>6.4</td>\n",
       "      <td>3.6</td>\n",
       "      <td>12.4</td>\n",
       "      <td>12.8</td>\n",
       "      <td>58.0</td>\n",
       "    </tr>\n",
       "    <tr>\n",
       "      <th>3</th>\n",
       "      <td>82.8</td>\n",
       "      <td>7.6</td>\n",
       "      <td>7.2</td>\n",
       "      <td>2.4</td>\n",
       "      <td>9.6</td>\n",
       "      <td>12.8</td>\n",
       "      <td>60.4</td>\n",
       "    </tr>\n",
       "    <tr>\n",
       "      <th>4</th>\n",
       "      <td>81.2</td>\n",
       "      <td>7.6</td>\n",
       "      <td>7.6</td>\n",
       "      <td>3.6</td>\n",
       "      <td>11.6</td>\n",
       "      <td>14.4</td>\n",
       "      <td>55.2</td>\n",
       "    </tr>\n",
       "    <tr>\n",
       "      <th>...</th>\n",
       "      <td>...</td>\n",
       "      <td>...</td>\n",
       "      <td>...</td>\n",
       "      <td>...</td>\n",
       "      <td>...</td>\n",
       "      <td>...</td>\n",
       "      <td>...</td>\n",
       "    </tr>\n",
       "    <tr>\n",
       "      <th>95</th>\n",
       "      <td>83.6</td>\n",
       "      <td>8.0</td>\n",
       "      <td>5.6</td>\n",
       "      <td>2.8</td>\n",
       "      <td>10.0</td>\n",
       "      <td>13.2</td>\n",
       "      <td>60.4</td>\n",
       "    </tr>\n",
       "    <tr>\n",
       "      <th>96</th>\n",
       "      <td>82.4</td>\n",
       "      <td>9.6</td>\n",
       "      <td>4.8</td>\n",
       "      <td>3.2</td>\n",
       "      <td>9.6</td>\n",
       "      <td>15.2</td>\n",
       "      <td>57.6</td>\n",
       "    </tr>\n",
       "    <tr>\n",
       "      <th>97</th>\n",
       "      <td>84.4</td>\n",
       "      <td>6.4</td>\n",
       "      <td>7.2</td>\n",
       "      <td>2.0</td>\n",
       "      <td>13.6</td>\n",
       "      <td>14.8</td>\n",
       "      <td>56.0</td>\n",
       "    </tr>\n",
       "    <tr>\n",
       "      <th>98</th>\n",
       "      <td>83.2</td>\n",
       "      <td>9.6</td>\n",
       "      <td>4.4</td>\n",
       "      <td>2.8</td>\n",
       "      <td>14.4</td>\n",
       "      <td>11.2</td>\n",
       "      <td>57.6</td>\n",
       "    </tr>\n",
       "    <tr>\n",
       "      <th>99</th>\n",
       "      <td>84.0</td>\n",
       "      <td>8.4</td>\n",
       "      <td>6.0</td>\n",
       "      <td>1.6</td>\n",
       "      <td>13.6</td>\n",
       "      <td>11.6</td>\n",
       "      <td>58.8</td>\n",
       "    </tr>\n",
       "  </tbody>\n",
       "</table>\n",
       "<p>100 rows × 7 columns</p>\n",
       "</div>"
      ],
      "text/plain": [
       "    Acurácia  Falsos Acionáveis  Falsos Direcionáveis  Falsos Não Acionáveis  \\\n",
       "0       82.0                8.8                   6.0                    3.2   \n",
       "1       80.4               10.8                   6.0                    2.8   \n",
       "2       83.2                6.8                   6.4                    3.6   \n",
       "3       82.8                7.6                   7.2                    2.4   \n",
       "4       81.2                7.6                   7.6                    3.6   \n",
       "..       ...                ...                   ...                    ...   \n",
       "95      83.6                8.0                   5.6                    2.8   \n",
       "96      82.4                9.6                   4.8                    3.2   \n",
       "97      84.4                6.4                   7.2                    2.0   \n",
       "98      83.2                9.6                   4.4                    2.8   \n",
       "99      84.0                8.4                   6.0                    1.6   \n",
       "\n",
       "    Verdadeiros Acionáveis  Verdadeiros Direcionáveis  \\\n",
       "0                     10.8                       12.4   \n",
       "1                     15.2                       13.6   \n",
       "2                     12.4                       12.8   \n",
       "3                      9.6                       12.8   \n",
       "4                     11.6                       14.4   \n",
       "..                     ...                        ...   \n",
       "95                    10.0                       13.2   \n",
       "96                     9.6                       15.2   \n",
       "97                    13.6                       14.8   \n",
       "98                    14.4                       11.2   \n",
       "99                    13.6                       11.6   \n",
       "\n",
       "    Verdadeiros Não Acionáveis  \n",
       "0                         58.8  \n",
       "1                         51.6  \n",
       "2                         58.0  \n",
       "3                         60.4  \n",
       "4                         55.2  \n",
       "..                         ...  \n",
       "95                        60.4  \n",
       "96                        57.6  \n",
       "97                        56.0  \n",
       "98                        57.6  \n",
       "99                        58.8  \n",
       "\n",
       "[100 rows x 7 columns]"
      ]
     },
     "execution_count": 82,
     "metadata": {},
     "output_type": "execute_result"
    }
   ],
   "source": [
    "\n",
    "\n",
    "\n",
    "dados_dic = {\n",
    "    'Acurácia': acuracia,\n",
    "    'Falsos Acionáveis': falsos_acionaveis,\n",
    "    'Falsos Direcionáveis': falsos_direcionaveis,\n",
    "    'Falsos Não Acionáveis':falsos_nao_acionaveis,\n",
    "    'Verdadeiros Acionáveis':verdadeiros_acionaveis,\n",
    "    'Verdadeiros Direcionáveis': verdadeiros_direcionaveis,\n",
    "    'Verdadeiros Não Acionáveis': verdadeiros_naoacionaveis\n",
    "}\n",
    "\n",
    "dados_calculados = pd.DataFrame(dados_dic)\n",
    "dados_calculados\n",
    "\n",
    "\n"
   ]
  },
  {
   "cell_type": "code",
   "execution_count": 174,
   "metadata": {},
   "outputs": [
    {
     "data": {
      "image/png": "[encoded data removed]",
      "text/plain": [
       "<Figure size 1500x400 with 3 Axes>"
      ]
     },
     "metadata": {},
     "output_type": "display_data"
    }
   ],
   "source": [
    "\n",
    "tamanho_fonte = 14\n",
    "peso_fonte = 600\n",
    "# Histogramas\n",
    "plt.figure(figsize=(15, 4))\n",
    "plt.suptitle('Acurácia para cada par de treino e teste',fontsize=tamanho_fonte, fontweight=peso_fonte, y=1.05)\n",
    "\n",
    "\n",
    "plt.subplot(131) # Janela gráfica com 1 linha, 2 colunas e histograma a seguir é colocado na posição 1\n",
    "plt.hist(dados_calculados[\"Acurácia\"], edgecolor='white') \n",
    "plt.title(\"Agrupamentos a cada 1%\")\n",
    "plt.xlabel('Porcentagem de acertos (%)')\n",
    "plt.ylabel('Frequência absoluta')\n",
    "\n",
    "\n",
    "plt.subplot(132) # Janela gráfica com 1 linha, 2 colunas e histograma a seguir é colocado na posição 1\n",
    "plt.hist(dados_calculados[\"Acurácia\"], bins=[76, 78, 80, 82, 84,86,88], edgecolor='white') \n",
    "plt.title(\"Agrupamentos a cada 2%\")\n",
    "plt.xlabel('Porcentagem de acertos (%)')\n",
    "# plt.ylabel('Frequência absoluta')\n",
    "\n",
    "plt.subplot(133) # Janela gráfica com 1 linha, 2 colunas e histograma a seguir é colocado na posição 1\n",
    "plt.hist(dados_calculados[\"Acurácia\"], bins=[76, 80, 84, 88], edgecolor='white') \n",
    "plt.title(\"Agrupamentos a cada 4%\")\n",
    "plt.xlabel('Porcentagem de acertos (%)')\n",
    "\n",
    "\n",
    "# plt.tight_layout()\n",
    "plt.show()\n"
   ]
  },
  {
   "cell_type": "code",
   "execution_count": 70,
   "metadata": {},
   "outputs": [
    {
     "data": {
      "image/png": "[encoded data removed]",
      "text/plain": [
       "<Figure size 640x480 with 1 Axes>"
      ]
     },
     "metadata": {},
     "output_type": "display_data"
    }
   ],
   "source": [
    "numeros_de_dados = list(range(1, len(acuracia) + 1))\n",
    "\n",
    "# Crie o gráfico de barras\n",
    "plt.bar(numeros_de_dados, acuracia)\n",
    "plt.xlabel('Número dos Dados')\n",
    "plt.ylabel('Acurácia (%)')\n",
    "plt.title('Acurácia dos Dados')\n",
    "plt.show()"
   ]
  },
  {
   "cell_type": "code",
   "execution_count": 61,
   "metadata": {},
   "outputs": [
    {
     "data": {
      "image/png": "[encoded data removed]",
      "text/plain": [
       "<Figure size 1800x900 with 1 Axes>"
      ]
     },
     "metadata": {},
     "output_type": "display_data"
    }
   ],
   "source": [
    "import matplotlib.pyplot as plt\n",
    "t = np.arange(0, 100, 1)\n",
    "plt.figure(figsize=(18, 9))  # Inverti o tamanho da figura para ajustar à nova orientação dos eixos\n",
    "\n",
    "plt.subplot(121)  # Janela gráfica com 1 linha, 2 colunas e histograma a seguir é colocado na posição 1\n",
    "\n",
    "# Invertendo os eixos e plotando o histograma\n",
    "plt.barh(t, dados_calculados[\"Acurácia\"], color='skyblue', edgecolor='white')\n",
    "\n",
    "plt.title(\"Acurácia para cada par de treino e teste\")\n",
    "plt.xlabel('Porcentagem de acertos (%)')  # Inverti os rótulos dos eixos\n",
    "plt.ylabel('Divisão de planilhas')  # Inverti os rótulos dos eixos\n",
    "\n",
    "plt.show()\n"
   ]
  },
  {
   "cell_type": "code",
   "execution_count": 68,
   "metadata": {},
   "outputs": [
    {
     "data": {
      "image/png": "[encoded data removed]",
      "text/plain": [
       "<Figure size 1500x900 with 1 Axes>"
      ]
     },
     "metadata": {},
     "output_type": "display_data"
    }
   ],
   "source": [
    "import matplotlib.pyplot as plt\n",
    "\n",
    "plt.figure(figsize=(15, 18/2))  # Inverti o tamanho da figura para ajustar à nova orientação dos eixos\n",
    "\n",
    "plt.subplot(121)  # Janela gráfica com 1 linha, 2 colunas e histograma a seguir é colocado na posição 1\n",
    "\n",
    "# Invertendo os eixos e plotando o histograma\n",
    "hist_values, bin_edges, _ = plt.hist(dados_calculados[\"Acurácia\"], bins=20, color='skyblue', edgecolor='white', orientation='horizontal')\n",
    "plt.gca().invert_yaxis()  # Inverte o eixo y\n",
    "\n",
    "plt.title(\"Acurácia para cada par de treino e teste\")\n",
    "plt.ylabel('Divisão de planilhas')  # Inverti os rótulos dos eixos\n",
    "plt.xlabel('Frequência')  # Rótulo do eixo x é a frequência, pois é um histograma\n",
    "\n",
    "plt.show()\n"
   ]
  },
  {
   "cell_type": "code",
   "execution_count": 111,
   "metadata": {},
   "outputs": [
    {
     "data": {
      "image/png": "[encoded data removed]",
      "text/plain": [
       "<Figure size 640x480 with 1 Axes>"
      ]
     },
     "metadata": {},
     "output_type": "display_data"
    }
   ],
   "source": [
    "import matplotlib.pyplot as plt\n",
    "# Defina o número de intervalos\n",
    "num_intervalos = 10\n",
    "\n",
    "# Calcule o tamanho do intervalo\n",
    "tamanho_intervalo = len(acuracia) // num_intervalos\n",
    "\n",
    "# Calcule as médias da acurácia para cada intervalo\n",
    "medias_acuracia = []\n",
    "for i in range(0, len(acuracia), tamanho_intervalo):\n",
    "    intervalo = acuracia[i:i + tamanho_intervalo]\n",
    "    media = sum(intervalo) / len(intervalo)\n",
    "    medias_acuracia.append(media)\n",
    "\n",
    "# Crie os rótulos para o eixo x\n",
    "rotulos_x = np.arange(1,11,1)\n",
    "\n",
    "# Crie o gráfico de barras com os novos rótulos do eixo x\n",
    "plt.bar(rotulos_x, medias_acuracia)\n",
    "plt.xlabel('Intervalos de Dados')\n",
    "plt.ylabel('Acurácia Média (%)')\n",
    "plt.title('Acurácia Média por Intervalo de Dados')\n",
    "# plt.xticks(rotation=45)  # Rotação dos rótulos para melhor legibilidade\n",
    "plt.ylim(60,100)\n",
    "plt.show()"
   ]
  },
  {
   "cell_type": "markdown",
   "metadata": {},
   "source": [
    "___\n",
    "## Aperfeiçoamento:\n",
    "\n",
    "Trabalhos que conseguirem pelo menos conceito B vão evoluir em conceito dependendo da quantidade de itens avançados:\n",
    "\n",
    "* IMPLEMENTOU outras limpezas e transformações que não afetem a qualidade da informação contida nos tweets. Ex: stemming, lemmatization, stopwords\n",
    "* CONSIDEROU mais de duas categorias na variável Target e INCREMENTOU a quantidade de notícias, mantendo pelo menos 250 notícias por categoria (OBRIGATÓRIO PARA TRIOS, sem contar como item avançado)\n",
    "* Para Target com duas categorias: CRIOU pelo menos quatro categorias intermediárias de relevância baseadas na probabilidade: ex.: muito relevante, relevante, neutro, irrelevante, muito irrelevante\n",
    "* EXPLICOU porquê não pode usar o próprio classificador para gerar mais amostras de treinamento\n",
    "* PROPÔS diferentes cenários para Naïve Bayes fora do contexto do projeto (pelo menos dois cenários, exceto aqueles já apresentados em sala pelos professores: por exemplo, filtro de spam)\n",
    "* SUGERIU e EXPLICOU melhorias reais com indicações concretas de como implementar (indicar como fazer e indicar material de pesquisa)\n",
    "* FEZ o item Qualidade do Classificador a partir de novas separações das Notícias entre Treinamento e Teste descrito no enunciado do projeto (OBRIGATÓRIO para conceitos A ou A+)"
   ]
  },
  {
   "cell_type": "markdown",
   "metadata": {},
   "source": [
    "___\n",
    "## Referências"
   ]
  },
  {
   "cell_type": "markdown",
   "metadata": {},
   "source": [
    "[Naive Bayes and Text Classification](https://arxiv.org/pdf/1410.5329.pdf)  **Mais completo**\n",
    "\n",
    "[A practical explanation of a Naive Bayes Classifier](https://monkeylearn.com/blog/practical-explanation-naive-bayes-classifier/) **Mais simples**"
   ]
  },
  {
   "cell_type": "markdown",
   "metadata": {},
   "source": [
    "Dica: apresentar um grafico com testes mostrando quais limpezas melhoraram a acurácia do nosso classificador (lemmatization, stopwords, etc)\n",
    "\n",
    "REtirar algumas palavras para ver se melhora a qualidade do classificador (exemplo palavra não)"
   ]
  },
  {
   "cell_type": "code",
   "execution_count": null,
   "metadata": {},
   "outputs": [],
   "source": []
  },
  {
   "cell_type": "code",
   "execution_count": null,
   "metadata": {},
   "outputs": [],
   "source": []
  }
 ],
 "metadata": {
  "kernelspec": {
   "display_name": "Python 3 (ipykernel)",
   "language": "python",
   "name": "python3"
  },
  "language_info": {
   "codemirror_mode": {
    "name": "ipython",
    "version": 3
   },
   "file_extension": ".py",
   "mimetype": "text/x-python",
   "name": "python",
   "nbconvert_exporter": "python",
   "pygments_lexer": "ipython3",
   "version": "3.11.5"
  }
 },
 "nbformat": 4,
 "nbformat_minor": 4
}
